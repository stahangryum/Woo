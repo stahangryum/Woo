{
 "cells": [
  {
   "cell_type": "markdown",
   "id": "4bb721f5-41b8-4cff-86cf-b426da88428a",
   "metadata": {},
   "source": [
    "# \"Taylor & Maclaurin Series\"\n",
    "\n",
    "- toc: true\n",
    "- branch: master\n",
    "- badges: true\n",
    "- comments: true\n",
    "- author: Kim Jeewoo\n",
    "- categories: [Mathematics]\n",
    "- image: images/taylor_logo.png"
   ]
  },
  {
   "cell_type": "markdown",
   "id": "4038f855-0abd-4c7d-8182-fc8c710eb090",
   "metadata": {},
   "source": [
    "# Taylor Series\n",
    "---"
   ]
  },
  {
   "cell_type": "markdown",
   "id": "47f11900-1ca6-4148-a31f-964d627a4846",
   "metadata": {},
   "source": [
    "$\n",
    "f(x)  = \\sum_{n=0}^\\infty\\cfrac{f^{(n)}(a)}{n!}(x-a)^n\\\\\n",
    "\\qquad\\quad= f(a) + \\cfrac{f'(a)}{1!}(x-a) + \\cfrac{f''(a)}{2!}(x-a) + \\cfrac{f'''(a)}{3!}(x-a)+\\cdots\n",
    "$"
   ]
  },
  {
   "cell_type": "markdown",
   "id": "5da31bdf-5956-413e-81e8-94b02b19dbcf",
   "metadata": {},
   "source": [
    "# Maclaurin Series\n",
    "---"
   ]
  },
  {
   "cell_type": "markdown",
   "id": "d8ceef2d-9d43-485f-8ca1-2dee2be06082",
   "metadata": {},
   "source": [
    "$\n",
    "f(x) = \\sum_{n=0}^\\infty\\cfrac{f^{(n)}(0)}{n!}(x-0)^n \\\\\\qquad\\quad = f(a) + \\cfrac{f^{\\prime}(0)}{1!}(x-0) + \\cfrac{f^{\\prime\\prime}(0)}{2!}(x-0) + \\cfrac{f^{\\prime\\prime\\prime}(0)}{3!}(x-0)+\\cdots\n",
    "$"
   ]
  },
  {
   "cell_type": "markdown",
   "id": "407ab2e4-d4a0-4a3a-9bca-06effe211a45",
   "metadata": {},
   "source": [
    "## Examples\n",
    "---"
   ]
  },
  {
   "cell_type": "markdown",
   "id": "1b9c1d93-3a04-4f88-a502-a4d2bf0508fc",
   "metadata": {},
   "source": [
    "$\n",
    "\\cfrac{1}{1-x} = \\sum_{n=0}^\\infty{x^n} = 1+x+x^2+x^3+\\cdots\\qquad R = 1\\\\\\,\\\\e^x = \\sum_{n=0}^\\infty\\cfrac{x^n}{n!} = 1 + \\cfrac{x}{1!} + \\cfrac{x^2}{2!} + \\cfrac{x^3}{3!}+\\cdots\\qquad R = \\infty \\\\\\,\\\\sin\\,x = \\sum_{n=0}^\\infty(-1)^n\\cfrac{x^{2n+1}}{(2n+1)!} = x - \\cfrac{x^3}{3!} + \\cfrac{x^5}{5!} - \\cfrac{x^7}{7!}+\\cdots\\qquad R = \\infty\\\\\\,\\\\cos\\,x = \\sum_{n=0}^\\infty(-1)^n\\cfrac{x^{2n}}{(2n)!} = 1 - \\cfrac{x^2}{2!} + \\cfrac{x^4}{4!} - \\cfrac{x^6}{6!}+\\cdots\\qquad R = \\infty\\\\\\,\\\\tan^{-1}\\,x = \\sum_{n=0}^\\infty(-1)^n\\cfrac{x^{2n+1}}{(2n+1)} = x - \\cfrac{x^3}{3} + \\cfrac{x^5}{5} - \\cfrac{x^7}{7}+\\cdots\\qquad R = 1\\\\\\,\\\\ln(1+x) = \\sum_{n=1}^\\infty(-1)^{n-1}\\cfrac{x^{n}}{n} = x - \\cfrac{x^2}{2} + \\cfrac{x^3}{3} - \\cfrac{x^4}{4}+\\cdots\\qquad R = 1\n",
    "$"
   ]
  }
 ],
 "metadata": {
  "kernelspec": {
   "display_name": "R",
   "language": "R",
   "name": "ir"
  },
  "language_info": {
   "codemirror_mode": "r",
   "file_extension": ".r",
   "mimetype": "text/x-r-source",
   "name": "R",
   "pygments_lexer": "r",
   "version": "4.1.2"
  }
 },
 "nbformat": 4,
 "nbformat_minor": 5
}
