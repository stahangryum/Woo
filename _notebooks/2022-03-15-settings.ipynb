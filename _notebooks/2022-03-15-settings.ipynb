{
 "cells": [
  {
   "cell_type": "markdown",
   "id": "03561380-5aa7-4ca6-a9c1-87e3d07a1b7b",
   "metadata": {},
   "source": [
    "# \"Initial Settings\"\n",
    "\n",
    "- toc: true\n",
    "- branch: master\n",
    "- badges: true\n",
    "- comments: true\n",
    "- author: Kim Jeewoo"
   ]
  },
  {
   "cell_type": "markdown",
   "id": "3fe2c613-2e3b-47b5-8000-b41ae22d1f1c",
   "metadata": {},
   "source": [
    "- 작성중"
   ]
  },
  {
   "cell_type": "markdown",
   "id": "c0e52627-eefc-43f9-a775-494e4aa7bbd6",
   "metadata": {},
   "source": [
    "# Window Setting"
   ]
  },
  {
   "cell_type": "markdown",
   "id": "220d8370-df19-4334-a11e-7b11d064651c",
   "metadata": {},
   "source": [
    "https://www.youtube.com/watch?v=SgqgBPx8zEE"
   ]
  },
  {
   "cell_type": "markdown",
   "id": "c69f9d29-c557-4be7-92fd-58bd1bf64244",
   "metadata": {},
   "source": [
    "# Anaconda Setting"
   ]
  },
  {
   "cell_type": "markdown",
   "id": "b55ab539-7232-4646-b8fe-dd102de76f42",
   "metadata": {},
   "source": [
    "https://www.anaconda.com/products/individual"
   ]
  },
  {
   "cell_type": "markdown",
   "id": "fd3b2645-ef3c-4eb3-9403-5f78665ea5d0",
   "metadata": {},
   "source": [
    "- conda create -n py39r41 python=3.9\n",
    "\n",
    "- conda activate py39r41\n",
    "\n",
    "- conda install -c conda-forge r-essentials=4.1\n",
    "\n",
    "- conda install -c conda-forge jupyterlab\n",
    "\n",
    "- R\n",
    "\n",
    "- install.packages(\"IRkernel\")\n",
    "\n",
    "- library(IRkernel)\n",
    "\n",
    "- installspec()\n",
    "\n",
    "- q()\n",
    "\n",
    "- pip install numpy\n",
    "\n",
    "- pip install pandas\n",
    "\n",
    "- pip install SciPy\n",
    "\n",
    "- pip install matplotlib\n",
    "\n",
    "- conda install -c conda-forge rise\n",
    "\n",
    "- `etc`"
   ]
  },
  {
   "cell_type": "markdown",
   "id": "d15c5131-a5e5-4ee8-a09c-42f5609998c7",
   "metadata": {},
   "source": [
    "---"
   ]
  },
  {
   "cell_type": "markdown",
   "id": "b843b84c-a519-45df-a1b4-f3a8f7725eec",
   "metadata": {},
   "source": [
    "# Git Setting"
   ]
  },
  {
   "cell_type": "markdown",
   "id": "cb523c1e-dc73-417d-9286-1ecac1b5ba0a",
   "metadata": {},
   "source": [
    "- Git\n",
    "\n",
    "- Git Bash\n",
    "\n",
    "- GitHub Desktop"
   ]
  },
  {
   "cell_type": "markdown",
   "id": "e540aa77-9bd4-49cf-bff8-40696820f917",
   "metadata": {},
   "source": [
    "```\n",
    "!git add .\n",
    "\n",
    "!git commit -m .\n",
    "\n",
    "!git push\n",
    "```"
   ]
  },
  {
   "cell_type": "code",
   "execution_count": null,
   "id": "192b83c7-29f4-49f3-83fc-27361e1d66dd",
   "metadata": {},
   "outputs": [],
   "source": []
  }
 ],
 "metadata": {
  "kernelspec": {
   "display_name": "Python 3 (ipykernel)",
   "language": "python",
   "name": "python3"
  },
  "language_info": {
   "codemirror_mode": {
    "name": "ipython",
    "version": 3
   },
   "file_extension": ".py",
   "mimetype": "text/x-python",
   "name": "python",
   "nbconvert_exporter": "python",
   "pygments_lexer": "ipython3",
   "version": "3.9.7"
  }
 },
 "nbformat": 4,
 "nbformat_minor": 5
}
