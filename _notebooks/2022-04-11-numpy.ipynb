{
 "cells": [
  {
   "cell_type": "markdown",
   "id": "5ecd66bb-8017-4613-b692-496eb7f2d1dc",
   "metadata": {},
   "source": [
    "# numpy Highlight\n",
    "\n",
    "- toc: true\n",
    "- branch: master\n",
    "- badges: true\n",
    "- comments: true\n",
    "- author: Kim Jeewoo\n",
    "- categories: [Python, Python Tutorial]\n",
    "- image: images/numpy_logo.png"
   ]
  },
  {
   "cell_type": "markdown",
   "id": "3b18266d-e16a-422b-8bfd-20f0b5669cca",
   "metadata": {},
   "source": [
    "- np.random.rand와 np.random.random은 같은가?\n",
    "\n",
    "- @도 numpy에 내장되어 있는 건가요?"
   ]
  },
  {
   "cell_type": "markdown",
   "id": "82e4575b-3f1d-44fc-a91c-47d27b2a82c2",
   "metadata": {},
   "source": [
    "# Reference"
   ]
  },
  {
   "cell_type": "markdown",
   "id": "7bb43ffa-b9da-4c01-97bd-791f4ba91227",
   "metadata": {},
   "source": [
    "ref. https://numpy.org/doc/stable/user/index.html#\n",
    "\n",
    "ref. https://github.com/guebin/IP2022"
   ]
  },
  {
   "cell_type": "markdown",
   "id": "cc6b1c7f-1a7f-44f4-87b9-5bf491fe9039",
   "metadata": {},
   "source": [
    "# NumPy"
   ]
  },
  {
   "cell_type": "markdown",
   "id": "45ea94ca-5e3f-4357-934d-61afe8bcdf1e",
   "metadata": {},
   "source": [
    "- Numerical Python"
   ]
  },
  {
   "cell_type": "markdown",
   "id": "e05a06c1-1b9d-482f-8223-8bc1c833d46d",
   "metadata": {},
   "source": [
    "# Import"
   ]
  },
  {
   "cell_type": "code",
   "execution_count": 2,
   "id": "80ae412e-bd03-42c6-bbe5-693897f50f2e",
   "metadata": {},
   "outputs": [],
   "source": [
    "import numpy as np"
   ]
  },
  {
   "cell_type": "markdown",
   "id": "14781c0b-4ab1-4fd6-867f-50588e920d9e",
   "metadata": {},
   "source": [
    "# Array Creation(ndarray)"
   ]
  },
  {
   "cell_type": "markdown",
   "id": "40d5f964-931c-48d4-8371-f6d6a706a491",
   "metadata": {},
   "source": [
    "- N Dimensional Array"
   ]
  },
  {
   "cell_type": "code",
   "execution_count": 3,
   "id": "71063581-4ced-4af9-98b3-a7021e5a972e",
   "metadata": {},
   "outputs": [
    {
     "data": {
      "text/plain": [
       "array([1, 2, 3])"
      ]
     },
     "execution_count": 3,
     "metadata": {},
     "output_type": "execute_result"
    }
   ],
   "source": [
    "A = np.array([1,2,3])\n",
    "A"
   ]
  },
  {
   "cell_type": "code",
   "execution_count": 4,
   "id": "68171eee-6726-45b5-a240-7ef67ff43273",
   "metadata": {},
   "outputs": [
    {
     "data": {
      "text/plain": [
       "array([3, 4, 5])"
      ]
     },
     "execution_count": 4,
     "metadata": {},
     "output_type": "execute_result"
    }
   ],
   "source": [
    "mylist = [3, 4, 5]\n",
    "array_from_list = np.array(mylist)\n",
    "array_from_list"
   ]
  },
  {
   "cell_type": "code",
   "execution_count": 5,
   "id": "3b6fae27-70f1-4f02-9d73-c00db98d1b4e",
   "metadata": {},
   "outputs": [
    {
     "data": {
      "text/plain": [
       "array([4, 5, 6])"
      ]
     },
     "execution_count": 5,
     "metadata": {},
     "output_type": "execute_result"
    }
   ],
   "source": [
    "mytuple = (4,5,6)\n",
    "array_from_tuple = np.array(mytuple)\n",
    "array_from_tuple"
   ]
  },
  {
   "cell_type": "code",
   "execution_count": 6,
   "id": "ea478fec-4d45-4fff-bbeb-9d1a23a4a4b1",
   "metadata": {},
   "outputs": [
    {
     "data": {
      "text/plain": [
       "array([0, 1, 2, 3, 4, 5, 6, 7, 8, 9])"
      ]
     },
     "execution_count": 6,
     "metadata": {},
     "output_type": "execute_result"
    }
   ],
   "source": [
    "np.array(range(10))"
   ]
  },
  {
   "cell_type": "code",
   "execution_count": 7,
   "id": "1067b548-5e26-4396-9dc3-b30b3acaeea5",
   "metadata": {},
   "outputs": [
    {
     "data": {
      "text/plain": [
       "array([0.        , 0.09090909, 0.18181818, 0.27272727, 0.36363636,\n",
       "       0.45454545, 0.54545455, 0.63636364, 0.72727273, 0.81818182,\n",
       "       0.90909091, 1.        ])"
      ]
     },
     "execution_count": 7,
     "metadata": {},
     "output_type": "execute_result"
    }
   ],
   "source": [
    "np.linspace(0,1,12) # 0 ~ 1을 12등분하여 만듬 (끝점을 포함)"
   ]
  },
  {
   "cell_type": "code",
   "execution_count": 8,
   "id": "62b426d4-da66-410d-87d8-4b9fc05fefdd",
   "metadata": {},
   "outputs": [
    {
     "data": {
      "text/plain": [
       "12"
      ]
     },
     "execution_count": 8,
     "metadata": {},
     "output_type": "execute_result"
    }
   ],
   "source": [
    "len(np.linspace(0,1,12))"
   ]
  },
  {
   "cell_type": "code",
   "execution_count": 9,
   "id": "c2752ca9-dc83-4e70-88d5-fc18d6a1453d",
   "metadata": {},
   "outputs": [
    {
     "data": {
      "text/plain": [
       "array([0, 1, 2, 3, 4])"
      ]
     },
     "execution_count": 9,
     "metadata": {},
     "output_type": "execute_result"
    }
   ],
   "source": [
    "np.arange(5)"
   ]
  },
  {
   "cell_type": "code",
   "execution_count": 10,
   "id": "ce48f7fe-ad20-4fe8-b953-628c13dca7f9",
   "metadata": {},
   "outputs": [
    {
     "data": {
      "text/plain": [
       "array([1, 2, 3, 4, 5])"
      ]
     },
     "execution_count": 10,
     "metadata": {},
     "output_type": "execute_result"
    }
   ],
   "source": [
    "np.arange(1,6)"
   ]
  },
  {
   "cell_type": "code",
   "execution_count": 11,
   "id": "d60a447a-24a4-4840-bad8-4fe6f7271ae9",
   "metadata": {},
   "outputs": [
    {
     "data": {
      "text/plain": [
       "array([0., 0., 0.])"
      ]
     },
     "execution_count": 11,
     "metadata": {},
     "output_type": "execute_result"
    }
   ],
   "source": [
    "np.zeros(3) # 0을 3개"
   ]
  },
  {
   "cell_type": "code",
   "execution_count": 12,
   "id": "3195fb8f-f393-4435-a3c7-4df5fb17e25f",
   "metadata": {},
   "outputs": [
    {
     "data": {
      "text/plain": [
       "array([[0., 0., 0.],\n",
       "       [0., 0., 0.],\n",
       "       [0., 0., 0.]])"
      ]
     },
     "execution_count": 12,
     "metadata": {},
     "output_type": "execute_result"
    }
   ],
   "source": [
    "np.zeros((3,3))"
   ]
  },
  {
   "cell_type": "code",
   "execution_count": 13,
   "id": "d9fbf8cf-e296-402d-a61d-1c1b0a7f3e74",
   "metadata": {},
   "outputs": [
    {
     "data": {
      "text/plain": [
       "array([1., 1., 1.])"
      ]
     },
     "execution_count": 13,
     "metadata": {},
     "output_type": "execute_result"
    }
   ],
   "source": [
    "np.ones(3) # 1을 3개"
   ]
  },
  {
   "cell_type": "code",
   "execution_count": 14,
   "id": "f78e425e-79a5-4716-b6aa-b4a20608a4cb",
   "metadata": {},
   "outputs": [
    {
     "data": {
      "text/plain": [
       "array([[1., 1., 1.],\n",
       "       [1., 1., 1.],\n",
       "       [1., 1., 1.]])"
      ]
     },
     "execution_count": 14,
     "metadata": {},
     "output_type": "execute_result"
    }
   ],
   "source": [
    "np.ones((3,3))"
   ]
  },
  {
   "cell_type": "code",
   "execution_count": 15,
   "id": "101d44d1-45ef-4464-b176-190a5617d48d",
   "metadata": {},
   "outputs": [
    {
     "data": {
      "text/plain": [
       "array([[1., 0., 0.],\n",
       "       [0., 1., 0.],\n",
       "       [0., 0., 1.]])"
      ]
     },
     "execution_count": 15,
     "metadata": {},
     "output_type": "execute_result"
    }
   ],
   "source": [
    "np.eye(3) # 단위 행렬"
   ]
  },
  {
   "cell_type": "code",
   "execution_count": 16,
   "id": "8d911f4d-d3a6-4435-9fb3-0013ffc1f645",
   "metadata": {},
   "outputs": [
    {
     "data": {
      "text/plain": [
       "array([[1, 0, 0],\n",
       "       [0, 2, 0],\n",
       "       [0, 0, 3]])"
      ]
     },
     "execution_count": 16,
     "metadata": {},
     "output_type": "execute_result"
    }
   ],
   "source": [
    "np.diag([1,2,3]) # 대각선이 1,2,3인 행렬"
   ]
  },
  {
   "cell_type": "markdown",
   "id": "7de4a34d-ec47-4ab8-a6ec-b7d6e2a7992e",
   "metadata": {},
   "source": [
    "# Broadcasting and Operation"
   ]
  },
  {
   "cell_type": "code",
   "execution_count": 17,
   "id": "ddf029d9-91aa-467c-b04f-135f3b63defa",
   "metadata": {},
   "outputs": [
    {
     "data": {
      "text/plain": [
       "array([2, 3, 4])"
      ]
     },
     "execution_count": 17,
     "metadata": {},
     "output_type": "execute_result"
    }
   ],
   "source": [
    "A+1 # 덧셈"
   ]
  },
  {
   "cell_type": "code",
   "execution_count": 18,
   "id": "245b279b-06af-4189-bbd3-405abe87a7b8",
   "metadata": {},
   "outputs": [
    {
     "data": {
      "text/plain": [
       "array([-3, -2, -1])"
      ]
     },
     "execution_count": 18,
     "metadata": {},
     "output_type": "execute_result"
    }
   ],
   "source": [
    "A-4 # 뺄셈"
   ]
  },
  {
   "cell_type": "code",
   "execution_count": 19,
   "id": "8db94348-e631-45b7-80a9-69bc64d7529a",
   "metadata": {},
   "outputs": [
    {
     "data": {
      "text/plain": [
       "array([2, 4, 6])"
      ]
     },
     "execution_count": 19,
     "metadata": {},
     "output_type": "execute_result"
    }
   ],
   "source": [
    "A*2 # 곱셈"
   ]
  },
  {
   "cell_type": "code",
   "execution_count": 20,
   "id": "c5a6db96-11f8-4b0a-a9fb-deca9c169452",
   "metadata": {},
   "outputs": [
    {
     "data": {
      "text/plain": [
       "array([0.5, 1. , 1.5])"
      ]
     },
     "execution_count": 20,
     "metadata": {},
     "output_type": "execute_result"
    }
   ],
   "source": [
    "A/2 # 나눗셈"
   ]
  },
  {
   "cell_type": "code",
   "execution_count": 21,
   "id": "0ad2fce6-b673-40f8-811f-8abec748760e",
   "metadata": {},
   "outputs": [
    {
     "data": {
      "text/plain": [
       "array([1, 4, 9])"
      ]
     },
     "execution_count": 21,
     "metadata": {},
     "output_type": "execute_result"
    }
   ],
   "source": [
    "A**2 # 제곱"
   ]
  },
  {
   "cell_type": "code",
   "execution_count": 22,
   "id": "c4e3de36-aaf7-4cec-b96e-c77bb169995d",
   "metadata": {},
   "outputs": [
    {
     "data": {
      "text/plain": [
       "array([1, 0, 1], dtype=int32)"
      ]
     },
     "execution_count": 22,
     "metadata": {},
     "output_type": "execute_result"
    }
   ],
   "source": [
    "A%2 # 나머지"
   ]
  },
  {
   "cell_type": "code",
   "execution_count": 23,
   "id": "4a1c1515-cbde-4454-bb3c-14c9bc1a211c",
   "metadata": {},
   "outputs": [
    {
     "data": {
      "text/plain": [
       "array([1.        , 1.41421356, 1.73205081])"
      ]
     },
     "execution_count": 23,
     "metadata": {},
     "output_type": "execute_result"
    }
   ],
   "source": [
    "np.sqrt(A)"
   ]
  },
  {
   "cell_type": "code",
   "execution_count": 24,
   "id": "f51aae7c-86cf-4c33-aa6e-f0c1be192b98",
   "metadata": {},
   "outputs": [
    {
     "data": {
      "text/plain": [
       "array([0.        , 0.69314718, 1.09861229])"
      ]
     },
     "execution_count": 24,
     "metadata": {},
     "output_type": "execute_result"
    }
   ],
   "source": [
    "np.log(A)"
   ]
  },
  {
   "cell_type": "code",
   "execution_count": 25,
   "id": "bd06b4d1-7230-4ce6-b62a-6875e54fbaf4",
   "metadata": {},
   "outputs": [
    {
     "data": {
      "text/plain": [
       "array([ 2.71828183,  7.3890561 , 20.08553692])"
      ]
     },
     "execution_count": 25,
     "metadata": {},
     "output_type": "execute_result"
    }
   ],
   "source": [
    "np.exp(A)"
   ]
  },
  {
   "cell_type": "code",
   "execution_count": 26,
   "id": "121d07be-5bf3-4548-9787-6851934d3189",
   "metadata": {},
   "outputs": [
    {
     "data": {
      "text/plain": [
       "array([0.84147098, 0.90929743, 0.14112001])"
      ]
     },
     "execution_count": 26,
     "metadata": {},
     "output_type": "execute_result"
    }
   ],
   "source": [
    "np.sin(A)"
   ]
  },
  {
   "cell_type": "code",
   "execution_count": 27,
   "id": "ce0afb33-aaf0-462d-bc49-6587cec1bf6d",
   "metadata": {},
   "outputs": [],
   "source": [
    "A = np.array([11,22,33,44,55,66])"
   ]
  },
  {
   "cell_type": "markdown",
   "id": "6948a9af-a77a-4cf5-aaf1-ed16f8666e70",
   "metadata": {},
   "source": [
    "# Indexing"
   ]
  },
  {
   "cell_type": "code",
   "execution_count": 28,
   "id": "40db84f3-3641-42da-b477-1341a3cd0dd0",
   "metadata": {},
   "outputs": [
    {
     "data": {
      "text/plain": [
       "33"
      ]
     },
     "execution_count": 28,
     "metadata": {},
     "output_type": "execute_result"
    }
   ],
   "source": [
    "A[2]"
   ]
  },
  {
   "cell_type": "code",
   "execution_count": 29,
   "id": "1b8c97cc-0fee-48e6-83ed-d89b2a1a30bd",
   "metadata": {},
   "outputs": [
    {
     "data": {
      "text/plain": [
       "66"
      ]
     },
     "execution_count": 29,
     "metadata": {},
     "output_type": "execute_result"
    }
   ],
   "source": [
    "A[5]"
   ]
  },
  {
   "cell_type": "code",
   "execution_count": 30,
   "id": "b94f0add-bd45-407b-97fb-388130ab0daa",
   "metadata": {},
   "outputs": [
    {
     "data": {
      "text/plain": [
       "array([22, 33, 44])"
      ]
     },
     "execution_count": 30,
     "metadata": {},
     "output_type": "execute_result"
    }
   ],
   "source": [
    "A[1:4]"
   ]
  },
  {
   "cell_type": "code",
   "execution_count": 31,
   "id": "32612881-1b14-4749-bed6-eb513b2b560b",
   "metadata": {},
   "outputs": [
    {
     "data": {
      "text/plain": [
       "array([11, 33, 55])"
      ]
     },
     "execution_count": 31,
     "metadata": {},
     "output_type": "execute_result"
    }
   ],
   "source": [
    "A[[0,2,4]]"
   ]
  },
  {
   "cell_type": "code",
   "execution_count": 32,
   "id": "758ddd62-738f-4a3f-b4fe-302895b4fe33",
   "metadata": {},
   "outputs": [
    {
     "data": {
      "text/plain": [
       "array([11, 33, 66])"
      ]
     },
     "execution_count": 32,
     "metadata": {},
     "output_type": "execute_result"
    }
   ],
   "source": [
    "A[[True, False, True, False, False, True]]"
   ]
  },
  {
   "cell_type": "code",
   "execution_count": 33,
   "id": "0b880ba7-f1cb-4d00-90b2-320045257223",
   "metadata": {},
   "outputs": [
    {
     "data": {
      "text/plain": [
       "array([ True,  True, False, False, False, False])"
      ]
     },
     "execution_count": 33,
     "metadata": {},
     "output_type": "execute_result"
    }
   ],
   "source": [
    "A < 33"
   ]
  },
  {
   "cell_type": "code",
   "execution_count": 34,
   "id": "ee77b4ab-82fe-4469-a985-03fa5a4a3148",
   "metadata": {},
   "outputs": [
    {
     "data": {
      "text/plain": [
       "array([11, 22])"
      ]
     },
     "execution_count": 34,
     "metadata": {},
     "output_type": "execute_result"
    }
   ],
   "source": [
    "A[A<33]"
   ]
  },
  {
   "cell_type": "markdown",
   "id": "1a8a8719-f34c-4776-9ef8-d8fccc7a3116",
   "metadata": {},
   "source": [
    "## Matrix Indexing"
   ]
  },
  {
   "cell_type": "code",
   "execution_count": 35,
   "id": "9febeaa9-7a62-44af-9cb8-f53cff1cebcc",
   "metadata": {},
   "outputs": [
    {
     "data": {
      "text/plain": [
       "array([[ 1,  2,  3,  4],\n",
       "       [-1, -2, -3, -4],\n",
       "       [ 5,  6,  7,  8],\n",
       "       [-5, -6, -7, -8]])"
      ]
     },
     "execution_count": 35,
     "metadata": {},
     "output_type": "execute_result"
    }
   ],
   "source": [
    "A2 = np.array([[1,2,3,4],[-1,-2,-3,-4],[5,6,7,8],[-5,-6,-7,-8]])\n",
    "A2"
   ]
  },
  {
   "cell_type": "code",
   "execution_count": 36,
   "id": "25123e98-d42d-49c8-84f2-3ca344e9f579",
   "metadata": {},
   "outputs": [
    {
     "data": {
      "text/plain": [
       "-4"
      ]
     },
     "execution_count": 36,
     "metadata": {},
     "output_type": "execute_result"
    }
   ],
   "source": [
    "A2[1][3]"
   ]
  },
  {
   "cell_type": "code",
   "execution_count": 37,
   "id": "5761c48d-c916-4fb0-b29b-33f37c7061e3",
   "metadata": {},
   "outputs": [
    {
     "data": {
      "text/plain": [
       "-4"
      ]
     },
     "execution_count": 37,
     "metadata": {},
     "output_type": "execute_result"
    }
   ],
   "source": [
    "A2[1,3]"
   ]
  },
  {
   "cell_type": "code",
   "execution_count": 38,
   "id": "8e691489-856f-4d00-af32-33b0e9d6817b",
   "metadata": {},
   "outputs": [
    {
     "data": {
      "text/plain": [
       "array([1, 2])"
      ]
     },
     "execution_count": 38,
     "metadata": {},
     "output_type": "execute_result"
    }
   ],
   "source": [
    "A2[0, 0:2]"
   ]
  },
  {
   "cell_type": "code",
   "execution_count": 39,
   "id": "1ab79986-57ea-41e7-9f3e-d91d1782ef80",
   "metadata": {},
   "outputs": [
    {
     "data": {
      "text/plain": [
       "array([1, 2, 3, 4])"
      ]
     },
     "execution_count": 39,
     "metadata": {},
     "output_type": "execute_result"
    }
   ],
   "source": [
    "A2[0]"
   ]
  },
  {
   "cell_type": "code",
   "execution_count": 40,
   "id": "95be8ca0-1d73-4b52-a82c-396673760b94",
   "metadata": {},
   "outputs": [
    {
     "data": {
      "text/plain": [
       "array([3, 4])"
      ]
     },
     "execution_count": 40,
     "metadata": {},
     "output_type": "execute_result"
    }
   ],
   "source": [
    "A2[0, 2:]"
   ]
  },
  {
   "cell_type": "code",
   "execution_count": 41,
   "id": "6a15c4d6-9f17-4eb7-be80-da6a83fdfa69",
   "metadata": {},
   "outputs": [
    {
     "data": {
      "text/plain": [
       "array([[ 1,  2,  3,  4],\n",
       "       [-1, -2, -3, -4],\n",
       "       [ 5,  6,  7,  8],\n",
       "       [-5, -6, -7, -8]])"
      ]
     },
     "execution_count": 41,
     "metadata": {},
     "output_type": "execute_result"
    }
   ],
   "source": [
    "A2[:, :]"
   ]
  },
  {
   "cell_type": "code",
   "execution_count": 42,
   "id": "74bdd0f4-b10c-4edf-9168-6746fd4f29c0",
   "metadata": {},
   "outputs": [
    {
     "data": {
      "text/plain": [
       "array([[1, 2, 3, 4],\n",
       "       [5, 6, 7, 8]])"
      ]
     },
     "execution_count": 42,
     "metadata": {},
     "output_type": "execute_result"
    }
   ],
   "source": [
    "A2[[0,2], :]"
   ]
  },
  {
   "cell_type": "code",
   "execution_count": 43,
   "id": "7ae5062f-136c-42bb-a3ac-93459ae46d6e",
   "metadata": {},
   "outputs": [
    {
     "data": {
      "text/plain": [
       "array([[1, 2, 3, 4],\n",
       "       [5, 6, 7, 8]])"
      ]
     },
     "execution_count": 43,
     "metadata": {},
     "output_type": "execute_result"
    }
   ],
   "source": [
    "A2[[0,2]]"
   ]
  },
  {
   "cell_type": "markdown",
   "id": "e0940984-912b-4a3e-b970-f0b54c6a06e0",
   "metadata": {},
   "source": [
    "# Useful Functions"
   ]
  },
  {
   "cell_type": "markdown",
   "id": "5ba2f47c-71b4-44a8-90ee-0fcbbc813e4d",
   "metadata": {},
   "source": [
    "## .reshape"
   ]
  },
  {
   "cell_type": "markdown",
   "id": "a1a8e145-f65e-4aaa-bb80-85536edf62e4",
   "metadata": {},
   "source": [
    "> Tip: R의 `dim` 함수와 유사하다."
   ]
  },
  {
   "cell_type": "code",
   "execution_count": 44,
   "id": "eb7b3615-b359-4b51-b93f-f5910ac404e4",
   "metadata": {},
   "outputs": [
    {
     "data": {
      "text/plain": [
       "array([11, 22, 33, 44, 55, 66])"
      ]
     },
     "execution_count": 44,
     "metadata": {},
     "output_type": "execute_result"
    }
   ],
   "source": [
    "A = np.array([11,22,33,44,55,66])\n",
    "A"
   ]
  },
  {
   "cell_type": "code",
   "execution_count": 45,
   "id": "8078e030-47e8-4c29-a2a2-03d2d665cd5e",
   "metadata": {},
   "outputs": [
    {
     "data": {
      "text/plain": [
       "array([[11, 22, 33],\n",
       "       [44, 55, 66]])"
      ]
     },
     "execution_count": 45,
     "metadata": {},
     "output_type": "execute_result"
    }
   ],
   "source": [
    "A.reshape(2,3)"
   ]
  },
  {
   "cell_type": "code",
   "execution_count": 46,
   "id": "3fdf6e8e-efc6-4e91-88df-ac6033395733",
   "metadata": {},
   "outputs": [
    {
     "data": {
      "text/plain": [
       "array([11, 22, 33, 44, 55, 66])"
      ]
     },
     "execution_count": 46,
     "metadata": {},
     "output_type": "execute_result"
    }
   ],
   "source": [
    "A"
   ]
  },
  {
   "cell_type": "code",
   "execution_count": 47,
   "id": "5180d4c7-6be5-4b5b-a7a6-03a2b0817c9f",
   "metadata": {},
   "outputs": [
    {
     "data": {
      "text/plain": [
       "array([[11, 22, 33],\n",
       "       [44, 55, 66]])"
      ]
     },
     "execution_count": 47,
     "metadata": {},
     "output_type": "execute_result"
    }
   ],
   "source": [
    "A = A.reshape(2,3)\n",
    "A"
   ]
  },
  {
   "cell_type": "markdown",
   "id": "1184e311-d6ba-478c-aeaa-60d13d1818ed",
   "metadata": {},
   "source": [
    "> note : reshape with `-1`"
   ]
  },
  {
   "cell_type": "code",
   "execution_count": 48,
   "id": "3a29720e-406d-4ffd-bb23-013290842ae9",
   "metadata": {},
   "outputs": [
    {
     "data": {
      "text/plain": [
       "array([ 0,  1,  2,  3,  4,  5,  6,  7,  8,  9, 10, 11, 12, 13, 14, 15, 16,\n",
       "       17, 18, 19, 20, 21, 22, 23])"
      ]
     },
     "execution_count": 48,
     "metadata": {},
     "output_type": "execute_result"
    }
   ],
   "source": [
    "A = np.arange(24)\n",
    "A"
   ]
  },
  {
   "cell_type": "code",
   "execution_count": 49,
   "id": "46ded639-c755-4a92-94e0-ab18f7b2ff66",
   "metadata": {},
   "outputs": [
    {
     "data": {
      "text/plain": [
       "array([[ 0,  1,  2,  3,  4,  5,  6,  7,  8,  9, 10, 11],\n",
       "       [12, 13, 14, 15, 16, 17, 18, 19, 20, 21, 22, 23]])"
      ]
     },
     "execution_count": 49,
     "metadata": {},
     "output_type": "execute_result"
    }
   ],
   "source": [
    "A.reshape(2,-1) # 행의 수가 2인 행렬, 열은 알아서 맞춰"
   ]
  },
  {
   "cell_type": "code",
   "execution_count": 50,
   "id": "c06c9c2c-cd7d-4baf-b79a-059520cf9a9f",
   "metadata": {},
   "outputs": [
    {
     "data": {
      "text/plain": [
       "array([[ 0,  1,  2,  3,  4,  5],\n",
       "       [ 6,  7,  8,  9, 10, 11],\n",
       "       [12, 13, 14, 15, 16, 17],\n",
       "       [18, 19, 20, 21, 22, 23]])"
      ]
     },
     "execution_count": 50,
     "metadata": {},
     "output_type": "execute_result"
    }
   ],
   "source": [
    "A.reshape(4, -1) # 행의 수가 4인 행렬, 열은 알아서 맞춰"
   ]
  },
  {
   "cell_type": "code",
   "execution_count": 51,
   "id": "66032abe-e602-4e29-a83d-98b8aa42b2af",
   "metadata": {},
   "outputs": [
    {
     "data": {
      "text/plain": [
       "array([[ 0,  1,  2,  3],\n",
       "       [ 4,  5,  6,  7],\n",
       "       [ 8,  9, 10, 11],\n",
       "       [12, 13, 14, 15],\n",
       "       [16, 17, 18, 19],\n",
       "       [20, 21, 22, 23]])"
      ]
     },
     "execution_count": 51,
     "metadata": {},
     "output_type": "execute_result"
    }
   ],
   "source": [
    "A.reshape(-1, 4) # 열의 수가 4인 행렬, 행은 알아서 맞춰"
   ]
  },
  {
   "cell_type": "code",
   "execution_count": 52,
   "id": "210dbcf6-1c9a-40b4-9737-ca1ef7125436",
   "metadata": {},
   "outputs": [
    {
     "data": {
      "text/plain": [
       "array([ 0,  1,  2,  3,  4,  5,  6,  7,  8,  9, 10, 11, 12, 13, 14, 15, 16,\n",
       "       17, 18, 19, 20, 21, 22, 23])"
      ]
     },
     "execution_count": 52,
     "metadata": {},
     "output_type": "execute_result"
    }
   ],
   "source": [
    "A.reshape(-1) # 다시 길이가 24인 벡터로"
   ]
  },
  {
   "cell_type": "markdown",
   "id": "c8f3806a-9a1c-43a6-88e0-4b7cc2c728af",
   "metadata": {},
   "source": [
    "## .shape"
   ]
  },
  {
   "cell_type": "code",
   "execution_count": 99,
   "id": "f18b95b3-150e-46e0-9f7c-72541513af8a",
   "metadata": {},
   "outputs": [
    {
     "data": {
      "text/plain": [
       "()"
      ]
     },
     "execution_count": 99,
     "metadata": {},
     "output_type": "execute_result"
    }
   ],
   "source": [
    "A = np.array(3.14) # Scalar, 0d array\n",
    "A.shape"
   ]
  },
  {
   "cell_type": "code",
   "execution_count": 100,
   "id": "95700a1c-3673-4216-9791-f69c48c0a599",
   "metadata": {},
   "outputs": [
    {
     "data": {
      "text/plain": [
       "(1,)"
      ]
     },
     "execution_count": 100,
     "metadata": {},
     "output_type": "execute_result"
    }
   ],
   "source": [
    "A = np.array([3.14]) # Vector, 1d array\n",
    "A.shape"
   ]
  },
  {
   "cell_type": "code",
   "execution_count": 102,
   "id": "2f663860-e554-440c-b97b-e040565c6ee7",
   "metadata": {},
   "outputs": [
    {
     "data": {
      "text/plain": [
       "(1, 1)"
      ]
     },
     "execution_count": 102,
     "metadata": {},
     "output_type": "execute_result"
    }
   ],
   "source": [
    "A = np.array([[3.14]]) # Matrix, 2d array\n",
    "A.shape"
   ]
  },
  {
   "cell_type": "code",
   "execution_count": 103,
   "id": "df51d956-aedc-41b1-a2de-1eb5d00abb0c",
   "metadata": {},
   "outputs": [
    {
     "data": {
      "text/plain": [
       "(1, 1, 1)"
      ]
     },
     "execution_count": 103,
     "metadata": {},
     "output_type": "execute_result"
    }
   ],
   "source": [
    "A = np.array([[[3.14]]]) # Tensor, 3d array\n",
    "A.shape"
   ]
  },
  {
   "cell_type": "code",
   "execution_count": 105,
   "id": "b93d979a-2639-4700-b79d-9c40fcfb3555",
   "metadata": {},
   "outputs": [
    {
     "data": {
      "text/plain": [
       "(3, 3)"
      ]
     },
     "execution_count": 105,
     "metadata": {},
     "output_type": "execute_result"
    }
   ],
   "source": [
    "A = np.array([[1,2,3],[2,5,6],[4,4,2]])\n",
    "A.shape"
   ]
  },
  {
   "cell_type": "markdown",
   "id": "1da6b644-4cac-4508-8063-835e6a1e745f",
   "metadata": {
    "tags": []
   },
   "source": [
    "## np.random"
   ]
  },
  {
   "cell_type": "code",
   "execution_count": null,
   "id": "47a2c03f-ef8d-4043-ac6d-5b8917ec7960",
   "metadata": {},
   "outputs": [
    {
     "data": {
      "text/plain": [
       "array([ 0.86477179, -1.55636485,  0.41814322,  0.70156177,  0.37819201,\n",
       "       -0.37819944,  0.73782409, -1.07122884, -0.06755145,  0.39287591])"
      ]
     },
     "execution_count": 57,
     "metadata": {},
     "output_type": "execute_result"
    }
   ],
   "source": [
    "np.random.randn(10) # 표준정규분포에서 10개 추출"
   ]
  },
  {
   "cell_type": "code",
   "execution_count": 58,
   "id": "099dcf8f-2d10-4ddf-a7ff-b5d94748c355",
   "metadata": {},
   "outputs": [
    {
     "data": {
      "text/plain": [
       "array([0.85979352, 0.77170578, 0.65476807, 0.59388851, 0.13706046,\n",
       "       0.78560181, 0.75412534, 0.62169035, 0.46108912, 0.2804098 ])"
      ]
     },
     "execution_count": 58,
     "metadata": {},
     "output_type": "execute_result"
    }
   ],
   "source": [
    "np.random.rand(10) # 0~1사이에서 10개를 추출"
   ]
  },
  {
   "cell_type": "code",
   "execution_count": 62,
   "id": "7524ffaa-0cf0-4b77-bec0-43fb7ef7eb46",
   "metadata": {},
   "outputs": [
    {
     "data": {
      "text/plain": [
       "array([[-0.37292687, -0.60824118],\n",
       "       [-0.53553137,  1.73804684]])"
      ]
     },
     "execution_count": 62,
     "metadata": {},
     "output_type": "execute_result"
    }
   ],
   "source": [
    "np.random.randn(4).reshape(2,2) # 표준정규분포에서 10개를 추출하고 (2,2)형태의 ndarray로 변환"
   ]
  },
  {
   "cell_type": "markdown",
   "id": "f129116d-ff15-4d8e-bf76-14ccfdac7107",
   "metadata": {},
   "source": [
    "## .T"
   ]
  },
  {
   "cell_type": "code",
   "execution_count": 65,
   "id": "940d6e71-d14f-4956-9568-acaca09c1efc",
   "metadata": {},
   "outputs": [
    {
     "data": {
      "text/plain": [
       "array([[0, 1],\n",
       "       [2, 3]])"
      ]
     },
     "execution_count": 65,
     "metadata": {},
     "output_type": "execute_result"
    }
   ],
   "source": [
    "A = np.arange(4).reshape(2,2)\n",
    "A"
   ]
  },
  {
   "cell_type": "code",
   "execution_count": 67,
   "id": "40a47bff-e1b0-4baf-a8d5-5557cf16edc5",
   "metadata": {},
   "outputs": [
    {
     "data": {
      "text/plain": [
       "array([[0, 2],\n",
       "       [1, 3]])"
      ]
     },
     "execution_count": 67,
     "metadata": {},
     "output_type": "execute_result"
    }
   ],
   "source": [
    "A.T # 전치행렬"
   ]
  },
  {
   "cell_type": "markdown",
   "id": "af11c916-abb3-4fad-a705-c4afa0ed36b9",
   "metadata": {},
   "source": [
    "## np.linalg.inv"
   ]
  },
  {
   "cell_type": "code",
   "execution_count": 70,
   "id": "6dca8d12-ae04-45ed-8ecb-9428f05eed1f",
   "metadata": {},
   "outputs": [
    {
     "data": {
      "text/plain": [
       "array([[-1.5,  0.5],\n",
       "       [ 1. ,  0. ]])"
      ]
     },
     "execution_count": 70,
     "metadata": {},
     "output_type": "execute_result"
    }
   ],
   "source": [
    "np.linalg.inv(A) # 역행렬"
   ]
  },
  {
   "cell_type": "markdown",
   "id": "6335842f-cf64-477e-a717-dbe896be5190",
   "metadata": {},
   "source": [
    "## @"
   ]
  },
  {
   "cell_type": "code",
   "execution_count": 72,
   "id": "d7a41240-e98d-402f-b14b-5e74924f857b",
   "metadata": {},
   "outputs": [
    {
     "data": {
      "text/plain": [
       "array([[1., 0.],\n",
       "       [0., 1.]])"
      ]
     },
     "execution_count": 72,
     "metadata": {},
     "output_type": "execute_result"
    }
   ],
   "source": [
    "A @ np.linalg.inv(A)"
   ]
  },
  {
   "cell_type": "markdown",
   "id": "a1076f9d-0c66-44fc-8401-f02d38757080",
   "metadata": {},
   "source": [
    "## np.concatenate"
   ]
  },
  {
   "cell_type": "code",
   "execution_count": 107,
   "id": "2c11caf0-d6dd-49c4-b88d-bfebef510a24",
   "metadata": {},
   "outputs": [
    {
     "data": {
      "text/plain": [
       "array([1, 2, 4, 5])"
      ]
     },
     "execution_count": 107,
     "metadata": {},
     "output_type": "execute_result"
    }
   ],
   "source": [
    "A = np.array([1,2])\n",
    "B = np.array([4,5])\n",
    "np.concatenate([A, B])"
   ]
  },
  {
   "cell_type": "code",
   "execution_count": 112,
   "id": "ca1b3ab3-94ab-4eba-ad7b-7d050bc8b89b",
   "metadata": {},
   "outputs": [
    {
     "data": {
      "text/plain": [
       "array([[ 0,  1],\n",
       "       [ 2,  3],\n",
       "       [10, 11],\n",
       "       [12, 13]])"
      ]
     },
     "execution_count": 112,
     "metadata": {},
     "output_type": "execute_result"
    }
   ],
   "source": [
    "A = np.arange(4).reshape(2,2)\n",
    "B = np.arange(10,14).reshape(2,2)\n",
    "np.concatenate([A, B]) # axis = 0이 생략되어 있다."
   ]
  },
  {
   "cell_type": "code",
   "execution_count": 126,
   "id": "1efc1b47-7f7a-4501-a9c0-b8a6db248002",
   "metadata": {},
   "outputs": [
    {
     "data": {
      "text/plain": [
       "array([[0, 1, 0],\n",
       "       [2, 3, 1]])"
      ]
     },
     "execution_count": 126,
     "metadata": {},
     "output_type": "execute_result"
    }
   ],
   "source": [
    "A=np.array(range(4)).reshape(2,2) \n",
    "B=np.array(range(2)).reshape(2,1)  \n",
    "np.concatenate([a,b],axis=1) # 꼭 같은 차원일 필요는 없고, 붙여지는 부분의 길이만 같으면 됨"
   ]
  },
  {
   "cell_type": "code",
   "execution_count": 113,
   "id": "cae2e205-d0ce-415a-afd5-2831165f845d",
   "metadata": {},
   "outputs": [
    {
     "data": {
      "text/plain": [
       "array([[ 0,  1, 10, 11],\n",
       "       [ 2,  3, 12, 13]])"
      ]
     },
     "execution_count": 113,
     "metadata": {},
     "output_type": "execute_result"
    }
   ],
   "source": [
    "A = np.arange(4).reshape(2,2)\n",
    "B = np.arange(10,14).reshape(2,2)\n",
    "np.concatenate([A, B], axis=1)"
   ]
  },
  {
   "cell_type": "code",
   "execution_count": 120,
   "id": "9a8d7038-ec5d-48e9-afe0-aac47a8a6d81",
   "metadata": {},
   "outputs": [
    {
     "data": {
      "text/plain": [
       "(array([[[ 0,  1,  2,  3],\n",
       "         [ 4,  5,  6,  7],\n",
       "         [ 8,  9, 10, 11]],\n",
       " \n",
       "        [[12, 13, 14, 15],\n",
       "         [16, 17, 18, 19],\n",
       "         [20, 21, 22, 23]]]),\n",
       " array([[[  0,  -1,  -2,  -3],\n",
       "         [ -4,  -5,  -6,  -7],\n",
       "         [ -8,  -9, -10, -11]],\n",
       " \n",
       "        [[-12, -13, -14, -15],\n",
       "         [-16, -17, -18, -19],\n",
       "         [-20, -21, -22, -23]]]))"
      ]
     },
     "execution_count": 120,
     "metadata": {},
     "output_type": "execute_result"
    }
   ],
   "source": [
    "# collapse-output\n",
    "A = np.array(range(2*3*4)).reshape(2,3,4)\n",
    "B = - A\n",
    "A, B"
   ]
  },
  {
   "cell_type": "code",
   "execution_count": 119,
   "id": "c70a32e2-0f2e-411c-9fcb-9913b3ccb695",
   "metadata": {},
   "outputs": [
    {
     "data": {
      "text/plain": [
       "array([[[  0,   1,   2,   3],\n",
       "        [  4,   5,   6,   7],\n",
       "        [  8,   9,  10,  11]],\n",
       "\n",
       "       [[ 12,  13,  14,  15],\n",
       "        [ 16,  17,  18,  19],\n",
       "        [ 20,  21,  22,  23]],\n",
       "\n",
       "       [[  0,  -1,  -2,  -3],\n",
       "        [ -4,  -5,  -6,  -7],\n",
       "        [ -8,  -9, -10, -11]],\n",
       "\n",
       "       [[-12, -13, -14, -15],\n",
       "        [-16, -17, -18, -19],\n",
       "        [-20, -21, -22, -23]]])"
      ]
     },
     "execution_count": 119,
     "metadata": {},
     "output_type": "execute_result"
    }
   ],
   "source": [
    "# collapse-output\n",
    "np.concatenate([A,B], axis=0)"
   ]
  },
  {
   "cell_type": "code",
   "execution_count": 121,
   "id": "ce4045ed-18dd-44a8-852c-391cf45f83e4",
   "metadata": {},
   "outputs": [
    {
     "data": {
      "text/plain": [
       "array([[[  0,   1,   2,   3],\n",
       "        [  4,   5,   6,   7],\n",
       "        [  8,   9,  10,  11],\n",
       "        [  0,  -1,  -2,  -3],\n",
       "        [ -4,  -5,  -6,  -7],\n",
       "        [ -8,  -9, -10, -11]],\n",
       "\n",
       "       [[ 12,  13,  14,  15],\n",
       "        [ 16,  17,  18,  19],\n",
       "        [ 20,  21,  22,  23],\n",
       "        [-12, -13, -14, -15],\n",
       "        [-16, -17, -18, -19],\n",
       "        [-20, -21, -22, -23]]])"
      ]
     },
     "execution_count": 121,
     "metadata": {},
     "output_type": "execute_result"
    }
   ],
   "source": [
    "# collapse-output\n",
    "np.concatenate([A,B], axis=1)"
   ]
  },
  {
   "cell_type": "code",
   "execution_count": 122,
   "id": "8773693c-d84c-491f-b6ce-7624adaaeaac",
   "metadata": {},
   "outputs": [
    {
     "data": {
      "text/plain": [
       "array([[[  0,   1,   2,   3,   0,  -1,  -2,  -3],\n",
       "        [  4,   5,   6,   7,  -4,  -5,  -6,  -7],\n",
       "        [  8,   9,  10,  11,  -8,  -9, -10, -11]],\n",
       "\n",
       "       [[ 12,  13,  14,  15, -12, -13, -14, -15],\n",
       "        [ 16,  17,  18,  19, -16, -17, -18, -19],\n",
       "        [ 20,  21,  22,  23, -20, -21, -22, -23]]])"
      ]
     },
     "execution_count": 122,
     "metadata": {},
     "output_type": "execute_result"
    }
   ],
   "source": [
    "# collapse-output\n",
    "np.concatenate([A,B], axis=2)"
   ]
  },
  {
   "cell_type": "markdown",
   "id": "21aa977f-e529-4009-8d87-cbc44bae1b02",
   "metadata": {},
   "source": [
    "## np.stack"
   ]
  },
  {
   "cell_type": "markdown",
   "id": "8009e01b-1bb3-4e74-a1e6-18ba25d55d95",
   "metadata": {},
   "source": [
    "> Warning : "
   ]
  },
  {
   "cell_type": "code",
   "execution_count": 129,
   "id": "e897fc29-cea6-46e6-a760-6a7cc8c4b278",
   "metadata": {},
   "outputs": [
    {
     "ename": "AxisError",
     "evalue": "axis 1 is out of bounds for array of dimension 1",
     "output_type": "error",
     "traceback": [
      "\u001b[1;31m---------------------------------------------------------------------------\u001b[0m",
      "\u001b[1;31mAxisError\u001b[0m                                 Traceback (most recent call last)",
      "Input \u001b[1;32mIn [129]\u001b[0m, in \u001b[0;36m<cell line: 3>\u001b[1;34m()\u001b[0m\n\u001b[0;32m      1\u001b[0m A \u001b[38;5;241m=\u001b[39m np\u001b[38;5;241m.\u001b[39marray([\u001b[38;5;241m1\u001b[39m,\u001b[38;5;241m2\u001b[39m,\u001b[38;5;241m3\u001b[39m])\n\u001b[0;32m      2\u001b[0m B \u001b[38;5;241m=\u001b[39m np\u001b[38;5;241m.\u001b[39marray([\u001b[38;5;241m2\u001b[39m,\u001b[38;5;241m3\u001b[39m,\u001b[38;5;241m4\u001b[39m])\n\u001b[1;32m----> 3\u001b[0m \u001b[43mnp\u001b[49m\u001b[38;5;241;43m.\u001b[39;49m\u001b[43mconcatenate\u001b[49m\u001b[43m(\u001b[49m\u001b[43m[\u001b[49m\u001b[43mA\u001b[49m\u001b[43m,\u001b[49m\u001b[43mB\u001b[49m\u001b[43m]\u001b[49m\u001b[43m,\u001b[49m\u001b[43m \u001b[49m\u001b[43maxis\u001b[49m\u001b[43m \u001b[49m\u001b[38;5;241;43m=\u001b[39;49m\u001b[43m \u001b[49m\u001b[38;5;241;43m1\u001b[39;49m\u001b[43m)\u001b[49m\n",
      "File \u001b[1;32m<__array_function__ internals>:180\u001b[0m, in \u001b[0;36mconcatenate\u001b[1;34m(*args, **kwargs)\u001b[0m\n",
      "\u001b[1;31mAxisError\u001b[0m: axis 1 is out of bounds for array of dimension 1"
     ]
    }
   ],
   "source": [
    "A = np.array([1,2,3])\n",
    "B = np.array([2,3,4])\n",
    "np.concatenate([A,B], axis = 1)"
   ]
  },
  {
   "cell_type": "code",
   "execution_count": 133,
   "id": "ae84d42b-08ba-4cf1-93b8-5a75a5c81a09",
   "metadata": {},
   "outputs": [
    {
     "data": {
      "text/plain": [
       "array([[1, 2, 3],\n",
       "       [2, 3, 4]])"
      ]
     },
     "execution_count": 133,
     "metadata": {},
     "output_type": "execute_result"
    }
   ],
   "source": [
    "A = np.array([1,2,3])\n",
    "B = np.array([2,3,4])\n",
    "np.stack([A,B], axis=0)"
   ]
  },
  {
   "cell_type": "code",
   "execution_count": 138,
   "id": "b6fe0b4d-9ec8-459a-a7f7-fbb6d80d22ca",
   "metadata": {},
   "outputs": [
    {
     "data": {
      "text/plain": [
       "array([[1, 2],\n",
       "       [2, 3],\n",
       "       [3, 4]])"
      ]
     },
     "execution_count": 138,
     "metadata": {},
     "output_type": "execute_result"
    }
   ],
   "source": [
    "np.stack([A,B], axis=1)"
   ]
  },
  {
   "cell_type": "code",
   "execution_count": 140,
   "id": "9018b3d7-8ce2-4456-bc8c-a5a3dfc18c7a",
   "metadata": {},
   "outputs": [
    {
     "data": {
      "text/plain": [
       "((3, 4, 5), (3, 4, 5))"
      ]
     },
     "execution_count": 140,
     "metadata": {},
     "output_type": "execute_result"
    }
   ],
   "source": [
    "A = np.arange(3*4*5).reshape(3,4,5) \n",
    "B = - A\n",
    "\n",
    "A.shape, B.shape"
   ]
  },
  {
   "cell_type": "code",
   "execution_count": null,
   "id": "25945b21-c583-4ee7-86a4-a7b5d29e906c",
   "metadata": {},
   "outputs": [],
   "source": [
    "# collapse-output\n",
    "np.stack([A,B], axis = 0)"
   ]
  },
  {
   "cell_type": "code",
   "execution_count": 160,
   "id": "762156b6-ae30-4352-b7f2-c469746ef84d",
   "metadata": {},
   "outputs": [
    {
     "data": {
      "text/plain": [
       "(2, 3, 4, 5)"
      ]
     },
     "execution_count": 160,
     "metadata": {},
     "output_type": "execute_result"
    }
   ],
   "source": [
    "np.stack([A,B], axis = 0).shape # axis = 0 <==> axis = -4"
   ]
  },
  {
   "cell_type": "code",
   "execution_count": 161,
   "id": "1b828cfa-c2f0-4134-b406-6f048ca5493f",
   "metadata": {},
   "outputs": [
    {
     "data": {
      "text/plain": [
       "(3, 2, 4, 5)"
      ]
     },
     "execution_count": 161,
     "metadata": {},
     "output_type": "execute_result"
    }
   ],
   "source": [
    "np.stack([A,B], axis = 1).shape # axis = 1 <==> axis = -3"
   ]
  },
  {
   "cell_type": "code",
   "execution_count": 162,
   "id": "5456e32b-3acd-4cf1-913e-9c628e819e89",
   "metadata": {},
   "outputs": [
    {
     "data": {
      "text/plain": [
       "(3, 4, 2, 5)"
      ]
     },
     "execution_count": 162,
     "metadata": {},
     "output_type": "execute_result"
    }
   ],
   "source": [
    "np.stack([A,B], axis = 2).shape # axis = 2 <==> axis = -2"
   ]
  },
  {
   "cell_type": "code",
   "execution_count": 163,
   "id": "7bd3f68d-2d64-4ef8-9686-3ad988dca51f",
   "metadata": {},
   "outputs": [
    {
     "data": {
      "text/plain": [
       "(3, 4, 5, 2)"
      ]
     },
     "execution_count": 163,
     "metadata": {},
     "output_type": "execute_result"
    }
   ],
   "source": [
    "np.stack([A,B], axis = 3).shape # axis = 3 <==> axis = -1"
   ]
  },
  {
   "cell_type": "markdown",
   "id": "58f5ce40-f87f-4b3c-bd03-e22c8c3659f9",
   "metadata": {},
   "source": [
    "### Difference between np.concatenate and np.stack"
   ]
  },
  {
   "cell_type": "markdown",
   "id": "d8deaa9f-c79e-4844-bee7-3ef6b009987d",
   "metadata": {},
   "source": [
    "`np.concatenate`는 축의 총 개수를 유지하면서 결합한다.\n",
    "\n",
    "`np.stack`은 축의 개수를 하나 증가시키면서 결합한다."
   ]
  },
  {
   "cell_type": "markdown",
   "id": "066fb0ee-3a03-4da3-a01d-8ff47f3712c8",
   "metadata": {},
   "source": [
    "## .sum"
   ]
  },
  {
   "cell_type": "code",
   "execution_count": 167,
   "id": "b0b86003-2626-433b-8a37-65e23ca51787",
   "metadata": {},
   "outputs": [
    {
     "data": {
      "text/plain": [
       "6"
      ]
     },
     "execution_count": 167,
     "metadata": {},
     "output_type": "execute_result"
    }
   ],
   "source": [
    "A = np.array([1,2,3])\n",
    "A.sum()"
   ]
  },
  {
   "cell_type": "markdown",
   "id": "3e705a56-4d9e-4eec-aadc-e05222a78d19",
   "metadata": {},
   "source": [
    "## .mean"
   ]
  },
  {
   "cell_type": "code",
   "execution_count": 168,
   "id": "bfda5a2e-2e04-41d6-9429-b37799d24e09",
   "metadata": {},
   "outputs": [
    {
     "data": {
      "text/plain": [
       "2.0"
      ]
     },
     "execution_count": 168,
     "metadata": {},
     "output_type": "execute_result"
    }
   ],
   "source": [
    "A = np.array([1,2,3])\n",
    "A.mean()"
   ]
  },
  {
   "cell_type": "markdown",
   "id": "efceae6d-ed04-4cad-8e42-b037de5d0ebb",
   "metadata": {},
   "source": [
    "## .min"
   ]
  },
  {
   "cell_type": "code",
   "execution_count": 169,
   "id": "915e800c-1bf0-41ec-80fc-1b42798307d9",
   "metadata": {},
   "outputs": [
    {
     "data": {
      "text/plain": [
       "1"
      ]
     },
     "execution_count": 169,
     "metadata": {},
     "output_type": "execute_result"
    }
   ],
   "source": [
    "A = np.array([1,2,3])\n",
    "A.min()"
   ]
  },
  {
   "cell_type": "markdown",
   "id": "c93150ab-afdd-4599-8f9a-848258ed9f1a",
   "metadata": {},
   "source": [
    "## .max"
   ]
  },
  {
   "cell_type": "code",
   "execution_count": 170,
   "id": "cf479ad7-8ee7-4a14-b70f-639f10ef16d2",
   "metadata": {},
   "outputs": [
    {
     "data": {
      "text/plain": [
       "3"
      ]
     },
     "execution_count": 170,
     "metadata": {},
     "output_type": "execute_result"
    }
   ],
   "source": [
    "A = np.array([1,2,3])\n",
    "A.max()"
   ]
  },
  {
   "cell_type": "markdown",
   "id": "20df109a-a756-4c02-97e5-6da6a83e8d4b",
   "metadata": {},
   "source": [
    "## .prod"
   ]
  },
  {
   "cell_type": "code",
   "execution_count": 171,
   "id": "f1c11e54-91ba-4e05-8dd7-464f43629a45",
   "metadata": {},
   "outputs": [
    {
     "data": {
      "text/plain": [
       "6"
      ]
     },
     "execution_count": 171,
     "metadata": {},
     "output_type": "execute_result"
    }
   ],
   "source": [
    "A = np.array([1,2,3])\n",
    "A.prod()"
   ]
  },
  {
   "cell_type": "markdown",
   "id": "0e49beae-637c-4011-9d1f-11c0a5de8634",
   "metadata": {},
   "source": [
    "## .std"
   ]
  },
  {
   "cell_type": "code",
   "execution_count": 178,
   "id": "84a84c3e-8427-463f-a728-7a74d22a6a3c",
   "metadata": {},
   "outputs": [
    {
     "data": {
      "text/plain": [
       "5.477225575051661"
      ]
     },
     "execution_count": 178,
     "metadata": {},
     "output_type": "execute_result"
    }
   ],
   "source": [
    "A = np.arange(1,20)\n",
    "A.std() # 분포를 n으로 나누는 것이 default이다."
   ]
  },
  {
   "cell_type": "code",
   "execution_count": 179,
   "id": "b7b8a724-2341-4960-85e4-703d6122b9d9",
   "metadata": {},
   "outputs": [
    {
     "data": {
      "text/plain": [
       "1.0"
      ]
     },
     "execution_count": 179,
     "metadata": {},
     "output_type": "execute_result"
    }
   ],
   "source": [
    "A = A = np.array([1,2,3])\n",
    "A.std(ddof=1) # ddof 옵션을 사용하여 분포를 n-1로 나눈다."
   ]
  },
  {
   "cell_type": "code",
   "execution_count": 180,
   "id": "f97c15db-4fdb-4e5c-ab0b-7aeaa2bcca98",
   "metadata": {},
   "outputs": [
    {
     "data": {
      "text/plain": [
       "1.4142135623730951"
      ]
     },
     "execution_count": 180,
     "metadata": {},
     "output_type": "execute_result"
    }
   ],
   "source": [
    "A = A = np.array([1,2,3])\n",
    "A.std(ddof=2) # ddof 옵션을 사용하여 분포를 n-1로 나눈다."
   ]
  },
  {
   "cell_type": "markdown",
   "id": "c584d59d-1310-4af0-b7d6-1b98240fbbd0",
   "metadata": {},
   "source": [
    "## .argmin"
   ]
  },
  {
   "cell_type": "code",
   "execution_count": 186,
   "id": "40bd2935-56ae-4718-b8bb-3c7534b9707a",
   "metadata": {},
   "outputs": [
    {
     "data": {
      "text/plain": [
       "0"
      ]
     },
     "execution_count": 186,
     "metadata": {},
     "output_type": "execute_result"
    }
   ],
   "source": [
    "A = np.array([1,2,3]) # 가장 작은 값의 인덱스를 리턴\n",
    "A.argmin()"
   ]
  },
  {
   "cell_type": "code",
   "execution_count": 189,
   "id": "a545c8a3-7708-48fd-a8d7-5effaa985deb",
   "metadata": {},
   "outputs": [
    {
     "data": {
      "text/plain": [
       "array([[ 0.38342049,  1.0841745 ,  1.14277825,  0.30789368,  0.23778744],\n",
       "       [ 0.35595116, -1.66307542, -1.38277318, -1.92684484, -1.4862163 ],\n",
       "       [ 0.00692519, -0.03488725, -0.34357323,  0.70895648, -1.55100608],\n",
       "       [ 1.34565583, -0.05654272, -0.83017342, -1.46395159, -0.35459593]])"
      ]
     },
     "execution_count": 189,
     "metadata": {},
     "output_type": "execute_result"
    }
   ],
   "source": [
    "np.random.seed(43052)\n",
    "A = np.random.randn(4*5).reshape(4,5)\n",
    "A"
   ]
  },
  {
   "cell_type": "code",
   "execution_count": 191,
   "id": "64977756-2ee1-4c56-8f25-ffacfae831fa",
   "metadata": {},
   "outputs": [
    {
     "data": {
      "text/plain": [
       "array([2, 1, 1, 1, 2], dtype=int64)"
      ]
     },
     "execution_count": 191,
     "metadata": {},
     "output_type": "execute_result"
    }
   ],
   "source": [
    "A.argmin(axis = 0)"
   ]
  },
  {
   "cell_type": "code",
   "execution_count": 197,
   "id": "b98d543c-cd2f-488d-ad25-64ff5c44f26b",
   "metadata": {},
   "outputs": [
    {
     "data": {
      "text/plain": [
       "array([4, 3, 4, 3], dtype=int64)"
      ]
     },
     "execution_count": 197,
     "metadata": {},
     "output_type": "execute_result"
    }
   ],
   "source": [
    "A.argmin(axis = 1)"
   ]
  },
  {
   "cell_type": "markdown",
   "id": "7aabc4f0-bc61-4a1b-a834-82da98adc800",
   "metadata": {},
   "source": [
    "## .argmax"
   ]
  },
  {
   "cell_type": "code",
   "execution_count": 198,
   "id": "858d4152-122e-4908-a7b7-dc03e2ddb669",
   "metadata": {},
   "outputs": [
    {
     "data": {
      "text/plain": [
       "2"
      ]
     },
     "execution_count": 198,
     "metadata": {},
     "output_type": "execute_result"
    }
   ],
   "source": [
    "A = np.array([1,2,3]) # 가장 큰 값의 인덱스를 리턴\n",
    "A.argmax()"
   ]
  },
  {
   "cell_type": "code",
   "execution_count": 199,
   "id": "80c5bf18-b9cd-4e15-b3a4-2f7a38cf3c36",
   "metadata": {},
   "outputs": [
    {
     "data": {
      "text/plain": [
       "array([[ 0.38342049,  1.0841745 ,  1.14277825,  0.30789368,  0.23778744],\n",
       "       [ 0.35595116, -1.66307542, -1.38277318, -1.92684484, -1.4862163 ],\n",
       "       [ 0.00692519, -0.03488725, -0.34357323,  0.70895648, -1.55100608],\n",
       "       [ 1.34565583, -0.05654272, -0.83017342, -1.46395159, -0.35459593]])"
      ]
     },
     "execution_count": 199,
     "metadata": {},
     "output_type": "execute_result"
    }
   ],
   "source": [
    "np.random.seed(43052)\n",
    "A = np.random.randn(4*5).reshape(4,5)\n",
    "A"
   ]
  },
  {
   "cell_type": "code",
   "execution_count": 200,
   "id": "6f1e02cd-9ef1-47c6-ba49-417e5338caf1",
   "metadata": {},
   "outputs": [
    {
     "data": {
      "text/plain": [
       "array([3, 0, 0, 2, 0], dtype=int64)"
      ]
     },
     "execution_count": 200,
     "metadata": {},
     "output_type": "execute_result"
    }
   ],
   "source": [
    "A.argmax(axis = 0)"
   ]
  },
  {
   "cell_type": "code",
   "execution_count": 201,
   "id": "4fe0f954-3d64-4f4b-84e4-85f84020c40c",
   "metadata": {},
   "outputs": [
    {
     "data": {
      "text/plain": [
       "array([2, 0, 3, 0], dtype=int64)"
      ]
     },
     "execution_count": 201,
     "metadata": {},
     "output_type": "execute_result"
    }
   ],
   "source": [
    "A.argmax(axis = 1)"
   ]
  },
  {
   "cell_type": "markdown",
   "id": "5dc15c11-adde-4265-aef1-d66b324dc44a",
   "metadata": {},
   "source": [
    "## .cumsum"
   ]
  },
  {
   "cell_type": "code",
   "execution_count": 207,
   "id": "77b87203-6dbd-48fd-a854-5e76bac54f1a",
   "metadata": {},
   "outputs": [
    {
     "data": {
      "text/plain": [
       "array([ 1,  3,  6, 10])"
      ]
     },
     "execution_count": 207,
     "metadata": {},
     "output_type": "execute_result"
    }
   ],
   "source": [
    "A = np.array([1,2,3,4])\n",
    "A.cumsum() # 누적합"
   ]
  },
  {
   "cell_type": "markdown",
   "id": "f89ff7f1-15c6-4a08-937e-a5cb23596507",
   "metadata": {},
   "source": [
    "## .cumprod"
   ]
  },
  {
   "cell_type": "code",
   "execution_count": 212,
   "id": "579869f0-b98c-408a-ad00-d8c0c061b591",
   "metadata": {},
   "outputs": [
    {
     "data": {
      "text/plain": [
       "array([ 1,  2,  6, 24])"
      ]
     },
     "execution_count": 212,
     "metadata": {},
     "output_type": "execute_result"
    }
   ],
   "source": [
    "A = np.array([1,2,3,4])\n",
    "A.cumprod() # 누적곱"
   ]
  },
  {
   "cell_type": "markdown",
   "id": "6108d4cf-f2d1-46f5-88e6-e99fe4987479",
   "metadata": {},
   "source": [
    "## np.diff"
   ]
  },
  {
   "cell_type": "code",
   "execution_count": 215,
   "id": "c4f8a514-58e0-458f-8c36-66b62649620d",
   "metadata": {},
   "outputs": [
    {
     "data": {
      "text/plain": [
       "array([1, 2, 2, 1])"
      ]
     },
     "execution_count": 215,
     "metadata": {},
     "output_type": "execute_result"
    }
   ],
   "source": [
    "A = np.array([1,2,4,6,7])\n",
    "np.diff(A)"
   ]
  },
  {
   "cell_type": "code",
   "execution_count": 216,
   "id": "71cf3286-37b5-41fb-a308-456244f974ca",
   "metadata": {},
   "outputs": [
    {
     "data": {
      "text/plain": [
       "array([ 1,  0, -1])"
      ]
     },
     "execution_count": 216,
     "metadata": {},
     "output_type": "execute_result"
    }
   ],
   "source": [
    "np.diff(np.diff(A))"
   ]
  },
  {
   "cell_type": "code",
   "execution_count": 224,
   "id": "e71e35f3-8227-497b-ae22-279600d88af9",
   "metadata": {},
   "outputs": [
    {
     "data": {
      "text/plain": [
       "array([-99,   1,   2,   2,   1])"
      ]
     },
     "execution_count": 224,
     "metadata": {},
     "output_type": "execute_result"
    }
   ],
   "source": [
    "np.diff(A, prepend=100) # np.diff(np.array([100] + A.tolist()) ), 즉 맨 앞에 100을 추가하여 차분"
   ]
  },
  {
   "cell_type": "code",
   "execution_count": 223,
   "id": "deec9bf4-b91b-4fcf-bc7d-a452b1c7265f",
   "metadata": {},
   "outputs": [
    {
     "data": {
      "text/plain": [
       "array([ 1,  2,  2,  1, 93])"
      ]
     },
     "execution_count": 223,
     "metadata": {},
     "output_type": "execute_result"
    }
   ],
   "source": [
    "np.diff(A, append=100) # np.diff(np.array(A.tolist() + [100]) ), 즉 맨 뒤에 100을 추가하여 차분"
   ]
  },
  {
   "cell_type": "code",
   "execution_count": 225,
   "id": "21a8ceb4-f7c6-4203-be1e-165eb8f0ed53",
   "metadata": {},
   "outputs": [
    {
     "data": {
      "text/plain": [
       "array([[ 0,  1,  2,  3,  4,  5],\n",
       "       [ 6,  7,  8,  9, 10, 11],\n",
       "       [12, 13, 14, 15, 16, 17],\n",
       "       [18, 19, 20, 21, 22, 23]])"
      ]
     },
     "execution_count": 225,
     "metadata": {},
     "output_type": "execute_result"
    }
   ],
   "source": [
    "A = np.arange(24).reshape(4,6)\n",
    "A"
   ]
  },
  {
   "cell_type": "code",
   "execution_count": 227,
   "id": "2864016a-b1ae-45ea-be2b-53337a2ca587",
   "metadata": {},
   "outputs": [
    {
     "data": {
      "text/plain": [
       "array([[6, 6, 6, 6, 6, 6],\n",
       "       [6, 6, 6, 6, 6, 6],\n",
       "       [6, 6, 6, 6, 6, 6]])"
      ]
     },
     "execution_count": 227,
     "metadata": {},
     "output_type": "execute_result"
    }
   ],
   "source": [
    "np.diff(A, axis = 0)"
   ]
  },
  {
   "cell_type": "code",
   "execution_count": 228,
   "id": "041eacab-5172-4a6b-bd9f-833969a38eda",
   "metadata": {},
   "outputs": [
    {
     "data": {
      "text/plain": [
       "array([[1, 1, 1, 1, 1],\n",
       "       [1, 1, 1, 1, 1],\n",
       "       [1, 1, 1, 1, 1],\n",
       "       [1, 1, 1, 1, 1]])"
      ]
     },
     "execution_count": 228,
     "metadata": {},
     "output_type": "execute_result"
    }
   ],
   "source": [
    "np.diff(A, axis = 1)"
   ]
  },
  {
   "cell_type": "markdown",
   "id": "946617fe-de20-4c89-9f7b-6f0262eeba55",
   "metadata": {},
   "source": [
    "# Applications"
   ]
  },
  {
   "cell_type": "markdown",
   "id": "11f2aae5-d915-41a4-bbc9-de3d247d1acf",
   "metadata": {},
   "source": [
    "## Solving System of Equations"
   ]
  },
  {
   "cell_type": "markdown",
   "id": "5030c239-9d6a-49d3-aab5-ccd29b0c5bc2",
   "metadata": {},
   "source": [
    "$\\begin{cases}\n",
    "y+z+w = 3 \\\\ \n",
    "x+z+w = 3 \\\\ \n",
    "x+y+w = 3 \\\\\n",
    "x+y+z = 3 \n",
    "\\end{cases}$"
   ]
  },
  {
   "cell_type": "markdown",
   "id": "6f625a05-eac1-473c-b74d-6e4f1943f50e",
   "metadata": {},
   "source": [
    "$\\begin{bmatrix} \n",
    "0 & 1 & 1 & 1 \\\\\n",
    "1 & 0 & 1 & 1 \\\\\n",
    "1 & 1 & 0 & 1 \\\\\n",
    "1 & 1 & 1 & 0 \n",
    "\\end{bmatrix}\n",
    "\\begin{bmatrix}\n",
    "x \\\\ \n",
    "y \\\\ \n",
    "z \\\\ \n",
    "w \n",
    "\\end{bmatrix} =\n",
    "\\begin{bmatrix}\n",
    "3 \\\\ \n",
    "3 \\\\ \n",
    "3 \\\\ \n",
    "3 \n",
    "\\end{bmatrix}$"
   ]
  },
  {
   "cell_type": "markdown",
   "id": "094b5ae2-ef1e-43b8-92d0-68d9c1533574",
   "metadata": {},
   "source": [
    "$\n",
    "\\begin{bmatrix} \n",
    "0 & 1 & 1 & 1 \\\\\n",
    "1 & 0 & 1 & 1 \\\\\n",
    "1 & 1 & 0 & 1 \\\\\n",
    "1 & 1 & 1 & 0 \n",
    "\\end{bmatrix}^{\\,-1}\n",
    "\\begin{bmatrix} \n",
    "0 & 1 & 1 & 1 \\\\\n",
    "1 & 0 & 1 & 1 \\\\\n",
    "1 & 1 & 0 & 1 \\\\\n",
    "1 & 1 & 1 & 0 \n",
    "\\end{bmatrix}\n",
    "\\begin{bmatrix}\n",
    "x \\\\ \n",
    "y \\\\ \n",
    "z \\\\ \n",
    "w \n",
    "\\end{bmatrix} =\n",
    "\\begin{bmatrix} \n",
    "0 & 1 & 1 & 1 \\\\\n",
    "1 & 0 & 1 & 1 \\\\\n",
    "1 & 1 & 0 & 1 \\\\\n",
    "1 & 1 & 1 & 0 \n",
    "\\end{bmatrix}^{\\,-1}\n",
    "\\begin{bmatrix}\n",
    "3 \\\\ \n",
    "3 \\\\ \n",
    "3 \\\\ \n",
    "3 \n",
    "\\end{bmatrix}$"
   ]
  },
  {
   "cell_type": "markdown",
   "id": "58bab72c-6eb2-4005-978f-8ac21003b8fb",
   "metadata": {},
   "source": [
    "$\n",
    "\\begin{bmatrix}\n",
    "x \\\\ \n",
    "y \\\\ \n",
    "z \\\\ \n",
    "w \n",
    "\\end{bmatrix} =\n",
    "\\begin{bmatrix} \n",
    "0 & 1 & 1 & 1 \\\\\n",
    "1 & 0 & 1 & 1 \\\\\n",
    "1 & 1 & 0 & 1 \\\\\n",
    "1 & 1 & 1 & 0 \n",
    "\\end{bmatrix}^{\\,-1}\n",
    "\\begin{bmatrix}\n",
    "3 \\\\ \n",
    "3 \\\\ \n",
    "3 \\\\ \n",
    "3 \n",
    "\\end{bmatrix}$"
   ]
  },
  {
   "cell_type": "code",
   "execution_count": 92,
   "id": "db8ecbcc-8f05-487d-9566-5ccd1ccd2549",
   "metadata": {},
   "outputs": [
    {
     "name": "stdout",
     "output_type": "stream",
     "text": [
      "x : 1.0\n",
      "y : 1.0\n",
      "z : 1.0\n"
     ]
    }
   ],
   "source": [
    "v = 'x', 'y', 'z'\n",
    "A = np.linalg.inv(np.array([[0,1,1,1],[1,0,1,1],[1,1,0,1],[1,1,1,0]]))\n",
    "B = np.array([3,3,3,3]).reshape(4,1)\n",
    "\n",
    "answer = A@B.reshape(-1)\n",
    "for v, i in zip(v, answer): print(v, ':', i)"
   ]
  },
  {
   "cell_type": "code",
   "execution_count": null,
   "id": "5232a278-968b-4248-a5f2-1227c1ad8386",
   "metadata": {},
   "outputs": [],
   "source": []
  }
 ],
 "metadata": {
  "kernelspec": {
   "display_name": "Python 3 (ipykernel)",
   "language": "python",
   "name": "python3"
  },
  "language_info": {
   "codemirror_mode": {
    "name": "ipython",
    "version": 3
   },
   "file_extension": ".py",
   "mimetype": "text/x-python",
   "name": "python",
   "nbconvert_exporter": "python",
   "pygments_lexer": "ipython3",
   "version": "3.9.7"
  }
 },
 "nbformat": 4,
 "nbformat_minor": 5
}
