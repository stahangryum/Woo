{
 "cells": [
  {
   "cell_type": "markdown",
   "id": "5ecd66bb-8017-4613-b692-496eb7f2d1dc",
   "metadata": {},
   "source": [
    "# NUMPY HIGHLIGHT - 미완\n",
    "\n",
    "- toc: true\n",
    "- branch: master\n",
    "- badges: true\n",
    "- comments: true\n",
    "- author: Kim Jeewoo\n",
    "- categories: [Python]\n",
    "- image: images/numpy_logo.png"
   ]
  },
  {
   "cell_type": "markdown",
   "id": "e39a258c-a75d-44b4-9973-98786b135847",
   "metadata": {},
   "source": [
    "Numerical Python"
   ]
  },
  {
   "cell_type": "code",
   "execution_count": null,
   "id": "7a0de6b7-d8a2-4c11-b4e3-aa8dcdecec0d",
   "metadata": {},
   "outputs": [],
   "source": []
  }
 ],
 "metadata": {
  "kernelspec": {
   "display_name": "Python 3 (ipykernel)",
   "language": "python",
   "name": "python3"
  },
  "language_info": {
   "codemirror_mode": {
    "name": "ipython",
    "version": 3
   },
   "file_extension": ".py",
   "mimetype": "text/x-python",
   "name": "python",
   "nbconvert_exporter": "python",
   "pygments_lexer": "ipython3",
   "version": "3.9.7"
  }
 },
 "nbformat": 4,
 "nbformat_minor": 5
}
