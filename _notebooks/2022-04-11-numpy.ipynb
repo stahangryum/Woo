{
 "cells": [
  {
   "cell_type": "markdown",
   "id": "5ecd66bb-8017-4613-b692-496eb7f2d1dc",
   "metadata": {},
   "source": [
    "# NUMPY HIGHLIGHT\n",
    "\n",
    "- toc: true\n",
    "- branch: master\n",
    "- badges: true\n",
    "- comments: true\n",
    "- author: Kim Jeewoo\n",
    "- categories: [Python]\n",
    "- image: images/numpy_logo.png"
   ]
  },
  {
   "cell_type": "markdown",
   "id": "82e4575b-3f1d-44fc-a91c-47d27b2a82c2",
   "metadata": {},
   "source": [
    "# Reference"
   ]
  },
  {
   "cell_type": "markdown",
   "id": "7bb43ffa-b9da-4c01-97bd-791f4ba91227",
   "metadata": {},
   "source": [
    "ref. https://numpy.org/doc/stable/user/index.html#"
   ]
  },
  {
   "cell_type": "markdown",
   "id": "8a9f4b45-bbb4-413e-b6aa-1243b709f0d2",
   "metadata": {},
   "source": [
    "# NumPy"
   ]
  },
  {
   "cell_type": "markdown",
   "id": "f6995a3b-ebdd-4ffd-be46-332693138573",
   "metadata": {},
   "source": [
    "- Numerical Python"
   ]
  },
  {
   "cell_type": "markdown",
   "id": "e05a06c1-1b9d-482f-8223-8bc1c833d46d",
   "metadata": {},
   "source": [
    "# import numpy as np"
   ]
  },
  {
   "cell_type": "code",
   "execution_count": 1,
   "id": "80ae412e-bd03-42c6-bbe5-693897f50f2e",
   "metadata": {},
   "outputs": [],
   "source": [
    "import numpy as np"
   ]
  },
  {
   "cell_type": "markdown",
   "id": "14781c0b-4ab1-4fd6-867f-50588e920d9e",
   "metadata": {},
   "source": [
    "# Array Creation(ndarray)"
   ]
  },
  {
   "cell_type": "markdown",
   "id": "40d5f964-931c-48d4-8371-f6d6a706a491",
   "metadata": {},
   "source": [
    "- N Dimensional Array"
   ]
  },
  {
   "cell_type": "code",
   "execution_count": 7,
   "id": "71063581-4ced-4af9-98b3-a7021e5a972e",
   "metadata": {},
   "outputs": [
    {
     "data": {
      "text/plain": [
       "array([1, 2, 3])"
      ]
     },
     "execution_count": 7,
     "metadata": {},
     "output_type": "execute_result"
    }
   ],
   "source": [
    "A = np.array([1,2,3])\n",
    "A"
   ]
  },
  {
   "cell_type": "code",
   "execution_count": 50,
   "id": "68171eee-6726-45b5-a240-7ef67ff43273",
   "metadata": {},
   "outputs": [
    {
     "data": {
      "text/plain": [
       "array([3, 4, 5])"
      ]
     },
     "execution_count": 50,
     "metadata": {},
     "output_type": "execute_result"
    }
   ],
   "source": [
    "mylist = [3, 4, 5]\n",
    "array_from_list = np.array(mylist)\n",
    "array_from_list"
   ]
  },
  {
   "cell_type": "code",
   "execution_count": 51,
   "id": "3b6fae27-70f1-4f02-9d73-c00db98d1b4e",
   "metadata": {},
   "outputs": [
    {
     "data": {
      "text/plain": [
       "array([4, 5, 6])"
      ]
     },
     "execution_count": 51,
     "metadata": {},
     "output_type": "execute_result"
    }
   ],
   "source": [
    "mytuple = (4,5,6)\n",
    "array_from_tuple = np.array(mytuple)\n",
    "array_from_tuple"
   ]
  },
  {
   "cell_type": "code",
   "execution_count": 53,
   "id": "ea478fec-4d45-4fff-bbeb-9d1a23a4a4b1",
   "metadata": {},
   "outputs": [
    {
     "data": {
      "text/plain": [
       "array([0, 1, 2, 3, 4, 5, 6, 7, 8, 9])"
      ]
     },
     "execution_count": 53,
     "metadata": {},
     "output_type": "execute_result"
    }
   ],
   "source": [
    "np.array(range(10))"
   ]
  },
  {
   "cell_type": "code",
   "execution_count": 59,
   "id": "1067b548-5e26-4396-9dc3-b30b3acaeea5",
   "metadata": {},
   "outputs": [
    {
     "data": {
      "text/plain": [
       "array([0.        , 0.09090909, 0.18181818, 0.27272727, 0.36363636,\n",
       "       0.45454545, 0.54545455, 0.63636364, 0.72727273, 0.81818182,\n",
       "       0.90909091, 1.        ])"
      ]
     },
     "execution_count": 59,
     "metadata": {},
     "output_type": "execute_result"
    }
   ],
   "source": [
    "np.linspace(0,1,12) # 0 ~ 1을 12등분하여 만듬 (끝점을 포함)"
   ]
  },
  {
   "cell_type": "code",
   "execution_count": 61,
   "id": "62b426d4-da66-410d-87d8-4b9fc05fefdd",
   "metadata": {},
   "outputs": [
    {
     "data": {
      "text/plain": [
       "12"
      ]
     },
     "execution_count": 61,
     "metadata": {},
     "output_type": "execute_result"
    }
   ],
   "source": [
    "len(np.linspace(0,1,12))"
   ]
  },
  {
   "cell_type": "code",
   "execution_count": 66,
   "id": "c2752ca9-dc83-4e70-88d5-fc18d6a1453d",
   "metadata": {},
   "outputs": [
    {
     "data": {
      "text/plain": [
       "array([0, 1, 2, 3, 4])"
      ]
     },
     "execution_count": 66,
     "metadata": {},
     "output_type": "execute_result"
    }
   ],
   "source": [
    "np.arange(5)"
   ]
  },
  {
   "cell_type": "code",
   "execution_count": 67,
   "id": "ce48f7fe-ad20-4fe8-b953-628c13dca7f9",
   "metadata": {},
   "outputs": [
    {
     "data": {
      "text/plain": [
       "array([1, 2, 3, 4, 5])"
      ]
     },
     "execution_count": 67,
     "metadata": {},
     "output_type": "execute_result"
    }
   ],
   "source": [
    "np.arange(1,6)"
   ]
  },
  {
   "cell_type": "code",
   "execution_count": 56,
   "id": "d60a447a-24a4-4840-bad8-4fe6f7271ae9",
   "metadata": {},
   "outputs": [
    {
     "data": {
      "text/plain": [
       "array([0., 0., 0.])"
      ]
     },
     "execution_count": 56,
     "metadata": {},
     "output_type": "execute_result"
    }
   ],
   "source": [
    "np.zeros(3) # 0을 3개"
   ]
  },
  {
   "cell_type": "code",
   "execution_count": 85,
   "id": "3195fb8f-f393-4435-a3c7-4df5fb17e25f",
   "metadata": {},
   "outputs": [
    {
     "data": {
      "text/plain": [
       "array([[0., 0., 0.],\n",
       "       [0., 0., 0.],\n",
       "       [0., 0., 0.]])"
      ]
     },
     "execution_count": 85,
     "metadata": {},
     "output_type": "execute_result"
    }
   ],
   "source": [
    "np.zeros((3,3))"
   ]
  },
  {
   "cell_type": "code",
   "execution_count": 57,
   "id": "d9fbf8cf-e296-402d-a61d-1c1b0a7f3e74",
   "metadata": {},
   "outputs": [
    {
     "data": {
      "text/plain": [
       "array([1., 1., 1.])"
      ]
     },
     "execution_count": 57,
     "metadata": {},
     "output_type": "execute_result"
    }
   ],
   "source": [
    "np.ones(3) # 1을 3개"
   ]
  },
  {
   "cell_type": "code",
   "execution_count": 86,
   "id": "f78e425e-79a5-4716-b6aa-b4a20608a4cb",
   "metadata": {},
   "outputs": [
    {
     "data": {
      "text/plain": [
       "array([[1., 1., 1.],\n",
       "       [1., 1., 1.],\n",
       "       [1., 1., 1.]])"
      ]
     },
     "execution_count": 86,
     "metadata": {},
     "output_type": "execute_result"
    }
   ],
   "source": [
    "np.ones((3,3))"
   ]
  },
  {
   "cell_type": "code",
   "execution_count": 87,
   "id": "101d44d1-45ef-4464-b176-190a5617d48d",
   "metadata": {},
   "outputs": [
    {
     "data": {
      "text/plain": [
       "array([[1., 0., 0.],\n",
       "       [0., 1., 0.],\n",
       "       [0., 0., 1.]])"
      ]
     },
     "execution_count": 87,
     "metadata": {},
     "output_type": "execute_result"
    }
   ],
   "source": [
    "np.eye(3) # 단위 행렬"
   ]
  },
  {
   "cell_type": "code",
   "execution_count": 88,
   "id": "8d911f4d-d3a6-4435-9fb3-0013ffc1f645",
   "metadata": {},
   "outputs": [
    {
     "data": {
      "text/plain": [
       "array([[1, 0, 0],\n",
       "       [0, 2, 0],\n",
       "       [0, 0, 3]])"
      ]
     },
     "execution_count": 88,
     "metadata": {},
     "output_type": "execute_result"
    }
   ],
   "source": [
    "np.diag([1,2,3]) # 대각선이 1,2,3인 행렬"
   ]
  },
  {
   "cell_type": "markdown",
   "id": "7de4a34d-ec47-4ab8-a6ec-b7d6e2a7992e",
   "metadata": {},
   "source": [
    "# Broadcasting and Operation"
   ]
  },
  {
   "cell_type": "code",
   "execution_count": 13,
   "id": "ddf029d9-91aa-467c-b04f-135f3b63defa",
   "metadata": {},
   "outputs": [
    {
     "data": {
      "text/plain": [
       "array([2, 3, 4])"
      ]
     },
     "execution_count": 13,
     "metadata": {},
     "output_type": "execute_result"
    }
   ],
   "source": [
    "A+1 # 덧셈"
   ]
  },
  {
   "cell_type": "code",
   "execution_count": 14,
   "id": "245b279b-06af-4189-bbd3-405abe87a7b8",
   "metadata": {},
   "outputs": [
    {
     "data": {
      "text/plain": [
       "array([-3, -2, -1])"
      ]
     },
     "execution_count": 14,
     "metadata": {},
     "output_type": "execute_result"
    }
   ],
   "source": [
    "A-4 # 뺄셈"
   ]
  },
  {
   "cell_type": "code",
   "execution_count": 15,
   "id": "8db94348-e631-45b7-80a9-69bc64d7529a",
   "metadata": {},
   "outputs": [
    {
     "data": {
      "text/plain": [
       "array([2, 4, 6])"
      ]
     },
     "execution_count": 15,
     "metadata": {},
     "output_type": "execute_result"
    }
   ],
   "source": [
    "A*2 # 곱셈"
   ]
  },
  {
   "cell_type": "code",
   "execution_count": 16,
   "id": "c5a6db96-11f8-4b0a-a9fb-deca9c169452",
   "metadata": {},
   "outputs": [
    {
     "data": {
      "text/plain": [
       "array([0.5, 1. , 1.5])"
      ]
     },
     "execution_count": 16,
     "metadata": {},
     "output_type": "execute_result"
    }
   ],
   "source": [
    "A/2 # 나눗셈"
   ]
  },
  {
   "cell_type": "code",
   "execution_count": 17,
   "id": "0ad2fce6-b673-40f8-811f-8abec748760e",
   "metadata": {},
   "outputs": [
    {
     "data": {
      "text/plain": [
       "array([1, 4, 9])"
      ]
     },
     "execution_count": 17,
     "metadata": {},
     "output_type": "execute_result"
    }
   ],
   "source": [
    "A**2 # 제곱"
   ]
  },
  {
   "cell_type": "code",
   "execution_count": 18,
   "id": "c4e3de36-aaf7-4cec-b96e-c77bb169995d",
   "metadata": {},
   "outputs": [
    {
     "data": {
      "text/plain": [
       "array([1, 0, 1], dtype=int32)"
      ]
     },
     "execution_count": 18,
     "metadata": {},
     "output_type": "execute_result"
    }
   ],
   "source": [
    "A%2 # 나머지"
   ]
  },
  {
   "cell_type": "code",
   "execution_count": 19,
   "id": "4a1c1515-cbde-4454-bb3c-14c9bc1a211c",
   "metadata": {},
   "outputs": [
    {
     "data": {
      "text/plain": [
       "array([1.        , 1.41421356, 1.73205081])"
      ]
     },
     "execution_count": 19,
     "metadata": {},
     "output_type": "execute_result"
    }
   ],
   "source": [
    "np.sqrt(A)"
   ]
  },
  {
   "cell_type": "code",
   "execution_count": 20,
   "id": "f51aae7c-86cf-4c33-aa6e-f0c1be192b98",
   "metadata": {},
   "outputs": [
    {
     "data": {
      "text/plain": [
       "array([0.        , 0.69314718, 1.09861229])"
      ]
     },
     "execution_count": 20,
     "metadata": {},
     "output_type": "execute_result"
    }
   ],
   "source": [
    "np.log(A)"
   ]
  },
  {
   "cell_type": "code",
   "execution_count": 22,
   "id": "bd06b4d1-7230-4ce6-b62a-6875e54fbaf4",
   "metadata": {},
   "outputs": [
    {
     "data": {
      "text/plain": [
       "array([ 2.71828183,  7.3890561 , 20.08553692])"
      ]
     },
     "execution_count": 22,
     "metadata": {},
     "output_type": "execute_result"
    }
   ],
   "source": [
    "np.exp(A)"
   ]
  },
  {
   "cell_type": "code",
   "execution_count": 23,
   "id": "121d07be-5bf3-4548-9787-6851934d3189",
   "metadata": {},
   "outputs": [
    {
     "data": {
      "text/plain": [
       "array([0.84147098, 0.90929743, 0.14112001])"
      ]
     },
     "execution_count": 23,
     "metadata": {},
     "output_type": "execute_result"
    }
   ],
   "source": [
    "np.sin(A)"
   ]
  },
  {
   "cell_type": "code",
   "execution_count": 24,
   "id": "ce0afb33-aaf0-462d-bc49-6587cec1bf6d",
   "metadata": {},
   "outputs": [],
   "source": [
    "A = np.array([11,22,33,44,55,66])"
   ]
  },
  {
   "cell_type": "markdown",
   "id": "6948a9af-a77a-4cf5-aaf1-ed16f8666e70",
   "metadata": {},
   "source": [
    "# Indexing"
   ]
  },
  {
   "cell_type": "code",
   "execution_count": 27,
   "id": "40db84f3-3641-42da-b477-1341a3cd0dd0",
   "metadata": {},
   "outputs": [
    {
     "data": {
      "text/plain": [
       "33"
      ]
     },
     "execution_count": 27,
     "metadata": {},
     "output_type": "execute_result"
    }
   ],
   "source": [
    "A[2]"
   ]
  },
  {
   "cell_type": "code",
   "execution_count": 28,
   "id": "1b8c97cc-0fee-48e6-83ed-d89b2a1a30bd",
   "metadata": {},
   "outputs": [
    {
     "data": {
      "text/plain": [
       "66"
      ]
     },
     "execution_count": 28,
     "metadata": {},
     "output_type": "execute_result"
    }
   ],
   "source": [
    "A[5]"
   ]
  },
  {
   "cell_type": "code",
   "execution_count": 30,
   "id": "b94f0add-bd45-407b-97fb-388130ab0daa",
   "metadata": {},
   "outputs": [
    {
     "data": {
      "text/plain": [
       "array([22, 33, 44])"
      ]
     },
     "execution_count": 30,
     "metadata": {},
     "output_type": "execute_result"
    }
   ],
   "source": [
    "A[1:4]"
   ]
  },
  {
   "cell_type": "code",
   "execution_count": 31,
   "id": "32612881-1b14-4749-bed6-eb513b2b560b",
   "metadata": {},
   "outputs": [
    {
     "data": {
      "text/plain": [
       "array([11, 33, 55])"
      ]
     },
     "execution_count": 31,
     "metadata": {},
     "output_type": "execute_result"
    }
   ],
   "source": [
    "A[[0,2,4]]"
   ]
  },
  {
   "cell_type": "code",
   "execution_count": 33,
   "id": "758ddd62-738f-4a3f-b4fe-302895b4fe33",
   "metadata": {},
   "outputs": [
    {
     "data": {
      "text/plain": [
       "array([11, 33, 66])"
      ]
     },
     "execution_count": 33,
     "metadata": {},
     "output_type": "execute_result"
    }
   ],
   "source": [
    "A[[True, False, True, False, False, True]]"
   ]
  },
  {
   "cell_type": "code",
   "execution_count": 34,
   "id": "0b880ba7-f1cb-4d00-90b2-320045257223",
   "metadata": {},
   "outputs": [
    {
     "data": {
      "text/plain": [
       "array([ True,  True, False, False, False, False])"
      ]
     },
     "execution_count": 34,
     "metadata": {},
     "output_type": "execute_result"
    }
   ],
   "source": [
    "A < 33"
   ]
  },
  {
   "cell_type": "code",
   "execution_count": 35,
   "id": "ee77b4ab-82fe-4469-a985-03fa5a4a3148",
   "metadata": {},
   "outputs": [
    {
     "data": {
      "text/plain": [
       "array([11, 22])"
      ]
     },
     "execution_count": 35,
     "metadata": {},
     "output_type": "execute_result"
    }
   ],
   "source": [
    "A[A<33]"
   ]
  },
  {
   "cell_type": "markdown",
   "id": "1a8a8719-f34c-4776-9ef8-d8fccc7a3116",
   "metadata": {},
   "source": [
    "## Matrix Indexing"
   ]
  },
  {
   "cell_type": "code",
   "execution_count": 38,
   "id": "9febeaa9-7a62-44af-9cb8-f53cff1cebcc",
   "metadata": {},
   "outputs": [
    {
     "data": {
      "text/plain": [
       "array([[ 1,  2,  3,  4],\n",
       "       [-1, -2, -3, -4],\n",
       "       [ 5,  6,  7,  8],\n",
       "       [-5, -6, -7, -8]])"
      ]
     },
     "execution_count": 38,
     "metadata": {},
     "output_type": "execute_result"
    }
   ],
   "source": [
    "A2 = np.array([[1,2,3,4],[-1,-2,-3,-4],[5,6,7,8],[-5,-6,-7,-8]])\n",
    "A2"
   ]
  },
  {
   "cell_type": "code",
   "execution_count": 42,
   "id": "25123e98-d42d-49c8-84f2-3ca344e9f579",
   "metadata": {},
   "outputs": [
    {
     "data": {
      "text/plain": [
       "-4"
      ]
     },
     "execution_count": 42,
     "metadata": {},
     "output_type": "execute_result"
    }
   ],
   "source": [
    "A2[1][3]"
   ]
  },
  {
   "cell_type": "code",
   "execution_count": 43,
   "id": "5761c48d-c916-4fb0-b29b-33f37c7061e3",
   "metadata": {},
   "outputs": [
    {
     "data": {
      "text/plain": [
       "-4"
      ]
     },
     "execution_count": 43,
     "metadata": {},
     "output_type": "execute_result"
    }
   ],
   "source": [
    "A2[1,3]"
   ]
  },
  {
   "cell_type": "code",
   "execution_count": 44,
   "id": "8e691489-856f-4d00-af32-33b0e9d6817b",
   "metadata": {},
   "outputs": [
    {
     "data": {
      "text/plain": [
       "array([1, 2])"
      ]
     },
     "execution_count": 44,
     "metadata": {},
     "output_type": "execute_result"
    }
   ],
   "source": [
    "A2[0, 0:2]"
   ]
  },
  {
   "cell_type": "code",
   "execution_count": 48,
   "id": "1ab79986-57ea-41e7-9f3e-d91d1782ef80",
   "metadata": {},
   "outputs": [
    {
     "data": {
      "text/plain": [
       "array([1, 2, 3, 4])"
      ]
     },
     "execution_count": 48,
     "metadata": {},
     "output_type": "execute_result"
    }
   ],
   "source": [
    "A2[0]"
   ]
  },
  {
   "cell_type": "code",
   "execution_count": 45,
   "id": "95be8ca0-1d73-4b52-a82c-396673760b94",
   "metadata": {},
   "outputs": [
    {
     "data": {
      "text/plain": [
       "array([3, 4])"
      ]
     },
     "execution_count": 45,
     "metadata": {},
     "output_type": "execute_result"
    }
   ],
   "source": [
    "A2[0, 2:]"
   ]
  },
  {
   "cell_type": "code",
   "execution_count": 46,
   "id": "6a15c4d6-9f17-4eb7-be80-da6a83fdfa69",
   "metadata": {},
   "outputs": [
    {
     "data": {
      "text/plain": [
       "array([[ 1,  2,  3,  4],\n",
       "       [-1, -2, -3, -4],\n",
       "       [ 5,  6,  7,  8],\n",
       "       [-5, -6, -7, -8]])"
      ]
     },
     "execution_count": 46,
     "metadata": {},
     "output_type": "execute_result"
    }
   ],
   "source": [
    "A2[:, :]"
   ]
  },
  {
   "cell_type": "code",
   "execution_count": 47,
   "id": "74bdd0f4-b10c-4edf-9168-6746fd4f29c0",
   "metadata": {},
   "outputs": [
    {
     "data": {
      "text/plain": [
       "array([[1, 2, 3, 4],\n",
       "       [5, 6, 7, 8]])"
      ]
     },
     "execution_count": 47,
     "metadata": {},
     "output_type": "execute_result"
    }
   ],
   "source": [
    "A2[[0,2], :]"
   ]
  },
  {
   "cell_type": "code",
   "execution_count": 49,
   "id": "7ae5062f-136c-42bb-a3ac-93459ae46d6e",
   "metadata": {},
   "outputs": [
    {
     "data": {
      "text/plain": [
       "array([[1, 2, 3, 4],\n",
       "       [5, 6, 7, 8]])"
      ]
     },
     "execution_count": 49,
     "metadata": {},
     "output_type": "execute_result"
    }
   ],
   "source": [
    "A2[[0,2]]"
   ]
  },
  {
   "cell_type": "markdown",
   "id": "e0940984-912b-4a3e-b970-f0b54c6a06e0",
   "metadata": {},
   "source": [
    "# Useful Functions"
   ]
  },
  {
   "cell_type": "markdown",
   "id": "5ba2f47c-71b4-44a8-90ee-0fcbbc813e4d",
   "metadata": {},
   "source": [
    "## reshape"
   ]
  },
  {
   "cell_type": "markdown",
   "id": "a1a8e145-f65e-4aaa-bb80-85536edf62e4",
   "metadata": {},
   "source": [
    "> Tip: R의 `dim`함수와 유사하다."
   ]
  },
  {
   "cell_type": "code",
   "execution_count": 68,
   "id": "eb7b3615-b359-4b51-b93f-f5910ac404e4",
   "metadata": {},
   "outputs": [
    {
     "data": {
      "text/plain": [
       "array([11, 22, 33, 44, 55, 66])"
      ]
     },
     "execution_count": 68,
     "metadata": {},
     "output_type": "execute_result"
    }
   ],
   "source": [
    "A = np.array([11,22,33,44,55,66])\n",
    "A"
   ]
  },
  {
   "cell_type": "code",
   "execution_count": 69,
   "id": "8078e030-47e8-4c29-a2a2-03d2d665cd5e",
   "metadata": {},
   "outputs": [
    {
     "data": {
      "text/plain": [
       "array([[11, 22, 33],\n",
       "       [44, 55, 66]])"
      ]
     },
     "execution_count": 69,
     "metadata": {},
     "output_type": "execute_result"
    }
   ],
   "source": [
    "A.reshape(2,3)"
   ]
  },
  {
   "cell_type": "code",
   "execution_count": 71,
   "id": "3fdf6e8e-efc6-4e91-88df-ac6033395733",
   "metadata": {},
   "outputs": [
    {
     "data": {
      "text/plain": [
       "array([11, 22, 33, 44, 55, 66])"
      ]
     },
     "execution_count": 71,
     "metadata": {},
     "output_type": "execute_result"
    }
   ],
   "source": [
    "A"
   ]
  },
  {
   "cell_type": "code",
   "execution_count": 73,
   "id": "5180d4c7-6be5-4b5b-a7a6-03a2b0817c9f",
   "metadata": {},
   "outputs": [
    {
     "data": {
      "text/plain": [
       "array([[11, 22, 33],\n",
       "       [44, 55, 66]])"
      ]
     },
     "execution_count": 73,
     "metadata": {},
     "output_type": "execute_result"
    }
   ],
   "source": [
    "A = A.reshape(2,3)\n",
    "A"
   ]
  },
  {
   "cell_type": "markdown",
   "id": "1184e311-d6ba-478c-aeaa-60d13d1818ed",
   "metadata": {},
   "source": [
    "> note : reshape with `-1`"
   ]
  },
  {
   "cell_type": "code",
   "execution_count": 74,
   "id": "3a29720e-406d-4ffd-bb23-013290842ae9",
   "metadata": {},
   "outputs": [
    {
     "data": {
      "text/plain": [
       "array([ 0,  1,  2,  3,  4,  5,  6,  7,  8,  9, 10, 11, 12, 13, 14, 15, 16,\n",
       "       17, 18, 19, 20, 21, 22, 23])"
      ]
     },
     "execution_count": 74,
     "metadata": {},
     "output_type": "execute_result"
    }
   ],
   "source": [
    "A = np.arange(24)\n",
    "A"
   ]
  },
  {
   "cell_type": "code",
   "execution_count": 82,
   "id": "46ded639-c755-4a92-94e0-ab18f7b2ff66",
   "metadata": {},
   "outputs": [
    {
     "data": {
      "text/plain": [
       "array([[ 0,  1,  2,  3,  4,  5,  6,  7,  8,  9, 10, 11],\n",
       "       [12, 13, 14, 15, 16, 17, 18, 19, 20, 21, 22, 23]])"
      ]
     },
     "execution_count": 82,
     "metadata": {},
     "output_type": "execute_result"
    }
   ],
   "source": [
    "A.reshape(2,-1) # 행의 수가 2인 행렬, 열은 알아서 맞춰"
   ]
  },
  {
   "cell_type": "code",
   "execution_count": 81,
   "id": "c06c9c2c-cd7d-4baf-b79a-059520cf9a9f",
   "metadata": {},
   "outputs": [
    {
     "data": {
      "text/plain": [
       "array([[ 0,  1,  2,  3,  4,  5],\n",
       "       [ 6,  7,  8,  9, 10, 11],\n",
       "       [12, 13, 14, 15, 16, 17],\n",
       "       [18, 19, 20, 21, 22, 23]])"
      ]
     },
     "execution_count": 81,
     "metadata": {},
     "output_type": "execute_result"
    }
   ],
   "source": [
    "A.reshape(4, -1) # 행의 수가 4인 행렬, 열은 알아서 맞춰"
   ]
  },
  {
   "cell_type": "code",
   "execution_count": 80,
   "id": "66032abe-e602-4e29-a83d-98b8aa42b2af",
   "metadata": {},
   "outputs": [
    {
     "data": {
      "text/plain": [
       "array([[ 0,  1,  2,  3],\n",
       "       [ 4,  5,  6,  7],\n",
       "       [ 8,  9, 10, 11],\n",
       "       [12, 13, 14, 15],\n",
       "       [16, 17, 18, 19],\n",
       "       [20, 21, 22, 23]])"
      ]
     },
     "execution_count": 80,
     "metadata": {},
     "output_type": "execute_result"
    }
   ],
   "source": [
    "A.reshape(-1, 4) # 열의 수가 4인 행렬, 행은 알아서 맞춰"
   ]
  },
  {
   "cell_type": "code",
   "execution_count": 79,
   "id": "210dbcf6-1c9a-40b4-9737-ca1ef7125436",
   "metadata": {},
   "outputs": [
    {
     "data": {
      "text/plain": [
       "array([ 0,  1,  2,  3,  4,  5,  6,  7,  8,  9, 10, 11, 12, 13, 14, 15, 16,\n",
       "       17, 18, 19, 20, 21, 22, 23])"
      ]
     },
     "execution_count": 79,
     "metadata": {},
     "output_type": "execute_result"
    }
   ],
   "source": [
    "A.reshape(-1) # 다시 길이가 24인 벡터로"
   ]
  },
  {
   "cell_type": "markdown",
   "id": "1da6b644-4cac-4508-8063-835e6a1e745f",
   "metadata": {},
   "source": [
    "## np.random"
   ]
  },
  {
   "cell_type": "code",
   "execution_count": null,
   "id": "47a2c03f-ef8d-4043-ac6d-5b8917ec7960",
   "metadata": {},
   "outputs": [],
   "source": []
  }
 ],
 "metadata": {
  "kernelspec": {
   "display_name": "Python 3 (ipykernel)",
   "language": "python",
   "name": "python3"
  },
  "language_info": {
   "codemirror_mode": {
    "name": "ipython",
    "version": 3
   },
   "file_extension": ".py",
   "mimetype": "text/x-python",
   "name": "python",
   "nbconvert_exporter": "python",
   "pygments_lexer": "ipython3",
   "version": "3.9.7"
  }
 },
 "nbformat": 4,
 "nbformat_minor": 5
}
