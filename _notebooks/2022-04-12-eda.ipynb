{
 "cells": [
  {
   "cell_type": "markdown",
   "id": "0cdc0f89-d46a-4824-b0d9-2a8fd9f9d139",
   "metadata": {},
   "source": [
    "# EDA HIGHLIGHT - 미완\n",
    "\n",
    "- toc: true\n",
    "- branch: master\n",
    "- badges: true\n",
    "- comments: true\n",
    "- author: Kim Jeewoo\n",
    "- categories: [EDA, R]\n",
    "- image: images/numpy_logo.png"
   ]
  },
  {
   "cell_type": "markdown",
   "id": "ef19a8b0-326c-413b-82f5-caed9c5720cf",
   "metadata": {},
   "source": [
    "# 5.4 표준화 변환"
   ]
  },
  {
   "cell_type": "markdown",
   "id": "b25fbdad-b3d5-4778-93c4-d1ff919ec64f",
   "metadata": {},
   "source": [
    "- 표준화 변환이란 통상적으로 한 자료묶음의 `평균이 0, 표준편차가 1이 되도록 하는 선형변환`을 말한다."
   ]
  },
  {
   "cell_type": "markdown",
   "id": "96d2da0f-d3e2-40a2-84b6-fbac3843bb22",
   "metadata": {},
   "source": [
    "$x_1, x_2, \\dots, x_n$을 자료 값이라고 할 때 이것의 표준화변환 $z_1, z_2, \\dots, z_n$은 다음과 같이 정한다.\n",
    "\n",
    "$z_i = \\dfrac{x_i - \\bar{x}}{s_x}, \\, i = 1,2, \\dots,n. \\qquad(1)$"
   ]
  },
  {
   "cell_type": "markdown",
   "id": "0493eb93-d571-4fbb-9c56-34d05f922656",
   "metadata": {},
   "source": [
    "그런데 (1)은 로버스트하지 않은 $\\bar{x}$와 $s_x$에 의존하므로 EDA의 관점에서는 믿고 사용하기 어렵다. [^1]\n",
    "\n",
    "- 왜냐하면 표본평균과 표본표준편차는 극단적인 이상점에 의해 크게 변동될 수 있기 때문이다.\n",
    "- 그러나 중앙값 또는 사분위수범위(IQR)은 비교적 로버스트하다. "
   ]
  },
  {
   "cell_type": "markdown",
   "id": "de8bd618-90ec-491e-8ac0-6b74a3cd5b68",
   "metadata": {},
   "source": [
    "즉, 평균 $\\bar{x}$ 대신에 중앙값 $med_x$를, 표준편차 $s_x$ 대신에 사분위수범위 $IQR$을 보정한 $\\tilde{\\sigma_x} = \\dfrac{IQR}{1.35}$을 쓰는 것이 좋을 것이다.\n",
    "\n",
    "따라서 로버스트 표준화 변환은 다음과 같다.\n",
    "\n",
    "$\\bar{z_i} = \\dfrac{x_i - med_x}{\\tilde{\\sigma_x}}\\, i = 1,2, \\dots,n. \\qquad(1)$"
   ]
  },
  {
   "cell_type": "markdown",
   "id": "de80529c-de11-4fcd-8417-c3159d96bf55",
   "metadata": {},
   "source": [
    "표준화 변환을 사용하는 예시 상황은 다음과 같다."
   ]
  },
  {
   "cell_type": "code",
   "execution_count": null,
   "id": "c75baec7-ef75-496e-a90f-acefb6aa5020",
   "metadata": {},
   "outputs": [],
   "source": [
    "#hide_input\n",
    "print('A 그룹 학생 100명의 시험 X 점수는 N(40,10)으로부터 생성되었다.')\n",
    "print('B 그룹 학생 90명의 시험 Y 점수는 N(40,10)으로부터, 나머지 10명의 시험 Y 점수 N(80,5)으로부터 생성되었다.')\n",
    "print('\\n 이를 비교하시오."
   ]
  },
  {
   "cell_type": "code",
   "execution_count": null,
   "id": "45ca0543-9405-4982-b8e9-85bcf13910c3",
   "metadata": {},
   "outputs": [],
   "source": []
  },
  {
   "cell_type": "code",
   "execution_count": null,
   "id": "b0438ea3-fd9d-4d0a-ad99-567dd62fa7d6",
   "metadata": {},
   "outputs": [],
   "source": []
  },
  {
   "cell_type": "code",
   "execution_count": null,
   "id": "69c47e56-7d1c-47c3-a0d7-99249f59c872",
   "metadata": {},
   "outputs": [],
   "source": []
  },
  {
   "cell_type": "code",
   "execution_count": null,
   "id": "46ad17e2-b0e5-495b-8544-15d992a1bb7a",
   "metadata": {},
   "outputs": [],
   "source": []
  },
  {
   "cell_type": "code",
   "execution_count": null,
   "id": "b57ac818-611f-414f-83c3-ea853f13346d",
   "metadata": {},
   "outputs": [],
   "source": []
  },
  {
   "cell_type": "code",
   "execution_count": null,
   "id": "329c087c-0c88-4da9-9156-62f2bc8dca1f",
   "metadata": {},
   "outputs": [],
   "source": []
  },
  {
   "cell_type": "markdown",
   "id": "18154928-99eb-4b2c-a5df-fdcaf1f2a1fd",
   "metadata": {},
   "source": [
    "[^1] 로버스트(robust) 한 통계량은 이상치/에러값으로 부터 영향을 크게 받지 않는 (건장한) 통계량\n",
    "\n"
   ]
  },
  {
   "cell_type": "code",
   "execution_count": null,
   "id": "3f06773c-0363-4d29-b86b-3c98a87f9c67",
   "metadata": {},
   "outputs": [],
   "source": []
  }
 ],
 "metadata": {
  "kernelspec": {
   "display_name": "R",
   "language": "R",
   "name": "ir"
  },
  "language_info": {
   "codemirror_mode": "r",
   "file_extension": ".r",
   "mimetype": "text/x-r-source",
   "name": "R",
   "pygments_lexer": "r",
   "version": "4.1.2"
  }
 },
 "nbformat": 4,
 "nbformat_minor": 5
}
