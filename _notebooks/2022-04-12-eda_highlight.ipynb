{
 "cells": [
  {
   "cell_type": "markdown",
   "id": "0cdc0f89-d46a-4824-b0d9-2a8fd9f9d139",
   "metadata": {},
   "source": [
    "# EDA HIGHLIGHT\n",
    "\n",
    "- toc: true\n",
    "- branch: master\n",
    "- badges: true\n",
    "- comments: true\n",
    "- author: Kim Jeewoo\n",
    "- categories: [EDA, R, Highlight]\n",
    "- image: images/numpy_logo.png"
   ]
  },
  {
   "cell_type": "code",
   "execution_count": 2,
   "id": "177c8a2f-ba0d-4b9f-8bc2-b9e6ccd1c3f2",
   "metadata": {},
   "outputs": [
    {
     "name": "stderr",
     "output_type": "stream",
     "text": [
      "Warning message:\n",
      "\"패키지 'tidyverse'는 R 버전 4.1.3에서 작성되었습니다\"\n",
      "-- \u001b[1mAttaching packages\u001b[22m ------------------------------------------------------------------------------- tidyverse 1.3.1 --\n",
      "\n",
      "\u001b[32mv\u001b[39m \u001b[34mggplot2\u001b[39m 3.3.5     \u001b[32mv\u001b[39m \u001b[34mpurrr  \u001b[39m 0.3.4\n",
      "\u001b[32mv\u001b[39m \u001b[34mtibble \u001b[39m 3.1.6     \u001b[32mv\u001b[39m \u001b[34mdplyr  \u001b[39m 1.0.8\n",
      "\u001b[32mv\u001b[39m \u001b[34mtidyr  \u001b[39m 1.2.0     \u001b[32mv\u001b[39m \u001b[34mstringr\u001b[39m 1.4.0\n",
      "\u001b[32mv\u001b[39m \u001b[34mreadr  \u001b[39m 2.1.2     \u001b[32mv\u001b[39m \u001b[34mforcats\u001b[39m 0.5.1\n",
      "\n",
      "Warning message:\n",
      "\"패키지 'ggplot2'는 R 버전 4.1.3에서 작성되었습니다\"\n",
      "Warning message:\n",
      "\"패키지 'tibble'는 R 버전 4.1.3에서 작성되었습니다\"\n",
      "Warning message:\n",
      "\"패키지 'tidyr'는 R 버전 4.1.3에서 작성되었습니다\"\n",
      "Warning message:\n",
      "\"패키지 'readr'는 R 버전 4.1.3에서 작성되었습니다\"\n",
      "Warning message:\n",
      "\"패키지 'purrr'는 R 버전 4.1.3에서 작성되었습니다\"\n",
      "Warning message:\n",
      "\"패키지 'dplyr'는 R 버전 4.1.3에서 작성되었습니다\"\n",
      "Warning message:\n",
      "\"패키지 'stringr'는 R 버전 4.1.3에서 작성되었습니다\"\n",
      "Warning message:\n",
      "\"패키지 'forcats'는 R 버전 4.1.3에서 작성되었습니다\"\n",
      "-- \u001b[1mConflicts\u001b[22m ---------------------------------------------------------------------------------- tidyverse_conflicts() --\n",
      "\u001b[31mx\u001b[39m \u001b[34mdplyr\u001b[39m::\u001b[32mfilter()\u001b[39m masks \u001b[34mstats\u001b[39m::filter()\n",
      "\u001b[31mx\u001b[39m \u001b[34mdplyr\u001b[39m::\u001b[32mlag()\u001b[39m    masks \u001b[34mstats\u001b[39m::lag()\n",
      "\n"
     ]
    }
   ],
   "source": [
    "library(tidyverse)"
   ]
  },
  {
   "cell_type": "code",
   "execution_count": 3,
   "id": "0b149a59-5cb4-4e84-9dc5-2cf4f3626a5c",
   "metadata": {},
   "outputs": [],
   "source": [
    "options(repr.plot.width=16, repr.plot.height=8)"
   ]
  },
  {
   "cell_type": "markdown",
   "id": "b747ecba-a2b2-49ec-960d-88c3dbe429b8",
   "metadata": {},
   "source": [
    "# Ch.1 R Language"
   ]
  },
  {
   "cell_type": "markdown",
   "id": "3ed57684-79f5-460b-9d81-b08b0375312d",
   "metadata": {},
   "source": [
    "- 생략"
   ]
  },
  {
   "cell_type": "markdown",
   "id": "5b3a28e8-480c-4c95-b4f4-97757e93d225",
   "metadata": {},
   "source": [
    "# Ch.2 Introduction to EDA"
   ]
  },
  {
   "cell_type": "markdown",
   "id": "eefe12bb-845d-4d70-bba3-da724f4bfb3d",
   "metadata": {},
   "source": [
    "자료분석은 대체로 두 가지 단계로 나뉜다.\n",
    "\n",
    "- 탐색적 자료분석(데이터의 구조와 특징 파악)\n",
    "\n",
    "- 확증적 자료분석(모형, 재현성 평가)"
   ]
  },
  {
   "cell_type": "markdown",
   "id": "27c0f468-ae05-48da-899f-017b7c0364b1",
   "metadata": {},
   "source": [
    "## EDA(Exploratory Data Analysis)"
   ]
  },
  {
   "cell_type": "markdown",
   "id": "2334cd0d-33ef-4a6c-9076-ce713ca131e8",
   "metadata": {},
   "source": [
    "- EDA는 데이터 특징과 내재하는 구조적 관계를 알아내기 위한 기법들을 통칭한다.\n",
    "\n",
    "- 데이터를 특정한 모형에 적합시키기 보다는 데이터를 있는 그대로 보려는 데에 중점을 둔다."
   ]
  },
  {
   "cell_type": "markdown",
   "id": "d59b635b-0b13-49c9-9be3-d30cdd2537f0",
   "metadata": {},
   "source": [
    "## 4 Themes"
   ]
  },
  {
   "cell_type": "markdown",
   "id": "c81462df-e59e-4235-911e-6dc5ee6e8b29",
   "metadata": {},
   "source": [
    "EDA에서는 네 가지 주제가 때로는 홀로, 때로는 얽혀서 나타난다.\n",
    "\n",
    "- 저항성(resistance)의 강조(예를 들어 평균보다는 일부자료의 파손에 저항적인 중위수가 바람직한 대표값 측도로서 선호된다.)\n",
    "\n",
    "- 잔차(residual) 계산\n",
    "\n",
    "- 자료변수의 재표현(re-expression)을 통한 다각적 시도\n",
    "\n",
    "- 그래프를 통한 현시성(revelation)"
   ]
  },
  {
   "cell_type": "markdown",
   "id": "6820facf-71a7-4f64-9581-1c28bda58351",
   "metadata": {},
   "source": [
    "## Summary (2)"
   ]
  },
  {
   "cell_type": "markdown",
   "id": "3c775f80-1ee1-4f85-8bd5-988d75ee9f22",
   "metadata": {},
   "source": [
    "- 자료분석은 탐색적 자료분석과 확증적 자료분석의 두 단계로 나눌 수 있다.\n",
    "\n",
    "- EDA는 자료의 구조 및 특징의 파악을 목적으로 한다. 이를 위하여 효과적이고 신뢰성 있는 데이터의 요약과 그래프적 기법이 사용된다.\n",
    "\n",
    "- EDA의 네 개 주제는 저항성, 잔차, 재표현, 현시성이다.\n",
    "\n",
    "- 통계적 모형은 '진실'로서가 아니라 '주요 사례'로서 의미가 있다. 또한 모형과 데이터는 일방통행이 아닌 쌍방통행으로 이해되어야 한다. 데이터와 분석도 사이클을 이룬다."
   ]
  },
  {
   "cell_type": "markdown",
   "id": "953f09d9-3ad7-459b-b30e-4e5563198d86",
   "metadata": {},
   "source": [
    "# Ch.3 Stem and Leaf"
   ]
  },
  {
   "cell_type": "markdown",
   "id": "bfb2cf48-16a7-4cc8-8881-898c15a20603",
   "metadata": {},
   "source": [
    "## Stem and Leaf"
   ]
  },
  {
   "cell_type": "markdown",
   "id": "d135aa89-e3a1-4150-97ea-908aa7995e59",
   "metadata": {},
   "source": [
    "데이터의 값을 십 단위인 줄기(stem)와 일 단위인 잎(leaf)으로 분리한다."
   ]
  },
  {
   "cell_type": "markdown",
   "id": "d888772f-aa09-4e46-81c8-4e5bbab1469a",
   "metadata": {},
   "source": [
    "`-` 장점\n",
    "\n",
    "- 사분위수나 중앙값을 찾기 쉽다.\n",
    "\n",
    "- 분포의 전체적인 모양(봉우리 개수, 대칭분포, 치우친 방향)을 쉽게 알 수 있다.\n",
    "\n",
    "- 이상값 유무를 파악할 수 있다.\n",
    "\n",
    "`-` 단점\n",
    "\n",
    "- 자료가 많은 경우에는 부적합하고 자료의 수가 50개 이하일 때 적합하다."
   ]
  },
  {
   "cell_type": "code",
   "execution_count": 35,
   "id": "bde12b7b-0ee0-4e81-bfe5-661242504a40",
   "metadata": {},
   "outputs": [
    {
     "data": {
      "text/html": [
       "<table class=\"dataframe\">\n",
       "<caption>A data.frame: 6 × 2</caption>\n",
       "<thead>\n",
       "\t<tr><th></th><th scope=col>hw</th><th scope=col>score</th></tr>\n",
       "\t<tr><th></th><th scope=col>&lt;int&gt;</th><th scope=col>&lt;int&gt;</th></tr>\n",
       "</thead>\n",
       "<tbody>\n",
       "\t<tr><th scope=row>1</th><td>0</td><td>54</td></tr>\n",
       "\t<tr><th scope=row>2</th><td>0</td><td>51</td></tr>\n",
       "\t<tr><th scope=row>3</th><td>1</td><td>52</td></tr>\n",
       "\t<tr><th scope=row>4</th><td>0</td><td>82</td></tr>\n",
       "\t<tr><th scope=row>5</th><td>1</td><td>37</td></tr>\n",
       "\t<tr><th scope=row>6</th><td>1</td><td>41</td></tr>\n",
       "</tbody>\n",
       "</table>\n"
      ],
      "text/latex": [
       "A data.frame: 6 × 2\n",
       "\\begin{tabular}{r|ll}\n",
       "  & hw & score\\\\\n",
       "  & <int> & <int>\\\\\n",
       "\\hline\n",
       "\t1 & 0 & 54\\\\\n",
       "\t2 & 0 & 51\\\\\n",
       "\t3 & 1 & 52\\\\\n",
       "\t4 & 0 & 82\\\\\n",
       "\t5 & 1 & 37\\\\\n",
       "\t6 & 1 & 41\\\\\n",
       "\\end{tabular}\n"
      ],
      "text/markdown": [
       "\n",
       "A data.frame: 6 × 2\n",
       "\n",
       "| <!--/--> | hw &lt;int&gt; | score &lt;int&gt; |\n",
       "|---|---|---|\n",
       "| 1 | 0 | 54 |\n",
       "| 2 | 0 | 51 |\n",
       "| 3 | 1 | 52 |\n",
       "| 4 | 0 | 82 |\n",
       "| 5 | 1 | 37 |\n",
       "| 6 | 1 | 41 |\n",
       "\n"
      ],
      "text/plain": [
       "  hw score\n",
       "1 0  54   \n",
       "2 0  51   \n",
       "3 1  52   \n",
       "4 0  82   \n",
       "5 1  37   \n",
       "6 1  41   "
      ]
     },
     "metadata": {},
     "output_type": "display_data"
    }
   ],
   "source": [
    "exam1 = read.table('dataset/EDA/exam1.txt', header = TRUE)\n",
    "head(exam1)"
   ]
  },
  {
   "cell_type": "code",
   "execution_count": 13,
   "id": "7fdd9ef2-3285-4c04-ba30-9b4588033b63",
   "metadata": {},
   "outputs": [
    {
     "name": "stdout",
     "output_type": "stream",
     "text": [
      "\n",
      "  The decimal point is 1 digit(s) to the right of the |\n",
      "\n",
      "  0 | 00\n",
      "  1 | 058\n",
      "  2 | 1333458889\n",
      "  3 | 0355789\n",
      "  4 | 11133456678\n",
      "  5 | 11122233344456688\n",
      "  6 | 147779\n",
      "  7 | 33478\n",
      "  8 | 29\n",
      "  9 | 09\n",
      "\n"
     ]
    }
   ],
   "source": [
    "stem(exam1$score)"
   ]
  },
  {
   "cell_type": "markdown",
   "id": "08f25cb6-0cd8-4b6d-ad57-7efcec31d9c4",
   "metadata": {},
   "source": [
    "- 이 줄기그림의 주요 특징은 이봉분포의 모습을 보인다는 점이다. 이것은 자료가 2개의 군집으로 되어 있음을 말한다."
   ]
  },
  {
   "cell_type": "code",
   "execution_count": 22,
   "id": "7f252d21-4ad8-4d15-925a-697b8024de58",
   "metadata": {},
   "outputs": [
    {
     "name": "stdout",
     "output_type": "stream",
     "text": [
      "\n",
      "  The decimal point is 1 digit(s) to the right of the |\n",
      "\n",
      "  0 | 00\n",
      "  1 | 05\n",
      "  2 | 13334589\n",
      "  3 | 0355\n",
      "  4 | 13378\n",
      "  5 | 122333446\n",
      "  6 | 4\n",
      "  7 | 3\n",
      "  8 | 29\n",
      "\n",
      "\n",
      "  The decimal point is 1 digit(s) to the right of the |\n",
      "\n",
      "  1 | 8\n",
      "  2 | 88\n",
      "  3 | 789\n",
      "  4 | 114566\n",
      "  5 | 11245688\n",
      "  6 | 17779\n",
      "  7 | 3478\n",
      "  8 | \n",
      "  9 | 09\n",
      "\n"
     ]
    }
   ],
   "source": [
    "# 과제 제출 여부에 따른 시험 점수\n",
    "\n",
    "exam1[exam1$hw == 0, ]$score %>% stem # 과제 미제출자\n",
    "exam1[exam1$hw == 1, ]$score %>% stem # 과제 제출자"
   ]
  },
  {
   "cell_type": "markdown",
   "id": "84a12475-74dc-42aa-8792-83095a0e5b4c",
   "metadata": {},
   "source": [
    "과제 제출 여부에 따라서 줄기-잎 그림을 두 개 그려본 결과 흥미로운 점을 확인했다.\n",
    "\n",
    "과제 미제출자에 경우 여전히 이봉분포를 띄고 있으나 과제 제출자의 경우 단봉분포를 띄고 있다.\n",
    "\n",
    "이것은 과제물 미제출 그룹이 서로 이질적인 어떤 두 집단(50점대를 중심으로 하는 집단과 20점대를 중심으로 하는 집단)의 혼합임을 말하여 준다.\n",
    "\n",
    "아마 전자는 학업습관이 불성실하나 학업능력은 우수한 집단이고 후자는 학업습관과 학업능력 모두 좋지 않은 학생들의 집단이 아닐까 생각해본다."
   ]
  },
  {
   "cell_type": "markdown",
   "id": "fd728172-567e-4266-9265-2b13b9511fa9",
   "metadata": {},
   "source": [
    "> Tip : R에서 줄기 수를 줄이거나 늘이려면 stem() 함수 내 scale 파라미터를 조정하면 된다."
   ]
  },
  {
   "cell_type": "code",
   "execution_count": 25,
   "id": "227dae9b-0dab-4208-a7af-cf98ac77fb46",
   "metadata": {},
   "outputs": [
    {
     "name": "stdout",
     "output_type": "stream",
     "text": [
      "\n",
      "  The decimal point is 1 digit(s) to the right of the |\n",
      "\n",
      "  0 | 00058\n",
      "  2 | 13334588890355789\n",
      "  4 | 1113345667811122233344456688\n",
      "  6 | 14777933478\n",
      "  8 | 2909\n",
      "\n"
     ]
    }
   ],
   "source": [
    "stem(exam1$score, scale = 0.5) # 줄기 수를 절반으로 줄인다."
   ]
  },
  {
   "cell_type": "markdown",
   "id": "e53c38a5-d0d9-4d50-b36a-f166292953b0",
   "metadata": {},
   "source": [
    "이 줄기 그림은 단봉분포의 형태를 취한다. 이것은 너무 단순하여 이 자료의 주요 특성을 잃은 것으로 볼 수 있다. \n",
    "\n",
    "즉 2개의 봉우리를 구분하지 못하고 1개만 본 것이다."
   ]
  },
  {
   "cell_type": "code",
   "execution_count": 26,
   "id": "7b352c4d-1c0c-46d3-a504-484cb6cc1774",
   "metadata": {},
   "outputs": [
    {
     "name": "stdout",
     "output_type": "stream",
     "text": [
      "\n",
      "  The decimal point is 1 digit(s) to the right of the |\n",
      "\n",
      "  0 | 00\n",
      "  0 | \n",
      "  1 | 0\n",
      "  1 | 58\n",
      "  2 | 13334\n",
      "  2 | 58889\n",
      "  3 | 03\n",
      "  3 | 55789\n",
      "  4 | 111334\n",
      "  4 | 56678\n",
      "  5 | 111222333444\n",
      "  5 | 56688\n",
      "  6 | 14\n",
      "  6 | 7779\n",
      "  7 | 334\n",
      "  7 | 78\n",
      "  8 | 2\n",
      "  8 | 9\n",
      "  9 | 0\n",
      "  9 | 9\n",
      "\n"
     ]
    }
   ],
   "source": [
    "stem(exam1$score, scale = 2) # 줄기 수를 두 배로 늘인다."
   ]
  },
  {
   "cell_type": "markdown",
   "id": "07ff5989-f6e4-419d-86dc-878aeabb538c",
   "metadata": {},
   "source": [
    "줄기 수를 늘였더니 더 많은 봉우리를 볼 수 있다.\n",
    "\n",
    "일반적으로 줄기 수를 늘이면 늘일수록 많은 수의 봉우리를 보게 되고 그 반대로 줄기 수를 줄이면 줄일수록 적은 수의 봉우리를 보게 된다."
   ]
  },
  {
   "cell_type": "markdown",
   "id": "ab0272e1-d8a5-40b0-9827-5353f3212d07",
   "metadata": {},
   "source": [
    "## Compared with Histogram"
   ]
  },
  {
   "cell_type": "code",
   "execution_count": 29,
   "id": "15c048b8-1241-432f-a9bb-cc80f53963df",
   "metadata": {},
   "outputs": [
    {
     "data": {
      "image/png": "[encoded data removed]",
      "text/plain": [
       "Plot with title \"Histogram of exam1$score\""
      ]
     },
     "metadata": {
      "image/png": {
       "height": 420,
       "width": 420
      }
     },
     "output_type": "display_data"
    }
   ],
   "source": [
    "hist(exam1$score)"
   ]
  },
  {
   "cell_type": "markdown",
   "id": "f6e0c768-9a35-4981-8440-5189b75f36d7",
   "metadata": {},
   "source": [
    "|        |줄기 - 잎|히스토그램|\n",
    "|--------|--------|----------|\n",
    "|정보 손실|손실되지 않음|손실됨|\n",
    "|줄기 수 변환|쉬움|어려움|\n",
    "|구간의 폭|조정 불가능|조정 가능|"
   ]
  },
  {
   "cell_type": "markdown",
   "id": "a130eca1-83c7-4ee0-9124-c5022716acae",
   "metadata": {},
   "source": [
    "## Summary (3)"
   ]
  },
  {
   "cell_type": "markdown",
   "id": "27f91a75-32c1-4d4f-a967-26ea6a11224e",
   "metadata": {},
   "source": [
    "- 줄기 그림은 히스토그램과 마찬가지로 자료 분포의 특성을 그래프화한 것이다. 줄기 그림은 히스토그램에 비하여 정보의 보전 면에서 우수하며 쉽게 구간(줄기) 수를 늘이거나 줄일 수 있다. 그러나 구간(줄기)의 선정시 제약이 따른다.\n",
    "\n",
    "- 적절한 줄기 그림을 그리기 위하여 여러 개의 그림을 그려보고 비교해 보아야 한다. 계획된 시행착오가 필요하다.\n",
    "\n",
    "- 줄기 그림에서는 다음과 같은 자료의 특성을 관찰할 수 있다.\n",
    "\n",
    "  - 군집의 수\n",
    "  - 집중도가 높은 구간\n",
    "  - 대칭성 여부\n",
    "  - 자료의 범위 및 산포\n",
    "  - 특이점의 존재여부"
   ]
  },
  {
   "cell_type": "markdown",
   "id": "9958f8d9-8298-41a9-92bb-0b9c646d7747",
   "metadata": {},
   "source": [
    "# Ch.4 Numerical Summary and Box Plot"
   ]
  },
  {
   "cell_type": "markdown",
   "id": "ab2e30f1-6b8f-4f12-a413-c8eac369147a",
   "metadata": {
    "tags": []
   },
   "source": [
    "## Mean and Median"
   ]
  },
  {
   "cell_type": "markdown",
   "id": "5166241e-aa6e-4430-a804-47df487c948d",
   "metadata": {},
   "source": [
    "![](https://miro.medium.com/max/754/0*wHMvuwRa_YF9SFwY.png)"
   ]
  },
  {
   "cell_type": "markdown",
   "id": "783c46e4-1257-46e0-a117-88a93a360e34",
   "metadata": {},
   "source": [
    "- 한 쪽 꼬리가 긴 분포에서 평균값은 쉽게 휘둘리지만 중앙값은 쉽게 휘둘리지 않다. 따라서 중앙값이 대표값으로서 적합하다."
   ]
  },
  {
   "cell_type": "markdown",
   "id": "71b13e00-1553-4c48-8bdf-fde85697d2be",
   "metadata": {},
   "source": [
    "$\\begin{cases}\n",
    "X_{\\frac{N+1}{2}} \\qquad if N = odd\\\\ \\\\\n",
    "\\dfrac{X_{\\frac{N}{2}} + X_{\\frac{N}{2} + 1}}{2} \\qquad if N = even\n",
    "\\end{cases}$\n",
    "\n",
    "중간값의 깊이 $d(M)$은\n",
    "\n",
    "$d(M) = \\dfrac{(N+1)}{2}$"
   ]
  },
  {
   "cell_type": "markdown",
   "id": "9be6ed6f-71a3-4b6c-a7f7-9e2e1ddad4fb",
   "metadata": {},
   "source": [
    "## Five Number Summary"
   ]
  },
  {
   "cell_type": "markdown",
   "id": "7b0d2c4e-3f48-47ae-96f0-c011a037db4d",
   "metadata": {},
   "source": [
    "아래 4분위수 : $H_L$\n",
    "중간값 : $M$\n",
    "위 4분위수 : $H_U$"
   ]
  },
  {
   "cell_type": "markdown",
   "id": "b3383f12-2b76-438e-8c22-8dd4227cbf85",
   "metadata": {},
   "source": [
    "**다섯 숫자 요약 = (min, $H_L, M, H_U$, max) = (최솟값, 제 1사분위수, 중앙값, 제 3사분위수, 최댓값)**"
   ]
  },
  {
   "cell_type": "code",
   "execution_count": 41,
   "id": "4fc589bb-eb68-4563-87ea-01b8cddfe5d5",
   "metadata": {},
   "outputs": [
    {
     "data": {
      "text/plain": [
       "   Min. 1st Qu.  Median    Mean 3rd Qu.    Max. \n",
       "   0.00   33.00   48.00   47.23   58.00   99.00 "
      ]
     },
     "metadata": {},
     "output_type": "display_data"
    }
   ],
   "source": [
    "summary(exam1$score)"
   ]
  },
  {
   "cell_type": "markdown",
   "id": "92fceb91-4525-40b7-8cd5-7aa0dec05c02",
   "metadata": {},
   "source": [
    "## Skewness"
   ]
  },
  {
   "cell_type": "markdown",
   "id": "8acb9359-5504-485b-bd78-eac08737f541",
   "metadata": {},
   "source": [
    "**왜도** **=** $SKEW = \\dfrac{(H_U - M) - (M - H_L)}{(H_U - M) + (M - H_L)}$"
   ]
  },
  {
   "cell_type": "markdown",
   "id": "0b2a3f9f-afb6-4f41-ad18-520f0eed36c5",
   "metadata": {},
   "source": [
    "**왜도** < 0 이면 왼쪽으로 기울어진 분포\n",
    "\n",
    "**왜도** > 0 이면 오른쪽으로 기울어진 분포"
   ]
  },
  {
   "cell_type": "markdown",
   "id": "5de326ae-c24f-4970-bcf2-c36b149254ee",
   "metadata": {},
   "source": [
    "## Quantiles"
   ]
  },
  {
   "cell_type": "code",
   "execution_count": 97,
   "id": "67f4f6e0-bb43-4f1f-936a-afbd6f645d5d",
   "metadata": {},
   "outputs": [
    {
     "data": {
      "text/html": [
       "<table class=\"dataframe\">\n",
       "<caption>A matrix: 4 × 4 of type dbl</caption>\n",
       "<thead>\n",
       "\t<tr><th></th><th scope=col>low</th><th scope=col>high</th><th scope=col>mid</th><th scope=col>spr</th></tr>\n",
       "</thead>\n",
       "<tbody>\n",
       "\t<tr><th scope=row>M</th><td>48.00</td><td>48.00</td><td>48.00</td><td> 0.00</td></tr>\n",
       "\t<tr><th scope=row>H</th><td>32.00</td><td>58.00</td><td>45.00</td><td>26.00</td></tr>\n",
       "\t<tr><th scope=row>E</th><td>23.00</td><td>73.00</td><td>48.00</td><td>50.00</td></tr>\n",
       "\t<tr><th scope=row>D</th><td>16.25</td><td>80.33</td><td>48.29</td><td>64.08</td></tr>\n",
       "</tbody>\n",
       "</table>\n"
      ],
      "text/latex": [
       "A matrix: 4 × 4 of type dbl\n",
       "\\begin{tabular}{r|llll}\n",
       "  & low & high & mid & spr\\\\\n",
       "\\hline\n",
       "\tM & 48.00 & 48.00 & 48.00 &  0.00\\\\\n",
       "\tH & 32.00 & 58.00 & 45.00 & 26.00\\\\\n",
       "\tE & 23.00 & 73.00 & 48.00 & 50.00\\\\\n",
       "\tD & 16.25 & 80.33 & 48.29 & 64.08\\\\\n",
       "\\end{tabular}\n"
      ],
      "text/markdown": [
       "\n",
       "A matrix: 4 × 4 of type dbl\n",
       "\n",
       "| <!--/--> | low | high | mid | spr |\n",
       "|---|---|---|---|---|\n",
       "| M | 48.00 | 48.00 | 48.00 |  0.00 |\n",
       "| H | 32.00 | 58.00 | 45.00 | 26.00 |\n",
       "| E | 23.00 | 73.00 | 48.00 | 50.00 |\n",
       "| D | 16.25 | 80.33 | 48.29 | 64.08 |\n",
       "\n"
      ],
      "text/plain": [
       "  low   high  mid   spr  \n",
       "M 48.00 48.00 48.00  0.00\n",
       "H 32.00 58.00 45.00 26.00\n",
       "E 23.00 73.00 48.00 50.00\n",
       "D 16.25 80.33 48.29 64.08"
      ]
     },
     "metadata": {},
     "output_type": "display_data"
    }
   ],
   "source": [
    "low = quantile(exam1$score, c(1/2, 1/4, 1/8, 1/16), type = 8) %>% as.numeric %>% round(2)# 중간값, 아래 4분위수, 아래 8분위수, 아래 16분위수\n",
    "high = quantile(exam1$score, c(1/2, 3/4, 7/8, 15/16), type = 8) %>% as.numeric %>% round(2) # 중간값, 위 4분위수, 위 8분위수, 위 16분위수\n",
    "\n",
    "values = cbind(low, high, (low+high)/2, high-low)\n",
    "colnames(values) = c('low', 'high', 'mid', 'spr')\n",
    "rownames(values) = c('M', 'H', 'E', 'D')\n",
    "\n",
    "values"
   ]
  },
  {
   "cell_type": "markdown",
   "id": "23c196a8-3d19-4a77-ad86-07e02f4de154",
   "metadata": {},
   "source": [
    "## KURTO"
   ]
  },
  {
   "cell_type": "code",
   "execution_count": null,
   "id": "044b0cc0-6276-4b05-a283-b999dfba0d8b",
   "metadata": {},
   "outputs": [],
   "source": []
  },
  {
   "cell_type": "code",
   "execution_count": null,
   "id": "fc7c9156-97ac-4b04-9601-f7f2625d3aed",
   "metadata": {},
   "outputs": [],
   "source": []
  },
  {
   "cell_type": "code",
   "execution_count": null,
   "id": "dc9e82e3-92d7-417a-a171-44797f4b6d8a",
   "metadata": {},
   "outputs": [],
   "source": []
  },
  {
   "cell_type": "markdown",
   "id": "c404e389-87aa-4f71-aaac-5be22fd6e58c",
   "metadata": {},
   "source": [
    "# Ch.5 Data Re-Expression"
   ]
  },
  {
   "cell_type": "markdown",
   "id": "b82f0d4d-4ac1-4f95-bac0-a7db8a17e159",
   "metadata": {},
   "source": [
    "## 멱승, 로그, 지수 변환에 의한 재표현"
   ]
  },
  {
   "cell_type": "markdown",
   "id": "ef19a8b0-326c-413b-82f5-caed9c5720cf",
   "metadata": {},
   "source": [
    "## Standardization"
   ]
  },
  {
   "cell_type": "markdown",
   "id": "b25fbdad-b3d5-4778-93c4-d1ff919ec64f",
   "metadata": {},
   "source": [
    "- 표준화 변환이란 통상적으로 한 자료묶음의 `평균이 0, 표준편차가 1이 되도록 하는 선형변환`을 말한다."
   ]
  },
  {
   "cell_type": "markdown",
   "id": "96d2da0f-d3e2-40a2-84b6-fbac3843bb22",
   "metadata": {},
   "source": [
    "$x_1, x_2, \\dots, x_n$을 자료 값이라고 할 때 이것의 표준화변환 $z_1, z_2, \\dots, z_n$은 다음과 같이 정한다.\n",
    "\n",
    "$z_i = \\dfrac{x_i - \\bar{x}}{s_x}, \\, i = 1,2, \\dots,n. \\qquad(1)$"
   ]
  },
  {
   "cell_type": "markdown",
   "id": "0493eb93-d571-4fbb-9c56-34d05f922656",
   "metadata": {},
   "source": [
    "그런데 (1)은 로버스트하지 않은 $\\bar{x}$와 $s_x$에 의존하므로 EDA의 관점에서는 믿고 사용하기 어렵다. [^1]\n",
    "\n",
    "- 왜냐하면 표본평균과 표본표준편차는 극단적인 이상점에 의해 크게 변동될 수 있기 때문이다.\n",
    "- 그러나 중앙값 또는 사분위수범위(IQR)은 비교적 로버스트하다. "
   ]
  },
  {
   "cell_type": "markdown",
   "id": "de8bd618-90ec-491e-8ac0-6b74a3cd5b68",
   "metadata": {},
   "source": [
    "즉, 평균 $\\bar{x}$ 대신에 중앙값 $med_x$를, 표준편차 $s_x$ 대신에 사분위수범위 $IQR$을 보정한 $\\tilde{\\sigma_x} = \\dfrac{IQR}{1.35}$을 쓰는 것이 좋을 것이다.\n",
    "\n",
    "따라서 로버스트 표준화 변환은 다음과 같다.\n",
    "\n",
    "$\\bar{z_i} = \\dfrac{x_i - med_x}{\\tilde{\\sigma_x}}\\, i = 1,2, \\dots,n. \\qquad(1)$"
   ]
  },
  {
   "cell_type": "markdown",
   "id": "de80529c-de11-4fcd-8417-c3159d96bf55",
   "metadata": {},
   "source": [
    "표준화 변환을 사용하는 예시 상황은 다음과 같다."
   ]
  },
  {
   "cell_type": "code",
   "execution_count": 1,
   "id": "c75baec7-ef75-496e-a90f-acefb6aa5020",
   "metadata": {},
   "outputs": [
    {
     "name": "stdout",
     "output_type": "stream",
     "text": [
      "[1] \"A 그룹 학생 100명의 시험 X 점수는 N(40,10)으로부터 생성되었다.\"\n",
      "[1] \"B 그룹 학생 90명의 시험 Y 점수는 N(40,10)으로부터, 나머지 10명의 시험 Y 점수 N(80,5)으로부터 생성되었다.\"\n"
     ]
    }
   ],
   "source": [
    "#hide_input\n",
    "print('A 그룹 학생 100명의 시험 X 점수는 N(40,10)으로부터 생성되었다.')\n",
    "print('B 그룹 학생 90명의 시험 Y 점수는 N(40,10)으로부터, 나머지 10명의 시험 Y 점수 N(80,5)으로부터 생성되었다.')"
   ]
  },
  {
   "cell_type": "code",
   "execution_count": 22,
   "id": "45ca0543-9405-4982-b8e9-85bcf13910c3",
   "metadata": {},
   "outputs": [
    {
     "data": {
      "image/png": "[encoded data removed]",
      "text/plain": [
       "Plot with title \"Standardized Y\""
      ]
     },
     "metadata": {
      "image/png": {
       "height": 420,
       "width": 420
      }
     },
     "output_type": "display_data"
    }
   ],
   "source": [
    "# 표준화 변환\n",
    "\n",
    "par(mfrow = c(1,2))\n",
    "X_group <- rnorm(100, 40, 10)\n",
    "Y_group <- c(rnorm(90,40,10), rnorm(10,80,5))\n",
    "\n",
    "z_X <- (X_group-mean(X_group))/sd(X_group)\n",
    "z_Y <- (Y_group-mean(Y_group))/sd(Y_group)\n",
    "hist(z_X, breaks = seq(-6, 6, 0.5), freq = F, ylim = c(0, 0.7), main = 'Standardized X')\n",
    "hist(z_Y, breaks = seq(-6, 6, 0.5), freq = F, ylim = c(0, 0.7), main = 'Standardized Y')"
   ]
  },
  {
   "cell_type": "code",
   "execution_count": 23,
   "id": "b0438ea3-fd9d-4d0a-ad99-567dd62fa7d6",
   "metadata": {},
   "outputs": [
    {
     "data": {
      "image/png": "[encoded data removed]",
      "text/plain": [
       "Plot with title \"Robust Standardized Y\""
      ]
     },
     "metadata": {
      "image/png": {
       "height": 420,
       "width": 420
      }
     },
     "output_type": "display_data"
    }
   ],
   "source": [
    "# 로버스트 표준화 변환\n",
    "\n",
    "par(mfrow = c(1,2))\n",
    "robust_z_X <- (X_group-median(X_group))/(IQR(X_group)/1.35)\n",
    "robust_z_Y <- (Y_group-median(Y_group))/(IQR(Y_group)/1.35)\n",
    "hist(robust_z_X, breaks = seq(-6, 6, 0.5), freq = F, ylim = c(0, 0.7), main = 'Robust Standardized X')\n",
    "hist(robust_z_Y, breaks = seq(-6, 6, 0.5), freq = F, ylim = c(0, 0.7), main = 'Robust Standardized Y')"
   ]
  },
  {
   "cell_type": "markdown",
   "id": "e445f27d-e46e-4334-9d8c-f278f3c4b93d",
   "metadata": {},
   "source": [
    "## Summary (5)"
   ]
  },
  {
   "cell_type": "markdown",
   "id": "f86807b1-4c4a-4f04-9b1e-36bfbbbaba51",
   "metadata": {},
   "source": [
    "- 선형변환 $ax+b\\, (a > 0)$은 분포의 형태를 바꾸지 않는다. 그러나 비선형변환은 분포의 형태를 바꾼다."
   ]
  },
  {
   "cell_type": "markdown",
   "id": "89338000-992f-4108-8558-6894fbe0f4a8",
   "metadata": {},
   "source": [
    "- 변환의 사다리는 $x^p$ 꼴의 파워(power, 멱승)형 변환을 일컫는데 변환의 사다리를 내려가면 $(p < 1)$ 오른쪽 꼬리가 짧아진다. $p=0$에 해당하는 변환은 로그변환이다."
   ]
  },
  {
   "cell_type": "markdown",
   "id": "3427d912-7625-4c1a-be69-eab01938336d",
   "metadata": {},
   "source": [
    "- 자료의 재표현은 분포의 대칭화를 위하여, 또는 자료묶음들의 산포를 균일화하기 위한 목적으로 실행된다."
   ]
  },
  {
   "cell_type": "markdown",
   "id": "7763fa4a-638c-4f9e-b7a7-908a57fa40fa",
   "metadata": {},
   "source": [
    "- 자료의 재표현은 자료 해석을 풍부하게 한다."
   ]
  },
  {
   "cell_type": "markdown",
   "id": "68128e25-a2bd-4dca-9c02-625ce6ea934c",
   "metadata": {},
   "source": [
    "# Ch.6 QQ-Plot"
   ]
  },
  {
   "cell_type": "code",
   "execution_count": null,
   "id": "551c4f9c-75ff-46e4-9588-3eb23e6ca9e8",
   "metadata": {},
   "outputs": [],
   "source": []
  },
  {
   "cell_type": "markdown",
   "id": "4d997a5e-c3be-4fe9-a7c5-f56b56d6ddc9",
   "metadata": {},
   "source": [
    "## Various Patterns"
   ]
  },
  {
   "cell_type": "markdown",
   "id": "d1ccb379-0d42-4e60-b7fc-1286bf01d6c5",
   "metadata": {},
   "source": [
    "### Normal Distribution\n",
    "\n",
    "- 정규분포로부터의 모의생성 자료에 대한 정규확률 플롯\n",
    "  - 대체로 직선적인 경향선을 확인할 수 있다.\n",
    "  - 직선의 절편과 기울기가 각각 100과 15 근처임을 확인할 수 있다."
   ]
  },
  {
   "cell_type": "code",
   "execution_count": 15,
   "id": "f7415c1c-6812-4533-b5f7-a10bdca4f588",
   "metadata": {},
   "outputs": [
    {
     "data": {
      "image/png": "[encoded data removed]",
      "text/plain": [
       "Plot with title \"Normal Q-Q Plot\""
      ]
     },
     "metadata": {
      "image/png": {
       "height": 420,
       "width": 420
      }
     },
     "output_type": "display_data"
    }
   ],
   "source": [
    "par(mfrow = c(1,2))\n",
    "x1 <- rnorm(40, 100, 15)\n",
    "qqnorm(x1)\n",
    "qqline(x1)\n",
    "\n",
    "x2 <- rnorm(4000, 100, 15)\n",
    "qqnorm(x2)\n",
    "qqline(x2)"
   ]
  },
  {
   "cell_type": "markdown",
   "id": "57273441-15e3-47d6-9ce2-985699b1d7a2",
   "metadata": {},
   "source": [
    "### Mixture Normal Distribution\n",
    "\n",
    "- 혼합 정규분포로부터의 모의생성 자료에 대한 정규확률 플롯\n",
    "  - 중앙에서 밀도가 낮다.\n",
    "  - 우상과 좌하 부분에서 강한 곡선성을 볼 수 있다."
   ]
  },
  {
   "cell_type": "code",
   "execution_count": 17,
   "id": "d10f7fd1-9e6d-4e7b-a0c7-035844447a9a",
   "metadata": {},
   "outputs": [
    {
     "data": {
      "image/png": "[encoded data removed]",
      "text/plain": [
       "Plot with title \"Normal Q-Q Plot\""
      ]
     },
     "metadata": {
      "image/png": {
       "height": 420,
       "width": 420
      }
     },
     "output_type": "display_data"
    }
   ],
   "source": [
    "par(mfrow = c(1,2))\n",
    "x1 <- c(rnorm(20, 70, 15), rnorm(20, 130, 15))\n",
    "qqnorm(x1)\n",
    "\n",
    "x2 <- c(rnorm(2000, 70, 15), rnorm(2000, 130, 15))\n",
    "qqnorm(x2)"
   ]
  },
  {
   "cell_type": "markdown",
   "id": "d275cd7e-a9e8-4d97-a9e5-ca8664a41e4c",
   "metadata": {},
   "source": [
    "### Data with outliers\n",
    "\n",
    "- 특이값이 내재하는 모의생성 자료에 대한 정규확률 플롯\n",
    "  - 25, 175가 이상점으로 존재한다.\n",
    "  - 25는 주경향선보다 아래에 있다.\n",
    "  - 175는 주경향선보다 위에 있다."
   ]
  },
  {
   "cell_type": "code",
   "execution_count": 34,
   "id": "d188536a-0df4-4caa-be45-74be94e7f2c4",
   "metadata": {},
   "outputs": [
    {
     "data": {
      "image/png": "[encoded data removed]",
      "text/plain": [
       "Plot with title \"Normal Q-Q Plot\""
      ]
     },
     "metadata": {
      "image/png": {
       "height": 420,
       "width": 420
      }
     },
     "output_type": "display_data"
    }
   ],
   "source": [
    "par(mfrow = c(1,2))\n",
    "x1 <- rnorm(38, 100, 15)\n",
    "outliers <- c(25, 175)\n",
    "qqnorm(c(x1, outliers))\n",
    "\n",
    "x2 <- rnorm(3800, 100, 15)\n",
    "qqnorm(c(x2, outliers))"
   ]
  },
  {
   "cell_type": "markdown",
   "id": "d3e2a7e4-0fb2-47ba-8e80-27180acd7602",
   "metadata": {},
   "source": [
    "### Short Tail\n",
    "\n",
    "- 꼬리가 짧은 분포로부터의 모의생성 자료에 대한 정규확률 플롯\n",
    "  - 플롯의 전체적 모양이 비스듬한 S자 성장곡선의 형태를 취하고 있음을 볼 수 있다."
   ]
  },
  {
   "cell_type": "code",
   "execution_count": 28,
   "id": "a5168f6c-69c3-4652-aa5e-597a24725de6",
   "metadata": {},
   "outputs": [
    {
     "data": {
      "image/png": "[encoded data removed]",
      "text/plain": [
       "Plot with title \"Normal Q-Q Plot\""
      ]
     },
     "metadata": {
      "image/png": {
       "height": 420,
       "width": 420
      }
     },
     "output_type": "display_data"
    }
   ],
   "source": [
    "par(mfrow = c(1,2))\n",
    "x1 <- runif(40, 80, 120)\n",
    "qqnorm(x1)\n",
    "\n",
    "x2 <- runif(4000, 80, 120)\n",
    "qqnorm(x2)"
   ]
  },
  {
   "cell_type": "markdown",
   "id": "2a0e43d9-258a-43a4-a204-05df5d09d3c5",
   "metadata": {},
   "source": [
    "### Long Tail\n",
    "\n",
    "- 꼬리가 긴 분포로부터의 모의생성 자료에 대한 정규확률 플롯\n",
    "  - 플롯의 전체적인 모양이 비스듬한 역 S자 성장곡선의 형태를 취하고 있음을 볼 수 있다."
   ]
  },
  {
   "cell_type": "code",
   "execution_count": 39,
   "id": "578833c6-827c-4dfc-91a1-8c18300625b5",
   "metadata": {},
   "outputs": [
    {
     "data": {
      "image/png": "[encoded data removed]",
      "text/plain": [
       "Plot with title \"Normal Q-Q Plot\""
      ]
     },
     "metadata": {
      "image/png": {
       "height": 420,
       "width": 420
      }
     },
     "output_type": "display_data"
    }
   ],
   "source": [
    "par(mfrow = c(1,2))\n",
    "x1 <- c(rexp(20,1), -rexp(20,1))\n",
    "qqnorm(x1)\n",
    "\n",
    "x2 <- c(rexp(2000,1), -rexp(2000,1))\n",
    "qqnorm(x2)"
   ]
  },
  {
   "cell_type": "markdown",
   "id": "75096aeb-3519-4c95-bf68-ca2de746f33c",
   "metadata": {},
   "source": [
    "### Right Skewed\n",
    "\n",
    "- 큰 값 쪽으로 긴 꼬리를 뻗은 기울어진 분포의 경우\n",
    "  - 비스듬히 기울어진 J자 곡선의 형태임을 볼 수 있다."
   ]
  },
  {
   "cell_type": "code",
   "execution_count": 50,
   "id": "192ebf05-c0e3-4f68-870b-086c86b2933e",
   "metadata": {},
   "outputs": [
    {
     "data": {
      "image/png": "[encoded data removed]",
      "text/plain": [
       "Plot with title \"Normal Q-Q Plot\""
      ]
     },
     "metadata": {
      "image/png": {
       "height": 420,
       "width": 420
      }
     },
     "output_type": "display_data"
    }
   ],
   "source": [
    "par(mfrow = c(1,2))\n",
    "x1 <- exp(rnorm(40, 5, 1))\n",
    "qqnorm(x1)\n",
    "\n",
    "x2 <- exp(rnorm(4000, 5, 1))\n",
    "qqnorm(x2)"
   ]
  },
  {
   "cell_type": "markdown",
   "id": "fc2a01ec-d5ca-444a-a568-8539dd9dcd23",
   "metadata": {},
   "source": [
    "### Left Skewed\n",
    "\n",
    "- 작은 값 쪽으로 긴 꼬리를 뻗은 기울어진 분포의 경우\n",
    "  - 비스듬히 기울어진 역 J자 곡선의 형태임을 볼 수 있다."
   ]
  },
  {
   "cell_type": "code",
   "execution_count": 73,
   "id": "b874f6ba-5389-43a9-ac92-a03aac8eb3bf",
   "metadata": {},
   "outputs": [
    {
     "data": {
      "image/png": "[encoded data removed]",
      "text/plain": [
       "Plot with title \"Normal Q-Q Plot\""
      ]
     },
     "metadata": {
      "image/png": {
       "height": 420,
       "width": 420
      }
     },
     "output_type": "display_data"
    }
   ],
   "source": [
    "par(mfrow = c(1,2))\n",
    "x1 <- 1500 - exp(rnorm(40,5,1))\n",
    "qqnorm(x1)\n",
    "\n",
    "x2 <- 1500 - exp(rnorm(40,5,1))\n",
    "qqnorm(x2)"
   ]
  },
  {
   "cell_type": "markdown",
   "id": "1c319eea-6bd7-45ff-9daf-7fb315b8dc43",
   "metadata": {},
   "source": [
    "## Example\n",
    "\n",
    "- 백혈병 환자 21명의 생존시간에 관한 다음의 자료를 지수분포에 적합하여 보자."
   ]
  },
  {
   "cell_type": "code",
   "execution_count": 88,
   "id": "c6905e64-ca63-4d08-9b28-91f2f7be16e4",
   "metadata": {},
   "outputs": [
    {
     "data": {
      "image/png": "[encoded data removed]",
      "text/plain": [
       "plot without title"
      ]
     },
     "metadata": {
      "image/png": {
       "height": 420,
       "width": 420
      }
     },
     "output_type": "display_data"
    }
   ],
   "source": [
    "leukemia <- c(1,1,2,2,3,4,4,5,5,8,8,8,8,11,11,12,12,15,17,22,23)\n",
    "\n",
    "leukemia_quant = ((1:length(leukemia)) - 1/3) / (length(leukemia) + 1/3)\n",
    "x <- -log(1-leukemia_quant)\n",
    "y <- sort(leukemia)\n",
    "\n",
    "plot(y ~ x)"
   ]
  },
  {
   "cell_type": "code",
   "execution_count": 87,
   "id": "dd570de7-8618-4b00-9dfb-a5c28731aa3b",
   "metadata": {},
   "outputs": [
    {
     "data": {
      "image/png": "[encoded data removed]",
      "text/plain": [
       "plot without title"
      ]
     },
     "metadata": {
      "image/png": {
       "height": 420,
       "width": 420
      }
     },
     "output_type": "display_data"
    }
   ],
   "source": [
    "library(lattice)\n",
    "qqmath(leukemia)"
   ]
  },
  {
   "cell_type": "markdown",
   "id": "e2cb42fc-7028-452d-a3bf-467b5cb50f4f",
   "metadata": {},
   "source": [
    "# Ch.7 2원 자료, 빈도 표의 탐색"
   ]
  },
  {
   "cell_type": "markdown",
   "id": "f5966c7d-6996-460e-94bb-02227f1645a7",
   "metadata": {},
   "source": [
    "## 2원 자료 표의 분해"
   ]
  },
  {
   "cell_type": "markdown",
   "id": "fcd775fd-019f-4c4d-9308-b1c74064fd6a",
   "metadata": {},
   "source": [
    "평균과 같은 추정치는 특이값에 의해 쉽게 영향을 받으므로 EDA적 관점에서 보면 바람직하지 않다.\n",
    "\n",
    "따라서 평균을 중간값으로 대체하고 다듬을 필요가 있다.\n",
    "\n",
    "R 함수\n",
    "```{r}\n",
    "medpolish(world_temp)\n",
    "```"
   ]
  },
  {
   "cell_type": "markdown",
   "id": "715e1e81-b3b2-4341-831c-de8d840b2008",
   "metadata": {},
   "source": [
    "7장 이원자료빈도표, \n",
    "\n",
    "7.4절 \n",
    "\n",
    "8장 시계자료탐색 표 데이터주고 3할 구하기 등, 스필트해보기 등, \n",
    "\n",
    "149페이지 표3에 대한거 스필트해보기 등, \n",
    "\n",
    "147페이지 \n",
    "\n",
    "19.5 봉우리인지 골자기인지, 봉우리를 스필트해라, \n",
    "\n",
    "8.5 자기 상관과 가중치? 여기서 그림이 의미하는 바, hf? 자기상관 교차상관, \n",
    "\n",
    "9장 \n",
    "\n",
    "165 lms lts ,\n",
    "\n",
    "167 lts, \n",
    "\n",
    "10장 그림을 그려서 알수잇는게 뭐냐 \n",
    "\n",
    "182 밀감 추정? 데이터 주고 커널 밀도 추정해봐라 계산해서 그려봐라 계산기 필요!  도자기 플룻 한번 보기 \n",
    "\n",
    "11장 가변량 자료 여러가지 데이터를 주고 평행자료 같은거 주면 해석하기 그림을 그리고 해석하라 알수잇는게 뭐냐 정도"
   ]
  },
  {
   "cell_type": "code",
   "execution_count": null,
   "id": "68148c39-5df1-4daa-a1ca-2fba3f22c86b",
   "metadata": {},
   "outputs": [
    {
     "data": {
      "text/html": [
       "<table class=\"dataframe\">\n",
       "<caption>A data.frame: 21 × 12</caption>\n",
       "<thead>\n",
       "\t<tr><th></th><th scope=col>Jan</th><th scope=col>Feb</th><th scope=col>March</th><th scope=col>April</th><th scope=col>May</th><th scope=col>June</th><th scope=col>July</th><th scope=col>Aug</th><th scope=col>Sep</th><th scope=col>Oct</th><th scope=col>Nov</th><th scope=col>Dec</th></tr>\n",
       "\t<tr><th></th><th scope=col>&lt;dbl&gt;</th><th scope=col>&lt;dbl&gt;</th><th scope=col>&lt;dbl&gt;</th><th scope=col>&lt;dbl&gt;</th><th scope=col>&lt;dbl&gt;</th><th scope=col>&lt;dbl&gt;</th><th scope=col>&lt;dbl&gt;</th><th scope=col>&lt;dbl&gt;</th><th scope=col>&lt;dbl&gt;</th><th scope=col>&lt;dbl&gt;</th><th scope=col>&lt;dbl&gt;</th><th scope=col>&lt;dbl&gt;</th></tr>\n",
       "</thead>\n",
       "<tbody>\n",
       "\t<tr><th scope=row>BAHRAIN</th><td>16.0</td><td>16.5</td><td>20.0</td><td>24.0</td><td>28.5</td><td>31.0</td><td>32.5</td><td>33.0</td><td>31.0</td><td>27.5</td><td>23.0</td><td>18.0</td></tr>\n",
       "\t<tr><th scope=row>CALCUTTA</th><td>20.0</td><td>22.5</td><td>27.5</td><td>30.0</td><td>31.0</td><td>29.5</td><td>29.0</td><td>29.0</td><td>29.0</td><td>28.0</td><td>23.5</td><td>19.5</td></tr>\n",
       "\t<tr><th scope=row>COLOMBO</th><td>26.0</td><td>26.0</td><td>27.0</td><td>27.5</td><td>28.0</td><td>27.5</td><td>27.0</td><td>27.0</td><td>27.5</td><td>26.5</td><td>31.0</td><td>26.0</td></tr>\n",
       "\t<tr><th scope=row>CHENNAI</th><td>25.0</td><td>25.5</td><td>27.5</td><td>30.5</td><td>33.5</td><td>32.5</td><td>31.0</td><td>30.5</td><td>29.5</td><td>28.0</td><td>26.0</td><td>25.0</td></tr>\n",
       "\t<tr><th scope=row>DUBAI</th><td>18.0</td><td>19.0</td><td>22.5</td><td>25.0</td><td>28.0</td><td>30.5</td><td>33.5</td><td>33.5</td><td>31.0</td><td>27.5</td><td>23.5</td><td>20.0</td></tr>\n",
       "\t<tr><th scope=row>FRAKFURT</th><td>-0.5</td><td> 1.0</td><td> 6.5</td><td>12.0</td><td>15.0</td><td>18.5</td><td>20.0</td><td>19.5</td><td>16.0</td><td>11.0</td><td> 5.5</td><td> 1.0</td></tr>\n",
       "\t<tr><th scope=row>GENEVA</th><td> 1.0</td><td> 0.0</td><td> 6.0</td><td>10.0</td><td>13.5</td><td>16.0</td><td>20.0</td><td>19.5</td><td>15.0</td><td> 9.5</td><td> 5.5</td><td> 2.0</td></tr>\n",
       "\t<tr><th scope=row>LONDON</th><td> 4.0</td><td> 4.5</td><td> 6.5</td><td> 9.0</td><td>12.5</td><td>15.5</td><td>17.5</td><td>17.0</td><td>15.0</td><td>11.0</td><td> 7.5</td><td> 5.0</td></tr>\n",
       "\t<tr><th scope=row>MADRID</th><td> 5.0</td><td> 6.5</td><td> 9.5</td><td>12.5</td><td>16.5</td><td>21.0</td><td>25.0</td><td>24.5</td><td>20.5</td><td>14.0</td><td> 9.0</td><td> 5.0</td></tr>\n",
       "\t<tr><th scope=row>MANILA</th><td>24.0</td><td>24.5</td><td>26.5</td><td>27.5</td><td>28.0</td><td>28.0</td><td>26.0</td><td>26.0</td><td>26.5</td><td>26.5</td><td>25.0</td><td>24.5</td></tr>\n",
       "\t<tr><th scope=row>MOSCOW</th><td>-9.5</td><td>-8.5</td><td>-4.0</td><td> 4.0</td><td>12.5</td><td>17.0</td><td>18.5</td><td>16.5</td><td>11.0</td><td> 4.5</td><td>-2.5</td><td>-8.0</td></tr>\n",
       "\t<tr><th scope=row>MEXICO_CITY</th><td>14.0</td><td>19.0</td><td>21.0</td><td>22.5</td><td>22.5</td><td>22.5</td><td>22.5</td><td>22.0</td><td>22.0</td><td>20.5</td><td>19.5</td><td>15.5</td></tr>\n",
       "\t<tr><th scope=row>NEW_DELHI</th><td>13.5</td><td>17.0</td><td>21.5</td><td>28.0</td><td>33.0</td><td>33.5</td><td>31.0</td><td>30.0</td><td>29.0</td><td>26.0</td><td>19.5</td><td>15.0</td></tr>\n",
       "\t<tr><th scope=row>NEW_YORK</th><td> 1.0</td><td> 0.5</td><td> 5.0</td><td>10.5</td><td>17.0</td><td>22.0</td><td>25.0</td><td>24.0</td><td>20.0</td><td>15.0</td><td> 8.5</td><td> 2.0</td></tr>\n",
       "\t<tr><th scope=row>PARIS</th><td> 4.0</td><td> 4.0</td><td> 7.0</td><td>10.5</td><td>13.5</td><td>17.0</td><td>19.0</td><td>18.5</td><td>16.0</td><td>11.5</td><td> 7.0</td><td> 3.5</td></tr>\n",
       "\t<tr><th scope=row>ROME</th><td> 7.5</td><td> 9.0</td><td>11.5</td><td>14.5</td><td>18.0</td><td>22.5</td><td>25.5</td><td>25.5</td><td>22.0</td><td>17.0</td><td>12.5</td><td> 8.5</td></tr>\n",
       "\t<tr><th scope=row>SAN_FRANCISCO</th><td> 9.5</td><td>10.0</td><td>12.0</td><td>13.0</td><td>14.5</td><td>16.0</td><td>17.0</td><td>17.0</td><td>17.5</td><td>16.5</td><td>13.0</td><td>10.0</td></tr>\n",
       "\t<tr><th scope=row>SINGAPORE</th><td>26.5</td><td>26.5</td><td>27.5</td><td>27.5</td><td>27.0</td><td>27.5</td><td>27.5</td><td>27.5</td><td>27.0</td><td>27.0</td><td>27.0</td><td>26.5</td></tr>\n",
       "\t<tr><th scope=row>SYDNEY</th><td>25.0</td><td>25.0</td><td>22.0</td><td>19.5</td><td>16.0</td><td>11.0</td><td>12.0</td><td>13.0</td><td>15.5</td><td>17.5</td><td>21.0</td><td>25.0</td></tr>\n",
       "\t<tr><th scope=row>TOKYO</th><td> 4.5</td><td> 5.0</td><td> 8.0</td><td>13.5</td><td>18.5</td><td>21.5</td><td>25.5</td><td>27.0</td><td>23.5</td><td>17.0</td><td>12.0</td><td> 7.0</td></tr>\n",
       "\t<tr><th scope=row>TORONTO</th><td>-4.5</td><td>-4.5</td><td> 0.0</td><td> 4.5</td><td> 5.0</td><td>18.5</td><td>21.5</td><td>21.0</td><td>17.0</td><td>10.0</td><td> 8.0</td><td>-2.0</td></tr>\n",
       "</tbody>\n",
       "</table>\n"
      ],
      "text/latex": [
       "A data.frame: 21 × 12\n",
       "\\begin{tabular}{r|llllllllllll}\n",
       "  & Jan & Feb & March & April & May & June & July & Aug & Sep & Oct & Nov & Dec\\\\\n",
       "  & <dbl> & <dbl> & <dbl> & <dbl> & <dbl> & <dbl> & <dbl> & <dbl> & <dbl> & <dbl> & <dbl> & <dbl>\\\\\n",
       "\\hline\n",
       "\tBAHRAIN & 16.0 & 16.5 & 20.0 & 24.0 & 28.5 & 31.0 & 32.5 & 33.0 & 31.0 & 27.5 & 23.0 & 18.0\\\\\n",
       "\tCALCUTTA & 20.0 & 22.5 & 27.5 & 30.0 & 31.0 & 29.5 & 29.0 & 29.0 & 29.0 & 28.0 & 23.5 & 19.5\\\\\n",
       "\tCOLOMBO & 26.0 & 26.0 & 27.0 & 27.5 & 28.0 & 27.5 & 27.0 & 27.0 & 27.5 & 26.5 & 31.0 & 26.0\\\\\n",
       "\tCHENNAI & 25.0 & 25.5 & 27.5 & 30.5 & 33.5 & 32.5 & 31.0 & 30.5 & 29.5 & 28.0 & 26.0 & 25.0\\\\\n",
       "\tDUBAI & 18.0 & 19.0 & 22.5 & 25.0 & 28.0 & 30.5 & 33.5 & 33.5 & 31.0 & 27.5 & 23.5 & 20.0\\\\\n",
       "\tFRAKFURT & -0.5 &  1.0 &  6.5 & 12.0 & 15.0 & 18.5 & 20.0 & 19.5 & 16.0 & 11.0 &  5.5 &  1.0\\\\\n",
       "\tGENEVA &  1.0 &  0.0 &  6.0 & 10.0 & 13.5 & 16.0 & 20.0 & 19.5 & 15.0 &  9.5 &  5.5 &  2.0\\\\\n",
       "\tLONDON &  4.0 &  4.5 &  6.5 &  9.0 & 12.5 & 15.5 & 17.5 & 17.0 & 15.0 & 11.0 &  7.5 &  5.0\\\\\n",
       "\tMADRID &  5.0 &  6.5 &  9.5 & 12.5 & 16.5 & 21.0 & 25.0 & 24.5 & 20.5 & 14.0 &  9.0 &  5.0\\\\\n",
       "\tMANILA & 24.0 & 24.5 & 26.5 & 27.5 & 28.0 & 28.0 & 26.0 & 26.0 & 26.5 & 26.5 & 25.0 & 24.5\\\\\n",
       "\tMOSCOW & -9.5 & -8.5 & -4.0 &  4.0 & 12.5 & 17.0 & 18.5 & 16.5 & 11.0 &  4.5 & -2.5 & -8.0\\\\\n",
       "\tMEXICO\\_CITY & 14.0 & 19.0 & 21.0 & 22.5 & 22.5 & 22.5 & 22.5 & 22.0 & 22.0 & 20.5 & 19.5 & 15.5\\\\\n",
       "\tNEW\\_DELHI & 13.5 & 17.0 & 21.5 & 28.0 & 33.0 & 33.5 & 31.0 & 30.0 & 29.0 & 26.0 & 19.5 & 15.0\\\\\n",
       "\tNEW\\_YORK &  1.0 &  0.5 &  5.0 & 10.5 & 17.0 & 22.0 & 25.0 & 24.0 & 20.0 & 15.0 &  8.5 &  2.0\\\\\n",
       "\tPARIS &  4.0 &  4.0 &  7.0 & 10.5 & 13.5 & 17.0 & 19.0 & 18.5 & 16.0 & 11.5 &  7.0 &  3.5\\\\\n",
       "\tROME &  7.5 &  9.0 & 11.5 & 14.5 & 18.0 & 22.5 & 25.5 & 25.5 & 22.0 & 17.0 & 12.5 &  8.5\\\\\n",
       "\tSAN\\_FRANCISCO &  9.5 & 10.0 & 12.0 & 13.0 & 14.5 & 16.0 & 17.0 & 17.0 & 17.5 & 16.5 & 13.0 & 10.0\\\\\n",
       "\tSINGAPORE & 26.5 & 26.5 & 27.5 & 27.5 & 27.0 & 27.5 & 27.5 & 27.5 & 27.0 & 27.0 & 27.0 & 26.5\\\\\n",
       "\tSYDNEY & 25.0 & 25.0 & 22.0 & 19.5 & 16.0 & 11.0 & 12.0 & 13.0 & 15.5 & 17.5 & 21.0 & 25.0\\\\\n",
       "\tTOKYO &  4.5 &  5.0 &  8.0 & 13.5 & 18.5 & 21.5 & 25.5 & 27.0 & 23.5 & 17.0 & 12.0 &  7.0\\\\\n",
       "\tTORONTO & -4.5 & -4.5 &  0.0 &  4.5 &  5.0 & 18.5 & 21.5 & 21.0 & 17.0 & 10.0 &  8.0 & -2.0\\\\\n",
       "\\end{tabular}\n"
      ],
      "text/markdown": [
       "\n",
       "A data.frame: 21 × 12\n",
       "\n",
       "| <!--/--> | Jan &lt;dbl&gt; | Feb &lt;dbl&gt; | March &lt;dbl&gt; | April &lt;dbl&gt; | May &lt;dbl&gt; | June &lt;dbl&gt; | July &lt;dbl&gt; | Aug &lt;dbl&gt; | Sep &lt;dbl&gt; | Oct &lt;dbl&gt; | Nov &lt;dbl&gt; | Dec &lt;dbl&gt; |\n",
       "|---|---|---|---|---|---|---|---|---|---|---|---|---|\n",
       "| BAHRAIN | 16.0 | 16.5 | 20.0 | 24.0 | 28.5 | 31.0 | 32.5 | 33.0 | 31.0 | 27.5 | 23.0 | 18.0 |\n",
       "| CALCUTTA | 20.0 | 22.5 | 27.5 | 30.0 | 31.0 | 29.5 | 29.0 | 29.0 | 29.0 | 28.0 | 23.5 | 19.5 |\n",
       "| COLOMBO | 26.0 | 26.0 | 27.0 | 27.5 | 28.0 | 27.5 | 27.0 | 27.0 | 27.5 | 26.5 | 31.0 | 26.0 |\n",
       "| CHENNAI | 25.0 | 25.5 | 27.5 | 30.5 | 33.5 | 32.5 | 31.0 | 30.5 | 29.5 | 28.0 | 26.0 | 25.0 |\n",
       "| DUBAI | 18.0 | 19.0 | 22.5 | 25.0 | 28.0 | 30.5 | 33.5 | 33.5 | 31.0 | 27.5 | 23.5 | 20.0 |\n",
       "| FRAKFURT | -0.5 |  1.0 |  6.5 | 12.0 | 15.0 | 18.5 | 20.0 | 19.5 | 16.0 | 11.0 |  5.5 |  1.0 |\n",
       "| GENEVA |  1.0 |  0.0 |  6.0 | 10.0 | 13.5 | 16.0 | 20.0 | 19.5 | 15.0 |  9.5 |  5.5 |  2.0 |\n",
       "| LONDON |  4.0 |  4.5 |  6.5 |  9.0 | 12.5 | 15.5 | 17.5 | 17.0 | 15.0 | 11.0 |  7.5 |  5.0 |\n",
       "| MADRID |  5.0 |  6.5 |  9.5 | 12.5 | 16.5 | 21.0 | 25.0 | 24.5 | 20.5 | 14.0 |  9.0 |  5.0 |\n",
       "| MANILA | 24.0 | 24.5 | 26.5 | 27.5 | 28.0 | 28.0 | 26.0 | 26.0 | 26.5 | 26.5 | 25.0 | 24.5 |\n",
       "| MOSCOW | -9.5 | -8.5 | -4.0 |  4.0 | 12.5 | 17.0 | 18.5 | 16.5 | 11.0 |  4.5 | -2.5 | -8.0 |\n",
       "| MEXICO_CITY | 14.0 | 19.0 | 21.0 | 22.5 | 22.5 | 22.5 | 22.5 | 22.0 | 22.0 | 20.5 | 19.5 | 15.5 |\n",
       "| NEW_DELHI | 13.5 | 17.0 | 21.5 | 28.0 | 33.0 | 33.5 | 31.0 | 30.0 | 29.0 | 26.0 | 19.5 | 15.0 |\n",
       "| NEW_YORK |  1.0 |  0.5 |  5.0 | 10.5 | 17.0 | 22.0 | 25.0 | 24.0 | 20.0 | 15.0 |  8.5 |  2.0 |\n",
       "| PARIS |  4.0 |  4.0 |  7.0 | 10.5 | 13.5 | 17.0 | 19.0 | 18.5 | 16.0 | 11.5 |  7.0 |  3.5 |\n",
       "| ROME |  7.5 |  9.0 | 11.5 | 14.5 | 18.0 | 22.5 | 25.5 | 25.5 | 22.0 | 17.0 | 12.5 |  8.5 |\n",
       "| SAN_FRANCISCO |  9.5 | 10.0 | 12.0 | 13.0 | 14.5 | 16.0 | 17.0 | 17.0 | 17.5 | 16.5 | 13.0 | 10.0 |\n",
       "| SINGAPORE | 26.5 | 26.5 | 27.5 | 27.5 | 27.0 | 27.5 | 27.5 | 27.5 | 27.0 | 27.0 | 27.0 | 26.5 |\n",
       "| SYDNEY | 25.0 | 25.0 | 22.0 | 19.5 | 16.0 | 11.0 | 12.0 | 13.0 | 15.5 | 17.5 | 21.0 | 25.0 |\n",
       "| TOKYO |  4.5 |  5.0 |  8.0 | 13.5 | 18.5 | 21.5 | 25.5 | 27.0 | 23.5 | 17.0 | 12.0 |  7.0 |\n",
       "| TORONTO | -4.5 | -4.5 |  0.0 |  4.5 |  5.0 | 18.5 | 21.5 | 21.0 | 17.0 | 10.0 |  8.0 | -2.0 |\n",
       "\n"
      ],
      "text/plain": [
       "              Jan  Feb  March April May  June July Aug  Sep  Oct  Nov  Dec \n",
       "BAHRAIN       16.0 16.5 20.0  24.0  28.5 31.0 32.5 33.0 31.0 27.5 23.0 18.0\n",
       "CALCUTTA      20.0 22.5 27.5  30.0  31.0 29.5 29.0 29.0 29.0 28.0 23.5 19.5\n",
       "COLOMBO       26.0 26.0 27.0  27.5  28.0 27.5 27.0 27.0 27.5 26.5 31.0 26.0\n",
       "CHENNAI       25.0 25.5 27.5  30.5  33.5 32.5 31.0 30.5 29.5 28.0 26.0 25.0\n",
       "DUBAI         18.0 19.0 22.5  25.0  28.0 30.5 33.5 33.5 31.0 27.5 23.5 20.0\n",
       "FRAKFURT      -0.5  1.0  6.5  12.0  15.0 18.5 20.0 19.5 16.0 11.0  5.5  1.0\n",
       "GENEVA         1.0  0.0  6.0  10.0  13.5 16.0 20.0 19.5 15.0  9.5  5.5  2.0\n",
       "LONDON         4.0  4.5  6.5   9.0  12.5 15.5 17.5 17.0 15.0 11.0  7.5  5.0\n",
       "MADRID         5.0  6.5  9.5  12.5  16.5 21.0 25.0 24.5 20.5 14.0  9.0  5.0\n",
       "MANILA        24.0 24.5 26.5  27.5  28.0 28.0 26.0 26.0 26.5 26.5 25.0 24.5\n",
       "MOSCOW        -9.5 -8.5 -4.0   4.0  12.5 17.0 18.5 16.5 11.0  4.5 -2.5 -8.0\n",
       "MEXICO_CITY   14.0 19.0 21.0  22.5  22.5 22.5 22.5 22.0 22.0 20.5 19.5 15.5\n",
       "NEW_DELHI     13.5 17.0 21.5  28.0  33.0 33.5 31.0 30.0 29.0 26.0 19.5 15.0\n",
       "NEW_YORK       1.0  0.5  5.0  10.5  17.0 22.0 25.0 24.0 20.0 15.0  8.5  2.0\n",
       "PARIS          4.0  4.0  7.0  10.5  13.5 17.0 19.0 18.5 16.0 11.5  7.0  3.5\n",
       "ROME           7.5  9.0 11.5  14.5  18.0 22.5 25.5 25.5 22.0 17.0 12.5  8.5\n",
       "SAN_FRANCISCO  9.5 10.0 12.0  13.0  14.5 16.0 17.0 17.0 17.5 16.5 13.0 10.0\n",
       "SINGAPORE     26.5 26.5 27.5  27.5  27.0 27.5 27.5 27.5 27.0 27.0 27.0 26.5\n",
       "SYDNEY        25.0 25.0 22.0  19.5  16.0 11.0 12.0 13.0 15.5 17.5 21.0 25.0\n",
       "TOKYO          4.5  5.0  8.0  13.5  18.5 21.5 25.5 27.0 23.5 17.0 12.0  7.0\n",
       "TORONTO       -4.5 -4.5  0.0   4.5   5.0 18.5 21.5 21.0 17.0 10.0  8.0 -2.0"
      ]
     },
     "metadata": {},
     "output_type": "display_data"
    }
   ],
   "source": [
    "world_temp <- read.table('dataset/EDA/WorldTemperature_Mean.txt', header = TRUE)\n",
    "world_temp"
   ]
  },
  {
   "cell_type": "code",
   "execution_count": 186,
   "id": "23a58d73-4198-4f6e-ad9d-ce05d2bab955",
   "metadata": {},
   "outputs": [
    {
     "name": "stdout",
     "output_type": "stream",
     "text": [
      "1: 703.75\n",
      "2: 686.375\n",
      "Final: 685.75\n"
     ]
    },
    {
     "data": {
      "text/plain": [
       "\n",
       "Median Polish Results (Dataset: \"world_temp\")\n",
       "\n",
       "Overall: 16.125\n",
       "\n",
       "Row Effects:\n",
       "      BAHRAIN      CALCUTTA       COLOMBO       CHENNAI         DUBAI \n",
       "       9.5000       11.2500       10.8750       14.0625       10.2500 \n",
       "     FRAKFURT        GENEVA        LONDON        MADRID        MANILA \n",
       "      -5.1875       -6.0625       -5.7500       -2.5000       10.8750 \n",
       "       MOSCOW   MEXICO_CITY     NEW_DELHI      NEW_YORK         PARIS \n",
       "     -11.8750        5.1875        8.0625       -2.8125       -4.9375 \n",
       "         ROME SAN_FRANCISCO     SINGAPORE        SYDNEY         TOKYO \n",
       "       0.0000       -1.5000       11.1250        2.3750       -0.3125 \n",
       "      TORONTO \n",
       "      -8.5000 \n",
       "\n",
       "Column Effects:\n",
       "    Jan     Feb   March   April     May    June    July     Aug     Sep     Oct \n",
       "-8.3750 -7.1250 -3.8750 -0.2500  2.3125  5.3750  7.1250  7.1250  4.8125  0.3750 \n",
       "    Nov     Dec \n",
       "-3.6250 -7.6250 \n",
       "\n",
       "Residuals:\n",
       "                  Jan     Feb   March   April     May     June     July\n",
       "BAHRAIN       -1.2500 -2.0000 -1.7500 -1.3750  0.5625   0.0000  -0.2500\n",
       "CALCUTTA       1.0000  2.2500  4.0000  2.8750  1.3125  -3.2500  -5.5000\n",
       "COLOMBO        7.3750  6.1250  3.8750  0.7500 -1.3125  -4.8750  -7.1250\n",
       "CHENNAI        3.1875  2.4375  1.1875  0.5625  1.0000  -3.0625  -6.3125\n",
       "DUBAI          0.0000 -0.2500  0.0000 -1.1250 -0.6875  -1.2500   0.0000\n",
       "FRAKFURT      -3.0625 -2.8125 -0.5625  1.3125  1.7500   2.1875   1.9375\n",
       "GENEVA        -0.6875 -2.9375 -0.1875  0.1875  1.1250   0.5625   2.8125\n",
       "LONDON         2.0000  1.2500  0.0000 -1.1250 -0.1875  -0.2500   0.0000\n",
       "MADRID        -0.2500  0.0000 -0.2500 -0.8750  0.5625   2.0000   4.2500\n",
       "MANILA         5.3750  4.6250  3.3750  0.7500 -1.3125  -4.3750  -8.1250\n",
       "MOSCOW        -5.3750 -5.6250 -4.3750  0.0000  5.9375   7.3750   7.1250\n",
       "MEXICO_CITY    1.0625  4.8125  3.5625  1.4375 -1.1250  -4.1875  -5.9375\n",
       "NEW_DELHI     -2.3125 -0.0625  1.1875  4.0625  6.5000   3.9375  -0.3125\n",
       "NEW_YORK      -3.9375 -5.6875 -4.4375 -2.5625  1.3750   3.3125   4.5625\n",
       "PARIS          1.1875 -0.0625 -0.3125 -0.4375  0.0000   0.4375   0.6875\n",
       "ROME          -0.2500  0.0000 -0.7500 -1.3750 -0.4375   1.0000   2.2500\n",
       "SAN_FRANCISCO  3.2500  2.5000  1.2500 -1.3750 -2.4375  -4.0000  -4.7500\n",
       "SINGAPORE      7.6250  6.3750  4.1250  0.5000 -2.5625  -5.1250  -6.8750\n",
       "SYDNEY        14.8750 13.6250  7.3750  1.2500 -4.8125 -12.8750 -13.6250\n",
       "TOKYO         -2.9375 -3.6875 -3.9375 -2.0625  0.3750   0.3125   2.5625\n",
       "TORONTO       -3.7500 -5.0000 -3.7500 -2.8750 -4.9375   5.5000   6.7500\n",
       "                   Aug     Sep     Oct     Nov     Dec\n",
       "BAHRAIN         0.2500  0.5625  1.5000  1.0000  0.0000\n",
       "CALCUTTA       -5.5000 -3.1875  0.2500 -0.2500 -0.2500\n",
       "COLOMBO        -7.1250 -4.3125 -0.8750  7.6250  6.6250\n",
       "CHENNAI        -6.8125 -5.5000 -2.5625 -0.5625  2.4375\n",
       "DUBAI           0.0000 -0.1875  0.7500  0.7500  1.2500\n",
       "FRAKFURT        1.4375  0.2500 -0.3125 -1.8125 -2.3125\n",
       "GENEVA          2.3125  0.1250 -0.9375 -0.9375 -0.4375\n",
       "LONDON         -0.5000 -0.1875  0.2500  0.7500  2.2500\n",
       "MADRID          3.7500  2.0625  0.0000 -1.0000 -1.0000\n",
       "MANILA         -8.1250 -5.3125 -0.8750  1.6250  5.1250\n",
       "MOSCOW          5.1250  1.9375 -0.1250 -3.1250 -4.6250\n",
       "MEXICO_CITY    -6.4375 -4.1250 -1.1875  1.8125  1.8125\n",
       "NEW_DELHI      -1.3125  0.0000  1.4375 -1.0625 -1.5625\n",
       "NEW_YORK        3.5625  1.8750  1.3125 -1.1875 -3.6875\n",
       "PARIS           0.1875  0.0000 -0.0625 -0.5625 -0.0625\n",
       "ROME            2.2500  1.0625  0.5000  0.0000  0.0000\n",
       "SAN_FRANCISCO  -4.7500 -1.9375  1.5000  2.0000  3.0000\n",
       "SINGAPORE      -6.8750 -5.0625 -0.6250  3.3750  6.8750\n",
       "SYDNEY        -12.6250 -7.8125 -1.3750  6.1250 14.1250\n",
       "TOKYO           4.0625  2.8750  0.8125 -0.1875 -1.1875\n",
       "TORONTO         6.2500  4.5625  2.0000  4.0000 -2.0000\n"
      ]
     },
     "metadata": {},
     "output_type": "display_data"
    }
   ],
   "source": [
    "polish <- medpolish(world_temp)\n",
    "polish"
   ]
  },
  {
   "cell_type": "markdown",
   "id": "760f46d3-9921-4fd8-8466-930047c021c0",
   "metadata": {},
   "source": [
    "## 적합 모형의 검토"
   ]
  },
  {
   "cell_type": "code",
   "execution_count": 23,
   "id": "e5359f7a-6c5d-4d34-9b0a-7e996a045098",
   "metadata": {},
   "outputs": [
    {
     "data": {
      "text/html": [
       "<table class=\"dataframe\">\n",
       "<caption>A matrix: 21 × 12 of type dbl</caption>\n",
       "<tbody>\n",
       "\t<tr><td>-4.9341085</td><td>-4.1976744</td><td>-2.2829457</td><td>-0.147286822</td><td> 1.36240310</td><td> 3.1666667</td><td> 4.1976744</td><td> 4.1976744</td><td> 2.8352713</td><td> 0.220930233</td><td>-2.13565891</td><td>-4.4922481</td></tr>\n",
       "\t<tr><td>-5.8430233</td><td>-4.9709302</td><td>-2.7034884</td><td>-0.174418605</td><td> 1.61337209</td><td> 3.7500000</td><td> 4.9709302</td><td> 4.9709302</td><td> 3.3575581</td><td> 0.261627907</td><td>-2.52906977</td><td>-5.3197674</td></tr>\n",
       "\t<tr><td>-5.6482558</td><td>-4.8052326</td><td>-2.6133721</td><td>-0.168604651</td><td> 1.55959302</td><td> 3.6250000</td><td> 4.8052326</td><td> 4.8052326</td><td> 3.2456395</td><td> 0.252906977</td><td>-2.44476744</td><td>-5.1424419</td></tr>\n",
       "\t<tr><td>-7.3037791</td><td>-6.2136628</td><td>-3.3793605</td><td>-0.218023256</td><td> 2.01671512</td><td> 4.6875000</td><td> 6.2136628</td><td> 6.2136628</td><td> 4.1969477</td><td> 0.327034884</td><td>-3.16133721</td><td>-6.6497093</td></tr>\n",
       "\t<tr><td>-5.3236434</td><td>-4.5290698</td><td>-2.4631783</td><td>-0.158914729</td><td> 1.46996124</td><td> 3.4166667</td><td> 4.5290698</td><td> 4.5290698</td><td> 3.0591085</td><td> 0.238372093</td><td>-2.30426357</td><td>-4.8468992</td></tr>\n",
       "\t<tr><td> 2.6942829</td><td> 2.2921512</td><td> 1.2466085</td><td> 0.080426357</td><td>-0.74394380</td><td>-1.7291667</td><td>-2.2921512</td><td>-2.2921512</td><td>-1.5482074</td><td>-0.120639535</td><td> 1.16618217</td><td> 2.4530039</td></tr>\n",
       "\t<tr><td> 3.1487403</td><td> 2.6787791</td><td> 1.4568798</td><td> 0.093992248</td><td>-0.86942829</td><td>-2.0208333</td><td>-2.6787791</td><td>-2.6787791</td><td>-1.8093508</td><td>-0.140988372</td><td> 1.36288760</td><td> 2.8667636</td></tr>\n",
       "\t<tr><td> 2.9864341</td><td> 2.5406977</td><td> 1.3817829</td><td> 0.089147287</td><td>-0.82461240</td><td>-1.9166667</td><td>-2.5406977</td><td>-2.5406977</td><td>-1.7160853</td><td>-0.133720930</td><td> 1.29263566</td><td> 2.7189922</td></tr>\n",
       "\t<tr><td> 1.2984496</td><td> 1.1046512</td><td> 0.6007752</td><td> 0.038759690</td><td>-0.35852713</td><td>-0.8333333</td><td>-1.1046512</td><td>-1.1046512</td><td>-0.7461240</td><td>-0.058139535</td><td> 0.56201550</td><td> 1.1821705</td></tr>\n",
       "\t<tr><td>-5.6482558</td><td>-4.8052326</td><td>-2.6133721</td><td>-0.168604651</td><td> 1.55959302</td><td> 3.6250000</td><td> 4.8052326</td><td> 4.8052326</td><td> 3.2456395</td><td> 0.252906977</td><td>-2.44476744</td><td>-5.1424419</td></tr>\n",
       "\t<tr><td> 6.1676357</td><td> 5.2470930</td><td> 2.8536822</td><td> 0.184108527</td><td>-1.70300388</td><td>-3.9583333</td><td>-5.2470930</td><td>-5.2470930</td><td>-3.5440891</td><td>-0.276162791</td><td> 2.66957364</td><td> 5.6153101</td></tr>\n",
       "\t<tr><td>-2.6942829</td><td>-2.2921512</td><td>-1.2466085</td><td>-0.080426357</td><td> 0.74394380</td><td> 1.7291667</td><td> 2.2921512</td><td> 2.2921512</td><td> 1.5482074</td><td> 0.120639535</td><td>-1.16618217</td><td>-2.4530039</td></tr>\n",
       "\t<tr><td>-4.1875000</td><td>-3.5625000</td><td>-1.9375000</td><td>-0.125000000</td><td> 1.15625000</td><td> 2.6875000</td><td> 3.5625000</td><td> 3.5625000</td><td> 2.4062500</td><td> 0.187500000</td><td>-1.81250000</td><td>-3.8125000</td></tr>\n",
       "\t<tr><td> 1.4607558</td><td> 1.2427326</td><td> 0.6758721</td><td> 0.043604651</td><td>-0.40334302</td><td>-0.9375000</td><td>-1.2427326</td><td>-1.2427326</td><td>-0.8393895</td><td>-0.065406977</td><td> 0.63226744</td><td> 1.3299419</td></tr>\n",
       "\t<tr><td> 2.5644380</td><td> 2.1816860</td><td> 1.1865310</td><td> 0.076550388</td><td>-0.70809109</td><td>-1.6458333</td><td>-2.1816860</td><td>-2.1816860</td><td>-1.4735950</td><td>-0.114825581</td><td> 1.10998062</td><td> 2.3347868</td></tr>\n",
       "\t<tr><td> 0.0000000</td><td> 0.0000000</td><td> 0.0000000</td><td> 0.000000000</td><td> 0.00000000</td><td> 0.0000000</td><td> 0.0000000</td><td> 0.0000000</td><td> 0.0000000</td><td> 0.000000000</td><td> 0.00000000</td><td> 0.0000000</td></tr>\n",
       "\t<tr><td> 0.7790698</td><td> 0.6627907</td><td> 0.3604651</td><td> 0.023255814</td><td>-0.21511628</td><td>-0.5000000</td><td>-0.6627907</td><td>-0.6627907</td><td>-0.4476744</td><td>-0.034883721</td><td> 0.33720930</td><td> 0.7093023</td></tr>\n",
       "\t<tr><td>-5.7781008</td><td>-4.9156977</td><td>-2.6734496</td><td>-0.172480620</td><td> 1.59544574</td><td> 3.7083333</td><td> 4.9156977</td><td> 4.9156977</td><td> 3.3202519</td><td> 0.258720930</td><td>-2.50096899</td><td>-5.2606589</td></tr>\n",
       "\t<tr><td>-1.2335271</td><td>-1.0494186</td><td>-0.5707364</td><td>-0.036821705</td><td> 0.34060078</td><td> 0.7916667</td><td> 1.0494186</td><td> 1.0494186</td><td> 0.7088178</td><td> 0.055232558</td><td>-0.53391473</td><td>-1.1230620</td></tr>\n",
       "\t<tr><td> 0.1623062</td><td> 0.1380814</td><td> 0.0750969</td><td> 0.004844961</td><td>-0.04481589</td><td>-0.1041667</td><td>-0.1380814</td><td>-0.1380814</td><td>-0.0932655</td><td>-0.007267442</td><td> 0.07025194</td><td> 0.1477713</td></tr>\n",
       "\t<tr><td> 4.4147287</td><td> 3.7558140</td><td> 2.0426357</td><td> 0.131782946</td><td>-1.21899225</td><td>-2.8333333</td><td>-3.7558140</td><td>-3.7558140</td><td>-2.5368217</td><td>-0.197674419</td><td> 1.91085271</td><td> 4.0193798</td></tr>\n",
       "</tbody>\n",
       "</table>\n"
      ],
      "text/latex": [
       "A matrix: 21 × 12 of type dbl\n",
       "\\begin{tabular}{llllllllllll}\n",
       "\t -4.9341085 & -4.1976744 & -2.2829457 & -0.147286822 &  1.36240310 &  3.1666667 &  4.1976744 &  4.1976744 &  2.8352713 &  0.220930233 & -2.13565891 & -4.4922481\\\\\n",
       "\t -5.8430233 & -4.9709302 & -2.7034884 & -0.174418605 &  1.61337209 &  3.7500000 &  4.9709302 &  4.9709302 &  3.3575581 &  0.261627907 & -2.52906977 & -5.3197674\\\\\n",
       "\t -5.6482558 & -4.8052326 & -2.6133721 & -0.168604651 &  1.55959302 &  3.6250000 &  4.8052326 &  4.8052326 &  3.2456395 &  0.252906977 & -2.44476744 & -5.1424419\\\\\n",
       "\t -7.3037791 & -6.2136628 & -3.3793605 & -0.218023256 &  2.01671512 &  4.6875000 &  6.2136628 &  6.2136628 &  4.1969477 &  0.327034884 & -3.16133721 & -6.6497093\\\\\n",
       "\t -5.3236434 & -4.5290698 & -2.4631783 & -0.158914729 &  1.46996124 &  3.4166667 &  4.5290698 &  4.5290698 &  3.0591085 &  0.238372093 & -2.30426357 & -4.8468992\\\\\n",
       "\t  2.6942829 &  2.2921512 &  1.2466085 &  0.080426357 & -0.74394380 & -1.7291667 & -2.2921512 & -2.2921512 & -1.5482074 & -0.120639535 &  1.16618217 &  2.4530039\\\\\n",
       "\t  3.1487403 &  2.6787791 &  1.4568798 &  0.093992248 & -0.86942829 & -2.0208333 & -2.6787791 & -2.6787791 & -1.8093508 & -0.140988372 &  1.36288760 &  2.8667636\\\\\n",
       "\t  2.9864341 &  2.5406977 &  1.3817829 &  0.089147287 & -0.82461240 & -1.9166667 & -2.5406977 & -2.5406977 & -1.7160853 & -0.133720930 &  1.29263566 &  2.7189922\\\\\n",
       "\t  1.2984496 &  1.1046512 &  0.6007752 &  0.038759690 & -0.35852713 & -0.8333333 & -1.1046512 & -1.1046512 & -0.7461240 & -0.058139535 &  0.56201550 &  1.1821705\\\\\n",
       "\t -5.6482558 & -4.8052326 & -2.6133721 & -0.168604651 &  1.55959302 &  3.6250000 &  4.8052326 &  4.8052326 &  3.2456395 &  0.252906977 & -2.44476744 & -5.1424419\\\\\n",
       "\t  6.1676357 &  5.2470930 &  2.8536822 &  0.184108527 & -1.70300388 & -3.9583333 & -5.2470930 & -5.2470930 & -3.5440891 & -0.276162791 &  2.66957364 &  5.6153101\\\\\n",
       "\t -2.6942829 & -2.2921512 & -1.2466085 & -0.080426357 &  0.74394380 &  1.7291667 &  2.2921512 &  2.2921512 &  1.5482074 &  0.120639535 & -1.16618217 & -2.4530039\\\\\n",
       "\t -4.1875000 & -3.5625000 & -1.9375000 & -0.125000000 &  1.15625000 &  2.6875000 &  3.5625000 &  3.5625000 &  2.4062500 &  0.187500000 & -1.81250000 & -3.8125000\\\\\n",
       "\t  1.4607558 &  1.2427326 &  0.6758721 &  0.043604651 & -0.40334302 & -0.9375000 & -1.2427326 & -1.2427326 & -0.8393895 & -0.065406977 &  0.63226744 &  1.3299419\\\\\n",
       "\t  2.5644380 &  2.1816860 &  1.1865310 &  0.076550388 & -0.70809109 & -1.6458333 & -2.1816860 & -2.1816860 & -1.4735950 & -0.114825581 &  1.10998062 &  2.3347868\\\\\n",
       "\t  0.0000000 &  0.0000000 &  0.0000000 &  0.000000000 &  0.00000000 &  0.0000000 &  0.0000000 &  0.0000000 &  0.0000000 &  0.000000000 &  0.00000000 &  0.0000000\\\\\n",
       "\t  0.7790698 &  0.6627907 &  0.3604651 &  0.023255814 & -0.21511628 & -0.5000000 & -0.6627907 & -0.6627907 & -0.4476744 & -0.034883721 &  0.33720930 &  0.7093023\\\\\n",
       "\t -5.7781008 & -4.9156977 & -2.6734496 & -0.172480620 &  1.59544574 &  3.7083333 &  4.9156977 &  4.9156977 &  3.3202519 &  0.258720930 & -2.50096899 & -5.2606589\\\\\n",
       "\t -1.2335271 & -1.0494186 & -0.5707364 & -0.036821705 &  0.34060078 &  0.7916667 &  1.0494186 &  1.0494186 &  0.7088178 &  0.055232558 & -0.53391473 & -1.1230620\\\\\n",
       "\t  0.1623062 &  0.1380814 &  0.0750969 &  0.004844961 & -0.04481589 & -0.1041667 & -0.1380814 & -0.1380814 & -0.0932655 & -0.007267442 &  0.07025194 &  0.1477713\\\\\n",
       "\t  4.4147287 &  3.7558140 &  2.0426357 &  0.131782946 & -1.21899225 & -2.8333333 & -3.7558140 & -3.7558140 & -2.5368217 & -0.197674419 &  1.91085271 &  4.0193798\\\\\n",
       "\\end{tabular}\n"
      ],
      "text/markdown": [
       "\n",
       "A matrix: 21 × 12 of type dbl\n",
       "\n",
       "| -4.9341085 | -4.1976744 | -2.2829457 | -0.147286822 |  1.36240310 |  3.1666667 |  4.1976744 |  4.1976744 |  2.8352713 |  0.220930233 | -2.13565891 | -4.4922481 |\n",
       "| -5.8430233 | -4.9709302 | -2.7034884 | -0.174418605 |  1.61337209 |  3.7500000 |  4.9709302 |  4.9709302 |  3.3575581 |  0.261627907 | -2.52906977 | -5.3197674 |\n",
       "| -5.6482558 | -4.8052326 | -2.6133721 | -0.168604651 |  1.55959302 |  3.6250000 |  4.8052326 |  4.8052326 |  3.2456395 |  0.252906977 | -2.44476744 | -5.1424419 |\n",
       "| -7.3037791 | -6.2136628 | -3.3793605 | -0.218023256 |  2.01671512 |  4.6875000 |  6.2136628 |  6.2136628 |  4.1969477 |  0.327034884 | -3.16133721 | -6.6497093 |\n",
       "| -5.3236434 | -4.5290698 | -2.4631783 | -0.158914729 |  1.46996124 |  3.4166667 |  4.5290698 |  4.5290698 |  3.0591085 |  0.238372093 | -2.30426357 | -4.8468992 |\n",
       "|  2.6942829 |  2.2921512 |  1.2466085 |  0.080426357 | -0.74394380 | -1.7291667 | -2.2921512 | -2.2921512 | -1.5482074 | -0.120639535 |  1.16618217 |  2.4530039 |\n",
       "|  3.1487403 |  2.6787791 |  1.4568798 |  0.093992248 | -0.86942829 | -2.0208333 | -2.6787791 | -2.6787791 | -1.8093508 | -0.140988372 |  1.36288760 |  2.8667636 |\n",
       "|  2.9864341 |  2.5406977 |  1.3817829 |  0.089147287 | -0.82461240 | -1.9166667 | -2.5406977 | -2.5406977 | -1.7160853 | -0.133720930 |  1.29263566 |  2.7189922 |\n",
       "|  1.2984496 |  1.1046512 |  0.6007752 |  0.038759690 | -0.35852713 | -0.8333333 | -1.1046512 | -1.1046512 | -0.7461240 | -0.058139535 |  0.56201550 |  1.1821705 |\n",
       "| -5.6482558 | -4.8052326 | -2.6133721 | -0.168604651 |  1.55959302 |  3.6250000 |  4.8052326 |  4.8052326 |  3.2456395 |  0.252906977 | -2.44476744 | -5.1424419 |\n",
       "|  6.1676357 |  5.2470930 |  2.8536822 |  0.184108527 | -1.70300388 | -3.9583333 | -5.2470930 | -5.2470930 | -3.5440891 | -0.276162791 |  2.66957364 |  5.6153101 |\n",
       "| -2.6942829 | -2.2921512 | -1.2466085 | -0.080426357 |  0.74394380 |  1.7291667 |  2.2921512 |  2.2921512 |  1.5482074 |  0.120639535 | -1.16618217 | -2.4530039 |\n",
       "| -4.1875000 | -3.5625000 | -1.9375000 | -0.125000000 |  1.15625000 |  2.6875000 |  3.5625000 |  3.5625000 |  2.4062500 |  0.187500000 | -1.81250000 | -3.8125000 |\n",
       "|  1.4607558 |  1.2427326 |  0.6758721 |  0.043604651 | -0.40334302 | -0.9375000 | -1.2427326 | -1.2427326 | -0.8393895 | -0.065406977 |  0.63226744 |  1.3299419 |\n",
       "|  2.5644380 |  2.1816860 |  1.1865310 |  0.076550388 | -0.70809109 | -1.6458333 | -2.1816860 | -2.1816860 | -1.4735950 | -0.114825581 |  1.10998062 |  2.3347868 |\n",
       "|  0.0000000 |  0.0000000 |  0.0000000 |  0.000000000 |  0.00000000 |  0.0000000 |  0.0000000 |  0.0000000 |  0.0000000 |  0.000000000 |  0.00000000 |  0.0000000 |\n",
       "|  0.7790698 |  0.6627907 |  0.3604651 |  0.023255814 | -0.21511628 | -0.5000000 | -0.6627907 | -0.6627907 | -0.4476744 | -0.034883721 |  0.33720930 |  0.7093023 |\n",
       "| -5.7781008 | -4.9156977 | -2.6734496 | -0.172480620 |  1.59544574 |  3.7083333 |  4.9156977 |  4.9156977 |  3.3202519 |  0.258720930 | -2.50096899 | -5.2606589 |\n",
       "| -1.2335271 | -1.0494186 | -0.5707364 | -0.036821705 |  0.34060078 |  0.7916667 |  1.0494186 |  1.0494186 |  0.7088178 |  0.055232558 | -0.53391473 | -1.1230620 |\n",
       "|  0.1623062 |  0.1380814 |  0.0750969 |  0.004844961 | -0.04481589 | -0.1041667 | -0.1380814 | -0.1380814 | -0.0932655 | -0.007267442 |  0.07025194 |  0.1477713 |\n",
       "|  4.4147287 |  3.7558140 |  2.0426357 |  0.131782946 | -1.21899225 | -2.8333333 | -3.7558140 | -3.7558140 | -2.5368217 | -0.197674419 |  1.91085271 |  4.0193798 |\n",
       "\n"
      ],
      "text/plain": [
       "      [,1]       [,2]       [,3]       [,4]         [,5]        [,6]      \n",
       " [1,] -4.9341085 -4.1976744 -2.2829457 -0.147286822  1.36240310  3.1666667\n",
       " [2,] -5.8430233 -4.9709302 -2.7034884 -0.174418605  1.61337209  3.7500000\n",
       " [3,] -5.6482558 -4.8052326 -2.6133721 -0.168604651  1.55959302  3.6250000\n",
       " [4,] -7.3037791 -6.2136628 -3.3793605 -0.218023256  2.01671512  4.6875000\n",
       " [5,] -5.3236434 -4.5290698 -2.4631783 -0.158914729  1.46996124  3.4166667\n",
       " [6,]  2.6942829  2.2921512  1.2466085  0.080426357 -0.74394380 -1.7291667\n",
       " [7,]  3.1487403  2.6787791  1.4568798  0.093992248 -0.86942829 -2.0208333\n",
       " [8,]  2.9864341  2.5406977  1.3817829  0.089147287 -0.82461240 -1.9166667\n",
       " [9,]  1.2984496  1.1046512  0.6007752  0.038759690 -0.35852713 -0.8333333\n",
       "[10,] -5.6482558 -4.8052326 -2.6133721 -0.168604651  1.55959302  3.6250000\n",
       "[11,]  6.1676357  5.2470930  2.8536822  0.184108527 -1.70300388 -3.9583333\n",
       "[12,] -2.6942829 -2.2921512 -1.2466085 -0.080426357  0.74394380  1.7291667\n",
       "[13,] -4.1875000 -3.5625000 -1.9375000 -0.125000000  1.15625000  2.6875000\n",
       "[14,]  1.4607558  1.2427326  0.6758721  0.043604651 -0.40334302 -0.9375000\n",
       "[15,]  2.5644380  2.1816860  1.1865310  0.076550388 -0.70809109 -1.6458333\n",
       "[16,]  0.0000000  0.0000000  0.0000000  0.000000000  0.00000000  0.0000000\n",
       "[17,]  0.7790698  0.6627907  0.3604651  0.023255814 -0.21511628 -0.5000000\n",
       "[18,] -5.7781008 -4.9156977 -2.6734496 -0.172480620  1.59544574  3.7083333\n",
       "[19,] -1.2335271 -1.0494186 -0.5707364 -0.036821705  0.34060078  0.7916667\n",
       "[20,]  0.1623062  0.1380814  0.0750969  0.004844961 -0.04481589 -0.1041667\n",
       "[21,]  4.4147287  3.7558140  2.0426357  0.131782946 -1.21899225 -2.8333333\n",
       "      [,7]       [,8]       [,9]       [,10]        [,11]       [,12]     \n",
       " [1,]  4.1976744  4.1976744  2.8352713  0.220930233 -2.13565891 -4.4922481\n",
       " [2,]  4.9709302  4.9709302  3.3575581  0.261627907 -2.52906977 -5.3197674\n",
       " [3,]  4.8052326  4.8052326  3.2456395  0.252906977 -2.44476744 -5.1424419\n",
       " [4,]  6.2136628  6.2136628  4.1969477  0.327034884 -3.16133721 -6.6497093\n",
       " [5,]  4.5290698  4.5290698  3.0591085  0.238372093 -2.30426357 -4.8468992\n",
       " [6,] -2.2921512 -2.2921512 -1.5482074 -0.120639535  1.16618217  2.4530039\n",
       " [7,] -2.6787791 -2.6787791 -1.8093508 -0.140988372  1.36288760  2.8667636\n",
       " [8,] -2.5406977 -2.5406977 -1.7160853 -0.133720930  1.29263566  2.7189922\n",
       " [9,] -1.1046512 -1.1046512 -0.7461240 -0.058139535  0.56201550  1.1821705\n",
       "[10,]  4.8052326  4.8052326  3.2456395  0.252906977 -2.44476744 -5.1424419\n",
       "[11,] -5.2470930 -5.2470930 -3.5440891 -0.276162791  2.66957364  5.6153101\n",
       "[12,]  2.2921512  2.2921512  1.5482074  0.120639535 -1.16618217 -2.4530039\n",
       "[13,]  3.5625000  3.5625000  2.4062500  0.187500000 -1.81250000 -3.8125000\n",
       "[14,] -1.2427326 -1.2427326 -0.8393895 -0.065406977  0.63226744  1.3299419\n",
       "[15,] -2.1816860 -2.1816860 -1.4735950 -0.114825581  1.10998062  2.3347868\n",
       "[16,]  0.0000000  0.0000000  0.0000000  0.000000000  0.00000000  0.0000000\n",
       "[17,] -0.6627907 -0.6627907 -0.4476744 -0.034883721  0.33720930  0.7093023\n",
       "[18,]  4.9156977  4.9156977  3.3202519  0.258720930 -2.50096899 -5.2606589\n",
       "[19,]  1.0494186  1.0494186  0.7088178  0.055232558 -0.53391473 -1.1230620\n",
       "[20,] -0.1380814 -0.1380814 -0.0932655 -0.007267442  0.07025194  0.1477713\n",
       "[21,] -3.7558140 -3.7558140 -2.5368217 -0.197674419  1.91085271  4.0193798"
      ]
     },
     "metadata": {},
     "output_type": "display_data"
    }
   ],
   "source": [
    "# (행효과 X 열효과) / 공통값\n",
    "comparison <- (matrix(polish$row, ncol = 1) %*% matrix(polish$col, nrow = 1))/polish$overall\n",
    "comparison"
   ]
  },
  {
   "cell_type": "code",
   "execution_count": 27,
   "id": "38b0f1ee-bb68-403c-9967-67a24122a541",
   "metadata": {},
   "outputs": [
    {
     "data": {
      "image/png": "[encoded data removed]",
      "text/plain": [
       "plot without title"
      ]
     },
     "metadata": {
      "image/png": {
       "height": 420,
       "width": 420
      }
     },
     "output_type": "display_data"
    }
   ],
   "source": [
    "plot(polish$residual ~ comparison, xlim = c(-15, 15), ylim = c(-15, 15))"
   ]
  },
  {
   "cell_type": "code",
   "execution_count": 30,
   "id": "fa1c52b5-b32a-45ef-91b5-bcd62c3feddd",
   "metadata": {},
   "outputs": [
    {
     "data": {
      "text/html": [
       "<table class=\"dataframe\">\n",
       "<caption>A matrix: 21 × 12 of type dbl</caption>\n",
       "<thead>\n",
       "\t<tr><th></th><th scope=col>Jan</th><th scope=col>Feb</th><th scope=col>March</th><th scope=col>April</th><th scope=col>May</th><th scope=col>June</th><th scope=col>July</th><th scope=col>Aug</th><th scope=col>Sep</th><th scope=col>Oct</th><th scope=col>Nov</th><th scope=col>Dec</th></tr>\n",
       "</thead>\n",
       "<tbody>\n",
       "\t<tr><th scope=row>MOSCOW</th><td>-5.4</td><td>-5.6</td><td>-4.4</td><td> 0.0</td><td> 5.9</td><td>  7.4</td><td>  7.1</td><td>  5.1</td><td> 1.9</td><td>-0.1</td><td>-3.1</td><td>-4.6</td></tr>\n",
       "\t<tr><th scope=row>TORONTO</th><td>-3.8</td><td>-5.0</td><td>-3.8</td><td>-2.9</td><td>-4.9</td><td>  5.5</td><td>  6.8</td><td>  6.2</td><td> 4.6</td><td> 2.0</td><td> 4.0</td><td>-2.0</td></tr>\n",
       "\t<tr><th scope=row>GENEVA</th><td>-0.7</td><td>-2.9</td><td>-0.2</td><td> 0.2</td><td> 1.1</td><td>  0.6</td><td>  2.8</td><td>  2.3</td><td> 0.1</td><td>-0.9</td><td>-0.9</td><td>-0.4</td></tr>\n",
       "\t<tr><th scope=row>LONDON</th><td> 2.0</td><td> 1.2</td><td> 0.0</td><td>-1.1</td><td>-0.2</td><td> -0.2</td><td>  0.0</td><td> -0.5</td><td>-0.2</td><td> 0.2</td><td> 0.8</td><td> 2.2</td></tr>\n",
       "\t<tr><th scope=row>FRAKFURT</th><td>-3.1</td><td>-2.8</td><td>-0.6</td><td> 1.3</td><td> 1.8</td><td>  2.2</td><td>  1.9</td><td>  1.4</td><td> 0.2</td><td>-0.3</td><td>-1.8</td><td>-2.3</td></tr>\n",
       "\t<tr><th scope=row>PARIS</th><td> 1.2</td><td>-0.1</td><td>-0.3</td><td>-0.4</td><td> 0.0</td><td>  0.4</td><td>  0.7</td><td>  0.2</td><td> 0.0</td><td>-0.1</td><td>-0.6</td><td>-0.1</td></tr>\n",
       "\t<tr><th scope=row>NEW_YORK</th><td>-3.9</td><td>-5.7</td><td>-4.4</td><td>-2.6</td><td> 1.4</td><td>  3.3</td><td>  4.6</td><td>  3.6</td><td> 1.9</td><td> 1.3</td><td>-1.2</td><td>-3.7</td></tr>\n",
       "\t<tr><th scope=row>MADRID</th><td>-0.2</td><td> 0.0</td><td>-0.2</td><td>-0.9</td><td> 0.6</td><td>  2.0</td><td>  4.2</td><td>  3.8</td><td> 2.1</td><td> 0.0</td><td>-1.0</td><td>-1.0</td></tr>\n",
       "\t<tr><th scope=row>SAN_FRANCISCO</th><td> 3.2</td><td> 2.5</td><td> 1.2</td><td>-1.4</td><td>-2.4</td><td> -4.0</td><td> -4.8</td><td> -4.8</td><td>-1.9</td><td> 1.5</td><td> 2.0</td><td> 3.0</td></tr>\n",
       "\t<tr><th scope=row>TOKYO</th><td>-2.9</td><td>-3.7</td><td>-3.9</td><td>-2.1</td><td> 0.4</td><td>  0.3</td><td>  2.6</td><td>  4.1</td><td> 2.9</td><td> 0.8</td><td>-0.2</td><td>-1.2</td></tr>\n",
       "\t<tr><th scope=row>ROME</th><td>-0.2</td><td> 0.0</td><td>-0.8</td><td>-1.4</td><td>-0.4</td><td>  1.0</td><td>  2.2</td><td>  2.2</td><td> 1.1</td><td> 0.5</td><td> 0.0</td><td> 0.0</td></tr>\n",
       "\t<tr><th scope=row>SYDNEY</th><td>14.9</td><td>13.6</td><td> 7.4</td><td> 1.2</td><td>-4.8</td><td>-12.9</td><td>-13.6</td><td>-12.6</td><td>-7.8</td><td>-1.4</td><td> 6.1</td><td>14.1</td></tr>\n",
       "\t<tr><th scope=row>MEXICO_CITY</th><td> 1.1</td><td> 4.8</td><td> 3.6</td><td> 1.4</td><td>-1.1</td><td> -4.2</td><td> -5.9</td><td> -6.4</td><td>-4.1</td><td>-1.2</td><td> 1.8</td><td> 1.8</td></tr>\n",
       "\t<tr><th scope=row>NEW_DELHI</th><td>-2.3</td><td>-0.1</td><td> 1.2</td><td> 4.1</td><td> 6.5</td><td>  3.9</td><td> -0.3</td><td> -1.3</td><td> 0.0</td><td> 1.4</td><td>-1.1</td><td>-1.6</td></tr>\n",
       "\t<tr><th scope=row>BAHRAIN</th><td>-1.2</td><td>-2.0</td><td>-1.8</td><td>-1.4</td><td> 0.6</td><td>  0.0</td><td> -0.2</td><td>  0.2</td><td> 0.6</td><td> 1.5</td><td> 1.0</td><td> 0.0</td></tr>\n",
       "\t<tr><th scope=row>DUBAI</th><td> 0.0</td><td>-0.2</td><td> 0.0</td><td>-1.1</td><td>-0.7</td><td> -1.2</td><td>  0.0</td><td>  0.0</td><td>-0.2</td><td> 0.8</td><td> 0.8</td><td> 1.2</td></tr>\n",
       "\t<tr><th scope=row>COLOMBO</th><td> 7.4</td><td> 6.1</td><td> 3.9</td><td> 0.8</td><td>-1.3</td><td> -4.9</td><td> -7.1</td><td> -7.1</td><td>-4.3</td><td>-0.9</td><td> 7.6</td><td> 6.6</td></tr>\n",
       "\t<tr><th scope=row>MANILA</th><td> 5.4</td><td> 4.6</td><td> 3.4</td><td> 0.8</td><td>-1.3</td><td> -4.4</td><td> -8.1</td><td> -8.1</td><td>-5.3</td><td>-0.9</td><td> 1.6</td><td> 5.1</td></tr>\n",
       "\t<tr><th scope=row>SINGAPORE</th><td> 7.6</td><td> 6.4</td><td> 4.1</td><td> 0.5</td><td>-2.6</td><td> -5.1</td><td> -6.9</td><td> -6.9</td><td>-5.1</td><td>-0.6</td><td> 3.4</td><td> 6.9</td></tr>\n",
       "\t<tr><th scope=row>CALCUTTA</th><td> 1.0</td><td> 2.2</td><td> 4.0</td><td> 2.9</td><td> 1.3</td><td> -3.2</td><td> -5.5</td><td> -5.5</td><td>-3.2</td><td> 0.2</td><td>-0.2</td><td>-0.2</td></tr>\n",
       "\t<tr><th scope=row>CHENNAI</th><td> 3.2</td><td> 2.4</td><td> 1.2</td><td> 0.6</td><td> 1.0</td><td> -3.1</td><td> -6.3</td><td> -6.8</td><td>-5.5</td><td>-2.6</td><td>-0.6</td><td> 2.4</td></tr>\n",
       "</tbody>\n",
       "</table>\n"
      ],
      "text/latex": [
       "A matrix: 21 × 12 of type dbl\n",
       "\\begin{tabular}{r|llllllllllll}\n",
       "  & Jan & Feb & March & April & May & June & July & Aug & Sep & Oct & Nov & Dec\\\\\n",
       "\\hline\n",
       "\tMOSCOW & -5.4 & -5.6 & -4.4 &  0.0 &  5.9 &   7.4 &   7.1 &   5.1 &  1.9 & -0.1 & -3.1 & -4.6\\\\\n",
       "\tTORONTO & -3.8 & -5.0 & -3.8 & -2.9 & -4.9 &   5.5 &   6.8 &   6.2 &  4.6 &  2.0 &  4.0 & -2.0\\\\\n",
       "\tGENEVA & -0.7 & -2.9 & -0.2 &  0.2 &  1.1 &   0.6 &   2.8 &   2.3 &  0.1 & -0.9 & -0.9 & -0.4\\\\\n",
       "\tLONDON &  2.0 &  1.2 &  0.0 & -1.1 & -0.2 &  -0.2 &   0.0 &  -0.5 & -0.2 &  0.2 &  0.8 &  2.2\\\\\n",
       "\tFRAKFURT & -3.1 & -2.8 & -0.6 &  1.3 &  1.8 &   2.2 &   1.9 &   1.4 &  0.2 & -0.3 & -1.8 & -2.3\\\\\n",
       "\tPARIS &  1.2 & -0.1 & -0.3 & -0.4 &  0.0 &   0.4 &   0.7 &   0.2 &  0.0 & -0.1 & -0.6 & -0.1\\\\\n",
       "\tNEW\\_YORK & -3.9 & -5.7 & -4.4 & -2.6 &  1.4 &   3.3 &   4.6 &   3.6 &  1.9 &  1.3 & -1.2 & -3.7\\\\\n",
       "\tMADRID & -0.2 &  0.0 & -0.2 & -0.9 &  0.6 &   2.0 &   4.2 &   3.8 &  2.1 &  0.0 & -1.0 & -1.0\\\\\n",
       "\tSAN\\_FRANCISCO &  3.2 &  2.5 &  1.2 & -1.4 & -2.4 &  -4.0 &  -4.8 &  -4.8 & -1.9 &  1.5 &  2.0 &  3.0\\\\\n",
       "\tTOKYO & -2.9 & -3.7 & -3.9 & -2.1 &  0.4 &   0.3 &   2.6 &   4.1 &  2.9 &  0.8 & -0.2 & -1.2\\\\\n",
       "\tROME & -0.2 &  0.0 & -0.8 & -1.4 & -0.4 &   1.0 &   2.2 &   2.2 &  1.1 &  0.5 &  0.0 &  0.0\\\\\n",
       "\tSYDNEY & 14.9 & 13.6 &  7.4 &  1.2 & -4.8 & -12.9 & -13.6 & -12.6 & -7.8 & -1.4 &  6.1 & 14.1\\\\\n",
       "\tMEXICO\\_CITY &  1.1 &  4.8 &  3.6 &  1.4 & -1.1 &  -4.2 &  -5.9 &  -6.4 & -4.1 & -1.2 &  1.8 &  1.8\\\\\n",
       "\tNEW\\_DELHI & -2.3 & -0.1 &  1.2 &  4.1 &  6.5 &   3.9 &  -0.3 &  -1.3 &  0.0 &  1.4 & -1.1 & -1.6\\\\\n",
       "\tBAHRAIN & -1.2 & -2.0 & -1.8 & -1.4 &  0.6 &   0.0 &  -0.2 &   0.2 &  0.6 &  1.5 &  1.0 &  0.0\\\\\n",
       "\tDUBAI &  0.0 & -0.2 &  0.0 & -1.1 & -0.7 &  -1.2 &   0.0 &   0.0 & -0.2 &  0.8 &  0.8 &  1.2\\\\\n",
       "\tCOLOMBO &  7.4 &  6.1 &  3.9 &  0.8 & -1.3 &  -4.9 &  -7.1 &  -7.1 & -4.3 & -0.9 &  7.6 &  6.6\\\\\n",
       "\tMANILA &  5.4 &  4.6 &  3.4 &  0.8 & -1.3 &  -4.4 &  -8.1 &  -8.1 & -5.3 & -0.9 &  1.6 &  5.1\\\\\n",
       "\tSINGAPORE &  7.6 &  6.4 &  4.1 &  0.5 & -2.6 &  -5.1 &  -6.9 &  -6.9 & -5.1 & -0.6 &  3.4 &  6.9\\\\\n",
       "\tCALCUTTA &  1.0 &  2.2 &  4.0 &  2.9 &  1.3 &  -3.2 &  -5.5 &  -5.5 & -3.2 &  0.2 & -0.2 & -0.2\\\\\n",
       "\tCHENNAI &  3.2 &  2.4 &  1.2 &  0.6 &  1.0 &  -3.1 &  -6.3 &  -6.8 & -5.5 & -2.6 & -0.6 &  2.4\\\\\n",
       "\\end{tabular}\n"
      ],
      "text/markdown": [
       "\n",
       "A matrix: 21 × 12 of type dbl\n",
       "\n",
       "| <!--/--> | Jan | Feb | March | April | May | June | July | Aug | Sep | Oct | Nov | Dec |\n",
       "|---|---|---|---|---|---|---|---|---|---|---|---|---|\n",
       "| MOSCOW | -5.4 | -5.6 | -4.4 |  0.0 |  5.9 |   7.4 |   7.1 |   5.1 |  1.9 | -0.1 | -3.1 | -4.6 |\n",
       "| TORONTO | -3.8 | -5.0 | -3.8 | -2.9 | -4.9 |   5.5 |   6.8 |   6.2 |  4.6 |  2.0 |  4.0 | -2.0 |\n",
       "| GENEVA | -0.7 | -2.9 | -0.2 |  0.2 |  1.1 |   0.6 |   2.8 |   2.3 |  0.1 | -0.9 | -0.9 | -0.4 |\n",
       "| LONDON |  2.0 |  1.2 |  0.0 | -1.1 | -0.2 |  -0.2 |   0.0 |  -0.5 | -0.2 |  0.2 |  0.8 |  2.2 |\n",
       "| FRAKFURT | -3.1 | -2.8 | -0.6 |  1.3 |  1.8 |   2.2 |   1.9 |   1.4 |  0.2 | -0.3 | -1.8 | -2.3 |\n",
       "| PARIS |  1.2 | -0.1 | -0.3 | -0.4 |  0.0 |   0.4 |   0.7 |   0.2 |  0.0 | -0.1 | -0.6 | -0.1 |\n",
       "| NEW_YORK | -3.9 | -5.7 | -4.4 | -2.6 |  1.4 |   3.3 |   4.6 |   3.6 |  1.9 |  1.3 | -1.2 | -3.7 |\n",
       "| MADRID | -0.2 |  0.0 | -0.2 | -0.9 |  0.6 |   2.0 |   4.2 |   3.8 |  2.1 |  0.0 | -1.0 | -1.0 |\n",
       "| SAN_FRANCISCO |  3.2 |  2.5 |  1.2 | -1.4 | -2.4 |  -4.0 |  -4.8 |  -4.8 | -1.9 |  1.5 |  2.0 |  3.0 |\n",
       "| TOKYO | -2.9 | -3.7 | -3.9 | -2.1 |  0.4 |   0.3 |   2.6 |   4.1 |  2.9 |  0.8 | -0.2 | -1.2 |\n",
       "| ROME | -0.2 |  0.0 | -0.8 | -1.4 | -0.4 |   1.0 |   2.2 |   2.2 |  1.1 |  0.5 |  0.0 |  0.0 |\n",
       "| SYDNEY | 14.9 | 13.6 |  7.4 |  1.2 | -4.8 | -12.9 | -13.6 | -12.6 | -7.8 | -1.4 |  6.1 | 14.1 |\n",
       "| MEXICO_CITY |  1.1 |  4.8 |  3.6 |  1.4 | -1.1 |  -4.2 |  -5.9 |  -6.4 | -4.1 | -1.2 |  1.8 |  1.8 |\n",
       "| NEW_DELHI | -2.3 | -0.1 |  1.2 |  4.1 |  6.5 |   3.9 |  -0.3 |  -1.3 |  0.0 |  1.4 | -1.1 | -1.6 |\n",
       "| BAHRAIN | -1.2 | -2.0 | -1.8 | -1.4 |  0.6 |   0.0 |  -0.2 |   0.2 |  0.6 |  1.5 |  1.0 |  0.0 |\n",
       "| DUBAI |  0.0 | -0.2 |  0.0 | -1.1 | -0.7 |  -1.2 |   0.0 |   0.0 | -0.2 |  0.8 |  0.8 |  1.2 |\n",
       "| COLOMBO |  7.4 |  6.1 |  3.9 |  0.8 | -1.3 |  -4.9 |  -7.1 |  -7.1 | -4.3 | -0.9 |  7.6 |  6.6 |\n",
       "| MANILA |  5.4 |  4.6 |  3.4 |  0.8 | -1.3 |  -4.4 |  -8.1 |  -8.1 | -5.3 | -0.9 |  1.6 |  5.1 |\n",
       "| SINGAPORE |  7.6 |  6.4 |  4.1 |  0.5 | -2.6 |  -5.1 |  -6.9 |  -6.9 | -5.1 | -0.6 |  3.4 |  6.9 |\n",
       "| CALCUTTA |  1.0 |  2.2 |  4.0 |  2.9 |  1.3 |  -3.2 |  -5.5 |  -5.5 | -3.2 |  0.2 | -0.2 | -0.2 |\n",
       "| CHENNAI |  3.2 |  2.4 |  1.2 |  0.6 |  1.0 |  -3.1 |  -6.3 |  -6.8 | -5.5 | -2.6 | -0.6 |  2.4 |\n",
       "\n"
      ],
      "text/plain": [
       "              Jan  Feb  March April May  June  July  Aug   Sep  Oct  Nov  Dec \n",
       "MOSCOW        -5.4 -5.6 -4.4   0.0   5.9   7.4   7.1   5.1  1.9 -0.1 -3.1 -4.6\n",
       "TORONTO       -3.8 -5.0 -3.8  -2.9  -4.9   5.5   6.8   6.2  4.6  2.0  4.0 -2.0\n",
       "GENEVA        -0.7 -2.9 -0.2   0.2   1.1   0.6   2.8   2.3  0.1 -0.9 -0.9 -0.4\n",
       "LONDON         2.0  1.2  0.0  -1.1  -0.2  -0.2   0.0  -0.5 -0.2  0.2  0.8  2.2\n",
       "FRAKFURT      -3.1 -2.8 -0.6   1.3   1.8   2.2   1.9   1.4  0.2 -0.3 -1.8 -2.3\n",
       "PARIS          1.2 -0.1 -0.3  -0.4   0.0   0.4   0.7   0.2  0.0 -0.1 -0.6 -0.1\n",
       "NEW_YORK      -3.9 -5.7 -4.4  -2.6   1.4   3.3   4.6   3.6  1.9  1.3 -1.2 -3.7\n",
       "MADRID        -0.2  0.0 -0.2  -0.9   0.6   2.0   4.2   3.8  2.1  0.0 -1.0 -1.0\n",
       "SAN_FRANCISCO  3.2  2.5  1.2  -1.4  -2.4  -4.0  -4.8  -4.8 -1.9  1.5  2.0  3.0\n",
       "TOKYO         -2.9 -3.7 -3.9  -2.1   0.4   0.3   2.6   4.1  2.9  0.8 -0.2 -1.2\n",
       "ROME          -0.2  0.0 -0.8  -1.4  -0.4   1.0   2.2   2.2  1.1  0.5  0.0  0.0\n",
       "SYDNEY        14.9 13.6  7.4   1.2  -4.8 -12.9 -13.6 -12.6 -7.8 -1.4  6.1 14.1\n",
       "MEXICO_CITY    1.1  4.8  3.6   1.4  -1.1  -4.2  -5.9  -6.4 -4.1 -1.2  1.8  1.8\n",
       "NEW_DELHI     -2.3 -0.1  1.2   4.1   6.5   3.9  -0.3  -1.3  0.0  1.4 -1.1 -1.6\n",
       "BAHRAIN       -1.2 -2.0 -1.8  -1.4   0.6   0.0  -0.2   0.2  0.6  1.5  1.0  0.0\n",
       "DUBAI          0.0 -0.2  0.0  -1.1  -0.7  -1.2   0.0   0.0 -0.2  0.8  0.8  1.2\n",
       "COLOMBO        7.4  6.1  3.9   0.8  -1.3  -4.9  -7.1  -7.1 -4.3 -0.9  7.6  6.6\n",
       "MANILA         5.4  4.6  3.4   0.8  -1.3  -4.4  -8.1  -8.1 -5.3 -0.9  1.6  5.1\n",
       "SINGAPORE      7.6  6.4  4.1   0.5  -2.6  -5.1  -6.9  -6.9 -5.1 -0.6  3.4  6.9\n",
       "CALCUTTA       1.0  2.2  4.0   2.9   1.3  -3.2  -5.5  -5.5 -3.2  0.2 -0.2 -0.2\n",
       "CHENNAI        3.2  2.4  1.2   0.6   1.0  -3.1  -6.3  -6.8 -5.5 -2.6 -0.6  2.4"
      ]
     },
     "metadata": {},
     "output_type": "display_data"
    }
   ],
   "source": [
    "round(polish$residuals[order(polish$row),],1)"
   ]
  },
  {
   "cell_type": "markdown",
   "id": "89feb329-8e59-405a-9f59-50c64d52bb74",
   "metadata": {},
   "source": [
    "## 가구 소비지출 사례"
   ]
  },
  {
   "cell_type": "code",
   "execution_count": 34,
   "id": "444404e0-ae60-469f-bc01-7c87f9ace681",
   "metadata": {},
   "outputs": [
    {
     "data": {
      "text/html": [
       "<table class=\"dataframe\">\n",
       "<caption>A data.frame: 12 × 10</caption>\n",
       "<thead>\n",
       "\t<tr><th></th><th scope=col>식료품</th><th scope=col>주거비</th><th scope=col>광열수도</th><th scope=col>가구가사</th><th scope=col>피복신발</th><th scope=col>보건의료</th><th scope=col>교육</th><th scope=col>교양오락</th><th scope=col>교통통신</th><th scope=col>기타소비</th></tr>\n",
       "\t<tr><th></th><th scope=col>&lt;int&gt;</th><th scope=col>&lt;int&gt;</th><th scope=col>&lt;int&gt;</th><th scope=col>&lt;int&gt;</th><th scope=col>&lt;int&gt;</th><th scope=col>&lt;int&gt;</th><th scope=col>&lt;int&gt;</th><th scope=col>&lt;int&gt;</th><th scope=col>&lt;int&gt;</th><th scope=col>&lt;int&gt;</th></tr>\n",
       "</thead>\n",
       "<tbody>\n",
       "\t<tr><th scope=row>1993</th><td>301675</td><td>45588</td><td>44341</td><td>51479</td><td> 75672</td><td>50533</td><td> 95654</td><td>51904</td><td>103564</td><td>200544</td></tr>\n",
       "\t<tr><th scope=row>1994</th><td>341574</td><td>47389</td><td>45995</td><td>55698</td><td> 85239</td><td>54408</td><td>106110</td><td>58551</td><td>129972</td><td>215496</td></tr>\n",
       "\t<tr><th scope=row>1995</th><td>367080</td><td>48301</td><td>52271</td><td>59117</td><td> 97474</td><td>59373</td><td>127027</td><td>66848</td><td>142972</td><td>245429</td></tr>\n",
       "\t<tr><th scope=row>1996</th><td>409502</td><td>54037</td><td>60177</td><td>62996</td><td>104896</td><td>65592</td><td>149334</td><td>75746</td><td>167487</td><td>277086</td></tr>\n",
       "\t<tr><th scope=row>1997</th><td>427458</td><td>54038</td><td>67972</td><td>63376</td><td> 97824</td><td>66640</td><td>162403</td><td>77057</td><td>188192</td><td>284584</td></tr>\n",
       "\t<tr><th scope=row>1998</th><td>365859</td><td>49785</td><td>74272</td><td>53147</td><td> 69750</td><td>58652</td><td>151439</td><td>58589</td><td>183911</td><td>250820</td></tr>\n",
       "\t<tr><th scope=row>1999</th><td>412056</td><td>54190</td><td>76172</td><td>55533</td><td> 80223</td><td>67098</td><td>164242</td><td>71850</td><td>225085</td><td>272430</td></tr>\n",
       "\t<tr><th scope=row>2000</th><td>447018</td><td>57026</td><td>86762</td><td>59539</td><td> 91785</td><td>70606</td><td>182370</td><td>84481</td><td>261442</td><td>291272</td></tr>\n",
       "\t<tr><th scope=row>2001</th><td>463582</td><td>68246</td><td>92527</td><td>70408</td><td> 98140</td><td>74300</td><td>199407</td><td>86650</td><td>286626</td><td>322237</td></tr>\n",
       "\t<tr><th scope=row>2002</th><td>481049</td><td>62394</td><td>93238</td><td>71424</td><td>101980</td><td>81057</td><td>206033</td><td>86705</td><td>309288</td><td>341645</td></tr>\n",
       "\t<tr><th scope=row>2003</th><td>509649</td><td>65051</td><td>94395</td><td>72480</td><td>106861</td><td>89657</td><td>224005</td><td>93911</td><td>329453</td><td>337389</td></tr>\n",
       "\t<tr><th scope=row>2004</th><td>544775</td><td>66631</td><td>97937</td><td>79384</td><td>105079</td><td>94494</td><td>235813</td><td>97981</td><td>346974</td><td>349143</td></tr>\n",
       "</tbody>\n",
       "</table>\n"
      ],
      "text/latex": [
       "A data.frame: 12 × 10\n",
       "\\begin{tabular}{r|llllllllll}\n",
       "  & 식료품 & 주거비 & 광열수도 & 가구가사 & 피복신발 & 보건의료 & 교육 & 교양오락 & 교통통신 & 기타소비\\\\\n",
       "  & <int> & <int> & <int> & <int> & <int> & <int> & <int> & <int> & <int> & <int>\\\\\n",
       "\\hline\n",
       "\t1993 & 301675 & 45588 & 44341 & 51479 &  75672 & 50533 &  95654 & 51904 & 103564 & 200544\\\\\n",
       "\t1994 & 341574 & 47389 & 45995 & 55698 &  85239 & 54408 & 106110 & 58551 & 129972 & 215496\\\\\n",
       "\t1995 & 367080 & 48301 & 52271 & 59117 &  97474 & 59373 & 127027 & 66848 & 142972 & 245429\\\\\n",
       "\t1996 & 409502 & 54037 & 60177 & 62996 & 104896 & 65592 & 149334 & 75746 & 167487 & 277086\\\\\n",
       "\t1997 & 427458 & 54038 & 67972 & 63376 &  97824 & 66640 & 162403 & 77057 & 188192 & 284584\\\\\n",
       "\t1998 & 365859 & 49785 & 74272 & 53147 &  69750 & 58652 & 151439 & 58589 & 183911 & 250820\\\\\n",
       "\t1999 & 412056 & 54190 & 76172 & 55533 &  80223 & 67098 & 164242 & 71850 & 225085 & 272430\\\\\n",
       "\t2000 & 447018 & 57026 & 86762 & 59539 &  91785 & 70606 & 182370 & 84481 & 261442 & 291272\\\\\n",
       "\t2001 & 463582 & 68246 & 92527 & 70408 &  98140 & 74300 & 199407 & 86650 & 286626 & 322237\\\\\n",
       "\t2002 & 481049 & 62394 & 93238 & 71424 & 101980 & 81057 & 206033 & 86705 & 309288 & 341645\\\\\n",
       "\t2003 & 509649 & 65051 & 94395 & 72480 & 106861 & 89657 & 224005 & 93911 & 329453 & 337389\\\\\n",
       "\t2004 & 544775 & 66631 & 97937 & 79384 & 105079 & 94494 & 235813 & 97981 & 346974 & 349143\\\\\n",
       "\\end{tabular}\n"
      ],
      "text/markdown": [
       "\n",
       "A data.frame: 12 × 10\n",
       "\n",
       "| <!--/--> | 식료품 &lt;int&gt; | 주거비 &lt;int&gt; | 광열수도 &lt;int&gt; | 가구가사 &lt;int&gt; | 피복신발 &lt;int&gt; | 보건의료 &lt;int&gt; | 교육 &lt;int&gt; | 교양오락 &lt;int&gt; | 교통통신 &lt;int&gt; | 기타소비 &lt;int&gt; |\n",
       "|---|---|---|---|---|---|---|---|---|---|---|\n",
       "| 1993 | 301675 | 45588 | 44341 | 51479 |  75672 | 50533 |  95654 | 51904 | 103564 | 200544 |\n",
       "| 1994 | 341574 | 47389 | 45995 | 55698 |  85239 | 54408 | 106110 | 58551 | 129972 | 215496 |\n",
       "| 1995 | 367080 | 48301 | 52271 | 59117 |  97474 | 59373 | 127027 | 66848 | 142972 | 245429 |\n",
       "| 1996 | 409502 | 54037 | 60177 | 62996 | 104896 | 65592 | 149334 | 75746 | 167487 | 277086 |\n",
       "| 1997 | 427458 | 54038 | 67972 | 63376 |  97824 | 66640 | 162403 | 77057 | 188192 | 284584 |\n",
       "| 1998 | 365859 | 49785 | 74272 | 53147 |  69750 | 58652 | 151439 | 58589 | 183911 | 250820 |\n",
       "| 1999 | 412056 | 54190 | 76172 | 55533 |  80223 | 67098 | 164242 | 71850 | 225085 | 272430 |\n",
       "| 2000 | 447018 | 57026 | 86762 | 59539 |  91785 | 70606 | 182370 | 84481 | 261442 | 291272 |\n",
       "| 2001 | 463582 | 68246 | 92527 | 70408 |  98140 | 74300 | 199407 | 86650 | 286626 | 322237 |\n",
       "| 2002 | 481049 | 62394 | 93238 | 71424 | 101980 | 81057 | 206033 | 86705 | 309288 | 341645 |\n",
       "| 2003 | 509649 | 65051 | 94395 | 72480 | 106861 | 89657 | 224005 | 93911 | 329453 | 337389 |\n",
       "| 2004 | 544775 | 66631 | 97937 | 79384 | 105079 | 94494 | 235813 | 97981 | 346974 | 349143 |\n",
       "\n"
      ],
      "text/plain": [
       "     식료품 주거비 광열수도 가구가사 피복신발 보건의료 교육   교양오락 교통통신\n",
       "1993 301675 45588  44341    51479     75672   50533     95654 51904    103564  \n",
       "1994 341574 47389  45995    55698     85239   54408    106110 58551    129972  \n",
       "1995 367080 48301  52271    59117     97474   59373    127027 66848    142972  \n",
       "1996 409502 54037  60177    62996    104896   65592    149334 75746    167487  \n",
       "1997 427458 54038  67972    63376     97824   66640    162403 77057    188192  \n",
       "1998 365859 49785  74272    53147     69750   58652    151439 58589    183911  \n",
       "1999 412056 54190  76172    55533     80223   67098    164242 71850    225085  \n",
       "2000 447018 57026  86762    59539     91785   70606    182370 84481    261442  \n",
       "2001 463582 68246  92527    70408     98140   74300    199407 86650    286626  \n",
       "2002 481049 62394  93238    71424    101980   81057    206033 86705    309288  \n",
       "2003 509649 65051  94395    72480    106861   89657    224005 93911    329453  \n",
       "2004 544775 66631  97937    79384    105079   94494    235813 97981    346974  \n",
       "     기타소비\n",
       "1993 200544  \n",
       "1994 215496  \n",
       "1995 245429  \n",
       "1996 277086  \n",
       "1997 284584  \n",
       "1998 250820  \n",
       "1999 272430  \n",
       "2000 291272  \n",
       "2001 322237  \n",
       "2002 341645  \n",
       "2003 337389  \n",
       "2004 349143  "
      ]
     },
     "metadata": {},
     "output_type": "display_data"
    }
   ],
   "source": [
    "house <- read.table('dataset/EDA/household.txt', header = TRUE)\n",
    "house"
   ]
  },
  {
   "cell_type": "code",
   "execution_count": 36,
   "id": "5f1b7c4a-1c4a-48f9-becb-a180edf906c6",
   "metadata": {},
   "outputs": [
    {
     "name": "stdout",
     "output_type": "stream",
     "text": [
      "1: 2361220\n",
      "2: 2199938\n",
      "Final: 2191052\n"
     ]
    },
    {
     "data": {
      "text/plain": [
       "\n",
       "Median Polish Results (Dataset: \"house\")\n",
       "\n",
       "Overall: 79769.58\n",
       "\n",
       "Row Effects:\n",
       "      1993       1994       1995       1996       1997       1998       1999 \n",
       "-24674.047 -20523.547 -13960.984  -2377.453   1800.141 -14832.141  -1800.141 \n",
       "      2000       2001       2002       2003       2004 \n",
       " 11146.484  17513.016  18713.297  22243.016  26432.516 \n",
       "\n",
       "Column Effects:\n",
       "    식료품     주거비   광열수도   가구가사   피복신발   보건의료       교육 \n",
       "339987.422 -25655.578  -7941.344 -20315.078   4830.484 -11754.109  86387.062 \n",
       "  교양오락   교통통신   기타소비 \n",
       " -6233.938 133044.562 200024.906 \n",
       "\n",
       "Residuals:\n",
       "       식료품   주거비 광열수도 가구가사  피복신발   보건의료     교육 교양오락\n",
       "1993 -93408.0  16148.0 -2813.19  16698.5 15745.984   7191.578 -45828.6  3042.41\n",
       "1994 -57659.5  13798.5 -5309.69  16767.0 21162.484   6916.078 -39523.1  5538.91\n",
       "1995 -38716.0   8148.0 -5596.25  13623.5 26834.922   5318.516 -25168.7  7273.34\n",
       "1996  -7877.5   2300.5 -9273.78   5919.0 22673.391    -46.016 -14445.2  4587.81\n",
       "1997   5900.9  -1876.1 -5656.38   2121.4 11423.797  -3175.609  -5553.8  1721.22\n",
       "1998 -39065.9  10503.1 17275.91   8524.6   -17.922   5468.672    114.5  -114.50\n",
       "1999  -5900.9   1876.1  6143.91  -2121.4 -2576.922    882.672   -114.5   114.50\n",
       "2000  16114.5  -8234.5  3787.28 -11062.0 -3961.547  -8555.953   5066.9  -201.12\n",
       "2001  26312.0  -3381.0  3185.75  -6559.5 -3973.078 -11228.484  15737.3 -4398.66\n",
       "2002  42578.7 -10433.3  2696.47  -6743.8 -1333.359  -5671.766  21163.1 -5543.94\n",
       "2003  67649.0 -11306.0   323.75  -9217.5    17.922   -601.484  35605.3 -1867.66\n",
       "2004  98585.5 -13915.5  -323.75  -6503.0 -5953.578     46.016  43223.8 -1987.16\n",
       "     교통통신  기타소비\n",
       "1993   -84576 -54576.44\n",
       "1994   -62319 -43774.94\n",
       "1995   -55881 -20404.50\n",
       "1996   -42950   -331.03\n",
       "1997   -26422   2989.38\n",
       "1998   -14071 -14142.34\n",
       "1999    14071  -5564.34\n",
       "2000    37481    331.03\n",
       "2001    56299  24929.50\n",
       "2002    77761  43137.22\n",
       "2003    94396  35351.50\n",
       "2004   107727  42916.00\n"
      ]
     },
     "metadata": {},
     "output_type": "display_data"
    }
   ],
   "source": [
    "house_mp <- medpolish(house)\n",
    "house_mp"
   ]
  },
  {
   "cell_type": "code",
   "execution_count": 40,
   "id": "fad9a685-1fe4-4b93-b3f9-1f9eac0792ee",
   "metadata": {},
   "outputs": [
    {
     "data": {
      "text/html": [
       "<table class=\"dataframe\">\n",
       "<caption>A matrix: 12 × 10 of type dbl</caption>\n",
       "<thead>\n",
       "\t<tr><th></th><th scope=col>식료품</th><th scope=col>주거비</th><th scope=col>광열수도</th><th scope=col>가구가사</th><th scope=col>피복신발</th><th scope=col>보건의료</th><th scope=col>교육</th><th scope=col>교양오락</th><th scope=col>교통통신</th><th scope=col>기타소비</th></tr>\n",
       "</thead>\n",
       "<tbody>\n",
       "\t<tr><th scope=row>1993</th><td>-93407.953</td><td> 16148.047</td><td>-2813.188</td><td> 16698.547</td><td>15745.98438</td><td>  7191.57812</td><td>-45828.594</td><td> 3042.406</td><td>-84576.09</td><td>-54576.4375</td></tr>\n",
       "\t<tr><th scope=row>1994</th><td>-57659.453</td><td> 13798.547</td><td>-5309.688</td><td> 16767.047</td><td>21162.48438</td><td>  6916.07812</td><td>-39523.094</td><td> 5538.906</td><td>-62318.59</td><td>-43774.9375</td></tr>\n",
       "\t<tr><th scope=row>1995</th><td>-38716.016</td><td>  8147.984</td><td>-5596.250</td><td> 13623.484</td><td>26834.92188</td><td>  5318.51562</td><td>-25168.656</td><td> 7273.344</td><td>-55881.16</td><td>-20404.5000</td></tr>\n",
       "\t<tr><th scope=row>1996</th><td> -7877.547</td><td>  2300.453</td><td>-9273.781</td><td>  5918.953</td><td>22673.39062</td><td>   -46.01562</td><td>-14445.188</td><td> 4587.812</td><td>-42949.69</td><td>  -331.0312</td></tr>\n",
       "\t<tr><th scope=row>1997</th><td>  5900.859</td><td> -1876.141</td><td>-5656.375</td><td>  2121.359</td><td>11423.79688</td><td> -3175.60938</td><td> -5553.781</td><td> 1721.219</td><td>-26422.28</td><td>  2989.3750</td></tr>\n",
       "\t<tr><th scope=row>1998</th><td>-39065.859</td><td> 10503.141</td><td>17275.906</td><td>  8524.641</td><td>  -17.92188</td><td>  5468.67188</td><td>   114.500</td><td> -114.500</td><td>-14071.00</td><td>-14142.3438</td></tr>\n",
       "\t<tr><th scope=row>1999</th><td> -5900.859</td><td>  1876.141</td><td> 6143.906</td><td> -2121.359</td><td>-2576.92188</td><td>   882.67188</td><td>  -114.500</td><td>  114.500</td><td> 14071.00</td><td> -5564.3438</td></tr>\n",
       "\t<tr><th scope=row>2000</th><td> 16114.516</td><td> -8234.484</td><td> 3787.281</td><td>-11061.984</td><td>-3961.54688</td><td> -8555.95312</td><td>  5066.875</td><td> -201.125</td><td> 37481.38</td><td>   331.0312</td></tr>\n",
       "\t<tr><th scope=row>2001</th><td> 26311.984</td><td> -3381.016</td><td> 3185.750</td><td> -6559.516</td><td>-3973.07812</td><td>-11228.48438</td><td> 15737.344</td><td>-4398.656</td><td> 56298.84</td><td> 24929.5000</td></tr>\n",
       "\t<tr><th scope=row>2002</th><td> 42578.703</td><td>-10433.297</td><td> 2696.469</td><td> -6743.797</td><td>-1333.35938</td><td> -5671.76562</td><td> 21163.062</td><td>-5543.938</td><td> 77760.56</td><td> 43137.2188</td></tr>\n",
       "\t<tr><th scope=row>2003</th><td> 67648.984</td><td>-11306.016</td><td>  323.750</td><td> -9217.516</td><td>   17.92188</td><td>  -601.48438</td><td> 35605.344</td><td>-1867.656</td><td> 94395.84</td><td> 35351.5000</td></tr>\n",
       "\t<tr><th scope=row>2004</th><td> 98585.484</td><td>-13915.516</td><td> -323.750</td><td> -6503.016</td><td>-5953.57812</td><td>    46.01562</td><td> 43223.844</td><td>-1987.156</td><td>107727.34</td><td> 42916.0000</td></tr>\n",
       "</tbody>\n",
       "</table>\n"
      ],
      "text/latex": [
       "A matrix: 12 × 10 of type dbl\n",
       "\\begin{tabular}{r|llllllllll}\n",
       "  & 식료품 & 주거비 & 광열수도 & 가구가사 & 피복신발 & 보건의료 & 교육 & 교양오락 & 교통통신 & 기타소비\\\\\n",
       "\\hline\n",
       "\t1993 & -93407.953 &  16148.047 & -2813.188 &  16698.547 & 15745.98438 &   7191.57812 & -45828.594 &  3042.406 & -84576.09 & -54576.4375\\\\\n",
       "\t1994 & -57659.453 &  13798.547 & -5309.688 &  16767.047 & 21162.48438 &   6916.07812 & -39523.094 &  5538.906 & -62318.59 & -43774.9375\\\\\n",
       "\t1995 & -38716.016 &   8147.984 & -5596.250 &  13623.484 & 26834.92188 &   5318.51562 & -25168.656 &  7273.344 & -55881.16 & -20404.5000\\\\\n",
       "\t1996 &  -7877.547 &   2300.453 & -9273.781 &   5918.953 & 22673.39062 &    -46.01562 & -14445.188 &  4587.812 & -42949.69 &   -331.0312\\\\\n",
       "\t1997 &   5900.859 &  -1876.141 & -5656.375 &   2121.359 & 11423.79688 &  -3175.60938 &  -5553.781 &  1721.219 & -26422.28 &   2989.3750\\\\\n",
       "\t1998 & -39065.859 &  10503.141 & 17275.906 &   8524.641 &   -17.92188 &   5468.67188 &    114.500 &  -114.500 & -14071.00 & -14142.3438\\\\\n",
       "\t1999 &  -5900.859 &   1876.141 &  6143.906 &  -2121.359 & -2576.92188 &    882.67188 &   -114.500 &   114.500 &  14071.00 &  -5564.3438\\\\\n",
       "\t2000 &  16114.516 &  -8234.484 &  3787.281 & -11061.984 & -3961.54688 &  -8555.95312 &   5066.875 &  -201.125 &  37481.38 &    331.0312\\\\\n",
       "\t2001 &  26311.984 &  -3381.016 &  3185.750 &  -6559.516 & -3973.07812 & -11228.48438 &  15737.344 & -4398.656 &  56298.84 &  24929.5000\\\\\n",
       "\t2002 &  42578.703 & -10433.297 &  2696.469 &  -6743.797 & -1333.35938 &  -5671.76562 &  21163.062 & -5543.938 &  77760.56 &  43137.2188\\\\\n",
       "\t2003 &  67648.984 & -11306.016 &   323.750 &  -9217.516 &    17.92188 &   -601.48438 &  35605.344 & -1867.656 &  94395.84 &  35351.5000\\\\\n",
       "\t2004 &  98585.484 & -13915.516 &  -323.750 &  -6503.016 & -5953.57812 &     46.01562 &  43223.844 & -1987.156 & 107727.34 &  42916.0000\\\\\n",
       "\\end{tabular}\n"
      ],
      "text/markdown": [
       "\n",
       "A matrix: 12 × 10 of type dbl\n",
       "\n",
       "| <!--/--> | 식료품 | 주거비 | 광열수도 | 가구가사 | 피복신발 | 보건의료 | 교육 | 교양오락 | 교통통신 | 기타소비 |\n",
       "|---|---|---|---|---|---|---|---|---|---|---|\n",
       "| 1993 | -93407.953 |  16148.047 | -2813.188 |  16698.547 | 15745.98438 |   7191.57812 | -45828.594 |  3042.406 | -84576.09 | -54576.4375 |\n",
       "| 1994 | -57659.453 |  13798.547 | -5309.688 |  16767.047 | 21162.48438 |   6916.07812 | -39523.094 |  5538.906 | -62318.59 | -43774.9375 |\n",
       "| 1995 | -38716.016 |   8147.984 | -5596.250 |  13623.484 | 26834.92188 |   5318.51562 | -25168.656 |  7273.344 | -55881.16 | -20404.5000 |\n",
       "| 1996 |  -7877.547 |   2300.453 | -9273.781 |   5918.953 | 22673.39062 |    -46.01562 | -14445.188 |  4587.812 | -42949.69 |   -331.0312 |\n",
       "| 1997 |   5900.859 |  -1876.141 | -5656.375 |   2121.359 | 11423.79688 |  -3175.60938 |  -5553.781 |  1721.219 | -26422.28 |   2989.3750 |\n",
       "| 1998 | -39065.859 |  10503.141 | 17275.906 |   8524.641 |   -17.92188 |   5468.67188 |    114.500 |  -114.500 | -14071.00 | -14142.3438 |\n",
       "| 1999 |  -5900.859 |   1876.141 |  6143.906 |  -2121.359 | -2576.92188 |    882.67188 |   -114.500 |   114.500 |  14071.00 |  -5564.3438 |\n",
       "| 2000 |  16114.516 |  -8234.484 |  3787.281 | -11061.984 | -3961.54688 |  -8555.95312 |   5066.875 |  -201.125 |  37481.38 |    331.0312 |\n",
       "| 2001 |  26311.984 |  -3381.016 |  3185.750 |  -6559.516 | -3973.07812 | -11228.48438 |  15737.344 | -4398.656 |  56298.84 |  24929.5000 |\n",
       "| 2002 |  42578.703 | -10433.297 |  2696.469 |  -6743.797 | -1333.35938 |  -5671.76562 |  21163.062 | -5543.938 |  77760.56 |  43137.2188 |\n",
       "| 2003 |  67648.984 | -11306.016 |   323.750 |  -9217.516 |    17.92188 |   -601.48438 |  35605.344 | -1867.656 |  94395.84 |  35351.5000 |\n",
       "| 2004 |  98585.484 | -13915.516 |  -323.750 |  -6503.016 | -5953.57812 |     46.01562 |  43223.844 | -1987.156 | 107727.34 |  42916.0000 |\n",
       "\n"
      ],
      "text/plain": [
       "     식료품     주거비     광열수도  가구가사   피복신발    보건의료    \n",
       "1993 -93407.953  16148.047 -2813.188  16698.547 15745.98438   7191.57812\n",
       "1994 -57659.453  13798.547 -5309.688  16767.047 21162.48438   6916.07812\n",
       "1995 -38716.016   8147.984 -5596.250  13623.484 26834.92188   5318.51562\n",
       "1996  -7877.547   2300.453 -9273.781   5918.953 22673.39062    -46.01562\n",
       "1997   5900.859  -1876.141 -5656.375   2121.359 11423.79688  -3175.60938\n",
       "1998 -39065.859  10503.141 17275.906   8524.641   -17.92188   5468.67188\n",
       "1999  -5900.859   1876.141  6143.906  -2121.359 -2576.92188    882.67188\n",
       "2000  16114.516  -8234.484  3787.281 -11061.984 -3961.54688  -8555.95312\n",
       "2001  26311.984  -3381.016  3185.750  -6559.516 -3973.07812 -11228.48438\n",
       "2002  42578.703 -10433.297  2696.469  -6743.797 -1333.35938  -5671.76562\n",
       "2003  67648.984 -11306.016   323.750  -9217.516    17.92188   -601.48438\n",
       "2004  98585.484 -13915.516  -323.750  -6503.016 -5953.57812     46.01562\n",
       "     교육       교양오락  교통통신  기타소비   \n",
       "1993 -45828.594  3042.406 -84576.09 -54576.4375\n",
       "1994 -39523.094  5538.906 -62318.59 -43774.9375\n",
       "1995 -25168.656  7273.344 -55881.16 -20404.5000\n",
       "1996 -14445.188  4587.812 -42949.69   -331.0312\n",
       "1997  -5553.781  1721.219 -26422.28   2989.3750\n",
       "1998    114.500  -114.500 -14071.00 -14142.3438\n",
       "1999   -114.500   114.500  14071.00  -5564.3438\n",
       "2000   5066.875  -201.125  37481.38    331.0312\n",
       "2001  15737.344 -4398.656  56298.84  24929.5000\n",
       "2002  21163.062 -5543.938  77760.56  43137.2188\n",
       "2003  35605.344 -1867.656  94395.84  35351.5000\n",
       "2004  43223.844 -1987.156 107727.34  42916.0000"
      ]
     },
     "metadata": {},
     "output_type": "display_data"
    }
   ],
   "source": [
    "house_mp$residual"
   ]
  },
  {
   "cell_type": "code",
   "execution_count": 41,
   "id": "6dfd45e2-83df-466d-9f89-92e077aaa7b9",
   "metadata": {},
   "outputs": [
    {
     "data": {
      "text/html": [
       "<table class=\"dataframe\">\n",
       "<caption>A matrix: 12 × 10 of type dbl</caption>\n",
       "<tbody>\n",
       "\t<tr><td>-105163.720</td><td> 7935.6937</td><td> 2456.3887</td><td> 6283.7889</td><td>-1494.1485</td><td> 3635.7400</td><td>-26720.944</td><td> 1928.2597</td><td>-41152.879</td><td>-61871.004</td></tr>\n",
       "\t<tr><td> -87473.796</td><td> 6600.8054</td><td> 2043.1917</td><td> 5226.7728</td><td>-1242.8130</td><td> 3024.1606</td><td>-22226.129</td><td> 1603.9010</td><td>-34230.422</td><td>-51463.486</td></tr>\n",
       "\t<tr><td> -59503.375</td><td> 4490.1469</td><td> 1389.8654</td><td> 3555.4718</td><td> -845.4140</td><td> 2057.1619</td><td>-15119.153</td><td> 1091.0413</td><td>-23284.980</td><td>-35007.639</td></tr>\n",
       "\t<tr><td> -10132.988</td><td>  764.6390</td><td>  236.6839</td><td>  605.4707</td><td> -143.9678</td><td>  350.3196</td><td> -2574.681</td><td>  185.7963</td><td> -3965.261</td><td> -5961.544</td></tr>\n",
       "\t<tr><td>   7672.413</td><td> -578.9632</td><td> -179.2104</td><td> -458.4454</td><td>  109.0084</td><td> -265.2521</td><td>  1949.476</td><td> -140.6797</td><td>  3002.384</td><td>  4513.913</td></tr>\n",
       "\t<tr><td> -63216.346</td><td> 4770.3291</td><td> 1476.5921</td><td> 3777.3309</td><td> -898.1673</td><td> 2185.5275</td><td>-16062.578</td><td> 1159.1216</td><td>-24737.948</td><td>-37192.093</td></tr>\n",
       "\t<tr><td>  -7672.413</td><td>  578.9632</td><td>  179.2104</td><td>  458.4454</td><td> -109.0084</td><td>  265.2521</td><td> -1949.476</td><td>  140.6797</td><td> -3002.384</td><td> -4513.913</td></tr>\n",
       "\t<tr><td>  47507.641</td><td>-3584.9444</td><td>-1109.6720</td><td>-2838.6975</td><td>  674.9806</td><td>-1642.4431</td><td> 12071.169</td><td> -871.0901</td><td> 18590.786</td><td> 27950.185</td></tr>\n",
       "\t<tr><td>  74642.554</td><td>-5632.5551</td><td>-1743.4827</td><td>-4460.0747</td><td> 1060.5089</td><td>-2580.5565</td><td> 18965.852</td><td>-1368.6301</td><td> 29209.274</td><td> 43914.477</td></tr>\n",
       "\t<tr><td>  79758.295</td><td>-6018.5908</td><td>-1862.9749</td><td>-4765.7528</td><td> 1133.1925</td><td>-2757.4188</td><td> 20265.705</td><td>-1462.4312</td><td> 31211.177</td><td> 46924.223</td></tr>\n",
       "\t<tr><td>  94802.376</td><td>-7153.8228</td><td>-2214.3709</td><td>-5664.6733</td><td> 1346.9363</td><td>-3277.5257</td><td> 24088.240</td><td>-1738.2763</td><td> 37098.257</td><td> 55775.112</td></tr>\n",
       "\t<tr><td> 112658.523</td><td>-8501.2543</td><td>-2631.4505</td><td>-6731.6217</td><td> 1600.6334</td><td>-3894.8517</td><td> 28625.291</td><td>-2065.6829</td><td> 44085.760</td><td> 66280.424</td></tr>\n",
       "</tbody>\n",
       "</table>\n"
      ],
      "text/latex": [
       "A matrix: 12 × 10 of type dbl\n",
       "\\begin{tabular}{llllllllll}\n",
       "\t -105163.720 &  7935.6937 &  2456.3887 &  6283.7889 & -1494.1485 &  3635.7400 & -26720.944 &  1928.2597 & -41152.879 & -61871.004\\\\\n",
       "\t  -87473.796 &  6600.8054 &  2043.1917 &  5226.7728 & -1242.8130 &  3024.1606 & -22226.129 &  1603.9010 & -34230.422 & -51463.486\\\\\n",
       "\t  -59503.375 &  4490.1469 &  1389.8654 &  3555.4718 &  -845.4140 &  2057.1619 & -15119.153 &  1091.0413 & -23284.980 & -35007.639\\\\\n",
       "\t  -10132.988 &   764.6390 &   236.6839 &   605.4707 &  -143.9678 &   350.3196 &  -2574.681 &   185.7963 &  -3965.261 &  -5961.544\\\\\n",
       "\t    7672.413 &  -578.9632 &  -179.2104 &  -458.4454 &   109.0084 &  -265.2521 &   1949.476 &  -140.6797 &   3002.384 &   4513.913\\\\\n",
       "\t  -63216.346 &  4770.3291 &  1476.5921 &  3777.3309 &  -898.1673 &  2185.5275 & -16062.578 &  1159.1216 & -24737.948 & -37192.093\\\\\n",
       "\t   -7672.413 &   578.9632 &   179.2104 &   458.4454 &  -109.0084 &   265.2521 &  -1949.476 &   140.6797 &  -3002.384 &  -4513.913\\\\\n",
       "\t   47507.641 & -3584.9444 & -1109.6720 & -2838.6975 &   674.9806 & -1642.4431 &  12071.169 &  -871.0901 &  18590.786 &  27950.185\\\\\n",
       "\t   74642.554 & -5632.5551 & -1743.4827 & -4460.0747 &  1060.5089 & -2580.5565 &  18965.852 & -1368.6301 &  29209.274 &  43914.477\\\\\n",
       "\t   79758.295 & -6018.5908 & -1862.9749 & -4765.7528 &  1133.1925 & -2757.4188 &  20265.705 & -1462.4312 &  31211.177 &  46924.223\\\\\n",
       "\t   94802.376 & -7153.8228 & -2214.3709 & -5664.6733 &  1346.9363 & -3277.5257 &  24088.240 & -1738.2763 &  37098.257 &  55775.112\\\\\n",
       "\t  112658.523 & -8501.2543 & -2631.4505 & -6731.6217 &  1600.6334 & -3894.8517 &  28625.291 & -2065.6829 &  44085.760 &  66280.424\\\\\n",
       "\\end{tabular}\n"
      ],
      "text/markdown": [
       "\n",
       "A matrix: 12 × 10 of type dbl\n",
       "\n",
       "| -105163.720 |  7935.6937 |  2456.3887 |  6283.7889 | -1494.1485 |  3635.7400 | -26720.944 |  1928.2597 | -41152.879 | -61871.004 |\n",
       "|  -87473.796 |  6600.8054 |  2043.1917 |  5226.7728 | -1242.8130 |  3024.1606 | -22226.129 |  1603.9010 | -34230.422 | -51463.486 |\n",
       "|  -59503.375 |  4490.1469 |  1389.8654 |  3555.4718 |  -845.4140 |  2057.1619 | -15119.153 |  1091.0413 | -23284.980 | -35007.639 |\n",
       "|  -10132.988 |   764.6390 |   236.6839 |   605.4707 |  -143.9678 |   350.3196 |  -2574.681 |   185.7963 |  -3965.261 |  -5961.544 |\n",
       "|    7672.413 |  -578.9632 |  -179.2104 |  -458.4454 |   109.0084 |  -265.2521 |   1949.476 |  -140.6797 |   3002.384 |   4513.913 |\n",
       "|  -63216.346 |  4770.3291 |  1476.5921 |  3777.3309 |  -898.1673 |  2185.5275 | -16062.578 |  1159.1216 | -24737.948 | -37192.093 |\n",
       "|   -7672.413 |   578.9632 |   179.2104 |   458.4454 |  -109.0084 |   265.2521 |  -1949.476 |   140.6797 |  -3002.384 |  -4513.913 |\n",
       "|   47507.641 | -3584.9444 | -1109.6720 | -2838.6975 |   674.9806 | -1642.4431 |  12071.169 |  -871.0901 |  18590.786 |  27950.185 |\n",
       "|   74642.554 | -5632.5551 | -1743.4827 | -4460.0747 |  1060.5089 | -2580.5565 |  18965.852 | -1368.6301 |  29209.274 |  43914.477 |\n",
       "|   79758.295 | -6018.5908 | -1862.9749 | -4765.7528 |  1133.1925 | -2757.4188 |  20265.705 | -1462.4312 |  31211.177 |  46924.223 |\n",
       "|   94802.376 | -7153.8228 | -2214.3709 | -5664.6733 |  1346.9363 | -3277.5257 |  24088.240 | -1738.2763 |  37098.257 |  55775.112 |\n",
       "|  112658.523 | -8501.2543 | -2631.4505 | -6731.6217 |  1600.6334 | -3894.8517 |  28625.291 | -2065.6829 |  44085.760 |  66280.424 |\n",
       "\n"
      ],
      "text/plain": [
       "      [,1]        [,2]       [,3]       [,4]       [,5]       [,6]      \n",
       " [1,] -105163.720  7935.6937  2456.3887  6283.7889 -1494.1485  3635.7400\n",
       " [2,]  -87473.796  6600.8054  2043.1917  5226.7728 -1242.8130  3024.1606\n",
       " [3,]  -59503.375  4490.1469  1389.8654  3555.4718  -845.4140  2057.1619\n",
       " [4,]  -10132.988   764.6390   236.6839   605.4707  -143.9678   350.3196\n",
       " [5,]    7672.413  -578.9632  -179.2104  -458.4454   109.0084  -265.2521\n",
       " [6,]  -63216.346  4770.3291  1476.5921  3777.3309  -898.1673  2185.5275\n",
       " [7,]   -7672.413   578.9632   179.2104   458.4454  -109.0084   265.2521\n",
       " [8,]   47507.641 -3584.9444 -1109.6720 -2838.6975   674.9806 -1642.4431\n",
       " [9,]   74642.554 -5632.5551 -1743.4827 -4460.0747  1060.5089 -2580.5565\n",
       "[10,]   79758.295 -6018.5908 -1862.9749 -4765.7528  1133.1925 -2757.4188\n",
       "[11,]   94802.376 -7153.8228 -2214.3709 -5664.6733  1346.9363 -3277.5257\n",
       "[12,]  112658.523 -8501.2543 -2631.4505 -6731.6217  1600.6334 -3894.8517\n",
       "      [,7]       [,8]       [,9]       [,10]     \n",
       " [1,] -26720.944  1928.2597 -41152.879 -61871.004\n",
       " [2,] -22226.129  1603.9010 -34230.422 -51463.486\n",
       " [3,] -15119.153  1091.0413 -23284.980 -35007.639\n",
       " [4,]  -2574.681   185.7963  -3965.261  -5961.544\n",
       " [5,]   1949.476  -140.6797   3002.384   4513.913\n",
       " [6,] -16062.578  1159.1216 -24737.948 -37192.093\n",
       " [7,]  -1949.476   140.6797  -3002.384  -4513.913\n",
       " [8,]  12071.169  -871.0901  18590.786  27950.185\n",
       " [9,]  18965.852 -1368.6301  29209.274  43914.477\n",
       "[10,]  20265.705 -1462.4312  31211.177  46924.223\n",
       "[11,]  24088.240 -1738.2763  37098.257  55775.112\n",
       "[12,]  28625.291 -2065.6829  44085.760  66280.424"
      ]
     },
     "metadata": {},
     "output_type": "display_data"
    }
   ],
   "source": [
    "matrix(house_mp$row, ncol = 1) %*% matrix(house_mp$col, nrow = 1) / house_mp$overall"
   ]
  },
  {
   "cell_type": "code",
   "execution_count": 43,
   "id": "d2989734-ff86-44b5-b6fe-fe6c1322c952",
   "metadata": {},
   "outputs": [],
   "source": [
    "comparison <- matrix(house_mp$row, ncol = 1) %*% matrix(house_mp$col, nrow = 1) / house_mp$overall"
   ]
  },
  {
   "cell_type": "code",
   "execution_count": 45,
   "id": "6c9dde49-5674-4849-8e6c-053d1d32e4d4",
   "metadata": {},
   "outputs": [
    {
     "data": {
      "image/png": "[encoded data removed]",
      "text/plain": [
       "plot without title"
      ]
     },
     "metadata": {
      "image/png": {
       "height": 420,
       "width": 420
      }
     },
     "output_type": "display_data"
    }
   ],
   "source": [
    "plot(house_mp$residuals ~ comparison)"
   ]
  },
  {
   "cell_type": "markdown",
   "id": "5d721316-e9fc-4315-9fbf-1f0197e51d1a",
   "metadata": {},
   "source": [
    "가법적이지 않다. (그렇다고 승법적인 것은 아니다.)\n",
    "\n",
    "이제 어떻게 할 것인가? 로그 변환을 취한 뒤 다시 살펴보자"
   ]
  },
  {
   "cell_type": "code",
   "execution_count": 49,
   "id": "7f091a1c-3a4b-452b-8ae6-17fd6b53a88d",
   "metadata": {},
   "outputs": [
    {
     "name": "stdout",
     "output_type": "stream",
     "text": [
      "1: 10.10955\n",
      "2: 8.252357\n",
      "Final: 8.19259\n"
     ]
    },
    {
     "data": {
      "text/plain": [
       "\n",
       "Median Polish Results (Dataset: \"log(house)\")\n",
       "\n",
       "Overall: 11.30465\n",
       "\n",
       "Row Effects:\n",
       "       1993        1994        1995        1996        1997        1998 \n",
       "-0.32175936 -0.22877213 -0.12265758 -0.01029705  0.01029705 -0.13095072 \n",
       "       1999        2000        2001        2002        2003        2004 \n",
       "-0.01268085  0.06165227  0.14900604  0.17342852  0.21261832  0.26830487 \n",
       "\n",
       "Column Effects:\n",
       "     식료품      주거비    광열수도    가구가사    피복신발    보건의료 \n",
       " 1.63469862 -0.39685225 -0.07144553 -0.29124378  0.06146341 -0.18422407 \n",
       "       교육    교양오락    교통통신    기타소비 \n",
       " 0.73231337 -0.08222035  0.99039062  1.22733896 \n",
       "\n",
       "Residuals:\n",
       "          식료품      주거비   광열수도    가구가사    피복신발  보건의료\n",
       "1993 -0.00047918  1.4137e-01 -0.2117756  0.15728690  0.18981396  0.031720\n",
       "1994  0.03074766  8.7124e-02 -0.2681398  0.14306996  0.21587760  0.012617\n",
       "1995 -0.00335143  7.1902e-05 -0.2463454  0.09652970  0.24388965 -0.006169\n",
       "1996 -0.00634999 -7.1902e-05 -0.2178574  0.04772186  0.20491282 -0.018915\n",
       "1997  0.01597017 -2.0647e-02 -0.1166459  0.03314178  0.11451929 -0.023658\n",
       "1998  0.00160992  3.8627e-02  0.1132401 -0.00163403 -0.08248547 -0.010094\n",
       "1999  0.00225130  5.1393e-03  0.0202301 -0.07598812 -0.06086250  0.006169\n",
       "2000  0.00935777 -1.8183e-02  0.0760718 -0.08066713 -0.00055699 -0.017203\n",
       "2001 -0.04161157  7.4075e-02  0.0530498 -0.00034556 -0.02096462 -0.053561\n",
       "2002 -0.02904820 -3.9997e-02  0.0362822 -0.01044099 -0.00700541  0.009058\n",
       "2003 -0.01048489 -3.7485e-02  0.0094251 -0.03495407  0.00055699  0.070707\n",
       "2004  0.00047918 -6.9173e-02 -0.0094251  0.00034556 -0.07194603  0.067565\n",
       "          교육   교양오락  교통통신   기타소비\n",
       "1993 -0.246707 -0.0435146 -0.425332 -0.0014361\n",
       "1994 -0.235955 -0.0159995 -0.291190 -0.0225147\n",
       "1995 -0.162146  0.0104091 -0.301974  0.0014361\n",
       "1996 -0.112721  0.0230128 -0.256078  0.0103958\n",
       "1997 -0.049420  0.0195785 -0.160115  0.0165023\n",
       "1998  0.021930 -0.1131722 -0.041878  0.0314571\n",
       "1999 -0.015182 -0.0274084  0.041878 -0.0041666\n",
       "2000  0.015182  0.0602045  0.117279 -0.0116239\n",
       "2001  0.017138 -0.0017989  0.121891  0.0020521\n",
       "2002  0.025404 -0.0255868  0.173564  0.0361145\n",
       "2003  0.069846  0.0150594  0.197535 -0.0156109\n",
       "2004  0.065531  0.0017989  0.193664 -0.0370524\n"
      ]
     },
     "metadata": {},
     "output_type": "display_data"
    }
   ],
   "source": [
    "house_log_mp <- medpolish(log(house))\n",
    "house_log_mp"
   ]
  },
  {
   "cell_type": "code",
   "execution_count": 55,
   "id": "a13ce641-e5a7-4069-b6fe-ee34d5e117ad",
   "metadata": {},
   "outputs": [],
   "source": [
    "comparison <- matrix(house_log_mp$row, ncol = 1) %*% matrix(house_log_mp$col, nrow = 1) / house_log_mp$overall"
   ]
  },
  {
   "cell_type": "code",
   "execution_count": 56,
   "id": "404e11d7-3a72-4bac-8b36-76e328985029",
   "metadata": {},
   "outputs": [
    {
     "data": {
      "image/png": "[encoded data removed]",
      "text/plain": [
       "plot without title"
      ]
     },
     "metadata": {
      "image/png": {
       "height": 420,
       "width": 420
      }
     },
     "output_type": "display_data"
    }
   ],
   "source": [
    "plot(house_log_mp$residuals ~ comparison)"
   ]
  },
  {
   "cell_type": "markdown",
   "id": "f5e40172-cf7f-4fff-9e81-18b1f39f570f",
   "metadata": {},
   "source": [
    "이제는 경향선을 찾기 어렵다.\n",
    "\n",
    "로그 변환 자료에 대한 중간값 다듬기 결과를 살펴보자."
   ]
  },
  {
   "cell_type": "code",
   "execution_count": 59,
   "id": "332d63bc-b827-4e5c-951e-dcdf74a85db2",
   "metadata": {},
   "outputs": [
    {
     "data": {
      "text/html": [
       "<table class=\"dataframe\">\n",
       "<caption>A matrix: 12 × 10 of type dbl</caption>\n",
       "<thead>\n",
       "\t<tr><th></th><th scope=col>식료품</th><th scope=col>주거비</th><th scope=col>광열수도</th><th scope=col>가구가사</th><th scope=col>피복신발</th><th scope=col>보건의료</th><th scope=col>교육</th><th scope=col>교양오락</th><th scope=col>교통통신</th><th scope=col>기타소비</th></tr>\n",
       "</thead>\n",
       "<tbody>\n",
       "\t<tr><th scope=row>1993</th><td> 0.00</td><td> 0.14</td><td>-0.21</td><td> 0.16</td><td> 0.19</td><td> 0.03</td><td>-0.25</td><td>-0.04</td><td>-0.43</td><td> 0.00</td></tr>\n",
       "\t<tr><th scope=row>1994</th><td> 0.03</td><td> 0.09</td><td>-0.27</td><td> 0.14</td><td> 0.22</td><td> 0.01</td><td>-0.24</td><td>-0.02</td><td>-0.29</td><td>-0.02</td></tr>\n",
       "\t<tr><th scope=row>1995</th><td> 0.00</td><td> 0.00</td><td>-0.25</td><td> 0.10</td><td> 0.24</td><td>-0.01</td><td>-0.16</td><td> 0.01</td><td>-0.30</td><td> 0.00</td></tr>\n",
       "\t<tr><th scope=row>1996</th><td>-0.01</td><td> 0.00</td><td>-0.22</td><td> 0.05</td><td> 0.20</td><td>-0.02</td><td>-0.11</td><td> 0.02</td><td>-0.26</td><td> 0.01</td></tr>\n",
       "\t<tr><th scope=row>1997</th><td> 0.02</td><td>-0.02</td><td>-0.12</td><td> 0.03</td><td> 0.11</td><td>-0.02</td><td>-0.05</td><td> 0.02</td><td>-0.16</td><td> 0.02</td></tr>\n",
       "\t<tr><th scope=row>1998</th><td> 0.00</td><td> 0.04</td><td> 0.11</td><td> 0.00</td><td>-0.08</td><td>-0.01</td><td> 0.02</td><td>-0.11</td><td>-0.04</td><td> 0.03</td></tr>\n",
       "\t<tr><th scope=row>1999</th><td> 0.00</td><td> 0.01</td><td> 0.02</td><td>-0.08</td><td>-0.06</td><td> 0.01</td><td>-0.02</td><td>-0.03</td><td> 0.04</td><td> 0.00</td></tr>\n",
       "\t<tr><th scope=row>2000</th><td> 0.01</td><td>-0.02</td><td> 0.08</td><td>-0.08</td><td> 0.00</td><td>-0.02</td><td> 0.02</td><td> 0.06</td><td> 0.12</td><td>-0.01</td></tr>\n",
       "\t<tr><th scope=row>2001</th><td>-0.04</td><td> 0.07</td><td> 0.05</td><td> 0.00</td><td>-0.02</td><td>-0.05</td><td> 0.02</td><td> 0.00</td><td> 0.12</td><td> 0.00</td></tr>\n",
       "\t<tr><th scope=row>2002</th><td>-0.03</td><td>-0.04</td><td> 0.04</td><td>-0.01</td><td>-0.01</td><td> 0.01</td><td> 0.03</td><td>-0.03</td><td> 0.17</td><td> 0.04</td></tr>\n",
       "\t<tr><th scope=row>2003</th><td>-0.01</td><td>-0.04</td><td> 0.01</td><td>-0.03</td><td> 0.00</td><td> 0.07</td><td> 0.07</td><td> 0.02</td><td> 0.20</td><td>-0.02</td></tr>\n",
       "\t<tr><th scope=row>2004</th><td> 0.00</td><td>-0.07</td><td>-0.01</td><td> 0.00</td><td>-0.07</td><td> 0.07</td><td> 0.07</td><td> 0.00</td><td> 0.19</td><td>-0.04</td></tr>\n",
       "</tbody>\n",
       "</table>\n"
      ],
      "text/latex": [
       "A matrix: 12 × 10 of type dbl\n",
       "\\begin{tabular}{r|llllllllll}\n",
       "  & 식료품 & 주거비 & 광열수도 & 가구가사 & 피복신발 & 보건의료 & 교육 & 교양오락 & 교통통신 & 기타소비\\\\\n",
       "\\hline\n",
       "\t1993 &  0.00 &  0.14 & -0.21 &  0.16 &  0.19 &  0.03 & -0.25 & -0.04 & -0.43 &  0.00\\\\\n",
       "\t1994 &  0.03 &  0.09 & -0.27 &  0.14 &  0.22 &  0.01 & -0.24 & -0.02 & -0.29 & -0.02\\\\\n",
       "\t1995 &  0.00 &  0.00 & -0.25 &  0.10 &  0.24 & -0.01 & -0.16 &  0.01 & -0.30 &  0.00\\\\\n",
       "\t1996 & -0.01 &  0.00 & -0.22 &  0.05 &  0.20 & -0.02 & -0.11 &  0.02 & -0.26 &  0.01\\\\\n",
       "\t1997 &  0.02 & -0.02 & -0.12 &  0.03 &  0.11 & -0.02 & -0.05 &  0.02 & -0.16 &  0.02\\\\\n",
       "\t1998 &  0.00 &  0.04 &  0.11 &  0.00 & -0.08 & -0.01 &  0.02 & -0.11 & -0.04 &  0.03\\\\\n",
       "\t1999 &  0.00 &  0.01 &  0.02 & -0.08 & -0.06 &  0.01 & -0.02 & -0.03 &  0.04 &  0.00\\\\\n",
       "\t2000 &  0.01 & -0.02 &  0.08 & -0.08 &  0.00 & -0.02 &  0.02 &  0.06 &  0.12 & -0.01\\\\\n",
       "\t2001 & -0.04 &  0.07 &  0.05 &  0.00 & -0.02 & -0.05 &  0.02 &  0.00 &  0.12 &  0.00\\\\\n",
       "\t2002 & -0.03 & -0.04 &  0.04 & -0.01 & -0.01 &  0.01 &  0.03 & -0.03 &  0.17 &  0.04\\\\\n",
       "\t2003 & -0.01 & -0.04 &  0.01 & -0.03 &  0.00 &  0.07 &  0.07 &  0.02 &  0.20 & -0.02\\\\\n",
       "\t2004 &  0.00 & -0.07 & -0.01 &  0.00 & -0.07 &  0.07 &  0.07 &  0.00 &  0.19 & -0.04\\\\\n",
       "\\end{tabular}\n"
      ],
      "text/markdown": [
       "\n",
       "A matrix: 12 × 10 of type dbl\n",
       "\n",
       "| <!--/--> | 식료품 | 주거비 | 광열수도 | 가구가사 | 피복신발 | 보건의료 | 교육 | 교양오락 | 교통통신 | 기타소비 |\n",
       "|---|---|---|---|---|---|---|---|---|---|---|\n",
       "| 1993 |  0.00 |  0.14 | -0.21 |  0.16 |  0.19 |  0.03 | -0.25 | -0.04 | -0.43 |  0.00 |\n",
       "| 1994 |  0.03 |  0.09 | -0.27 |  0.14 |  0.22 |  0.01 | -0.24 | -0.02 | -0.29 | -0.02 |\n",
       "| 1995 |  0.00 |  0.00 | -0.25 |  0.10 |  0.24 | -0.01 | -0.16 |  0.01 | -0.30 |  0.00 |\n",
       "| 1996 | -0.01 |  0.00 | -0.22 |  0.05 |  0.20 | -0.02 | -0.11 |  0.02 | -0.26 |  0.01 |\n",
       "| 1997 |  0.02 | -0.02 | -0.12 |  0.03 |  0.11 | -0.02 | -0.05 |  0.02 | -0.16 |  0.02 |\n",
       "| 1998 |  0.00 |  0.04 |  0.11 |  0.00 | -0.08 | -0.01 |  0.02 | -0.11 | -0.04 |  0.03 |\n",
       "| 1999 |  0.00 |  0.01 |  0.02 | -0.08 | -0.06 |  0.01 | -0.02 | -0.03 |  0.04 |  0.00 |\n",
       "| 2000 |  0.01 | -0.02 |  0.08 | -0.08 |  0.00 | -0.02 |  0.02 |  0.06 |  0.12 | -0.01 |\n",
       "| 2001 | -0.04 |  0.07 |  0.05 |  0.00 | -0.02 | -0.05 |  0.02 |  0.00 |  0.12 |  0.00 |\n",
       "| 2002 | -0.03 | -0.04 |  0.04 | -0.01 | -0.01 |  0.01 |  0.03 | -0.03 |  0.17 |  0.04 |\n",
       "| 2003 | -0.01 | -0.04 |  0.01 | -0.03 |  0.00 |  0.07 |  0.07 |  0.02 |  0.20 | -0.02 |\n",
       "| 2004 |  0.00 | -0.07 | -0.01 |  0.00 | -0.07 |  0.07 |  0.07 |  0.00 |  0.19 | -0.04 |\n",
       "\n"
      ],
      "text/plain": [
       "     식료품 주거비 광열수도 가구가사 피복신발 보건의료 교육  교양오락 교통통신\n",
       "1993  0.00   0.14  -0.21     0.16     0.19     0.03    -0.25 -0.04    -0.43   \n",
       "1994  0.03   0.09  -0.27     0.14     0.22     0.01    -0.24 -0.02    -0.29   \n",
       "1995  0.00   0.00  -0.25     0.10     0.24    -0.01    -0.16  0.01    -0.30   \n",
       "1996 -0.01   0.00  -0.22     0.05     0.20    -0.02    -0.11  0.02    -0.26   \n",
       "1997  0.02  -0.02  -0.12     0.03     0.11    -0.02    -0.05  0.02    -0.16   \n",
       "1998  0.00   0.04   0.11     0.00    -0.08    -0.01     0.02 -0.11    -0.04   \n",
       "1999  0.00   0.01   0.02    -0.08    -0.06     0.01    -0.02 -0.03     0.04   \n",
       "2000  0.01  -0.02   0.08    -0.08     0.00    -0.02     0.02  0.06     0.12   \n",
       "2001 -0.04   0.07   0.05     0.00    -0.02    -0.05     0.02  0.00     0.12   \n",
       "2002 -0.03  -0.04   0.04    -0.01    -0.01     0.01     0.03 -0.03     0.17   \n",
       "2003 -0.01  -0.04   0.01    -0.03     0.00     0.07     0.07  0.02     0.20   \n",
       "2004  0.00  -0.07  -0.01     0.00    -0.07     0.07     0.07  0.00     0.19   \n",
       "     기타소비\n",
       "1993  0.00   \n",
       "1994 -0.02   \n",
       "1995  0.00   \n",
       "1996  0.01   \n",
       "1997  0.02   \n",
       "1998  0.03   \n",
       "1999  0.00   \n",
       "2000 -0.01   \n",
       "2001  0.00   \n",
       "2002  0.04   \n",
       "2003 -0.02   \n",
       "2004 -0.04   "
      ]
     },
     "metadata": {},
     "output_type": "display_data"
    }
   ],
   "source": [
    "round(house_log_mp$residuals, 2)"
   ]
  },
  {
   "cell_type": "code",
   "execution_count": 61,
   "id": "4ec16bb5-0700-41b3-9134-345ec798b986",
   "metadata": {},
   "outputs": [
    {
     "data": {
      "text/plain": [
       "\n",
       "Median Polish Results (Dataset: \"log(house)\")\n",
       "\n",
       "Overall: 11.30465\n",
       "\n",
       "Row Effects:\n",
       "       1993        1994        1995        1996        1997        1998 \n",
       "-0.32175936 -0.22877213 -0.12265758 -0.01029705  0.01029705 -0.13095072 \n",
       "       1999        2000        2001        2002        2003        2004 \n",
       "-0.01268085  0.06165227  0.14900604  0.17342852  0.21261832  0.26830487 \n",
       "\n",
       "Column Effects:\n",
       "     식료품      주거비    광열수도    가구가사    피복신발    보건의료 \n",
       " 1.63469862 -0.39685225 -0.07144553 -0.29124378  0.06146341 -0.18422407 \n",
       "       교육    교양오락    교통통신    기타소비 \n",
       " 0.73231337 -0.08222035  0.99039062  1.22733896 \n",
       "\n",
       "Residuals:\n",
       "          식료품      주거비   광열수도    가구가사    피복신발  보건의료\n",
       "1993 -0.00047918  1.4137e-01 -0.2117756  0.15728690  0.18981396  0.031720\n",
       "1994  0.03074766  8.7124e-02 -0.2681398  0.14306996  0.21587760  0.012617\n",
       "1995 -0.00335143  7.1902e-05 -0.2463454  0.09652970  0.24388965 -0.006169\n",
       "1996 -0.00634999 -7.1902e-05 -0.2178574  0.04772186  0.20491282 -0.018915\n",
       "1997  0.01597017 -2.0647e-02 -0.1166459  0.03314178  0.11451929 -0.023658\n",
       "1998  0.00160992  3.8627e-02  0.1132401 -0.00163403 -0.08248547 -0.010094\n",
       "1999  0.00225130  5.1393e-03  0.0202301 -0.07598812 -0.06086250  0.006169\n",
       "2000  0.00935777 -1.8183e-02  0.0760718 -0.08066713 -0.00055699 -0.017203\n",
       "2001 -0.04161157  7.4075e-02  0.0530498 -0.00034556 -0.02096462 -0.053561\n",
       "2002 -0.02904820 -3.9997e-02  0.0362822 -0.01044099 -0.00700541  0.009058\n",
       "2003 -0.01048489 -3.7485e-02  0.0094251 -0.03495407  0.00055699  0.070707\n",
       "2004  0.00047918 -6.9173e-02 -0.0094251  0.00034556 -0.07194603  0.067565\n",
       "          교육   교양오락  교통통신   기타소비\n",
       "1993 -0.246707 -0.0435146 -0.425332 -0.0014361\n",
       "1994 -0.235955 -0.0159995 -0.291190 -0.0225147\n",
       "1995 -0.162146  0.0104091 -0.301974  0.0014361\n",
       "1996 -0.112721  0.0230128 -0.256078  0.0103958\n",
       "1997 -0.049420  0.0195785 -0.160115  0.0165023\n",
       "1998  0.021930 -0.1131722 -0.041878  0.0314571\n",
       "1999 -0.015182 -0.0274084  0.041878 -0.0041666\n",
       "2000  0.015182  0.0602045  0.117279 -0.0116239\n",
       "2001  0.017138 -0.0017989  0.121891  0.0020521\n",
       "2002  0.025404 -0.0255868  0.173564  0.0361145\n",
       "2003  0.069846  0.0150594  0.197535 -0.0156109\n",
       "2004  0.065531  0.0017989  0.193664 -0.0370524\n"
      ]
     },
     "metadata": {},
     "output_type": "display_data"
    }
   ],
   "source": [
    "house_log_mp"
   ]
  },
  {
   "cell_type": "markdown",
   "id": "65b2556a-c8dc-4eb9-8325-3274cabbf1c0",
   "metadata": {},
   "source": [
    "## 2원 빈도 표 분석"
   ]
  },
  {
   "cell_type": "code",
   "execution_count": 134,
   "id": "b527b416-a914-4440-8a08-5f6ec317bb17",
   "metadata": {},
   "outputs": [
    {
     "data": {
      "text/plain": [
       ", , Dept = A\n",
       "\n",
       "          Gender\n",
       "Admit      Male Female\n",
       "  Admitted  512     89\n",
       "  Rejected  313     19\n",
       "\n",
       ", , Dept = B\n",
       "\n",
       "          Gender\n",
       "Admit      Male Female\n",
       "  Admitted  353     17\n",
       "  Rejected  207      8\n",
       "\n",
       ", , Dept = C\n",
       "\n",
       "          Gender\n",
       "Admit      Male Female\n",
       "  Admitted  120    202\n",
       "  Rejected  205    391\n",
       "\n",
       ", , Dept = D\n",
       "\n",
       "          Gender\n",
       "Admit      Male Female\n",
       "  Admitted  138    131\n",
       "  Rejected  279    244\n",
       "\n",
       ", , Dept = E\n",
       "\n",
       "          Gender\n",
       "Admit      Male Female\n",
       "  Admitted   53     94\n",
       "  Rejected  138    299\n",
       "\n",
       ", , Dept = F\n",
       "\n",
       "          Gender\n",
       "Admit      Male Female\n",
       "  Admitted   22     24\n",
       "  Rejected  351    317\n"
      ]
     },
     "metadata": {},
     "output_type": "display_data"
    }
   ],
   "source": [
    "UCBAdmissions"
   ]
  },
  {
   "cell_type": "code",
   "execution_count": 135,
   "id": "29113be6-7656-4b81-bf93-9ff84deed151",
   "metadata": {},
   "outputs": [
    {
     "data": {
      "text/plain": [
       "        Dept\n",
       "Gender     A   B   C   D   E   F\n",
       "  Male   512 353 120 138  53  22\n",
       "  Female  89  17 202 131  94  24"
      ]
     },
     "metadata": {},
     "output_type": "display_data"
    }
   ],
   "source": [
    "Tab1 <- UCBAdmissions[1,,]\n",
    "Tab1"
   ]
  },
  {
   "cell_type": "code",
   "execution_count": 136,
   "id": "9ad08089-8e31-47f8-a751-a9ae43c91864",
   "metadata": {},
   "outputs": [
    {
     "data": {
      "text/plain": [
       "        Dept\n",
       "Gender     A   B   C   D   E   F\n",
       "  Male   313 207 205 279 138 351\n",
       "  Female  19   8 391 244 299 317"
      ]
     },
     "metadata": {},
     "output_type": "display_data"
    }
   ],
   "source": [
    "Tab2 <- UCBAdmissions[2,,]\n",
    "Tab2"
   ]
  },
  {
   "cell_type": "code",
   "execution_count": 137,
   "id": "045b472e-0735-4399-95e2-422c42d239f1",
   "metadata": {},
   "outputs": [
    {
     "data": {
      "text/plain": [
       "        Dept\n",
       "Gender     A   B   C   D   E   F\n",
       "  Male   825 560 325 417 191 373\n",
       "  Female 108  25 593 375 393 341"
      ]
     },
     "metadata": {},
     "output_type": "display_data"
    }
   ],
   "source": [
    "Tab <- Tab1 + Tab2\n",
    "Tab"
   ]
  },
  {
   "cell_type": "code",
   "execution_count": 157,
   "id": "3a6a84b8-f14b-4f68-8c75-dcac084afd94",
   "metadata": {},
   "outputs": [
    {
     "data": {
      "image/png": "[encoded data removed]",
      "text/plain": [
       "plot without title"
      ]
     },
     "metadata": {
      "image/png": {
       "height": 480,
       "width": 960
      }
     },
     "output_type": "display_data"
    }
   ],
   "source": [
    "barplot(Tab, legend = rownames(Tab))"
   ]
  },
  {
   "cell_type": "code",
   "execution_count": 158,
   "id": "5c815f46-a4bf-4160-bf0b-87da93252098",
   "metadata": {},
   "outputs": [
    {
     "data": {
      "text/html": [
       "<style>\n",
       ".dl-inline {width: auto; margin:0; padding: 0}\n",
       ".dl-inline>dt, .dl-inline>dd {float: none; width: auto; display: inline-block}\n",
       ".dl-inline>dt::after {content: \":\\0020\"; padding-right: .5ex}\n",
       ".dl-inline>dt:not(:first-of-type) {padding-left: .5ex}\n",
       "</style><dl class=dl-inline><dt>A</dt><dd>933</dd><dt>B</dt><dd>585</dd><dt>C</dt><dd>918</dd><dt>D</dt><dd>792</dd><dt>E</dt><dd>584</dd><dt>F</dt><dd>714</dd></dl>\n"
      ],
      "text/latex": [
       "\\begin{description*}\n",
       "\\item[A] 933\n",
       "\\item[B] 585\n",
       "\\item[C] 918\n",
       "\\item[D] 792\n",
       "\\item[E] 584\n",
       "\\item[F] 714\n",
       "\\end{description*}\n"
      ],
      "text/markdown": [
       "A\n",
       ":   933B\n",
       ":   585C\n",
       ":   918D\n",
       ":   792E\n",
       ":   584F\n",
       ":   714\n",
       "\n"
      ],
      "text/plain": [
       "  A   B   C   D   E   F \n",
       "933 585 918 792 584 714 "
      ]
     },
     "metadata": {},
     "output_type": "display_data"
    }
   ],
   "source": [
    "Tab_col <- apply(Tab, 2, sum)\n",
    "Tab_col"
   ]
  },
  {
   "cell_type": "code",
   "execution_count": 159,
   "id": "151c06bd-21fc-4228-8237-0bb5656b934e",
   "metadata": {},
   "outputs": [
    {
     "data": {
      "text/html": [
       "<table class=\"dataframe\">\n",
       "<caption>A matrix: 2 × 6 of type dbl</caption>\n",
       "<tbody>\n",
       "\t<tr><th scope=row>Male</th><td>88.42444</td><td>95.726496</td><td>35.40305</td><td>52.65152</td><td>32.70548</td><td>52.2409</td></tr>\n",
       "\t<tr><th scope=row>Female</th><td>11.57556</td><td> 4.273504</td><td>64.59695</td><td>47.34848</td><td>67.29452</td><td>47.7591</td></tr>\n",
       "</tbody>\n",
       "</table>\n"
      ],
      "text/latex": [
       "A matrix: 2 × 6 of type dbl\n",
       "\\begin{tabular}{r|llllll}\n",
       "\tMale & 88.42444 & 95.726496 & 35.40305 & 52.65152 & 32.70548 & 52.2409\\\\\n",
       "\tFemale & 11.57556 &  4.273504 & 64.59695 & 47.34848 & 67.29452 & 47.7591\\\\\n",
       "\\end{tabular}\n"
      ],
      "text/markdown": [
       "\n",
       "A matrix: 2 × 6 of type dbl\n",
       "\n",
       "| Male | 88.42444 | 95.726496 | 35.40305 | 52.65152 | 32.70548 | 52.2409 |\n",
       "| Female | 11.57556 |  4.273504 | 64.59695 | 47.34848 | 67.29452 | 47.7591 |\n",
       "\n"
      ],
      "text/plain": [
       "        \n",
       "Gender   [,1]     [,2]      [,3]     [,4]     [,5]     [,6]   \n",
       "  Male   88.42444 95.726496 35.40305 52.65152 32.70548 52.2409\n",
       "  Female 11.57556  4.273504 64.59695 47.34848 67.29452 47.7591"
      ]
     },
     "metadata": {},
     "output_type": "display_data"
    }
   ],
   "source": [
    "Tab_c <- Tab %*% diag(1/Tab_col) * 100\n",
    "Tab_c"
   ]
  },
  {
   "cell_type": "code",
   "execution_count": 160,
   "id": "7539be16-fd7f-4e0e-83c4-57d48ec44641",
   "metadata": {},
   "outputs": [
    {
     "data": {
      "text/html": [
       "<table class=\"dataframe\">\n",
       "<caption>A matrix: 2 × 6 of type dbl</caption>\n",
       "<thead>\n",
       "\t<tr><th></th><th scope=col>A</th><th scope=col>B</th><th scope=col>C</th><th scope=col>D</th><th scope=col>E</th><th scope=col>F</th></tr>\n",
       "</thead>\n",
       "<tbody>\n",
       "\t<tr><th scope=row>Male</th><td>88.42444</td><td>95.726496</td><td>35.40305</td><td>52.65152</td><td>32.70548</td><td>52.2409</td></tr>\n",
       "\t<tr><th scope=row>Female</th><td>11.57556</td><td> 4.273504</td><td>64.59695</td><td>47.34848</td><td>67.29452</td><td>47.7591</td></tr>\n",
       "</tbody>\n",
       "</table>\n"
      ],
      "text/latex": [
       "A matrix: 2 × 6 of type dbl\n",
       "\\begin{tabular}{r|llllll}\n",
       "  & A & B & C & D & E & F\\\\\n",
       "\\hline\n",
       "\tMale & 88.42444 & 95.726496 & 35.40305 & 52.65152 & 32.70548 & 52.2409\\\\\n",
       "\tFemale & 11.57556 &  4.273504 & 64.59695 & 47.34848 & 67.29452 & 47.7591\\\\\n",
       "\\end{tabular}\n"
      ],
      "text/markdown": [
       "\n",
       "A matrix: 2 × 6 of type dbl\n",
       "\n",
       "| <!--/--> | A | B | C | D | E | F |\n",
       "|---|---|---|---|---|---|---|\n",
       "| Male | 88.42444 | 95.726496 | 35.40305 | 52.65152 | 32.70548 | 52.2409 |\n",
       "| Female | 11.57556 |  4.273504 | 64.59695 | 47.34848 | 67.29452 | 47.7591 |\n",
       "\n"
      ],
      "text/plain": [
       "        \n",
       "Gender   A        B         C        D        E        F      \n",
       "  Male   88.42444 95.726496 35.40305 52.65152 32.70548 52.2409\n",
       "  Female 11.57556  4.273504 64.59695 47.34848 67.29452 47.7591"
      ]
     },
     "metadata": {},
     "output_type": "display_data"
    }
   ],
   "source": [
    "colnames(Tab_c) <- c('A', 'B', 'C', 'D', 'E', 'F')\n",
    "rownames(Tab_c) <- c('Male', 'Female')\n",
    "Tab_c"
   ]
  },
  {
   "cell_type": "code",
   "execution_count": 161,
   "id": "866ee7cb-2266-487d-ab37-6b75a3378b13",
   "metadata": {},
   "outputs": [
    {
     "data": {
      "image/png": "[encoded data removed]",
      "text/plain": [
       "plot without title"
      ]
     },
     "metadata": {
      "image/png": {
       "height": 480,
       "width": 960
      }
     },
     "output_type": "display_data"
    }
   ],
   "source": [
    "barplot(Tab_c, legend = rownames(Tab_c))"
   ]
  },
  {
   "cell_type": "code",
   "execution_count": 156,
   "id": "85178f84-cda8-48c4-af7d-ad6525e0c2d8",
   "metadata": {},
   "outputs": [
    {
     "data": {
      "image/png": "[encoded data removed]",
      "text/plain": [
       "plot without title"
      ]
     },
     "metadata": {
      "image/png": {
       "height": 480,
       "width": 960
      }
     },
     "output_type": "display_data"
    }
   ],
   "source": [
    "par(mfrow = c(1,2))\n",
    "barplot(t(Tab), beside = T, legend = colnames(Tab))\n",
    "Tab_row <- apply(Tab,1,sum)\n",
    "Tab_r <- diag(1/Tab_row) %*% Tab * 100\n",
    "colnames(Tab_r) <- colnames(Tab_c)\n",
    "rownames(Tab_r) <- rownames(Tab_c)\n",
    "barplot(t(Tab_r), beside = T, legend = colnames(Tab))"
   ]
  },
  {
   "cell_type": "markdown",
   "id": "aabadaaf-19d0-4e55-a6e5-6c695ca39ea4",
   "metadata": {},
   "source": [
    "- 남학생은 A, B에 50% 이상 집중되어 있는 것과 달리 여학생은 C, D, E, F에 90% 이상이 집중되어 있다."
   ]
  },
  {
   "cell_type": "code",
   "execution_count": 170,
   "id": "f8f20c26-9758-4830-a529-682afea4646b",
   "metadata": {},
   "outputs": [
    {
     "data": {
      "text/html": [
       "<table class=\"dataframe\">\n",
       "<caption>A table: 3 × 7 of type dbl</caption>\n",
       "<thead>\n",
       "\t<tr><th></th><th scope=col>A</th><th scope=col>B</th><th scope=col>C</th><th scope=col>D</th><th scope=col>E</th><th scope=col>F</th><th scope=col>Sum</th></tr>\n",
       "</thead>\n",
       "<tbody>\n",
       "\t<tr><th scope=row>Admitted</th><td>512</td><td>353</td><td>120</td><td>138</td><td> 53</td><td> 22</td><td>1198</td></tr>\n",
       "\t<tr><th scope=row>Rejected</th><td>313</td><td>207</td><td>205</td><td>279</td><td>138</td><td>351</td><td>1493</td></tr>\n",
       "\t<tr><th scope=row>Sum</th><td>825</td><td>560</td><td>325</td><td>417</td><td>191</td><td>373</td><td>2691</td></tr>\n",
       "</tbody>\n",
       "</table>\n"
      ],
      "text/latex": [
       "A table: 3 × 7 of type dbl\n",
       "\\begin{tabular}{r|lllllll}\n",
       "  & A & B & C & D & E & F & Sum\\\\\n",
       "\\hline\n",
       "\tAdmitted & 512 & 353 & 120 & 138 &  53 &  22 & 1198\\\\\n",
       "\tRejected & 313 & 207 & 205 & 279 & 138 & 351 & 1493\\\\\n",
       "\tSum & 825 & 560 & 325 & 417 & 191 & 373 & 2691\\\\\n",
       "\\end{tabular}\n"
      ],
      "text/markdown": [
       "\n",
       "A table: 3 × 7 of type dbl\n",
       "\n",
       "| <!--/--> | A | B | C | D | E | F | Sum |\n",
       "|---|---|---|---|---|---|---|---|\n",
       "| Admitted | 512 | 353 | 120 | 138 |  53 |  22 | 1198 |\n",
       "| Rejected | 313 | 207 | 205 | 279 | 138 | 351 | 1493 |\n",
       "| Sum | 825 | 560 | 325 | 417 | 191 | 373 | 2691 |\n",
       "\n"
      ],
      "text/plain": [
       "          Dept\n",
       "Admit      A   B   C   D   E   F   Sum \n",
       "  Admitted 512 353 120 138  53  22 1198\n",
       "  Rejected 313 207 205 279 138 351 1493\n",
       "  Sum      825 560 325 417 191 373 2691"
      ]
     },
     "metadata": {},
     "output_type": "display_data"
    }
   ],
   "source": [
    "Tab_M <- UCBAdmissions[,1,]\n",
    "addmargins(Tab_M)"
   ]
  },
  {
   "cell_type": "code",
   "execution_count": 171,
   "id": "c67f5a06-7bc4-4205-8257-46382edb517b",
   "metadata": {},
   "outputs": [
    {
     "data": {
      "text/html": [
       "<table class=\"dataframe\">\n",
       "<caption>A table: 3 × 7 of type dbl</caption>\n",
       "<thead>\n",
       "\t<tr><th></th><th scope=col>A</th><th scope=col>B</th><th scope=col>C</th><th scope=col>D</th><th scope=col>E</th><th scope=col>F</th><th scope=col>Sum</th></tr>\n",
       "</thead>\n",
       "<tbody>\n",
       "\t<tr><th scope=row>Admitted</th><td> 89</td><td>17</td><td>202</td><td>131</td><td> 94</td><td> 24</td><td> 557</td></tr>\n",
       "\t<tr><th scope=row>Rejected</th><td> 19</td><td> 8</td><td>391</td><td>244</td><td>299</td><td>317</td><td>1278</td></tr>\n",
       "\t<tr><th scope=row>Sum</th><td>108</td><td>25</td><td>593</td><td>375</td><td>393</td><td>341</td><td>1835</td></tr>\n",
       "</tbody>\n",
       "</table>\n"
      ],
      "text/latex": [
       "A table: 3 × 7 of type dbl\n",
       "\\begin{tabular}{r|lllllll}\n",
       "  & A & B & C & D & E & F & Sum\\\\\n",
       "\\hline\n",
       "\tAdmitted &  89 & 17 & 202 & 131 &  94 &  24 &  557\\\\\n",
       "\tRejected &  19 &  8 & 391 & 244 & 299 & 317 & 1278\\\\\n",
       "\tSum & 108 & 25 & 593 & 375 & 393 & 341 & 1835\\\\\n",
       "\\end{tabular}\n"
      ],
      "text/markdown": [
       "\n",
       "A table: 3 × 7 of type dbl\n",
       "\n",
       "| <!--/--> | A | B | C | D | E | F | Sum |\n",
       "|---|---|---|---|---|---|---|---|\n",
       "| Admitted |  89 | 17 | 202 | 131 |  94 |  24 |  557 |\n",
       "| Rejected |  19 |  8 | 391 | 244 | 299 | 317 | 1278 |\n",
       "| Sum | 108 | 25 | 593 | 375 | 393 | 341 | 1835 |\n",
       "\n"
      ],
      "text/plain": [
       "          Dept\n",
       "Admit      A   B  C   D   E   F   Sum \n",
       "  Admitted  89 17 202 131  94  24  557\n",
       "  Rejected  19  8 391 244 299 317 1278\n",
       "  Sum      108 25 593 375 393 341 1835"
      ]
     },
     "metadata": {},
     "output_type": "display_data"
    }
   ],
   "source": [
    "Tab_F <- UCBAdmissions[,2,]\n",
    "addmargins(Tab_F)"
   ]
  },
  {
   "cell_type": "markdown",
   "id": "15b62271-1a3c-43bf-b4bd-366e32aa64a9",
   "metadata": {},
   "source": [
    "이제 남학생의 합격률과 여성의 합격률을 비교해보자."
   ]
  },
  {
   "cell_type": "code",
   "execution_count": 179,
   "id": "12cd517e-a1ad-419b-a1b0-f6e7260feac2",
   "metadata": {},
   "outputs": [
    {
     "data": {
      "image/png": "[encoded data removed]",
      "text/plain": [
       "Plot with title \"Female\""
      ]
     },
     "metadata": {
      "image/png": {
       "height": 480,
       "width": 960
      }
     },
     "output_type": "display_data"
    }
   ],
   "source": [
    "par(mfrow = c(1,2))\n",
    "Tab_M_col <- apply(Tab_M, 2, sum)\n",
    "Tab_M_C <- Tab_M %*% diag(1/Tab_M_col) * 100\n",
    "colnames(Tab_M_C) <- c('A', 'B', 'C', 'D', 'E', 'F')\n",
    "barplot(Tab_M_C, legend = rownames(Tab_M_C), main = 'Male')\n",
    "Tab_F_col <- apply(Tab_F, 2, sum)\n",
    "Tab_F_C <- Tab_F %*% diag(1/Tab_F_col) * 100\n",
    "colnames(Tab_F_C) <- colnames(Tab_M_C)\n",
    "barplot(Tab_F_C, legend = rownames(Tab_F_C), main = 'Female')"
   ]
  },
  {
   "cell_type": "markdown",
   "id": "70d1c302-b413-4fc3-8051-a30dc0d3ec21",
   "metadata": {},
   "source": [
    "C, D, E, F 학과에서 남학생과 여학생의 합격률은 비슷하고\n",
    "\n",
    "A, B 학과에서는 여학생의 합격률이 더 높은 것으로 보인다."
   ]
  },
  {
   "cell_type": "code",
   "execution_count": 185,
   "id": "706ae3e3-4e68-4907-ad10-ad74298a53dd",
   "metadata": {},
   "outputs": [
    {
     "data": {
      "image/png": "[encoded data removed]",
      "text/plain": [
       "Plot with title \"UCBAdmissions\""
      ]
     },
     "metadata": {
      "image/png": {
       "height": 480,
       "width": 960
      }
     },
     "output_type": "display_data"
    }
   ],
   "source": [
    "par(mfrow = c(1,2))\n",
    "mosaicplot(~Dept+Gender, data = UCBAdmissions, color = T)\n",
    "mosaicplot(~Gender+Dept, data = UCBAdmissions, color = T)"
   ]
  },
  {
   "cell_type": "markdown",
   "id": "6f1d8535-c306-434b-b8b3-b7f37068ac85",
   "metadata": {},
   "source": [
    "# Ch.8 시계열 자료의 탐색"
   ]
  },
  {
   "cell_type": "markdown",
   "id": "8e5296e8-1f87-4663-9dbb-7a602fee2b8d",
   "metadata": {},
   "source": [
    "## 시계열 평활이란?"
   ]
  },
  {
   "cell_type": "code",
   "execution_count": 201,
   "id": "9f7e3712-e1ac-4863-9e47-718759076767",
   "metadata": {},
   "outputs": [
    {
     "data": {
      "image/png": "[encoded data removed]",
      "text/plain": [
       "plot without title"
      ]
     },
     "metadata": {
      "image/png": {
       "height": 480,
       "width": 960
      }
     },
     "output_type": "display_data"
    }
   ],
   "source": [
    "par(mfrow = c(1,2))\n",
    "t <- seq(1:60)\n",
    "s <- sin(2*pi*t/12) + sin(2*pi*t/30)\n",
    "a <- rnorm(60, 0, 1)\n",
    "x <- s+a\n",
    "plot(t, x, type = 'l', lty = 'dotted')\n",
    "lines(t, s, col = 'red')\n",
    "plot(t, smooth(x), type = 'l', lty = 'dotted')\n",
    "lines(t, s, col = 'red')"
   ]
  },
  {
   "cell_type": "markdown",
   "id": "b08e053c-8d27-4439-bcf6-8903d731eaf2",
   "metadata": {},
   "source": [
    "## 평활방법"
   ]
  },
  {
   "cell_type": "markdown",
   "id": "f8b8a9e9-0255-411b-b326-b75ad4a7e6e1",
   "metadata": {},
   "source": [
    "이동평균(이동중앙값)에서 $K$가 작으면 $smooth_t$ 계열이 평탄하게 된다. 반대로 $K$를 작게하면 $smooth_t$ 계열에 잦은 변동이 생긴다.\n",
    "\n",
    "이동평균은 특이점에 취약하므로 평균을 중간값으로 대치한 이동중간값이 선호된다."
   ]
  },
  {
   "cell_type": "code",
   "execution_count": 207,
   "id": "902bee60-30b5-43a7-86da-065c4c67ccfb",
   "metadata": {},
   "outputs": [],
   "source": [
    "t <- 1:12\n",
    "x <- c(2.1, 9.8, 19.5, 22.5, 16.6, 16.1, 18.5, -3.4, 8.9, -25.2, -14.0, -0.4)"
   ]
  },
  {
   "cell_type": "code",
   "execution_count": 211,
   "id": "bbf0cf8e-276a-4da9-b8a3-0a427b493489",
   "metadata": {},
   "outputs": [
    {
     "data": {
      "text/html": [
       "<style>\n",
       ".list-inline {list-style: none; margin:0; padding: 0}\n",
       ".list-inline>li {display: inline-block}\n",
       ".list-inline>li:not(:last-child)::after {content: \"\\00b7\"; padding: 0 .5ex}\n",
       "</style>\n",
       "<ol class=list-inline><li>2.1</li><li>9.8</li><li>19.5</li><li>19.5</li><li>16.6</li><li>16.6</li><li>16.1</li><li>8.9</li><li>-3.4</li><li>-14</li><li>-14</li><li>-14</li></ol>\n"
      ],
      "text/latex": [
       "\\begin{enumerate*}\n",
       "\\item 2.1\n",
       "\\item 9.8\n",
       "\\item 19.5\n",
       "\\item 19.5\n",
       "\\item 16.6\n",
       "\\item 16.6\n",
       "\\item 16.1\n",
       "\\item 8.9\n",
       "\\item -3.4\n",
       "\\item -14\n",
       "\\item -14\n",
       "\\item -14\n",
       "\\end{enumerate*}\n"
      ],
      "text/markdown": [
       "1. 2.1\n",
       "2. 9.8\n",
       "3. 19.5\n",
       "4. 19.5\n",
       "5. 16.6\n",
       "6. 16.6\n",
       "7. 16.1\n",
       "8. 8.9\n",
       "9. -3.4\n",
       "10. -14\n",
       "11. -14\n",
       "12. -14\n",
       "\n",
       "\n"
      ],
      "text/plain": [
       " [1]   2.1   9.8  19.5  19.5  16.6  16.6  16.1   8.9  -3.4 -14.0 -14.0 -14.0\n",
       "attr(,\"k\")\n",
       "[1] 3"
      ]
     },
     "metadata": {},
     "output_type": "display_data"
    }
   ],
   "source": [
    "runmed(x, k=3)"
   ]
  },
  {
   "cell_type": "code",
   "execution_count": 212,
   "id": "05288606-5610-4ca7-a708-d804c0fb7e16",
   "metadata": {},
   "outputs": [
    {
     "data": {
      "image/png": "[encoded data removed]",
      "text/plain": [
       "plot without title"
      ]
     },
     "metadata": {
      "image/png": {
       "height": 480,
       "width": 960
      }
     },
     "output_type": "display_data"
    }
   ],
   "source": [
    "par(mfrow = c(1,2))\n",
    "plot(t, x, type = 'l')\n",
    "plot(t, runmed(x, k = 3), type = 'l')"
   ]
  },
  {
   "cell_type": "code",
   "execution_count": 220,
   "id": "d12070cb-b60a-4c35-92fb-a2c11e6b6b3e",
   "metadata": {},
   "outputs": [
    {
     "data": {
      "text/plain": [
       "3RSS Tukey smoother resulting from  smooth(x = x, kind = c(\"3RSS\"), twiceit = T) \n",
       " __twiced__  used 5 iterations\n",
       " [1]   2.1   9.8  19.5  16.6  16.6  16.6  16.1   8.9  -3.4 -14.0 -14.0 -14.0"
      ]
     },
     "metadata": {},
     "output_type": "display_data"
    }
   ],
   "source": [
    "smooth(x, kind = c(\"3RSS\"), twiceit = T)"
   ]
  },
  {
   "cell_type": "markdown",
   "id": "a57da530-b644-4e63-b917-b4a631981b0d",
   "metadata": {},
   "source": [
    "## 사례분석"
   ]
  },
  {
   "cell_type": "code",
   "execution_count": 223,
   "id": "cf5ec43f-3f6c-4179-a010-edd6b51767e5",
   "metadata": {},
   "outputs": [
    {
     "data": {
      "text/html": [
       "<table class=\"dataframe\">\n",
       "<caption>A data.frame: 6 × 2</caption>\n",
       "<thead>\n",
       "\t<tr><th></th><th scope=col>day</th><th scope=col>temperature</th></tr>\n",
       "\t<tr><th></th><th scope=col>&lt;int&gt;</th><th scope=col>&lt;int&gt;</th></tr>\n",
       "</thead>\n",
       "<tbody>\n",
       "\t<tr><th scope=row>1</th><td>1</td><td>60</td></tr>\n",
       "\t<tr><th scope=row>2</th><td>2</td><td>70</td></tr>\n",
       "\t<tr><th scope=row>3</th><td>3</td><td>54</td></tr>\n",
       "\t<tr><th scope=row>4</th><td>4</td><td>56</td></tr>\n",
       "\t<tr><th scope=row>5</th><td>5</td><td>70</td></tr>\n",
       "\t<tr><th scope=row>6</th><td>6</td><td>66</td></tr>\n",
       "</tbody>\n",
       "</table>\n"
      ],
      "text/latex": [
       "A data.frame: 6 × 2\n",
       "\\begin{tabular}{r|ll}\n",
       "  & day & temperature\\\\\n",
       "  & <int> & <int>\\\\\n",
       "\\hline\n",
       "\t1 & 1 & 60\\\\\n",
       "\t2 & 2 & 70\\\\\n",
       "\t3 & 3 & 54\\\\\n",
       "\t4 & 4 & 56\\\\\n",
       "\t5 & 5 & 70\\\\\n",
       "\t6 & 6 & 66\\\\\n",
       "\\end{tabular}\n"
      ],
      "text/markdown": [
       "\n",
       "A data.frame: 6 × 2\n",
       "\n",
       "| <!--/--> | day &lt;int&gt; | temperature &lt;int&gt; |\n",
       "|---|---|---|\n",
       "| 1 | 1 | 60 |\n",
       "| 2 | 2 | 70 |\n",
       "| 3 | 3 | 54 |\n",
       "| 4 | 4 | 56 |\n",
       "| 5 | 5 | 70 |\n",
       "| 6 | 6 | 66 |\n",
       "\n"
      ],
      "text/plain": [
       "  day temperature\n",
       "1 1   60         \n",
       "2 2   70         \n",
       "3 3   54         \n",
       "4 4   56         \n",
       "5 5   70         \n",
       "6 6   66         "
      ]
     },
     "metadata": {},
     "output_type": "display_data"
    }
   ],
   "source": [
    "Telemetric <- read.table(\"dataset/EDA/Telemetric.txt\", header = T)\n",
    "head(Telemetric)"
   ]
  },
  {
   "cell_type": "code",
   "execution_count": 234,
   "id": "b2cc27d2-b16a-445d-93ee-9aae10cfbdbd",
   "metadata": {},
   "outputs": [
    {
     "data": {
      "image/png": "[encoded data removed]",
      "text/plain": [
       "plot without title"
      ]
     },
     "metadata": {
      "image/png": {
       "height": 480,
       "width": 960
      }
     },
     "output_type": "display_data"
    }
   ],
   "source": [
    "par(mfrow = c(2,2))\n",
    "plot(Telemetric$temperature, type = 'l', lty = 'dotted')\n",
    "plot(smooth(Telemetric$temperature), type = 'l', lty = 'dotted')\n",
    "plot(smooth(Telemetric$temperature, kind = c('3RS3R'), twiceit = TRUE), type = 'l', lty = 'dotted')\n",
    "plot(smooth(Telemetric$temperature, twiceit = TRUE), type = 'l', lty = 'dotted')"
   ]
  },
  {
   "cell_type": "markdown",
   "id": "e51d07af-7679-4579-bcbb-d142dd723c3e",
   "metadata": {},
   "source": [
    "## 계절형 시계열의 분해"
   ]
  },
  {
   "cell_type": "code",
   "execution_count": 243,
   "id": "d7270f4b-8ada-4936-bf2b-09d382a55766",
   "metadata": {},
   "outputs": [],
   "source": [
    "export <- read.table('dataset/EDA/Export_1988.txt', header = TRUE)\n",
    "series <- ts(export$Series/1000, start = c(1988,1), frequency = 12)"
   ]
  },
  {
   "cell_type": "code",
   "execution_count": 249,
   "id": "714fea66-8e4e-43a0-8a33-d7acde01e01c",
   "metadata": {},
   "outputs": [
    {
     "data": {
      "image/png": "[encoded data removed]",
      "text/plain": [
       "plot without title"
      ]
     },
     "metadata": {
      "image/png": {
       "height": 480,
       "width": 960
      }
     },
     "output_type": "display_data"
    }
   ],
   "source": [
    "par(mfrow = c(1,2))\n",
    "plot(series)\n",
    "plot(log(series))"
   ]
  },
  {
   "cell_type": "code",
   "execution_count": 251,
   "id": "b8fef0b3-4b68-490a-b02f-fc53ed212db3",
   "metadata": {},
   "outputs": [],
   "source": [
    "decomp_out <- decompose(log(series))"
   ]
  },
  {
   "cell_type": "code",
   "execution_count": 252,
   "id": "b44b84f1-d301-43fe-bc47-df44c316223d",
   "metadata": {},
   "outputs": [
    {
     "data": {
      "text/html": [
       "<table class=\"dataframe\">\n",
       "<caption>A Time Series: 18 × 12</caption>\n",
       "<thead>\n",
       "\t<tr><th></th><th scope=col>Jan</th><th scope=col>Feb</th><th scope=col>Mar</th><th scope=col>Apr</th><th scope=col>May</th><th scope=col>Jun</th><th scope=col>Jul</th><th scope=col>Aug</th><th scope=col>Sep</th><th scope=col>Oct</th><th scope=col>Nov</th><th scope=col>Dec</th></tr>\n",
       "</thead>\n",
       "<tbody>\n",
       "\t<tr><th scope=row>1988</th><td>-0.138387108</td><td>-0.114503286</td><td> 0.034690776</td><td>-0.001900557</td><td> 0.012587202</td><td> 0.054760266</td><td>-0.024138058</td><td>-0.039345242</td><td> 0.005798168</td><td> 0.045167687</td><td> 0.054642837</td><td> 0.110627315</td></tr>\n",
       "\t<tr><th scope=row>1989</th><td>-0.138387108</td><td>-0.114503286</td><td> 0.034690776</td><td>-0.001900557</td><td> 0.012587202</td><td> 0.054760266</td><td>-0.024138058</td><td>-0.039345242</td><td> 0.005798168</td><td> 0.045167687</td><td> 0.054642837</td><td> 0.110627315</td></tr>\n",
       "\t<tr><th scope=row>1990</th><td>-0.138387108</td><td>-0.114503286</td><td> 0.034690776</td><td>-0.001900557</td><td> 0.012587202</td><td> 0.054760266</td><td>-0.024138058</td><td>-0.039345242</td><td> 0.005798168</td><td> 0.045167687</td><td> 0.054642837</td><td> 0.110627315</td></tr>\n",
       "\t<tr><th scope=row>1991</th><td>-0.138387108</td><td>-0.114503286</td><td> 0.034690776</td><td>-0.001900557</td><td> 0.012587202</td><td> 0.054760266</td><td>-0.024138058</td><td>-0.039345242</td><td> 0.005798168</td><td> 0.045167687</td><td> 0.054642837</td><td> 0.110627315</td></tr>\n",
       "\t<tr><th scope=row>1992</th><td>-0.138387108</td><td>-0.114503286</td><td> 0.034690776</td><td>-0.001900557</td><td> 0.012587202</td><td> 0.054760266</td><td>-0.024138058</td><td>-0.039345242</td><td> 0.005798168</td><td> 0.045167687</td><td> 0.054642837</td><td> 0.110627315</td></tr>\n",
       "\t<tr><th scope=row>1993</th><td>-0.138387108</td><td>-0.114503286</td><td> 0.034690776</td><td>-0.001900557</td><td> 0.012587202</td><td> 0.054760266</td><td>-0.024138058</td><td>-0.039345242</td><td> 0.005798168</td><td> 0.045167687</td><td> 0.054642837</td><td> 0.110627315</td></tr>\n",
       "\t<tr><th scope=row>1994</th><td>-0.138387108</td><td>-0.114503286</td><td> 0.034690776</td><td>-0.001900557</td><td> 0.012587202</td><td> 0.054760266</td><td>-0.024138058</td><td>-0.039345242</td><td> 0.005798168</td><td> 0.045167687</td><td> 0.054642837</td><td> 0.110627315</td></tr>\n",
       "\t<tr><th scope=row>1995</th><td>-0.138387108</td><td>-0.114503286</td><td> 0.034690776</td><td>-0.001900557</td><td> 0.012587202</td><td> 0.054760266</td><td>-0.024138058</td><td>-0.039345242</td><td> 0.005798168</td><td> 0.045167687</td><td> 0.054642837</td><td> 0.110627315</td></tr>\n",
       "\t<tr><th scope=row>1996</th><td>-0.138387108</td><td>-0.114503286</td><td> 0.034690776</td><td>-0.001900557</td><td> 0.012587202</td><td> 0.054760266</td><td>-0.024138058</td><td>-0.039345242</td><td> 0.005798168</td><td> 0.045167687</td><td> 0.054642837</td><td> 0.110627315</td></tr>\n",
       "\t<tr><th scope=row>1997</th><td>-0.138387108</td><td>-0.114503286</td><td> 0.034690776</td><td>-0.001900557</td><td> 0.012587202</td><td> 0.054760266</td><td>-0.024138058</td><td>-0.039345242</td><td> 0.005798168</td><td> 0.045167687</td><td> 0.054642837</td><td> 0.110627315</td></tr>\n",
       "\t<tr><th scope=row>1998</th><td>-0.138387108</td><td>-0.114503286</td><td> 0.034690776</td><td>-0.001900557</td><td> 0.012587202</td><td> 0.054760266</td><td>-0.024138058</td><td>-0.039345242</td><td> 0.005798168</td><td> 0.045167687</td><td> 0.054642837</td><td> 0.110627315</td></tr>\n",
       "\t<tr><th scope=row>1999</th><td>-0.138387108</td><td>-0.114503286</td><td> 0.034690776</td><td>-0.001900557</td><td> 0.012587202</td><td> 0.054760266</td><td>-0.024138058</td><td>-0.039345242</td><td> 0.005798168</td><td> 0.045167687</td><td> 0.054642837</td><td> 0.110627315</td></tr>\n",
       "\t<tr><th scope=row>2000</th><td>-0.138387108</td><td>-0.114503286</td><td> 0.034690776</td><td>-0.001900557</td><td> 0.012587202</td><td> 0.054760266</td><td>-0.024138058</td><td>-0.039345242</td><td> 0.005798168</td><td> 0.045167687</td><td> 0.054642837</td><td> 0.110627315</td></tr>\n",
       "\t<tr><th scope=row>2001</th><td>-0.138387108</td><td>-0.114503286</td><td> 0.034690776</td><td>-0.001900557</td><td> 0.012587202</td><td> 0.054760266</td><td>-0.024138058</td><td>-0.039345242</td><td> 0.005798168</td><td> 0.045167687</td><td> 0.054642837</td><td> 0.110627315</td></tr>\n",
       "\t<tr><th scope=row>2002</th><td>-0.138387108</td><td>-0.114503286</td><td> 0.034690776</td><td>-0.001900557</td><td> 0.012587202</td><td> 0.054760266</td><td>-0.024138058</td><td>-0.039345242</td><td> 0.005798168</td><td> 0.045167687</td><td> 0.054642837</td><td> 0.110627315</td></tr>\n",
       "\t<tr><th scope=row>2003</th><td>-0.138387108</td><td>-0.114503286</td><td> 0.034690776</td><td>-0.001900557</td><td> 0.012587202</td><td> 0.054760266</td><td>-0.024138058</td><td>-0.039345242</td><td> 0.005798168</td><td> 0.045167687</td><td> 0.054642837</td><td> 0.110627315</td></tr>\n",
       "\t<tr><th scope=row>2004</th><td>-0.138387108</td><td>-0.114503286</td><td> 0.034690776</td><td>-0.001900557</td><td> 0.012587202</td><td> 0.054760266</td><td>-0.024138058</td><td>-0.039345242</td><td> 0.005798168</td><td> 0.045167687</td><td> 0.054642837</td><td> 0.110627315</td></tr>\n",
       "\t<tr><th scope=row>2005</th><td>-0.138387108</td><td>-0.114503286</td><td> 0.034690776</td><td>-0.001900557</td><td> 0.012587202</td><td> 0.054760266</td><td>-0.024138058</td><td>-0.039345242</td><td> 0.005798168</td><td> 0.045167687</td><td> 0.054642837</td><td>            </td></tr>\n",
       "</tbody>\n",
       "</table>\n"
      ],
      "text/latex": [
       "A Time Series: 18 × 12\n",
       "\\begin{tabular}{r|llllllllllll}\n",
       "  & Jan & Feb & Mar & Apr & May & Jun & Jul & Aug & Sep & Oct & Nov & Dec\\\\\n",
       "\\hline\n",
       "\t1988 & -0.138387108 & -0.114503286 &  0.034690776 & -0.001900557 &  0.012587202 &  0.054760266 & -0.024138058 & -0.039345242 &  0.005798168 &  0.045167687 &  0.054642837 &  0.110627315\\\\\n",
       "\t1989 & -0.138387108 & -0.114503286 &  0.034690776 & -0.001900557 &  0.012587202 &  0.054760266 & -0.024138058 & -0.039345242 &  0.005798168 &  0.045167687 &  0.054642837 &  0.110627315\\\\\n",
       "\t1990 & -0.138387108 & -0.114503286 &  0.034690776 & -0.001900557 &  0.012587202 &  0.054760266 & -0.024138058 & -0.039345242 &  0.005798168 &  0.045167687 &  0.054642837 &  0.110627315\\\\\n",
       "\t1991 & -0.138387108 & -0.114503286 &  0.034690776 & -0.001900557 &  0.012587202 &  0.054760266 & -0.024138058 & -0.039345242 &  0.005798168 &  0.045167687 &  0.054642837 &  0.110627315\\\\\n",
       "\t1992 & -0.138387108 & -0.114503286 &  0.034690776 & -0.001900557 &  0.012587202 &  0.054760266 & -0.024138058 & -0.039345242 &  0.005798168 &  0.045167687 &  0.054642837 &  0.110627315\\\\\n",
       "\t1993 & -0.138387108 & -0.114503286 &  0.034690776 & -0.001900557 &  0.012587202 &  0.054760266 & -0.024138058 & -0.039345242 &  0.005798168 &  0.045167687 &  0.054642837 &  0.110627315\\\\\n",
       "\t1994 & -0.138387108 & -0.114503286 &  0.034690776 & -0.001900557 &  0.012587202 &  0.054760266 & -0.024138058 & -0.039345242 &  0.005798168 &  0.045167687 &  0.054642837 &  0.110627315\\\\\n",
       "\t1995 & -0.138387108 & -0.114503286 &  0.034690776 & -0.001900557 &  0.012587202 &  0.054760266 & -0.024138058 & -0.039345242 &  0.005798168 &  0.045167687 &  0.054642837 &  0.110627315\\\\\n",
       "\t1996 & -0.138387108 & -0.114503286 &  0.034690776 & -0.001900557 &  0.012587202 &  0.054760266 & -0.024138058 & -0.039345242 &  0.005798168 &  0.045167687 &  0.054642837 &  0.110627315\\\\\n",
       "\t1997 & -0.138387108 & -0.114503286 &  0.034690776 & -0.001900557 &  0.012587202 &  0.054760266 & -0.024138058 & -0.039345242 &  0.005798168 &  0.045167687 &  0.054642837 &  0.110627315\\\\\n",
       "\t1998 & -0.138387108 & -0.114503286 &  0.034690776 & -0.001900557 &  0.012587202 &  0.054760266 & -0.024138058 & -0.039345242 &  0.005798168 &  0.045167687 &  0.054642837 &  0.110627315\\\\\n",
       "\t1999 & -0.138387108 & -0.114503286 &  0.034690776 & -0.001900557 &  0.012587202 &  0.054760266 & -0.024138058 & -0.039345242 &  0.005798168 &  0.045167687 &  0.054642837 &  0.110627315\\\\\n",
       "\t2000 & -0.138387108 & -0.114503286 &  0.034690776 & -0.001900557 &  0.012587202 &  0.054760266 & -0.024138058 & -0.039345242 &  0.005798168 &  0.045167687 &  0.054642837 &  0.110627315\\\\\n",
       "\t2001 & -0.138387108 & -0.114503286 &  0.034690776 & -0.001900557 &  0.012587202 &  0.054760266 & -0.024138058 & -0.039345242 &  0.005798168 &  0.045167687 &  0.054642837 &  0.110627315\\\\\n",
       "\t2002 & -0.138387108 & -0.114503286 &  0.034690776 & -0.001900557 &  0.012587202 &  0.054760266 & -0.024138058 & -0.039345242 &  0.005798168 &  0.045167687 &  0.054642837 &  0.110627315\\\\\n",
       "\t2003 & -0.138387108 & -0.114503286 &  0.034690776 & -0.001900557 &  0.012587202 &  0.054760266 & -0.024138058 & -0.039345242 &  0.005798168 &  0.045167687 &  0.054642837 &  0.110627315\\\\\n",
       "\t2004 & -0.138387108 & -0.114503286 &  0.034690776 & -0.001900557 &  0.012587202 &  0.054760266 & -0.024138058 & -0.039345242 &  0.005798168 &  0.045167687 &  0.054642837 &  0.110627315\\\\\n",
       "\t2005 & -0.138387108 & -0.114503286 &  0.034690776 & -0.001900557 &  0.012587202 &  0.054760266 & -0.024138058 & -0.039345242 &  0.005798168 &  0.045167687 &  0.054642837 &             \\\\\n",
       "\\end{tabular}\n"
      ],
      "text/markdown": [
       "\n",
       "A Time Series: 18 × 12\n",
       "\n",
       "| <!--/--> | Jan | Feb | Mar | Apr | May | Jun | Jul | Aug | Sep | Oct | Nov | Dec |\n",
       "|---|---|---|---|---|---|---|---|---|---|---|---|---|\n",
       "| 1988 | -0.138387108 | -0.114503286 |  0.034690776 | -0.001900557 |  0.012587202 |  0.054760266 | -0.024138058 | -0.039345242 |  0.005798168 |  0.045167687 |  0.054642837 |  0.110627315 |\n",
       "| 1989 | -0.138387108 | -0.114503286 |  0.034690776 | -0.001900557 |  0.012587202 |  0.054760266 | -0.024138058 | -0.039345242 |  0.005798168 |  0.045167687 |  0.054642837 |  0.110627315 |\n",
       "| 1990 | -0.138387108 | -0.114503286 |  0.034690776 | -0.001900557 |  0.012587202 |  0.054760266 | -0.024138058 | -0.039345242 |  0.005798168 |  0.045167687 |  0.054642837 |  0.110627315 |\n",
       "| 1991 | -0.138387108 | -0.114503286 |  0.034690776 | -0.001900557 |  0.012587202 |  0.054760266 | -0.024138058 | -0.039345242 |  0.005798168 |  0.045167687 |  0.054642837 |  0.110627315 |\n",
       "| 1992 | -0.138387108 | -0.114503286 |  0.034690776 | -0.001900557 |  0.012587202 |  0.054760266 | -0.024138058 | -0.039345242 |  0.005798168 |  0.045167687 |  0.054642837 |  0.110627315 |\n",
       "| 1993 | -0.138387108 | -0.114503286 |  0.034690776 | -0.001900557 |  0.012587202 |  0.054760266 | -0.024138058 | -0.039345242 |  0.005798168 |  0.045167687 |  0.054642837 |  0.110627315 |\n",
       "| 1994 | -0.138387108 | -0.114503286 |  0.034690776 | -0.001900557 |  0.012587202 |  0.054760266 | -0.024138058 | -0.039345242 |  0.005798168 |  0.045167687 |  0.054642837 |  0.110627315 |\n",
       "| 1995 | -0.138387108 | -0.114503286 |  0.034690776 | -0.001900557 |  0.012587202 |  0.054760266 | -0.024138058 | -0.039345242 |  0.005798168 |  0.045167687 |  0.054642837 |  0.110627315 |\n",
       "| 1996 | -0.138387108 | -0.114503286 |  0.034690776 | -0.001900557 |  0.012587202 |  0.054760266 | -0.024138058 | -0.039345242 |  0.005798168 |  0.045167687 |  0.054642837 |  0.110627315 |\n",
       "| 1997 | -0.138387108 | -0.114503286 |  0.034690776 | -0.001900557 |  0.012587202 |  0.054760266 | -0.024138058 | -0.039345242 |  0.005798168 |  0.045167687 |  0.054642837 |  0.110627315 |\n",
       "| 1998 | -0.138387108 | -0.114503286 |  0.034690776 | -0.001900557 |  0.012587202 |  0.054760266 | -0.024138058 | -0.039345242 |  0.005798168 |  0.045167687 |  0.054642837 |  0.110627315 |\n",
       "| 1999 | -0.138387108 | -0.114503286 |  0.034690776 | -0.001900557 |  0.012587202 |  0.054760266 | -0.024138058 | -0.039345242 |  0.005798168 |  0.045167687 |  0.054642837 |  0.110627315 |\n",
       "| 2000 | -0.138387108 | -0.114503286 |  0.034690776 | -0.001900557 |  0.012587202 |  0.054760266 | -0.024138058 | -0.039345242 |  0.005798168 |  0.045167687 |  0.054642837 |  0.110627315 |\n",
       "| 2001 | -0.138387108 | -0.114503286 |  0.034690776 | -0.001900557 |  0.012587202 |  0.054760266 | -0.024138058 | -0.039345242 |  0.005798168 |  0.045167687 |  0.054642837 |  0.110627315 |\n",
       "| 2002 | -0.138387108 | -0.114503286 |  0.034690776 | -0.001900557 |  0.012587202 |  0.054760266 | -0.024138058 | -0.039345242 |  0.005798168 |  0.045167687 |  0.054642837 |  0.110627315 |\n",
       "| 2003 | -0.138387108 | -0.114503286 |  0.034690776 | -0.001900557 |  0.012587202 |  0.054760266 | -0.024138058 | -0.039345242 |  0.005798168 |  0.045167687 |  0.054642837 |  0.110627315 |\n",
       "| 2004 | -0.138387108 | -0.114503286 |  0.034690776 | -0.001900557 |  0.012587202 |  0.054760266 | -0.024138058 | -0.039345242 |  0.005798168 |  0.045167687 |  0.054642837 |  0.110627315 |\n",
       "| 2005 | -0.138387108 | -0.114503286 |  0.034690776 | -0.001900557 |  0.012587202 |  0.054760266 | -0.024138058 | -0.039345242 |  0.005798168 |  0.045167687 |  0.054642837 | <!----> |\n",
       "\n"
      ],
      "text/plain": [
       "     Jan          Feb          Mar          Apr          May         \n",
       "1988 -0.138387108 -0.114503286  0.034690776 -0.001900557  0.012587202\n",
       "1989 -0.138387108 -0.114503286  0.034690776 -0.001900557  0.012587202\n",
       "1990 -0.138387108 -0.114503286  0.034690776 -0.001900557  0.012587202\n",
       "1991 -0.138387108 -0.114503286  0.034690776 -0.001900557  0.012587202\n",
       "1992 -0.138387108 -0.114503286  0.034690776 -0.001900557  0.012587202\n",
       "1993 -0.138387108 -0.114503286  0.034690776 -0.001900557  0.012587202\n",
       "1994 -0.138387108 -0.114503286  0.034690776 -0.001900557  0.012587202\n",
       "1995 -0.138387108 -0.114503286  0.034690776 -0.001900557  0.012587202\n",
       "1996 -0.138387108 -0.114503286  0.034690776 -0.001900557  0.012587202\n",
       "1997 -0.138387108 -0.114503286  0.034690776 -0.001900557  0.012587202\n",
       "1998 -0.138387108 -0.114503286  0.034690776 -0.001900557  0.012587202\n",
       "1999 -0.138387108 -0.114503286  0.034690776 -0.001900557  0.012587202\n",
       "2000 -0.138387108 -0.114503286  0.034690776 -0.001900557  0.012587202\n",
       "2001 -0.138387108 -0.114503286  0.034690776 -0.001900557  0.012587202\n",
       "2002 -0.138387108 -0.114503286  0.034690776 -0.001900557  0.012587202\n",
       "2003 -0.138387108 -0.114503286  0.034690776 -0.001900557  0.012587202\n",
       "2004 -0.138387108 -0.114503286  0.034690776 -0.001900557  0.012587202\n",
       "2005 -0.138387108 -0.114503286  0.034690776 -0.001900557  0.012587202\n",
       "     Jun          Jul          Aug          Sep          Oct         \n",
       "1988  0.054760266 -0.024138058 -0.039345242  0.005798168  0.045167687\n",
       "1989  0.054760266 -0.024138058 -0.039345242  0.005798168  0.045167687\n",
       "1990  0.054760266 -0.024138058 -0.039345242  0.005798168  0.045167687\n",
       "1991  0.054760266 -0.024138058 -0.039345242  0.005798168  0.045167687\n",
       "1992  0.054760266 -0.024138058 -0.039345242  0.005798168  0.045167687\n",
       "1993  0.054760266 -0.024138058 -0.039345242  0.005798168  0.045167687\n",
       "1994  0.054760266 -0.024138058 -0.039345242  0.005798168  0.045167687\n",
       "1995  0.054760266 -0.024138058 -0.039345242  0.005798168  0.045167687\n",
       "1996  0.054760266 -0.024138058 -0.039345242  0.005798168  0.045167687\n",
       "1997  0.054760266 -0.024138058 -0.039345242  0.005798168  0.045167687\n",
       "1998  0.054760266 -0.024138058 -0.039345242  0.005798168  0.045167687\n",
       "1999  0.054760266 -0.024138058 -0.039345242  0.005798168  0.045167687\n",
       "2000  0.054760266 -0.024138058 -0.039345242  0.005798168  0.045167687\n",
       "2001  0.054760266 -0.024138058 -0.039345242  0.005798168  0.045167687\n",
       "2002  0.054760266 -0.024138058 -0.039345242  0.005798168  0.045167687\n",
       "2003  0.054760266 -0.024138058 -0.039345242  0.005798168  0.045167687\n",
       "2004  0.054760266 -0.024138058 -0.039345242  0.005798168  0.045167687\n",
       "2005  0.054760266 -0.024138058 -0.039345242  0.005798168  0.045167687\n",
       "     Nov          Dec         \n",
       "1988  0.054642837  0.110627315\n",
       "1989  0.054642837  0.110627315\n",
       "1990  0.054642837  0.110627315\n",
       "1991  0.054642837  0.110627315\n",
       "1992  0.054642837  0.110627315\n",
       "1993  0.054642837  0.110627315\n",
       "1994  0.054642837  0.110627315\n",
       "1995  0.054642837  0.110627315\n",
       "1996  0.054642837  0.110627315\n",
       "1997  0.054642837  0.110627315\n",
       "1998  0.054642837  0.110627315\n",
       "1999  0.054642837  0.110627315\n",
       "2000  0.054642837  0.110627315\n",
       "2001  0.054642837  0.110627315\n",
       "2002  0.054642837  0.110627315\n",
       "2003  0.054642837  0.110627315\n",
       "2004  0.054642837  0.110627315\n",
       "2005  0.054642837             "
      ]
     },
     "metadata": {},
     "output_type": "display_data"
    }
   ],
   "source": [
    "decomp_out$season"
   ]
  },
  {
   "cell_type": "code",
   "execution_count": 254,
   "id": "c6c27a94-caa0-4f8c-abd3-e3aea28edf10",
   "metadata": {},
   "outputs": [
    {
     "data": {
      "text/html": [
       "<style>\n",
       ".list-inline {list-style: none; margin:0; padding: 0}\n",
       ".list-inline>li {display: inline-block}\n",
       ".list-inline>li:not(:last-child)::after {content: \"\\00b7\"; padding: 0 .5ex}\n",
       "</style>\n",
       "<ol class=list-inline><li>-0.1384</li><li>-0.1145</li><li>0.0347</li><li>-0.0019</li><li>0.0126</li><li>0.0548</li><li>-0.0241</li><li>-0.0393</li><li>0.0058</li><li>0.0452</li><li>0.0546</li><li>0.1106</li></ol>\n"
      ],
      "text/latex": [
       "\\begin{enumerate*}\n",
       "\\item -0.1384\n",
       "\\item -0.1145\n",
       "\\item 0.0347\n",
       "\\item -0.0019\n",
       "\\item 0.0126\n",
       "\\item 0.0548\n",
       "\\item -0.0241\n",
       "\\item -0.0393\n",
       "\\item 0.0058\n",
       "\\item 0.0452\n",
       "\\item 0.0546\n",
       "\\item 0.1106\n",
       "\\end{enumerate*}\n"
      ],
      "text/markdown": [
       "1. -0.1384\n",
       "2. -0.1145\n",
       "3. 0.0347\n",
       "4. -0.0019\n",
       "5. 0.0126\n",
       "6. 0.0548\n",
       "7. -0.0241\n",
       "8. -0.0393\n",
       "9. 0.0058\n",
       "10. 0.0452\n",
       "11. 0.0546\n",
       "12. 0.1106\n",
       "\n",
       "\n"
      ],
      "text/plain": [
       " [1] -0.1384 -0.1145  0.0347 -0.0019  0.0126  0.0548 -0.0241 -0.0393  0.0058\n",
       "[10]  0.0452  0.0546  0.1106"
      ]
     },
     "metadata": {},
     "output_type": "display_data"
    }
   ],
   "source": [
    "round(decomp_out$season[1:12], 4)"
   ]
  },
  {
   "cell_type": "code",
   "execution_count": 258,
   "id": "758d4fcd-71d8-4f3c-9289-f0681bcf93de",
   "metadata": {},
   "outputs": [
    {
     "data": {
      "image/png": "[encoded data removed]",
      "text/plain": [
       "plot without title"
      ]
     },
     "metadata": {
      "image/png": {
       "height": 480,
       "width": 960
      }
     },
     "output_type": "display_data"
    }
   ],
   "source": [
    "plot(decomp_out$trend)"
   ]
  },
  {
   "cell_type": "code",
   "execution_count": 260,
   "id": "0d54194b-0715-4dc7-8da7-62603c0c8545",
   "metadata": {},
   "outputs": [
    {
     "data": {
      "text/html": [
       "<table class=\"dataframe\">\n",
       "<caption>A Time Series: 18 × 12</caption>\n",
       "<thead>\n",
       "\t<tr><th></th><th scope=col>Jan</th><th scope=col>Feb</th><th scope=col>Mar</th><th scope=col>Apr</th><th scope=col>May</th><th scope=col>Jun</th><th scope=col>Jul</th><th scope=col>Aug</th><th scope=col>Sep</th><th scope=col>Oct</th><th scope=col>Nov</th><th scope=col>Dec</th></tr>\n",
       "</thead>\n",
       "<tbody>\n",
       "\t<tr><th scope=row>1988</th><td>       NA</td><td>       NA</td><td>       NA</td><td>       NA</td><td>       NA</td><td>       NA</td><td> 8.524909</td><td> 8.531449</td><td> 8.538009</td><td> 8.543836</td><td> 8.546743</td><td> 8.551241</td></tr>\n",
       "\t<tr><th scope=row>1989</th><td> 8.554463</td><td> 8.554375</td><td> 8.554675</td><td> 8.555680</td><td> 8.554926</td><td> 8.552561</td><td> 8.546942</td><td> 8.545727</td><td> 8.548441</td><td> 8.549405</td><td> 8.552998</td><td> 8.557128</td></tr>\n",
       "\t<tr><th scope=row>1990</th><td> 8.561084</td><td> 8.563496</td><td> 8.568499</td><td> 8.572934</td><td> 8.575389</td><td> 8.583094</td><td> 8.594780</td><td> 8.602987</td><td> 8.608054</td><td> 8.618382</td><td> 8.632110</td><td> 8.645528</td></tr>\n",
       "\t<tr><th scope=row>1991</th><td> 8.652480</td><td> 8.656182</td><td> 8.656451</td><td> 8.662890</td><td> 8.676699</td><td> 8.684838</td><td> 8.694924</td><td> 8.703511</td><td> 8.710656</td><td> 8.719050</td><td> 8.723894</td><td> 8.727557</td></tr>\n",
       "\t<tr><th scope=row>1992</th><td> 8.735643</td><td> 8.744232</td><td> 8.753537</td><td> 8.762913</td><td> 8.765570</td><td> 8.761348</td><td> 8.756939</td><td> 8.762407</td><td> 8.771404</td><td> 8.776919</td><td> 8.781985</td><td> 8.785710</td></tr>\n",
       "\t<tr><th scope=row>1993</th><td> 8.788833</td><td> 8.793225</td><td> 8.799012</td><td> 8.804420</td><td> 8.810720</td><td> 8.821024</td><td> 8.832465</td><td> 8.839711</td><td> 8.845555</td><td> 8.854876</td><td> 8.866559</td><td> 8.878594</td></tr>\n",
       "\t<tr><th scope=row>1994</th><td> 8.889805</td><td> 8.901593</td><td> 8.913848</td><td> 8.926946</td><td> 8.943529</td><td> 8.964617</td><td> 8.986476</td><td> 9.009531</td><td> 9.033671</td><td> 9.056742</td><td> 9.081111</td><td> 9.106401</td></tr>\n",
       "\t<tr><th scope=row>1995</th><td> 9.132387</td><td> 9.159646</td><td> 9.185185</td><td> 9.207737</td><td> 9.227706</td><td> 9.240700</td><td> 9.254871</td><td> 9.271723</td><td> 9.284862</td><td> 9.293293</td><td> 9.297460</td><td> 9.299917</td></tr>\n",
       "\t<tr><th scope=row>1996</th><td> 9.297720</td><td> 9.291511</td><td> 9.283803</td><td> 9.281053</td><td> 9.281978</td><td> 9.283356</td><td> 9.281056</td><td> 9.274890</td><td> 9.271320</td><td> 9.272877</td><td> 9.277592</td><td> 9.283272</td></tr>\n",
       "\t<tr><th scope=row>1997</th><td> 9.294459</td><td> 9.307260</td><td> 9.317959</td><td> 9.325326</td><td> 9.328999</td><td> 9.331261</td><td> 9.331807</td><td> 9.339199</td><td> 9.349185</td><td> 9.353986</td><td> 9.354772</td><td> 9.350116</td></tr>\n",
       "\t<tr><th scope=row>1998</th><td> 9.340215</td><td> 9.328039</td><td> 9.320473</td><td> 9.311639</td><td> 9.304434</td><td> 9.303823</td><td> 9.304976</td><td> 9.298497</td><td> 9.289597</td><td> 9.286373</td><td> 9.284808</td><td> 9.289721</td></tr>\n",
       "\t<tr><th scope=row>1999</th><td> 9.300839</td><td> 9.314044</td><td> 9.325097</td><td> 9.339359</td><td> 9.357316</td><td> 9.373227</td><td> 9.392332</td><td> 9.416432</td><td> 9.438060</td><td> 9.453700</td><td> 9.470780</td><td> 9.488347</td></tr>\n",
       "\t<tr><th scope=row>2000</th><td> 9.504214</td><td> 9.523792</td><td> 9.544524</td><td> 9.559536</td><td> 9.567028</td><td> 9.569349</td><td> 9.571030</td><td> 9.574822</td><td> 9.576103</td><td> 9.570657</td><td> 9.562131</td><td> 9.551290</td></tr>\n",
       "\t<tr><th scope=row>2001</th><td> 9.534494</td><td> 9.515050</td><td> 9.497387</td><td> 9.479562</td><td> 9.461806</td><td> 9.444202</td><td> 9.430287</td><td> 9.417909</td><td> 9.407256</td><td> 9.408100</td><td> 9.414232</td><td> 9.416737</td></tr>\n",
       "\t<tr><th scope=row>2002</th><td> 9.423363</td><td> 9.437233</td><td> 9.448955</td><td> 9.462791</td><td> 9.480672</td><td> 9.498986</td><td> 9.518222</td><td> 9.535730</td><td> 9.549874</td><td> 9.563409</td><td> 9.572192</td><td> 9.581732</td></tr>\n",
       "\t<tr><th scope=row>2003</th><td> 9.595717</td><td> 9.605641</td><td> 9.618105</td><td> 9.636003</td><td> 9.653074</td><td> 9.672030</td><td> 9.695130</td><td> 9.721929</td><td> 9.750299</td><td> 9.776638</td><td> 9.804250</td><td> 9.832368</td></tr>\n",
       "\t<tr><th scope=row>2004</th><td> 9.858732</td><td> 9.882113</td><td> 9.901066</td><td> 9.916983</td><td> 9.934279</td><td> 9.950823</td><td> 9.964561</td><td> 9.974221</td><td> 9.982031</td><td> 9.989783</td><td> 9.996741</td><td>10.004872</td></tr>\n",
       "\t<tr><th scope=row>2005</th><td>10.012865</td><td>10.023942</td><td>10.037616</td><td>10.049119</td><td>10.058616</td><td>       NA</td><td>       NA</td><td>       NA</td><td>       NA</td><td>       NA</td><td>       NA</td><td>         </td></tr>\n",
       "</tbody>\n",
       "</table>\n"
      ],
      "text/latex": [
       "A Time Series: 18 × 12\n",
       "\\begin{tabular}{r|llllllllllll}\n",
       "  & Jan & Feb & Mar & Apr & May & Jun & Jul & Aug & Sep & Oct & Nov & Dec\\\\\n",
       "\\hline\n",
       "\t1988 &        NA &        NA &        NA &        NA &        NA &        NA &  8.524909 &  8.531449 &  8.538009 &  8.543836 &  8.546743 &  8.551241\\\\\n",
       "\t1989 &  8.554463 &  8.554375 &  8.554675 &  8.555680 &  8.554926 &  8.552561 &  8.546942 &  8.545727 &  8.548441 &  8.549405 &  8.552998 &  8.557128\\\\\n",
       "\t1990 &  8.561084 &  8.563496 &  8.568499 &  8.572934 &  8.575389 &  8.583094 &  8.594780 &  8.602987 &  8.608054 &  8.618382 &  8.632110 &  8.645528\\\\\n",
       "\t1991 &  8.652480 &  8.656182 &  8.656451 &  8.662890 &  8.676699 &  8.684838 &  8.694924 &  8.703511 &  8.710656 &  8.719050 &  8.723894 &  8.727557\\\\\n",
       "\t1992 &  8.735643 &  8.744232 &  8.753537 &  8.762913 &  8.765570 &  8.761348 &  8.756939 &  8.762407 &  8.771404 &  8.776919 &  8.781985 &  8.785710\\\\\n",
       "\t1993 &  8.788833 &  8.793225 &  8.799012 &  8.804420 &  8.810720 &  8.821024 &  8.832465 &  8.839711 &  8.845555 &  8.854876 &  8.866559 &  8.878594\\\\\n",
       "\t1994 &  8.889805 &  8.901593 &  8.913848 &  8.926946 &  8.943529 &  8.964617 &  8.986476 &  9.009531 &  9.033671 &  9.056742 &  9.081111 &  9.106401\\\\\n",
       "\t1995 &  9.132387 &  9.159646 &  9.185185 &  9.207737 &  9.227706 &  9.240700 &  9.254871 &  9.271723 &  9.284862 &  9.293293 &  9.297460 &  9.299917\\\\\n",
       "\t1996 &  9.297720 &  9.291511 &  9.283803 &  9.281053 &  9.281978 &  9.283356 &  9.281056 &  9.274890 &  9.271320 &  9.272877 &  9.277592 &  9.283272\\\\\n",
       "\t1997 &  9.294459 &  9.307260 &  9.317959 &  9.325326 &  9.328999 &  9.331261 &  9.331807 &  9.339199 &  9.349185 &  9.353986 &  9.354772 &  9.350116\\\\\n",
       "\t1998 &  9.340215 &  9.328039 &  9.320473 &  9.311639 &  9.304434 &  9.303823 &  9.304976 &  9.298497 &  9.289597 &  9.286373 &  9.284808 &  9.289721\\\\\n",
       "\t1999 &  9.300839 &  9.314044 &  9.325097 &  9.339359 &  9.357316 &  9.373227 &  9.392332 &  9.416432 &  9.438060 &  9.453700 &  9.470780 &  9.488347\\\\\n",
       "\t2000 &  9.504214 &  9.523792 &  9.544524 &  9.559536 &  9.567028 &  9.569349 &  9.571030 &  9.574822 &  9.576103 &  9.570657 &  9.562131 &  9.551290\\\\\n",
       "\t2001 &  9.534494 &  9.515050 &  9.497387 &  9.479562 &  9.461806 &  9.444202 &  9.430287 &  9.417909 &  9.407256 &  9.408100 &  9.414232 &  9.416737\\\\\n",
       "\t2002 &  9.423363 &  9.437233 &  9.448955 &  9.462791 &  9.480672 &  9.498986 &  9.518222 &  9.535730 &  9.549874 &  9.563409 &  9.572192 &  9.581732\\\\\n",
       "\t2003 &  9.595717 &  9.605641 &  9.618105 &  9.636003 &  9.653074 &  9.672030 &  9.695130 &  9.721929 &  9.750299 &  9.776638 &  9.804250 &  9.832368\\\\\n",
       "\t2004 &  9.858732 &  9.882113 &  9.901066 &  9.916983 &  9.934279 &  9.950823 &  9.964561 &  9.974221 &  9.982031 &  9.989783 &  9.996741 & 10.004872\\\\\n",
       "\t2005 & 10.012865 & 10.023942 & 10.037616 & 10.049119 & 10.058616 &        NA &        NA &        NA &        NA &        NA &        NA &          \\\\\n",
       "\\end{tabular}\n"
      ],
      "text/markdown": [
       "\n",
       "A Time Series: 18 × 12\n",
       "\n",
       "| <!--/--> | Jan | Feb | Mar | Apr | May | Jun | Jul | Aug | Sep | Oct | Nov | Dec |\n",
       "|---|---|---|---|---|---|---|---|---|---|---|---|---|\n",
       "| 1988 |        NA |        NA |        NA |        NA |        NA |        NA |  8.524909 |  8.531449 |  8.538009 |  8.543836 |  8.546743 |  8.551241 |\n",
       "| 1989 |  8.554463 |  8.554375 |  8.554675 |  8.555680 |  8.554926 |  8.552561 |  8.546942 |  8.545727 |  8.548441 |  8.549405 |  8.552998 |  8.557128 |\n",
       "| 1990 |  8.561084 |  8.563496 |  8.568499 |  8.572934 |  8.575389 |  8.583094 |  8.594780 |  8.602987 |  8.608054 |  8.618382 |  8.632110 |  8.645528 |\n",
       "| 1991 |  8.652480 |  8.656182 |  8.656451 |  8.662890 |  8.676699 |  8.684838 |  8.694924 |  8.703511 |  8.710656 |  8.719050 |  8.723894 |  8.727557 |\n",
       "| 1992 |  8.735643 |  8.744232 |  8.753537 |  8.762913 |  8.765570 |  8.761348 |  8.756939 |  8.762407 |  8.771404 |  8.776919 |  8.781985 |  8.785710 |\n",
       "| 1993 |  8.788833 |  8.793225 |  8.799012 |  8.804420 |  8.810720 |  8.821024 |  8.832465 |  8.839711 |  8.845555 |  8.854876 |  8.866559 |  8.878594 |\n",
       "| 1994 |  8.889805 |  8.901593 |  8.913848 |  8.926946 |  8.943529 |  8.964617 |  8.986476 |  9.009531 |  9.033671 |  9.056742 |  9.081111 |  9.106401 |\n",
       "| 1995 |  9.132387 |  9.159646 |  9.185185 |  9.207737 |  9.227706 |  9.240700 |  9.254871 |  9.271723 |  9.284862 |  9.293293 |  9.297460 |  9.299917 |\n",
       "| 1996 |  9.297720 |  9.291511 |  9.283803 |  9.281053 |  9.281978 |  9.283356 |  9.281056 |  9.274890 |  9.271320 |  9.272877 |  9.277592 |  9.283272 |\n",
       "| 1997 |  9.294459 |  9.307260 |  9.317959 |  9.325326 |  9.328999 |  9.331261 |  9.331807 |  9.339199 |  9.349185 |  9.353986 |  9.354772 |  9.350116 |\n",
       "| 1998 |  9.340215 |  9.328039 |  9.320473 |  9.311639 |  9.304434 |  9.303823 |  9.304976 |  9.298497 |  9.289597 |  9.286373 |  9.284808 |  9.289721 |\n",
       "| 1999 |  9.300839 |  9.314044 |  9.325097 |  9.339359 |  9.357316 |  9.373227 |  9.392332 |  9.416432 |  9.438060 |  9.453700 |  9.470780 |  9.488347 |\n",
       "| 2000 |  9.504214 |  9.523792 |  9.544524 |  9.559536 |  9.567028 |  9.569349 |  9.571030 |  9.574822 |  9.576103 |  9.570657 |  9.562131 |  9.551290 |\n",
       "| 2001 |  9.534494 |  9.515050 |  9.497387 |  9.479562 |  9.461806 |  9.444202 |  9.430287 |  9.417909 |  9.407256 |  9.408100 |  9.414232 |  9.416737 |\n",
       "| 2002 |  9.423363 |  9.437233 |  9.448955 |  9.462791 |  9.480672 |  9.498986 |  9.518222 |  9.535730 |  9.549874 |  9.563409 |  9.572192 |  9.581732 |\n",
       "| 2003 |  9.595717 |  9.605641 |  9.618105 |  9.636003 |  9.653074 |  9.672030 |  9.695130 |  9.721929 |  9.750299 |  9.776638 |  9.804250 |  9.832368 |\n",
       "| 2004 |  9.858732 |  9.882113 |  9.901066 |  9.916983 |  9.934279 |  9.950823 |  9.964561 |  9.974221 |  9.982031 |  9.989783 |  9.996741 | 10.004872 |\n",
       "| 2005 | 10.012865 | 10.023942 | 10.037616 | 10.049119 | 10.058616 |        NA |        NA |        NA |        NA |        NA |        NA | <!----> |\n",
       "\n"
      ],
      "text/plain": [
       "     Jan       Feb       Mar       Apr       May       Jun       Jul      \n",
       "1988        NA        NA        NA        NA        NA        NA  8.524909\n",
       "1989  8.554463  8.554375  8.554675  8.555680  8.554926  8.552561  8.546942\n",
       "1990  8.561084  8.563496  8.568499  8.572934  8.575389  8.583094  8.594780\n",
       "1991  8.652480  8.656182  8.656451  8.662890  8.676699  8.684838  8.694924\n",
       "1992  8.735643  8.744232  8.753537  8.762913  8.765570  8.761348  8.756939\n",
       "1993  8.788833  8.793225  8.799012  8.804420  8.810720  8.821024  8.832465\n",
       "1994  8.889805  8.901593  8.913848  8.926946  8.943529  8.964617  8.986476\n",
       "1995  9.132387  9.159646  9.185185  9.207737  9.227706  9.240700  9.254871\n",
       "1996  9.297720  9.291511  9.283803  9.281053  9.281978  9.283356  9.281056\n",
       "1997  9.294459  9.307260  9.317959  9.325326  9.328999  9.331261  9.331807\n",
       "1998  9.340215  9.328039  9.320473  9.311639  9.304434  9.303823  9.304976\n",
       "1999  9.300839  9.314044  9.325097  9.339359  9.357316  9.373227  9.392332\n",
       "2000  9.504214  9.523792  9.544524  9.559536  9.567028  9.569349  9.571030\n",
       "2001  9.534494  9.515050  9.497387  9.479562  9.461806  9.444202  9.430287\n",
       "2002  9.423363  9.437233  9.448955  9.462791  9.480672  9.498986  9.518222\n",
       "2003  9.595717  9.605641  9.618105  9.636003  9.653074  9.672030  9.695130\n",
       "2004  9.858732  9.882113  9.901066  9.916983  9.934279  9.950823  9.964561\n",
       "2005 10.012865 10.023942 10.037616 10.049119 10.058616        NA        NA\n",
       "     Aug       Sep       Oct       Nov       Dec      \n",
       "1988  8.531449  8.538009  8.543836  8.546743  8.551241\n",
       "1989  8.545727  8.548441  8.549405  8.552998  8.557128\n",
       "1990  8.602987  8.608054  8.618382  8.632110  8.645528\n",
       "1991  8.703511  8.710656  8.719050  8.723894  8.727557\n",
       "1992  8.762407  8.771404  8.776919  8.781985  8.785710\n",
       "1993  8.839711  8.845555  8.854876  8.866559  8.878594\n",
       "1994  9.009531  9.033671  9.056742  9.081111  9.106401\n",
       "1995  9.271723  9.284862  9.293293  9.297460  9.299917\n",
       "1996  9.274890  9.271320  9.272877  9.277592  9.283272\n",
       "1997  9.339199  9.349185  9.353986  9.354772  9.350116\n",
       "1998  9.298497  9.289597  9.286373  9.284808  9.289721\n",
       "1999  9.416432  9.438060  9.453700  9.470780  9.488347\n",
       "2000  9.574822  9.576103  9.570657  9.562131  9.551290\n",
       "2001  9.417909  9.407256  9.408100  9.414232  9.416737\n",
       "2002  9.535730  9.549874  9.563409  9.572192  9.581732\n",
       "2003  9.721929  9.750299  9.776638  9.804250  9.832368\n",
       "2004  9.974221  9.982031  9.989783  9.996741 10.004872\n",
       "2005        NA        NA        NA        NA          "
      ]
     },
     "metadata": {},
     "output_type": "display_data"
    }
   ],
   "source": [
    "decomp_out$trend"
   ]
  },
  {
   "cell_type": "code",
   "execution_count": 263,
   "id": "3d19f2ef-3425-455d-bbcd-e3f7a8199b2b",
   "metadata": {},
   "outputs": [],
   "source": [
    "x_tilde <- log(series) - decomp_out$seasonal # x_tilde = x - S_5\n",
    "adjusted <- exp(x_tilde) # 변환"
   ]
  },
  {
   "cell_type": "code",
   "execution_count": 265,
   "id": "e5019c17-206b-456b-9876-b34e0426b278",
   "metadata": {},
   "outputs": [
    {
     "data": {
      "text/html": [
       "<table class=\"dataframe\">\n",
       "<caption>A Time Series: 18 × 12</caption>\n",
       "<thead>\n",
       "\t<tr><th></th><th scope=col>Jan</th><th scope=col>Feb</th><th scope=col>Mar</th><th scope=col>Apr</th><th scope=col>May</th><th scope=col>Jun</th><th scope=col>Jul</th><th scope=col>Aug</th><th scope=col>Sep</th><th scope=col>Oct</th><th scope=col>Nov</th><th scope=col>Dec</th></tr>\n",
       "</thead>\n",
       "<tbody>\n",
       "\t<tr><th scope=row>1988</th><td> 4546.032</td><td> 4621.058</td><td> 4628.182</td><td> 4635.268</td><td> 4713.702</td><td> 4783.146</td><td> 5329.913</td><td> 5522.953</td><td> 5361.729</td><td> 5024.112</td><td> 5501.507</td><td> 5730.333</td></tr>\n",
       "\t<tr><th scope=row>1989</th><td> 5054.007</td><td> 4862.924</td><td> 5147.936</td><td> 4792.822</td><td> 4888.130</td><td> 5138.230</td><td> 5360.522</td><td> 5479.749</td><td> 5443.044</td><td> 5069.931</td><td> 5354.060</td><td> 5563.241</td></tr>\n",
       "\t<tr><th scope=row>1990</th><td> 4548.954</td><td> 5247.636</td><td> 5091.585</td><td> 4959.266</td><td> 5149.581</td><td> 5385.584</td><td> 5623.639</td><td> 5534.706</td><td> 6076.445</td><td> 5051.467</td><td> 5699.796</td><td> 6287.357</td></tr>\n",
       "\t<tr><th scope=row>1991</th><td> 5328.024</td><td> 5455.744</td><td> 5530.650</td><td> 5849.841</td><td> 6069.310</td><td> 6305.439</td><td> 5675.393</td><td> 5993.823</td><td> 5647.321</td><td> 6343.622</td><td> 6322.349</td><td> 6891.019</td></tr>\n",
       "\t<tr><th scope=row>1992</th><td> 6192.634</td><td> 5768.236</td><td> 6209.581</td><td> 6373.047</td><td> 6257.822</td><td> 6677.496</td><td> 6507.071</td><td> 6424.417</td><td> 6587.160</td><td> 6811.010</td><td> 6276.172</td><td> 6272.825</td></tr>\n",
       "\t<tr><th scope=row>1993</th><td> 6119.844</td><td> 6655.342</td><td> 6679.025</td><td> 6763.548</td><td> 6658.934</td><td> 6862.103</td><td> 6824.736</td><td> 6806.393</td><td> 7143.941</td><td> 7150.435</td><td> 6954.065</td><td> 7249.763</td></tr>\n",
       "\t<tr><th scope=row>1994</th><td> 6968.359</td><td> 6955.015</td><td> 7353.724</td><td> 7682.968</td><td> 7759.298</td><td> 7861.148</td><td> 7796.697</td><td> 7906.040</td><td> 8253.233</td><td> 8475.501</td><td> 8734.753</td><td> 9574.575</td></tr>\n",
       "\t<tr><th scope=row>1995</th><td> 8916.070</td><td> 9452.755</td><td> 9657.319</td><td>10177.701</td><td>10512.510</td><td>10646.272</td><td>10741.260</td><td>11039.106</td><td>10910.525</td><td>11015.478</td><td>10853.046</td><td>10525.803</td></tr>\n",
       "\t<tr><th scope=row>1996</th><td>11395.750</td><td>11082.590</td><td>11290.855</td><td>10657.439</td><td>11095.214</td><td>10699.891</td><td>10138.507</td><td>10076.117</td><td> 9934.509</td><td>11325.111</td><td>10793.137</td><td>10940.250</td></tr>\n",
       "\t<tr><th scope=row>1997</th><td>10375.331</td><td>10498.131</td><td>10940.664</td><td>11417.296</td><td>11597.668</td><td>11731.271</td><td>12095.300</td><td>11483.532</td><td>11268.881</td><td>11914.799</td><td>11204.563</td><td>11126.363</td></tr>\n",
       "\t<tr><th scope=row>1998</th><td>10336.304</td><td>12583.285</td><td>11599.816</td><td>12083.593</td><td>11166.884</td><td>10895.630</td><td>10268.683</td><td>10098.754</td><td>10686.143</td><td>10164.054</td><td>11049.034</td><td>11118.538</td></tr>\n",
       "\t<tr><th scope=row>1999</th><td>10633.808</td><td>10469.968</td><td>11259.727</td><td>11521.657</td><td>11279.921</td><td>12136.241</td><td>12038.471</td><td>11826.267</td><td>11897.204</td><td>12855.674</td><td>13442.003</td><td>13389.032</td></tr>\n",
       "\t<tr><th scope=row>2000</th><td>13967.572</td><td>14213.853</td><td>13937.709</td><td>13547.764</td><td>14453.674</td><td>14438.249</td><td>14808.833</td><td>15380.270</td><td>15045.887</td><td>14574.670</td><td>14191.998</td><td>13408.095</td></tr>\n",
       "\t<tr><th scope=row>2001</th><td>14521.690</td><td>14974.141</td><td>13643.289</td><td>12144.169</td><td>13140.511</td><td>12242.825</td><td>11670.590</td><td>12238.364</td><td>12375.361</td><td>11552.275</td><td>11692.289</td><td>10666.697</td></tr>\n",
       "\t<tr><th scope=row>2002</th><td>13071.178</td><td>12360.311</td><td>12799.507</td><td>13209.616</td><td>13995.894</td><td>12206.989</td><td>13722.447</td><td>14519.282</td><td>13820.397</td><td>14418.478</td><td>14388.457</td><td>13452.556</td></tr>\n",
       "\t<tr><th scope=row>2003</th><td>16445.296</td><td>14955.158</td><td>14854.494</td><td>15750.498</td><td>14492.519</td><td>14822.034</td><td>15808.738</td><td>15992.270</td><td>16922.676</td><td>18093.678</td><td>17272.033</td><td>17662.549</td></tr>\n",
       "\t<tr><th scope=row>2004</th><td>21805.189</td><td>21458.595</td><td>20452.878</td><td>21524.226</td><td>20573.658</td><td>20503.049</td><td>21516.953</td><td>20593.492</td><td>20710.700</td><td>21662.414</td><td>21849.473</td><td>20767.817</td></tr>\n",
       "\t<tr><th scope=row>2005</th><td>25788.107</td><td>22878.681</td><td>23137.922</td><td>22916.943</td><td>22835.364</td><td>22452.638</td><td>23803.653</td><td>24284.127</td><td>24385.299</td><td>24247.685</td><td>24517.219</td><td>         </td></tr>\n",
       "</tbody>\n",
       "</table>\n"
      ],
      "text/latex": [
       "A Time Series: 18 × 12\n",
       "\\begin{tabular}{r|llllllllllll}\n",
       "  & Jan & Feb & Mar & Apr & May & Jun & Jul & Aug & Sep & Oct & Nov & Dec\\\\\n",
       "\\hline\n",
       "\t1988 &  4546.032 &  4621.058 &  4628.182 &  4635.268 &  4713.702 &  4783.146 &  5329.913 &  5522.953 &  5361.729 &  5024.112 &  5501.507 &  5730.333\\\\\n",
       "\t1989 &  5054.007 &  4862.924 &  5147.936 &  4792.822 &  4888.130 &  5138.230 &  5360.522 &  5479.749 &  5443.044 &  5069.931 &  5354.060 &  5563.241\\\\\n",
       "\t1990 &  4548.954 &  5247.636 &  5091.585 &  4959.266 &  5149.581 &  5385.584 &  5623.639 &  5534.706 &  6076.445 &  5051.467 &  5699.796 &  6287.357\\\\\n",
       "\t1991 &  5328.024 &  5455.744 &  5530.650 &  5849.841 &  6069.310 &  6305.439 &  5675.393 &  5993.823 &  5647.321 &  6343.622 &  6322.349 &  6891.019\\\\\n",
       "\t1992 &  6192.634 &  5768.236 &  6209.581 &  6373.047 &  6257.822 &  6677.496 &  6507.071 &  6424.417 &  6587.160 &  6811.010 &  6276.172 &  6272.825\\\\\n",
       "\t1993 &  6119.844 &  6655.342 &  6679.025 &  6763.548 &  6658.934 &  6862.103 &  6824.736 &  6806.393 &  7143.941 &  7150.435 &  6954.065 &  7249.763\\\\\n",
       "\t1994 &  6968.359 &  6955.015 &  7353.724 &  7682.968 &  7759.298 &  7861.148 &  7796.697 &  7906.040 &  8253.233 &  8475.501 &  8734.753 &  9574.575\\\\\n",
       "\t1995 &  8916.070 &  9452.755 &  9657.319 & 10177.701 & 10512.510 & 10646.272 & 10741.260 & 11039.106 & 10910.525 & 11015.478 & 10853.046 & 10525.803\\\\\n",
       "\t1996 & 11395.750 & 11082.590 & 11290.855 & 10657.439 & 11095.214 & 10699.891 & 10138.507 & 10076.117 &  9934.509 & 11325.111 & 10793.137 & 10940.250\\\\\n",
       "\t1997 & 10375.331 & 10498.131 & 10940.664 & 11417.296 & 11597.668 & 11731.271 & 12095.300 & 11483.532 & 11268.881 & 11914.799 & 11204.563 & 11126.363\\\\\n",
       "\t1998 & 10336.304 & 12583.285 & 11599.816 & 12083.593 & 11166.884 & 10895.630 & 10268.683 & 10098.754 & 10686.143 & 10164.054 & 11049.034 & 11118.538\\\\\n",
       "\t1999 & 10633.808 & 10469.968 & 11259.727 & 11521.657 & 11279.921 & 12136.241 & 12038.471 & 11826.267 & 11897.204 & 12855.674 & 13442.003 & 13389.032\\\\\n",
       "\t2000 & 13967.572 & 14213.853 & 13937.709 & 13547.764 & 14453.674 & 14438.249 & 14808.833 & 15380.270 & 15045.887 & 14574.670 & 14191.998 & 13408.095\\\\\n",
       "\t2001 & 14521.690 & 14974.141 & 13643.289 & 12144.169 & 13140.511 & 12242.825 & 11670.590 & 12238.364 & 12375.361 & 11552.275 & 11692.289 & 10666.697\\\\\n",
       "\t2002 & 13071.178 & 12360.311 & 12799.507 & 13209.616 & 13995.894 & 12206.989 & 13722.447 & 14519.282 & 13820.397 & 14418.478 & 14388.457 & 13452.556\\\\\n",
       "\t2003 & 16445.296 & 14955.158 & 14854.494 & 15750.498 & 14492.519 & 14822.034 & 15808.738 & 15992.270 & 16922.676 & 18093.678 & 17272.033 & 17662.549\\\\\n",
       "\t2004 & 21805.189 & 21458.595 & 20452.878 & 21524.226 & 20573.658 & 20503.049 & 21516.953 & 20593.492 & 20710.700 & 21662.414 & 21849.473 & 20767.817\\\\\n",
       "\t2005 & 25788.107 & 22878.681 & 23137.922 & 22916.943 & 22835.364 & 22452.638 & 23803.653 & 24284.127 & 24385.299 & 24247.685 & 24517.219 &          \\\\\n",
       "\\end{tabular}\n"
      ],
      "text/markdown": [
       "\n",
       "A Time Series: 18 × 12\n",
       "\n",
       "| <!--/--> | Jan | Feb | Mar | Apr | May | Jun | Jul | Aug | Sep | Oct | Nov | Dec |\n",
       "|---|---|---|---|---|---|---|---|---|---|---|---|---|\n",
       "| 1988 |  4546.032 |  4621.058 |  4628.182 |  4635.268 |  4713.702 |  4783.146 |  5329.913 |  5522.953 |  5361.729 |  5024.112 |  5501.507 |  5730.333 |\n",
       "| 1989 |  5054.007 |  4862.924 |  5147.936 |  4792.822 |  4888.130 |  5138.230 |  5360.522 |  5479.749 |  5443.044 |  5069.931 |  5354.060 |  5563.241 |\n",
       "| 1990 |  4548.954 |  5247.636 |  5091.585 |  4959.266 |  5149.581 |  5385.584 |  5623.639 |  5534.706 |  6076.445 |  5051.467 |  5699.796 |  6287.357 |\n",
       "| 1991 |  5328.024 |  5455.744 |  5530.650 |  5849.841 |  6069.310 |  6305.439 |  5675.393 |  5993.823 |  5647.321 |  6343.622 |  6322.349 |  6891.019 |\n",
       "| 1992 |  6192.634 |  5768.236 |  6209.581 |  6373.047 |  6257.822 |  6677.496 |  6507.071 |  6424.417 |  6587.160 |  6811.010 |  6276.172 |  6272.825 |\n",
       "| 1993 |  6119.844 |  6655.342 |  6679.025 |  6763.548 |  6658.934 |  6862.103 |  6824.736 |  6806.393 |  7143.941 |  7150.435 |  6954.065 |  7249.763 |\n",
       "| 1994 |  6968.359 |  6955.015 |  7353.724 |  7682.968 |  7759.298 |  7861.148 |  7796.697 |  7906.040 |  8253.233 |  8475.501 |  8734.753 |  9574.575 |\n",
       "| 1995 |  8916.070 |  9452.755 |  9657.319 | 10177.701 | 10512.510 | 10646.272 | 10741.260 | 11039.106 | 10910.525 | 11015.478 | 10853.046 | 10525.803 |\n",
       "| 1996 | 11395.750 | 11082.590 | 11290.855 | 10657.439 | 11095.214 | 10699.891 | 10138.507 | 10076.117 |  9934.509 | 11325.111 | 10793.137 | 10940.250 |\n",
       "| 1997 | 10375.331 | 10498.131 | 10940.664 | 11417.296 | 11597.668 | 11731.271 | 12095.300 | 11483.532 | 11268.881 | 11914.799 | 11204.563 | 11126.363 |\n",
       "| 1998 | 10336.304 | 12583.285 | 11599.816 | 12083.593 | 11166.884 | 10895.630 | 10268.683 | 10098.754 | 10686.143 | 10164.054 | 11049.034 | 11118.538 |\n",
       "| 1999 | 10633.808 | 10469.968 | 11259.727 | 11521.657 | 11279.921 | 12136.241 | 12038.471 | 11826.267 | 11897.204 | 12855.674 | 13442.003 | 13389.032 |\n",
       "| 2000 | 13967.572 | 14213.853 | 13937.709 | 13547.764 | 14453.674 | 14438.249 | 14808.833 | 15380.270 | 15045.887 | 14574.670 | 14191.998 | 13408.095 |\n",
       "| 2001 | 14521.690 | 14974.141 | 13643.289 | 12144.169 | 13140.511 | 12242.825 | 11670.590 | 12238.364 | 12375.361 | 11552.275 | 11692.289 | 10666.697 |\n",
       "| 2002 | 13071.178 | 12360.311 | 12799.507 | 13209.616 | 13995.894 | 12206.989 | 13722.447 | 14519.282 | 13820.397 | 14418.478 | 14388.457 | 13452.556 |\n",
       "| 2003 | 16445.296 | 14955.158 | 14854.494 | 15750.498 | 14492.519 | 14822.034 | 15808.738 | 15992.270 | 16922.676 | 18093.678 | 17272.033 | 17662.549 |\n",
       "| 2004 | 21805.189 | 21458.595 | 20452.878 | 21524.226 | 20573.658 | 20503.049 | 21516.953 | 20593.492 | 20710.700 | 21662.414 | 21849.473 | 20767.817 |\n",
       "| 2005 | 25788.107 | 22878.681 | 23137.922 | 22916.943 | 22835.364 | 22452.638 | 23803.653 | 24284.127 | 24385.299 | 24247.685 | 24517.219 | <!----> |\n",
       "\n"
      ],
      "text/plain": [
       "     Jan       Feb       Mar       Apr       May       Jun       Jul      \n",
       "1988  4546.032  4621.058  4628.182  4635.268  4713.702  4783.146  5329.913\n",
       "1989  5054.007  4862.924  5147.936  4792.822  4888.130  5138.230  5360.522\n",
       "1990  4548.954  5247.636  5091.585  4959.266  5149.581  5385.584  5623.639\n",
       "1991  5328.024  5455.744  5530.650  5849.841  6069.310  6305.439  5675.393\n",
       "1992  6192.634  5768.236  6209.581  6373.047  6257.822  6677.496  6507.071\n",
       "1993  6119.844  6655.342  6679.025  6763.548  6658.934  6862.103  6824.736\n",
       "1994  6968.359  6955.015  7353.724  7682.968  7759.298  7861.148  7796.697\n",
       "1995  8916.070  9452.755  9657.319 10177.701 10512.510 10646.272 10741.260\n",
       "1996 11395.750 11082.590 11290.855 10657.439 11095.214 10699.891 10138.507\n",
       "1997 10375.331 10498.131 10940.664 11417.296 11597.668 11731.271 12095.300\n",
       "1998 10336.304 12583.285 11599.816 12083.593 11166.884 10895.630 10268.683\n",
       "1999 10633.808 10469.968 11259.727 11521.657 11279.921 12136.241 12038.471\n",
       "2000 13967.572 14213.853 13937.709 13547.764 14453.674 14438.249 14808.833\n",
       "2001 14521.690 14974.141 13643.289 12144.169 13140.511 12242.825 11670.590\n",
       "2002 13071.178 12360.311 12799.507 13209.616 13995.894 12206.989 13722.447\n",
       "2003 16445.296 14955.158 14854.494 15750.498 14492.519 14822.034 15808.738\n",
       "2004 21805.189 21458.595 20452.878 21524.226 20573.658 20503.049 21516.953\n",
       "2005 25788.107 22878.681 23137.922 22916.943 22835.364 22452.638 23803.653\n",
       "     Aug       Sep       Oct       Nov       Dec      \n",
       "1988  5522.953  5361.729  5024.112  5501.507  5730.333\n",
       "1989  5479.749  5443.044  5069.931  5354.060  5563.241\n",
       "1990  5534.706  6076.445  5051.467  5699.796  6287.357\n",
       "1991  5993.823  5647.321  6343.622  6322.349  6891.019\n",
       "1992  6424.417  6587.160  6811.010  6276.172  6272.825\n",
       "1993  6806.393  7143.941  7150.435  6954.065  7249.763\n",
       "1994  7906.040  8253.233  8475.501  8734.753  9574.575\n",
       "1995 11039.106 10910.525 11015.478 10853.046 10525.803\n",
       "1996 10076.117  9934.509 11325.111 10793.137 10940.250\n",
       "1997 11483.532 11268.881 11914.799 11204.563 11126.363\n",
       "1998 10098.754 10686.143 10164.054 11049.034 11118.538\n",
       "1999 11826.267 11897.204 12855.674 13442.003 13389.032\n",
       "2000 15380.270 15045.887 14574.670 14191.998 13408.095\n",
       "2001 12238.364 12375.361 11552.275 11692.289 10666.697\n",
       "2002 14519.282 13820.397 14418.478 14388.457 13452.556\n",
       "2003 15992.270 16922.676 18093.678 17272.033 17662.549\n",
       "2004 20593.492 20710.700 21662.414 21849.473 20767.817\n",
       "2005 24284.127 24385.299 24247.685 24517.219          "
      ]
     },
     "metadata": {},
     "output_type": "display_data"
    }
   ],
   "source": [
    "adj_series <- ts(adjusted, start = c(1988,1), frequency = 12)\n",
    "adj_series"
   ]
  },
  {
   "cell_type": "code",
   "execution_count": 266,
   "id": "6a9e9809-e857-4bd7-9ec5-c900a2391853",
   "metadata": {},
   "outputs": [
    {
     "data": {
      "image/png": "[encoded data removed]",
      "text/plain": [
       "plot without title"
      ]
     },
     "metadata": {
      "image/png": {
       "height": 480,
       "width": 960
      }
     },
     "output_type": "display_data"
    }
   ],
   "source": [
    "plot(adj_series)"
   ]
  },
  {
   "cell_type": "markdown",
   "id": "29c95d09-0488-4520-b883-e86b01c5bcc1",
   "metadata": {},
   "source": [
    "## 자기상관과 다중 시계열"
   ]
  },
  {
   "cell_type": "code",
   "execution_count": 4,
   "id": "c4bc34f5-e730-420b-bbcc-2f40f4a33c4a",
   "metadata": {},
   "outputs": [
    {
     "data": {
      "text/html": [
       "<style>\n",
       ".list-inline {list-style: none; margin:0; padding: 0}\n",
       ".list-inline>li {display: inline-block}\n",
       ".list-inline>li:not(:last-child)::after {content: \"\\00b7\"; padding: 0 .5ex}\n",
       "</style>\n",
       "<ol class=list-inline><li>80</li><li>71</li><li>57</li><li>80</li><li>75</li><li>77</li><li>60</li><li>86</li><li>77</li><li>56</li><li>81</li><li>50</li><li>89</li><li>54</li><li>90</li><li>73</li><li>60</li><li>83</li><li>65</li><li>82</li><li>84</li><li>54</li><li>85</li><li>58</li><li>79</li><li>57</li><li>88</li><li>68</li><li>76</li><li>78</li><li>74</li><li>85</li><li>75</li><li>65</li><li>76</li><li>58</li><li>91</li><li>50</li><li>87</li><li>48</li><li>93</li><li>54</li><li>86</li><li>53</li><li>78</li><li>52</li><li>83</li><li>60</li><li>87</li><li>49</li><li>80</li><li>60</li><li>92</li><li>43</li><li>89</li><li>60</li><li>84</li><li>69</li><li>74</li><li>71</li><li>108</li><li>50</li><li>77</li><li>57</li><li>80</li><li>61</li><li>82</li><li>48</li><li>81</li><li>73</li><li>62</li><li>79</li><li>54</li><li>80</li><li>73</li><li>81</li><li>62</li><li>81</li><li>71</li><li>79</li><li>81</li><li>74</li><li>59</li><li>81</li><li>66</li><li>87</li><li>53</li><li>80</li><li>50</li><li>87</li><li>51</li><li>82</li><li>58</li><li>81</li><li>49</li><li>92</li><li>50</li><li>88</li><li>62</li><li>93</li><li>56</li><li>89</li><li>51</li><li>79</li><li>58</li><li>82</li><li>52</li><li>88</li><li>52</li><li>78</li><li>69</li><li>75</li><li>77</li><li>53</li><li>80</li><li>55</li><li>87</li><li>53</li><li>85</li><li>61</li><li>93</li><li>54</li><li>76</li><li>80</li><li>81</li><li>59</li><li>86</li><li>78</li><li>71</li><li>77</li><li>76</li><li>94</li><li>75</li><li>50</li><li>83</li><li>82</li><li>72</li><li>77</li><li>75</li><li>65</li><li>79</li><li>72</li><li>78</li><li>77</li><li>79</li><li>75</li><li>78</li><li>64</li><li>80</li><li>49</li><li>88</li><li>54</li><li>85</li><li>51</li><li>96</li><li>50</li><li>80</li><li>78</li><li>81</li><li>72</li><li>75</li><li>78</li><li>87</li><li>69</li><li>55</li><li>83</li><li>49</li><li>82</li><li>57</li><li>84</li><li>57</li><li>84</li><li>73</li><li>78</li><li>57</li><li>79</li><li>57</li><li>90</li><li>62</li><li>87</li><li>78</li><li>52</li><li>98</li><li>48</li><li>78</li><li>79</li><li>65</li><li>84</li><li>50</li><li>83</li><li>60</li><li>80</li><li>50</li><li>88</li><li>50</li><li>84</li><li>74</li><li>76</li><li>65</li><li>89</li><li>49</li><li>88</li><li>51</li><li>78</li><li>85</li><li>65</li><li>75</li><li>77</li><li>69</li><li>92</li><li>68</li><li>87</li><li>61</li><li>81</li><li>55</li><li>93</li><li>53</li><li>84</li><li>70</li><li>73</li><li>93</li><li>50</li><li>87</li><li>77</li><li>74</li><li>72</li><li>82</li><li>74</li><li>80</li><li>49</li><li>91</li><li>53</li><li>86</li><li>49</li><li>79</li><li>89</li><li>87</li><li>76</li><li>59</li><li>80</li><li>89</li><li>45</li><li>93</li><li>72</li><li>71</li><li>54</li><li>79</li><li>74</li><li>65</li><li>78</li><li>57</li><li>87</li><li>72</li><li>84</li><li>47</li><li>84</li><li>57</li><li>87</li><li>68</li><li>86</li><li>75</li><li>73</li><li>53</li><li>82</li><li>93</li><li>77</li><li>54</li><li>96</li><li>48</li><li>89</li><li>63</li><li>84</li><li>76</li><li>62</li><li>83</li><li>50</li><li>85</li><li>78</li><li>78</li><li>81</li><li>78</li><li>76</li><li>74</li><li>81</li><li>66</li><li>84</li><li>48</li><li>93</li><li>47</li><li>87</li><li>51</li><li>78</li><li>54</li><li>87</li><li>52</li><li>85</li><li>58</li><li>88</li><li>79</li></ol>\n"
      ],
      "text/latex": [
       "\\begin{enumerate*}\n",
       "\\item 80\n",
       "\\item 71\n",
       "\\item 57\n",
       "\\item 80\n",
       "\\item 75\n",
       "\\item 77\n",
       "\\item 60\n",
       "\\item 86\n",
       "\\item 77\n",
       "\\item 56\n",
       "\\item 81\n",
       "\\item 50\n",
       "\\item 89\n",
       "\\item 54\n",
       "\\item 90\n",
       "\\item 73\n",
       "\\item 60\n",
       "\\item 83\n",
       "\\item 65\n",
       "\\item 82\n",
       "\\item 84\n",
       "\\item 54\n",
       "\\item 85\n",
       "\\item 58\n",
       "\\item 79\n",
       "\\item 57\n",
       "\\item 88\n",
       "\\item 68\n",
       "\\item 76\n",
       "\\item 78\n",
       "\\item 74\n",
       "\\item 85\n",
       "\\item 75\n",
       "\\item 65\n",
       "\\item 76\n",
       "\\item 58\n",
       "\\item 91\n",
       "\\item 50\n",
       "\\item 87\n",
       "\\item 48\n",
       "\\item 93\n",
       "\\item 54\n",
       "\\item 86\n",
       "\\item 53\n",
       "\\item 78\n",
       "\\item 52\n",
       "\\item 83\n",
       "\\item 60\n",
       "\\item 87\n",
       "\\item 49\n",
       "\\item 80\n",
       "\\item 60\n",
       "\\item 92\n",
       "\\item 43\n",
       "\\item 89\n",
       "\\item 60\n",
       "\\item 84\n",
       "\\item 69\n",
       "\\item 74\n",
       "\\item 71\n",
       "\\item 108\n",
       "\\item 50\n",
       "\\item 77\n",
       "\\item 57\n",
       "\\item 80\n",
       "\\item 61\n",
       "\\item 82\n",
       "\\item 48\n",
       "\\item 81\n",
       "\\item 73\n",
       "\\item 62\n",
       "\\item 79\n",
       "\\item 54\n",
       "\\item 80\n",
       "\\item 73\n",
       "\\item 81\n",
       "\\item 62\n",
       "\\item 81\n",
       "\\item 71\n",
       "\\item 79\n",
       "\\item 81\n",
       "\\item 74\n",
       "\\item 59\n",
       "\\item 81\n",
       "\\item 66\n",
       "\\item 87\n",
       "\\item 53\n",
       "\\item 80\n",
       "\\item 50\n",
       "\\item 87\n",
       "\\item 51\n",
       "\\item 82\n",
       "\\item 58\n",
       "\\item 81\n",
       "\\item 49\n",
       "\\item 92\n",
       "\\item 50\n",
       "\\item 88\n",
       "\\item 62\n",
       "\\item 93\n",
       "\\item 56\n",
       "\\item 89\n",
       "\\item 51\n",
       "\\item 79\n",
       "\\item 58\n",
       "\\item 82\n",
       "\\item 52\n",
       "\\item 88\n",
       "\\item 52\n",
       "\\item 78\n",
       "\\item 69\n",
       "\\item 75\n",
       "\\item 77\n",
       "\\item 53\n",
       "\\item 80\n",
       "\\item 55\n",
       "\\item 87\n",
       "\\item 53\n",
       "\\item 85\n",
       "\\item 61\n",
       "\\item 93\n",
       "\\item 54\n",
       "\\item 76\n",
       "\\item 80\n",
       "\\item 81\n",
       "\\item 59\n",
       "\\item 86\n",
       "\\item 78\n",
       "\\item 71\n",
       "\\item 77\n",
       "\\item 76\n",
       "\\item 94\n",
       "\\item 75\n",
       "\\item 50\n",
       "\\item 83\n",
       "\\item 82\n",
       "\\item 72\n",
       "\\item 77\n",
       "\\item 75\n",
       "\\item 65\n",
       "\\item 79\n",
       "\\item 72\n",
       "\\item 78\n",
       "\\item 77\n",
       "\\item 79\n",
       "\\item 75\n",
       "\\item 78\n",
       "\\item 64\n",
       "\\item 80\n",
       "\\item 49\n",
       "\\item 88\n",
       "\\item 54\n",
       "\\item 85\n",
       "\\item 51\n",
       "\\item 96\n",
       "\\item 50\n",
       "\\item 80\n",
       "\\item 78\n",
       "\\item 81\n",
       "\\item 72\n",
       "\\item 75\n",
       "\\item 78\n",
       "\\item 87\n",
       "\\item 69\n",
       "\\item 55\n",
       "\\item 83\n",
       "\\item 49\n",
       "\\item 82\n",
       "\\item 57\n",
       "\\item 84\n",
       "\\item 57\n",
       "\\item 84\n",
       "\\item 73\n",
       "\\item 78\n",
       "\\item 57\n",
       "\\item 79\n",
       "\\item 57\n",
       "\\item 90\n",
       "\\item 62\n",
       "\\item 87\n",
       "\\item 78\n",
       "\\item 52\n",
       "\\item 98\n",
       "\\item 48\n",
       "\\item 78\n",
       "\\item 79\n",
       "\\item 65\n",
       "\\item 84\n",
       "\\item 50\n",
       "\\item 83\n",
       "\\item 60\n",
       "\\item 80\n",
       "\\item 50\n",
       "\\item 88\n",
       "\\item 50\n",
       "\\item 84\n",
       "\\item 74\n",
       "\\item 76\n",
       "\\item 65\n",
       "\\item 89\n",
       "\\item 49\n",
       "\\item 88\n",
       "\\item 51\n",
       "\\item 78\n",
       "\\item 85\n",
       "\\item 65\n",
       "\\item 75\n",
       "\\item 77\n",
       "\\item 69\n",
       "\\item 92\n",
       "\\item 68\n",
       "\\item 87\n",
       "\\item 61\n",
       "\\item 81\n",
       "\\item 55\n",
       "\\item 93\n",
       "\\item 53\n",
       "\\item 84\n",
       "\\item 70\n",
       "\\item 73\n",
       "\\item 93\n",
       "\\item 50\n",
       "\\item 87\n",
       "\\item 77\n",
       "\\item 74\n",
       "\\item 72\n",
       "\\item 82\n",
       "\\item 74\n",
       "\\item 80\n",
       "\\item 49\n",
       "\\item 91\n",
       "\\item 53\n",
       "\\item 86\n",
       "\\item 49\n",
       "\\item 79\n",
       "\\item 89\n",
       "\\item 87\n",
       "\\item 76\n",
       "\\item 59\n",
       "\\item 80\n",
       "\\item 89\n",
       "\\item 45\n",
       "\\item 93\n",
       "\\item 72\n",
       "\\item 71\n",
       "\\item 54\n",
       "\\item 79\n",
       "\\item 74\n",
       "\\item 65\n",
       "\\item 78\n",
       "\\item 57\n",
       "\\item 87\n",
       "\\item 72\n",
       "\\item 84\n",
       "\\item 47\n",
       "\\item 84\n",
       "\\item 57\n",
       "\\item 87\n",
       "\\item 68\n",
       "\\item 86\n",
       "\\item 75\n",
       "\\item 73\n",
       "\\item 53\n",
       "\\item 82\n",
       "\\item 93\n",
       "\\item 77\n",
       "\\item 54\n",
       "\\item 96\n",
       "\\item 48\n",
       "\\item 89\n",
       "\\item 63\n",
       "\\item 84\n",
       "\\item 76\n",
       "\\item 62\n",
       "\\item 83\n",
       "\\item 50\n",
       "\\item 85\n",
       "\\item 78\n",
       "\\item 78\n",
       "\\item 81\n",
       "\\item 78\n",
       "\\item 76\n",
       "\\item 74\n",
       "\\item 81\n",
       "\\item 66\n",
       "\\item 84\n",
       "\\item 48\n",
       "\\item 93\n",
       "\\item 47\n",
       "\\item 87\n",
       "\\item 51\n",
       "\\item 78\n",
       "\\item 54\n",
       "\\item 87\n",
       "\\item 52\n",
       "\\item 85\n",
       "\\item 58\n",
       "\\item 88\n",
       "\\item 79\n",
       "\\end{enumerate*}\n"
      ],
      "text/markdown": [
       "1. 80\n",
       "2. 71\n",
       "3. 57\n",
       "4. 80\n",
       "5. 75\n",
       "6. 77\n",
       "7. 60\n",
       "8. 86\n",
       "9. 77\n",
       "10. 56\n",
       "11. 81\n",
       "12. 50\n",
       "13. 89\n",
       "14. 54\n",
       "15. 90\n",
       "16. 73\n",
       "17. 60\n",
       "18. 83\n",
       "19. 65\n",
       "20. 82\n",
       "21. 84\n",
       "22. 54\n",
       "23. 85\n",
       "24. 58\n",
       "25. 79\n",
       "26. 57\n",
       "27. 88\n",
       "28. 68\n",
       "29. 76\n",
       "30. 78\n",
       "31. 74\n",
       "32. 85\n",
       "33. 75\n",
       "34. 65\n",
       "35. 76\n",
       "36. 58\n",
       "37. 91\n",
       "38. 50\n",
       "39. 87\n",
       "40. 48\n",
       "41. 93\n",
       "42. 54\n",
       "43. 86\n",
       "44. 53\n",
       "45. 78\n",
       "46. 52\n",
       "47. 83\n",
       "48. 60\n",
       "49. 87\n",
       "50. 49\n",
       "51. 80\n",
       "52. 60\n",
       "53. 92\n",
       "54. 43\n",
       "55. 89\n",
       "56. 60\n",
       "57. 84\n",
       "58. 69\n",
       "59. 74\n",
       "60. 71\n",
       "61. 108\n",
       "62. 50\n",
       "63. 77\n",
       "64. 57\n",
       "65. 80\n",
       "66. 61\n",
       "67. 82\n",
       "68. 48\n",
       "69. 81\n",
       "70. 73\n",
       "71. 62\n",
       "72. 79\n",
       "73. 54\n",
       "74. 80\n",
       "75. 73\n",
       "76. 81\n",
       "77. 62\n",
       "78. 81\n",
       "79. 71\n",
       "80. 79\n",
       "81. 81\n",
       "82. 74\n",
       "83. 59\n",
       "84. 81\n",
       "85. 66\n",
       "86. 87\n",
       "87. 53\n",
       "88. 80\n",
       "89. 50\n",
       "90. 87\n",
       "91. 51\n",
       "92. 82\n",
       "93. 58\n",
       "94. 81\n",
       "95. 49\n",
       "96. 92\n",
       "97. 50\n",
       "98. 88\n",
       "99. 62\n",
       "100. 93\n",
       "101. 56\n",
       "102. 89\n",
       "103. 51\n",
       "104. 79\n",
       "105. 58\n",
       "106. 82\n",
       "107. 52\n",
       "108. 88\n",
       "109. 52\n",
       "110. 78\n",
       "111. 69\n",
       "112. 75\n",
       "113. 77\n",
       "114. 53\n",
       "115. 80\n",
       "116. 55\n",
       "117. 87\n",
       "118. 53\n",
       "119. 85\n",
       "120. 61\n",
       "121. 93\n",
       "122. 54\n",
       "123. 76\n",
       "124. 80\n",
       "125. 81\n",
       "126. 59\n",
       "127. 86\n",
       "128. 78\n",
       "129. 71\n",
       "130. 77\n",
       "131. 76\n",
       "132. 94\n",
       "133. 75\n",
       "134. 50\n",
       "135. 83\n",
       "136. 82\n",
       "137. 72\n",
       "138. 77\n",
       "139. 75\n",
       "140. 65\n",
       "141. 79\n",
       "142. 72\n",
       "143. 78\n",
       "144. 77\n",
       "145. 79\n",
       "146. 75\n",
       "147. 78\n",
       "148. 64\n",
       "149. 80\n",
       "150. 49\n",
       "151. 88\n",
       "152. 54\n",
       "153. 85\n",
       "154. 51\n",
       "155. 96\n",
       "156. 50\n",
       "157. 80\n",
       "158. 78\n",
       "159. 81\n",
       "160. 72\n",
       "161. 75\n",
       "162. 78\n",
       "163. 87\n",
       "164. 69\n",
       "165. 55\n",
       "166. 83\n",
       "167. 49\n",
       "168. 82\n",
       "169. 57\n",
       "170. 84\n",
       "171. 57\n",
       "172. 84\n",
       "173. 73\n",
       "174. 78\n",
       "175. 57\n",
       "176. 79\n",
       "177. 57\n",
       "178. 90\n",
       "179. 62\n",
       "180. 87\n",
       "181. 78\n",
       "182. 52\n",
       "183. 98\n",
       "184. 48\n",
       "185. 78\n",
       "186. 79\n",
       "187. 65\n",
       "188. 84\n",
       "189. 50\n",
       "190. 83\n",
       "191. 60\n",
       "192. 80\n",
       "193. 50\n",
       "194. 88\n",
       "195. 50\n",
       "196. 84\n",
       "197. 74\n",
       "198. 76\n",
       "199. 65\n",
       "200. 89\n",
       "201. 49\n",
       "202. 88\n",
       "203. 51\n",
       "204. 78\n",
       "205. 85\n",
       "206. 65\n",
       "207. 75\n",
       "208. 77\n",
       "209. 69\n",
       "210. 92\n",
       "211. 68\n",
       "212. 87\n",
       "213. 61\n",
       "214. 81\n",
       "215. 55\n",
       "216. 93\n",
       "217. 53\n",
       "218. 84\n",
       "219. 70\n",
       "220. 73\n",
       "221. 93\n",
       "222. 50\n",
       "223. 87\n",
       "224. 77\n",
       "225. 74\n",
       "226. 72\n",
       "227. 82\n",
       "228. 74\n",
       "229. 80\n",
       "230. 49\n",
       "231. 91\n",
       "232. 53\n",
       "233. 86\n",
       "234. 49\n",
       "235. 79\n",
       "236. 89\n",
       "237. 87\n",
       "238. 76\n",
       "239. 59\n",
       "240. 80\n",
       "241. 89\n",
       "242. 45\n",
       "243. 93\n",
       "244. 72\n",
       "245. 71\n",
       "246. 54\n",
       "247. 79\n",
       "248. 74\n",
       "249. 65\n",
       "250. 78\n",
       "251. 57\n",
       "252. 87\n",
       "253. 72\n",
       "254. 84\n",
       "255. 47\n",
       "256. 84\n",
       "257. 57\n",
       "258. 87\n",
       "259. 68\n",
       "260. 86\n",
       "261. 75\n",
       "262. 73\n",
       "263. 53\n",
       "264. 82\n",
       "265. 93\n",
       "266. 77\n",
       "267. 54\n",
       "268. 96\n",
       "269. 48\n",
       "270. 89\n",
       "271. 63\n",
       "272. 84\n",
       "273. 76\n",
       "274. 62\n",
       "275. 83\n",
       "276. 50\n",
       "277. 85\n",
       "278. 78\n",
       "279. 78\n",
       "280. 81\n",
       "281. 78\n",
       "282. 76\n",
       "283. 74\n",
       "284. 81\n",
       "285. 66\n",
       "286. 84\n",
       "287. 48\n",
       "288. 93\n",
       "289. 47\n",
       "290. 87\n",
       "291. 51\n",
       "292. 78\n",
       "293. 54\n",
       "294. 87\n",
       "295. 52\n",
       "296. 85\n",
       "297. 58\n",
       "298. 88\n",
       "299. 79\n",
       "\n",
       "\n"
      ],
      "text/plain": [
       "  [1]  80  71  57  80  75  77  60  86  77  56  81  50  89  54  90  73  60  83\n",
       " [19]  65  82  84  54  85  58  79  57  88  68  76  78  74  85  75  65  76  58\n",
       " [37]  91  50  87  48  93  54  86  53  78  52  83  60  87  49  80  60  92  43\n",
       " [55]  89  60  84  69  74  71 108  50  77  57  80  61  82  48  81  73  62  79\n",
       " [73]  54  80  73  81  62  81  71  79  81  74  59  81  66  87  53  80  50  87\n",
       " [91]  51  82  58  81  49  92  50  88  62  93  56  89  51  79  58  82  52  88\n",
       "[109]  52  78  69  75  77  53  80  55  87  53  85  61  93  54  76  80  81  59\n",
       "[127]  86  78  71  77  76  94  75  50  83  82  72  77  75  65  79  72  78  77\n",
       "[145]  79  75  78  64  80  49  88  54  85  51  96  50  80  78  81  72  75  78\n",
       "[163]  87  69  55  83  49  82  57  84  57  84  73  78  57  79  57  90  62  87\n",
       "[181]  78  52  98  48  78  79  65  84  50  83  60  80  50  88  50  84  74  76\n",
       "[199]  65  89  49  88  51  78  85  65  75  77  69  92  68  87  61  81  55  93\n",
       "[217]  53  84  70  73  93  50  87  77  74  72  82  74  80  49  91  53  86  49\n",
       "[235]  79  89  87  76  59  80  89  45  93  72  71  54  79  74  65  78  57  87\n",
       "[253]  72  84  47  84  57  87  68  86  75  73  53  82  93  77  54  96  48  89\n",
       "[271]  63  84  76  62  83  50  85  78  78  81  78  76  74  81  66  84  48  93\n",
       "[289]  47  87  51  78  54  87  52  85  58  88  79"
      ]
     },
     "metadata": {},
     "output_type": "display_data"
    }
   ],
   "source": [
    "geyser$waiting"
   ]
  },
  {
   "cell_type": "code",
   "execution_count": 2,
   "id": "9f4f23d6-65ba-4289-8017-73ee5a1f83db",
   "metadata": {},
   "outputs": [
    {
     "data": {
      "image/png": "[encoded data removed]",
      "text/plain": [
       "Plot with title \"Series  geyser$duration\""
      ]
     },
     "metadata": {
      "image/png": {
       "height": 420,
       "width": 420
      }
     },
     "output_type": "display_data"
    }
   ],
   "source": [
    "par(mfrow = c(2,2))\n",
    "library(MASS)\n",
    "plot(geyser$waiting)\n",
    "acf(geyser$waiting)\n",
    "plot(geyser$waiting)\n",
    "acf(geyser$duration)"
   ]
  },
  {
   "cell_type": "code",
   "execution_count": 5,
   "id": "226ca6ac-20d9-472f-88bf-f3870f002841",
   "metadata": {},
   "outputs": [
    {
     "data": {
      "text/html": [
       "<style>\n",
       ".list-inline {list-style: none; margin:0; padding: 0}\n",
       ".list-inline>li {display: inline-block}\n",
       ".list-inline>li:not(:last-child)::after {content: \"\\00b7\"; padding: 0 .5ex}\n",
       "</style>\n",
       "<ol class=list-inline><li>1</li><li>-0.702</li><li>0.547</li><li>-0.445</li><li>0.386</li></ol>\n"
      ],
      "text/latex": [
       "\\begin{enumerate*}\n",
       "\\item 1\n",
       "\\item -0.702\n",
       "\\item 0.547\n",
       "\\item -0.445\n",
       "\\item 0.386\n",
       "\\end{enumerate*}\n"
      ],
      "text/markdown": [
       "1. 1\n",
       "2. -0.702\n",
       "3. 0.547\n",
       "4. -0.445\n",
       "5. 0.386\n",
       "\n",
       "\n"
      ],
      "text/plain": [
       "[1]  1.000 -0.702  0.547 -0.445  0.386"
      ]
     },
     "metadata": {},
     "output_type": "display_data"
    },
    {
     "data": {
      "image/png": "[encoded data removed]",
      "text/plain": [
       "Plot with title \"Series  geyser$waiting\""
      ]
     },
     "metadata": {
      "image/png": {
       "height": 420,
       "width": 420
      }
     },
     "output_type": "display_data"
    },
    {
     "data": {
      "text/html": [
       "<style>\n",
       ".list-inline {list-style: none; margin:0; padding: 0}\n",
       ".list-inline>li {display: inline-block}\n",
       ".list-inline>li:not(:last-child)::after {content: \"\\00b7\"; padding: 0 .5ex}\n",
       "</style>\n",
       "<ol class=list-inline><li>1</li><li>-0.657</li><li>0.553</li><li>-0.398</li><li>0.346</li></ol>\n"
      ],
      "text/latex": [
       "\\begin{enumerate*}\n",
       "\\item 1\n",
       "\\item -0.657\n",
       "\\item 0.553\n",
       "\\item -0.398\n",
       "\\item 0.346\n",
       "\\end{enumerate*}\n"
      ],
      "text/markdown": [
       "1. 1\n",
       "2. -0.657\n",
       "3. 0.553\n",
       "4. -0.398\n",
       "5. 0.346\n",
       "\n",
       "\n"
      ],
      "text/plain": [
       "[1]  1.000 -0.657  0.553 -0.398  0.346"
      ]
     },
     "metadata": {},
     "output_type": "display_data"
    },
    {
     "data": {
      "image/png": "[encoded data removed]",
      "text/plain": [
       "Plot with title \"Series  geyser$duration\""
      ]
     },
     "metadata": {
      "image/png": {
       "height": 420,
       "width": 420
      }
     },
     "output_type": "display_data"
    }
   ],
   "source": [
    "# waiting과 duration에 대한 시차 0,1,2,3,4 에서의 자기상관은 각각 다음과 같다.\n",
    "round(acf(geyser$waiting)$acf[1:5],3)\n",
    "round(acf(geyser$duration)$acf[1:5],3)"
   ]
  },
  {
   "cell_type": "markdown",
   "id": "8482e066-3583-401a-8b08-53c0e84db7c6",
   "metadata": {},
   "source": [
    "waiting과 duration 사이의 관계는 어떨까? 이것은 다음과 같이 정의되는 교차상관함수(CCF)로 알 수 있다."
   ]
  },
  {
   "cell_type": "code",
   "execution_count": 292,
   "id": "434cda46-7509-4a60-9441-7eb2256e6f1c",
   "metadata": {},
   "outputs": [
    {
     "data": {
      "image/png": "[encoded data removed]",
      "text/plain": [
       "Plot with title \"geyser$waiting & geyser$duration\""
      ]
     },
     "metadata": {
      "image/png": {
       "height": 480,
       "width": 960
      }
     },
     "output_type": "display_data"
    }
   ],
   "source": [
    "ccf(geyser$waiting, geyser$duration)"
   ]
  },
  {
   "cell_type": "code",
   "execution_count": 295,
   "id": "34d36ef3-67e2-4b9f-b21f-7775544a445a",
   "metadata": {},
   "outputs": [
    {
     "data": {
      "text/html": [
       "<table class=\"dataframe\">\n",
       "<caption>A matrix: 43 × 2 of type dbl</caption>\n",
       "<tbody>\n",
       "\t<tr><td>-21</td><td> 0.038</td></tr>\n",
       "\t<tr><td>-20</td><td>-0.023</td></tr>\n",
       "\t<tr><td>-19</td><td>-0.005</td></tr>\n",
       "\t<tr><td>-18</td><td> 0.009</td></tr>\n",
       "\t<tr><td>-17</td><td> 0.000</td></tr>\n",
       "\t<tr><td>-16</td><td> 0.009</td></tr>\n",
       "\t<tr><td>-15</td><td> 0.046</td></tr>\n",
       "\t<tr><td>-14</td><td>-0.079</td></tr>\n",
       "\t<tr><td>-13</td><td> 0.146</td></tr>\n",
       "\t<tr><td>-12</td><td>-0.166</td></tr>\n",
       "\t<tr><td>-11</td><td> 0.190</td></tr>\n",
       "\t<tr><td>-10</td><td>-0.188</td></tr>\n",
       "\t<tr><td> -9</td><td> 0.179</td></tr>\n",
       "\t<tr><td> -8</td><td>-0.192</td></tr>\n",
       "\t<tr><td> -7</td><td> 0.189</td></tr>\n",
       "\t<tr><td> -6</td><td>-0.196</td></tr>\n",
       "\t<tr><td> -5</td><td> 0.213</td></tr>\n",
       "\t<tr><td> -4</td><td>-0.270</td></tr>\n",
       "\t<tr><td> -3</td><td> 0.365</td></tr>\n",
       "\t<tr><td> -2</td><td>-0.425</td></tr>\n",
       "\t<tr><td> -1</td><td> 0.557</td></tr>\n",
       "\t<tr><td>  0</td><td>-0.645</td></tr>\n",
       "\t<tr><td>  1</td><td> 0.886</td></tr>\n",
       "\t<tr><td>  2</td><td>-0.664</td></tr>\n",
       "\t<tr><td>  3</td><td> 0.562</td></tr>\n",
       "\t<tr><td>  4</td><td>-0.431</td></tr>\n",
       "\t<tr><td>  5</td><td> 0.368</td></tr>\n",
       "\t<tr><td>  6</td><td>-0.308</td></tr>\n",
       "\t<tr><td>  7</td><td> 0.249</td></tr>\n",
       "\t<tr><td>  8</td><td>-0.213</td></tr>\n",
       "\t<tr><td>  9</td><td> 0.201</td></tr>\n",
       "\t<tr><td> 10</td><td>-0.188</td></tr>\n",
       "\t<tr><td> 11</td><td> 0.153</td></tr>\n",
       "\t<tr><td> 12</td><td>-0.203</td></tr>\n",
       "\t<tr><td> 13</td><td> 0.227</td></tr>\n",
       "\t<tr><td> 14</td><td>-0.194</td></tr>\n",
       "\t<tr><td> 15</td><td> 0.139</td></tr>\n",
       "\t<tr><td> 16</td><td>-0.146</td></tr>\n",
       "\t<tr><td> 17</td><td> 0.115</td></tr>\n",
       "\t<tr><td> 18</td><td>-0.045</td></tr>\n",
       "\t<tr><td> 19</td><td> 0.041</td></tr>\n",
       "\t<tr><td> 20</td><td>-0.008</td></tr>\n",
       "\t<tr><td> 21</td><td> 0.038</td></tr>\n",
       "</tbody>\n",
       "</table>\n"
      ],
      "text/latex": [
       "A matrix: 43 × 2 of type dbl\n",
       "\\begin{tabular}{ll}\n",
       "\t -21 &  0.038\\\\\n",
       "\t -20 & -0.023\\\\\n",
       "\t -19 & -0.005\\\\\n",
       "\t -18 &  0.009\\\\\n",
       "\t -17 &  0.000\\\\\n",
       "\t -16 &  0.009\\\\\n",
       "\t -15 &  0.046\\\\\n",
       "\t -14 & -0.079\\\\\n",
       "\t -13 &  0.146\\\\\n",
       "\t -12 & -0.166\\\\\n",
       "\t -11 &  0.190\\\\\n",
       "\t -10 & -0.188\\\\\n",
       "\t  -9 &  0.179\\\\\n",
       "\t  -8 & -0.192\\\\\n",
       "\t  -7 &  0.189\\\\\n",
       "\t  -6 & -0.196\\\\\n",
       "\t  -5 &  0.213\\\\\n",
       "\t  -4 & -0.270\\\\\n",
       "\t  -3 &  0.365\\\\\n",
       "\t  -2 & -0.425\\\\\n",
       "\t  -1 &  0.557\\\\\n",
       "\t   0 & -0.645\\\\\n",
       "\t   1 &  0.886\\\\\n",
       "\t   2 & -0.664\\\\\n",
       "\t   3 &  0.562\\\\\n",
       "\t   4 & -0.431\\\\\n",
       "\t   5 &  0.368\\\\\n",
       "\t   6 & -0.308\\\\\n",
       "\t   7 &  0.249\\\\\n",
       "\t   8 & -0.213\\\\\n",
       "\t   9 &  0.201\\\\\n",
       "\t  10 & -0.188\\\\\n",
       "\t  11 &  0.153\\\\\n",
       "\t  12 & -0.203\\\\\n",
       "\t  13 &  0.227\\\\\n",
       "\t  14 & -0.194\\\\\n",
       "\t  15 &  0.139\\\\\n",
       "\t  16 & -0.146\\\\\n",
       "\t  17 &  0.115\\\\\n",
       "\t  18 & -0.045\\\\\n",
       "\t  19 &  0.041\\\\\n",
       "\t  20 & -0.008\\\\\n",
       "\t  21 &  0.038\\\\\n",
       "\\end{tabular}\n"
      ],
      "text/markdown": [
       "\n",
       "A matrix: 43 × 2 of type dbl\n",
       "\n",
       "| -21 |  0.038 |\n",
       "| -20 | -0.023 |\n",
       "| -19 | -0.005 |\n",
       "| -18 |  0.009 |\n",
       "| -17 |  0.000 |\n",
       "| -16 |  0.009 |\n",
       "| -15 |  0.046 |\n",
       "| -14 | -0.079 |\n",
       "| -13 |  0.146 |\n",
       "| -12 | -0.166 |\n",
       "| -11 |  0.190 |\n",
       "| -10 | -0.188 |\n",
       "|  -9 |  0.179 |\n",
       "|  -8 | -0.192 |\n",
       "|  -7 |  0.189 |\n",
       "|  -6 | -0.196 |\n",
       "|  -5 |  0.213 |\n",
       "|  -4 | -0.270 |\n",
       "|  -3 |  0.365 |\n",
       "|  -2 | -0.425 |\n",
       "|  -1 |  0.557 |\n",
       "|   0 | -0.645 |\n",
       "|   1 |  0.886 |\n",
       "|   2 | -0.664 |\n",
       "|   3 |  0.562 |\n",
       "|   4 | -0.431 |\n",
       "|   5 |  0.368 |\n",
       "|   6 | -0.308 |\n",
       "|   7 |  0.249 |\n",
       "|   8 | -0.213 |\n",
       "|   9 |  0.201 |\n",
       "|  10 | -0.188 |\n",
       "|  11 |  0.153 |\n",
       "|  12 | -0.203 |\n",
       "|  13 |  0.227 |\n",
       "|  14 | -0.194 |\n",
       "|  15 |  0.139 |\n",
       "|  16 | -0.146 |\n",
       "|  17 |  0.115 |\n",
       "|  18 | -0.045 |\n",
       "|  19 |  0.041 |\n",
       "|  20 | -0.008 |\n",
       "|  21 |  0.038 |\n",
       "\n"
      ],
      "text/plain": [
       "      [,1] [,2]  \n",
       " [1,] -21   0.038\n",
       " [2,] -20  -0.023\n",
       " [3,] -19  -0.005\n",
       " [4,] -18   0.009\n",
       " [5,] -17   0.000\n",
       " [6,] -16   0.009\n",
       " [7,] -15   0.046\n",
       " [8,] -14  -0.079\n",
       " [9,] -13   0.146\n",
       "[10,] -12  -0.166\n",
       "[11,] -11   0.190\n",
       "[12,] -10  -0.188\n",
       "[13,]  -9   0.179\n",
       "[14,]  -8  -0.192\n",
       "[15,]  -7   0.189\n",
       "[16,]  -6  -0.196\n",
       "[17,]  -5   0.213\n",
       "[18,]  -4  -0.270\n",
       "[19,]  -3   0.365\n",
       "[20,]  -2  -0.425\n",
       "[21,]  -1   0.557\n",
       "[22,]   0  -0.645\n",
       "[23,]   1   0.886\n",
       "[24,]   2  -0.664\n",
       "[25,]   3   0.562\n",
       "[26,]   4  -0.431\n",
       "[27,]   5   0.368\n",
       "[28,]   6  -0.308\n",
       "[29,]   7   0.249\n",
       "[30,]   8  -0.213\n",
       "[31,]   9   0.201\n",
       "[32,]  10  -0.188\n",
       "[33,]  11   0.153\n",
       "[34,]  12  -0.203\n",
       "[35,]  13   0.227\n",
       "[36,]  14  -0.194\n",
       "[37,]  15   0.139\n",
       "[38,]  16  -0.146\n",
       "[39,]  17   0.115\n",
       "[40,]  18  -0.045\n",
       "[41,]  19   0.041\n",
       "[42,]  20  -0.008\n",
       "[43,]  21   0.038"
      ]
     },
     "metadata": {},
     "output_type": "display_data"
    },
    {
     "data": {
      "image/png": "[encoded data removed]",
      "text/plain": [
       "Plot with title \"geyser$waiting & geyser$duration\""
      ]
     },
     "metadata": {
      "image/png": {
       "height": 480,
       "width": 960
      }
     },
     "output_type": "display_data"
    }
   ],
   "source": [
    "round(cbind(ccf(geyser$waiting, geyser$duration)$lag, ccf(geyser$waiting, geyser$duration)$acf), 3)"
   ]
  },
  {
   "cell_type": "code",
   "execution_count": 298,
   "id": "89e1109b-3cef-4bd8-85e8-afe7f4a23515",
   "metadata": {},
   "outputs": [
    {
     "data": {
      "image/png": "[encoded data removed]",
      "text/plain": [
       "plot without title"
      ]
     },
     "metadata": {
      "image/png": {
       "height": 480,
       "width": 960
      }
     },
     "output_type": "display_data"
    }
   ],
   "source": [
    "par(mfrow = c(1,2))\n",
    "plot(geyser$duration, geyser$waiting)\n",
    "waiting_1 <- c(geyser$waiting[2:299], NA)\n",
    "plot(waiting_1 ~ geyser$duration)"
   ]
  },
  {
   "cell_type": "markdown",
   "id": "3096e679-e848-487c-a8bc-8edbe7f67548",
   "metadata": {},
   "source": [
    "## 주가 사례: 임의보행"
   ]
  },
  {
   "cell_type": "code",
   "execution_count": 299,
   "id": "5cdb66bf-a848-4366-8dd2-33f477e341d1",
   "metadata": {},
   "outputs": [],
   "source": [
    "library(foreign)"
   ]
  },
  {
   "cell_type": "code",
   "execution_count": 313,
   "id": "c6721f0a-894c-4b38-9481-013287cc7c5d",
   "metadata": {},
   "outputs": [],
   "source": [
    "ee <- read.spss('dataset/EDA/EEstock2000.sav')\n",
    "x <- ee$change"
   ]
  },
  {
   "cell_type": "code",
   "execution_count": 317,
   "id": "04bfff81-7179-4ebf-afb8-0aab96462191",
   "metadata": {},
   "outputs": [
    {
     "data": {
      "image/png": "[encoded data removed]",
      "text/plain": [
       "Plot with title \"Series  x\""
      ]
     },
     "metadata": {
      "image/png": {
       "height": 480,
       "width": 960
      }
     },
     "output_type": "display_data"
    }
   ],
   "source": [
    "par(mfrow = c(1,2))\n",
    "plot(x, type = 'l', ylim = c(-15, 15))\n",
    "acf(x, ylim = c(-1, 1))"
   ]
  },
  {
   "cell_type": "code",
   "execution_count": 326,
   "id": "4098c4b6-286e-4704-9897-0ef0a9dddd80",
   "metadata": {},
   "outputs": [
    {
     "data": {
      "image/png": "[encoded data removed]",
      "text/plain": [
       "Plot with title \"Daily Stock Change\""
      ]
     },
     "metadata": {
      "image/png": {
       "height": 480,
       "width": 960
      }
     },
     "output_type": "display_data"
    }
   ],
   "source": [
    "par(mfrow = c(1,2))\n",
    "m <- mean(x)\n",
    "sd <- sd(x)\n",
    "hist(x, freq=F, nclass = 20, main = 'Daily Stock Change')\n",
    "curve(dnorm(x, m, sd), add = T)\n",
    "\n",
    "ms <- read.spss('dataset/EDA/MSstock2000.sav')\n",
    "x <- ms$change\n",
    "m <- mean(x)\n",
    "sd <- sd(x)\n",
    "hist(x, freq = F, nclass = 20, xlim = c(-15, 15), main = 'Daily Stock Change')\n",
    "curve(dnorm(x, m, sd), add = T)"
   ]
  },
  {
   "cell_type": "markdown",
   "id": "6935aa50-4342-4984-a762-ec79ba10750a",
   "metadata": {},
   "source": [
    "# Ch.9 로버스트 선형회귀"
   ]
  },
  {
   "cell_type": "code",
   "execution_count": 5,
   "id": "d9c333c9-9ba4-41cf-8c69-ba9b4ea4cf3d",
   "metadata": {},
   "outputs": [
    {
     "data": {
      "image/png": "[encoded data removed]",
      "text/plain": [
       "plot without title"
      ]
     },
     "metadata": {
      "image/png": {
       "height": 480,
       "width": 960
      }
     },
     "output_type": "display_data"
    }
   ],
   "source": [
    "set.seed(1234567)\n",
    "x <- seq(1,10)\n",
    "y <- 2.5 + 0.5*x + rnorm(10,0,1)\n",
    "y[10] <- -10\n",
    "par(mfrow=c(1,2))\n",
    "plot(y~x)\n",
    "library(MASS)\n",
    "m0 <- lm(y ~ x)\n",
    "m1 <- rlm(y ~ x)\n",
    "m2 <- lqs(y ~ x)\n",
    "plot(y ~ x)\n",
    "abline(m0$coef)\n",
    "abline(m1$coef, lty = 'dotted', col = 'blue')\n",
    "abline(m2$coef, lty = 'dotted', col = 'red')"
   ]
  },
  {
   "cell_type": "markdown",
   "id": "12b1688c-09ee-4eee-b326-cc98e0450576",
   "metadata": {},
   "source": [
    "# Ch.10 이변량 자료 탐색"
   ]
  },
  {
   "cell_type": "code",
   "execution_count": 9,
   "id": "3a1ce167-6c83-4d0c-8c32-2f6425ddf356",
   "metadata": {},
   "outputs": [
    {
     "data": {
      "image/png": "[encoded data removed]",
      "text/plain": [
       "Plot with title \"Histogram of geyser$duration\""
      ]
     },
     "metadata": {
      "image/png": {
       "height": 480,
       "width": 960
      }
     },
     "output_type": "display_data"
    }
   ],
   "source": [
    "par(mfrow = c(1,2))\n",
    "library(MASS)\n",
    "data(geyser)\n",
    "hist(geyser$duration)"
   ]
  },
  {
   "cell_type": "code",
   "execution_count": 10,
   "id": "2730f230-4d01-4986-9bfb-d2f52613f0e5",
   "metadata": {},
   "outputs": [
    {
     "data": {
      "text/plain": [
       "\n",
       "Call:\n",
       "\tdensity.default(x = geyser$duration)\n",
       "\n",
       "Data: geyser$duration (299 obs.);\tBandwidth 'bw' = 0.3304\n",
       "\n",
       "       x                 y            \n",
       " Min.   :-0.1578   Min.   :0.0000454  \n",
       " 1st Qu.: 1.4919   1st Qu.:0.0070880  \n",
       " Median : 3.1417   Median :0.0815875  \n",
       " Mean   : 3.1417   Mean   :0.1513899  \n",
       " 3rd Qu.: 4.7914   3rd Qu.:0.2768205  \n",
       " Max.   : 6.4411   Max.   :0.5154276  "
      ]
     },
     "metadata": {},
     "output_type": "display_data"
    }
   ],
   "source": [
    "density(geyser$duration)"
   ]
  },
  {
   "cell_type": "code",
   "execution_count": 11,
   "id": "d40b6ac8-b51e-4cfb-ae39-e6b03b3e1428",
   "metadata": {},
   "outputs": [
    {
     "data": {
      "image/png": "[encoded data removed]",
      "text/plain": [
       "Plot with title \"Histogram of geyser$duration\""
      ]
     },
     "metadata": {
      "image/png": {
       "height": 480,
       "width": 960
      }
     },
     "output_type": "display_data"
    }
   ],
   "source": [
    "hist(geyser$duration, freq = F)\n",
    "lines(density(geyser$duration), lty = 2)"
   ]
  },
  {
   "cell_type": "code",
   "execution_count": null,
   "id": "22d6b206-c58d-4475-9b26-348f403fe743",
   "metadata": {},
   "outputs": [],
   "source": []
  },
  {
   "cell_type": "code",
   "execution_count": null,
   "id": "69ff093a-3977-400a-bcb0-96597b1edf74",
   "metadata": {},
   "outputs": [],
   "source": [
    "ker <- function(n"
   ]
  },
  {
   "cell_type": "code",
   "execution_count": 14,
   "id": "8f723e6c-b121-4584-8532-fca335953d63",
   "metadata": {},
   "outputs": [
    {
     "data": {
      "text/html": [
       "299"
      ],
      "text/latex": [
       "299"
      ],
      "text/markdown": [
       "299"
      ],
      "text/plain": [
       "[1] 299"
      ]
     },
     "metadata": {},
     "output_type": "display_data"
    }
   ],
   "source": [
    "geyser$duration %>% length()"
   ]
  },
  {
   "cell_type": "code",
   "execution_count": null,
   "id": "9a8a1c73-01c8-4d26-9cf5-5f6a639b205c",
   "metadata": {},
   "outputs": [],
   "source": [
    "1/299 * sum("
   ]
  },
  {
   "cell_type": "code",
   "execution_count": 15,
   "id": "a111f97a-138c-460e-898a-db080ed715b8",
   "metadata": {},
   "outputs": [],
   "source": [
    "d <- density(rnorm(10000))"
   ]
  },
  {
   "cell_type": "code",
   "execution_count": 16,
   "id": "f7858cb4-a809-4bec-86a4-76f0ea1fe6f3",
   "metadata": {},
   "outputs": [
    {
     "data": {
      "image/png": "[encoded data removed]",
      "text/plain": [
       "Plot with title \"density.default(x = rnorm(10000))\""
      ]
     },
     "metadata": {
      "image/png": {
       "height": 420,
       "width": 420
      }
     },
     "output_type": "display_data"
    }
   ],
   "source": [
    "plot(d)"
   ]
  },
  {
   "cell_type": "code",
   "execution_count": 21,
   "id": "0a23ab2b-99e0-4f99-9d74-af2fd8744885",
   "metadata": {},
   "outputs": [
    {
     "data": {
      "text/html": [
       "<dl>\n",
       "\t<dt>$x</dt>\n",
       "\t\t<dd><style>\n",
       ".list-inline {list-style: none; margin:0; padding: 0}\n",
       ".list-inline>li {display: inline-block}\n",
       ".list-inline>li:not(:last-child)::after {content: \"\\00b7\"; padding: 0 .5ex}\n",
       "</style>\n",
       "<ol class=list-inline><li>-2</li><li>0</li><li>2</li></ol>\n",
       "</dd>\n",
       "\t<dt>$y</dt>\n",
       "\t\t<dd><style>\n",
       ".list-inline {list-style: none; margin:0; padding: 0}\n",
       ".list-inline>li {display: inline-block}\n",
       ".list-inline>li:not(:last-child)::after {content: \"\\00b7\"; padding: 0 .5ex}\n",
       "</style>\n",
       "<ol class=list-inline><li>0.050900899026136</li><li>0.402491511167809</li><li>0.0592883888354947</li></ol>\n",
       "</dd>\n",
       "</dl>\n"
      ],
      "text/latex": [
       "\\begin{description}\n",
       "\\item[\\$x] \\begin{enumerate*}\n",
       "\\item -2\n",
       "\\item 0\n",
       "\\item 2\n",
       "\\end{enumerate*}\n",
       "\n",
       "\\item[\\$y] \\begin{enumerate*}\n",
       "\\item 0.050900899026136\n",
       "\\item 0.402491511167809\n",
       "\\item 0.0592883888354947\n",
       "\\end{enumerate*}\n",
       "\n",
       "\\end{description}\n"
      ],
      "text/markdown": [
       "$x\n",
       ":   1. -2\n",
       "2. 0\n",
       "3. 2\n",
       "\n",
       "\n",
       "\n",
       "$y\n",
       ":   1. 0.050900899026136\n",
       "2. 0.402491511167809\n",
       "3. 0.0592883888354947\n",
       "\n",
       "\n",
       "\n",
       "\n",
       "\n"
      ],
      "text/plain": [
       "$x\n",
       "[1] -2  0  2\n",
       "\n",
       "$y\n",
       "[1] 0.05090090 0.40249151 0.05928839\n"
      ]
     },
     "metadata": {},
     "output_type": "display_data"
    }
   ],
   "source": [
    "approx(d$x, d$y, xout = c(-2, 0, 2))"
   ]
  },
  {
   "cell_type": "code",
   "execution_count": 19,
   "id": "a4f6e758-2d90-4c73-8362-d201e0b87d5d",
   "metadata": {},
   "outputs": [
    {
     "data": {
      "text/html": [
       "<style>\n",
       ".list-inline {list-style: none; margin:0; padding: 0}\n",
       ".list-inline>li {display: inline-block}\n",
       ".list-inline>li:not(:last-child)::after {content: \"\\00b7\"; padding: 0 .5ex}\n",
       "</style>\n",
       "<ol class=list-inline><li>-4.34657395650395</li><li>-4.32943776420608</li><li>-4.31230157190821</li><li>-4.29516537961034</li><li>-4.27802918731248</li><li>-4.26089299501461</li><li>-4.24375680271674</li><li>-4.22662061041888</li><li>-4.20948441812101</li><li>-4.19234822582314</li><li>-4.17521203352528</li><li>-4.15807584122741</li><li>-4.14093964892954</li><li>-4.12380345663167</li><li>-4.10666726433381</li><li>-4.08953107203594</li><li>-4.07239487973807</li><li>-4.05525868744021</li><li>-4.03812249514234</li><li>-4.02098630284447</li><li>-4.0038501105466</li><li>-3.98671391824874</li><li>-3.96957772595087</li><li>-3.952441533653</li><li>-3.93530534135514</li><li>-3.91816914905727</li><li>-3.9010329567594</li><li>-3.88389676446153</li><li>-3.86676057216367</li><li>-3.8496243798658</li><li>-3.83248818756793</li><li>-3.81535199527007</li><li>-3.7982158029722</li><li>-3.78107961067433</li><li>-3.76394341837646</li><li>-3.7468072260786</li><li>-3.72967103378073</li><li>-3.71253484148286</li><li>-3.695398649185</li><li>-3.67826245688713</li><li>-3.66112626458926</li><li>-3.64399007229139</li><li>-3.62685387999353</li><li>-3.60971768769566</li><li>-3.59258149539779</li><li>-3.57544530309993</li><li>-3.55830911080206</li><li>-3.54117291850419</li><li>-3.52403672620632</li><li>-3.50690053390846</li><li>-3.48976434161059</li><li>-3.47262814931272</li><li>-3.45549195701486</li><li>-3.43835576471699</li><li>-3.42121957241912</li><li>-3.40408338012125</li><li>-3.38694718782339</li><li>-3.36981099552552</li><li>-3.35267480322765</li><li>-3.33553861092979</li><li>-3.31840241863192</li><li>-3.30126622633405</li><li>-3.28413003403618</li><li>-3.26699384173832</li><li>-3.24985764944045</li><li>-3.23272145714258</li><li>-3.21558526484472</li><li>-3.19844907254685</li><li>-3.18131288024898</li><li>-3.16417668795111</li><li>-3.14704049565325</li><li>-3.12990430335538</li><li>-3.11276811105751</li><li>-3.09563191875965</li><li>-3.07849572646178</li><li>-3.06135953416391</li><li>-3.04422334186604</li><li>-3.02708714956818</li><li>-3.00995095727031</li><li>-2.99281476497244</li><li>-2.97567857267458</li><li>-2.95854238037671</li><li>-2.94140618807884</li><li>-2.92426999578097</li><li>-2.90713380348311</li><li>-2.88999761118524</li><li>-2.87286141888737</li><li>-2.85572522658951</li><li>-2.83858903429164</li><li>-2.82145284199377</li><li>-2.8043166496959</li><li>-2.78718045739804</li><li>-2.77004426510017</li><li>-2.7529080728023</li><li>-2.73577188050444</li><li>-2.71863568820657</li><li>-2.7014994959087</li><li>-2.68436330361083</li><li>-2.66722711131297</li><li>-2.6500909190151</li><li>-2.63295472671723</li><li>-2.61581853441937</li><li>-2.5986823421215</li><li>-2.58154614982363</li><li>-2.56440995752576</li><li>-2.5472737652279</li><li>-2.53013757293003</li><li>-2.51300138063216</li><li>-2.4958651883343</li><li>-2.47872899603643</li><li>-2.46159280373856</li><li>-2.44445661144069</li><li>-2.42732041914283</li><li>-2.41018422684496</li><li>-2.39304803454709</li><li>-2.37591184224923</li><li>-2.35877564995136</li><li>-2.34163945765349</li><li>-2.32450326535562</li><li>-2.30736707305776</li><li>-2.29023088075989</li><li>-2.27309468846202</li><li>-2.25595849616416</li><li>-2.23882230386629</li><li>-2.22168611156842</li><li>-2.20454991927055</li><li>-2.18741372697269</li><li>-2.17027753467482</li><li>-2.15314134237695</li><li>-2.13600515007909</li><li>-2.11886895778122</li><li>-2.10173276548335</li><li>-2.08459657318548</li><li>-2.06746038088762</li><li>-2.05032418858975</li><li>-2.03318799629188</li><li>-2.01605180399402</li><li>-1.99891561169615</li><li>-1.98177941939828</li><li>-1.96464322710041</li><li>-1.94750703480255</li><li>-1.93037084250468</li><li>-1.91323465020681</li><li>-1.89609845790895</li><li>-1.87896226561108</li><li>-1.86182607331321</li><li>-1.84468988101534</li><li>-1.82755368871748</li><li>-1.81041749641961</li><li>-1.79328130412174</li><li>-1.77614511182388</li><li>-1.75900891952601</li><li>-1.74187272722814</li><li>-1.72473653493027</li><li>-1.70760034263241</li><li>-1.69046415033454</li><li>-1.67332795803667</li><li>-1.65619176573881</li><li>-1.63905557344094</li><li>-1.62191938114307</li><li>-1.6047831888452</li><li>-1.58764699654734</li><li>-1.57051080424947</li><li>-1.5533746119516</li><li>-1.53623841965374</li><li>-1.51910222735587</li><li>-1.501966035058</li><li>-1.48482984276013</li><li>-1.46769365046227</li><li>-1.4505574581644</li><li>-1.43342126586653</li><li>-1.41628507356867</li><li>-1.3991488812708</li><li>-1.38201268897293</li><li>-1.36487649667506</li><li>-1.3477403043772</li><li>-1.33060411207933</li><li>-1.31346791978146</li><li>-1.2963317274836</li><li>-1.27919553518573</li><li>-1.26205934288786</li><li>-1.24492315058999</li><li>-1.22778695829213</li><li>-1.21065076599426</li><li>-1.19351457369639</li><li>-1.17637838139853</li><li>-1.15924218910066</li><li>-1.14210599680279</li><li>-1.12496980450492</li><li>-1.10783361220706</li><li>-1.09069741990919</li><li>-1.07356122761132</li><li>-1.05642503531346</li><li>-1.03928884301559</li><li>-1.02215265071772</li><li>-1.00501645841985</li><li>-0.987880266121987</li><li>-0.97074407382412</li><li>-0.953607881526253</li><li>-0.936471689228386</li><li>⋯</li><li>0.999918040430601</li><li>1.01705423272847</li><li>1.03419042502633</li><li>1.0513266173242</li><li>1.06846280962207</li><li>1.08559900191994</li><li>1.1027351942178</li><li>1.11987138651567</li><li>1.13700757881354</li><li>1.15414377111141</li><li>1.17127996340927</li><li>1.18841615570714</li><li>1.20555234800501</li><li>1.22268854030287</li><li>1.23982473260074</li><li>1.25696092489861</li><li>1.27409711719648</li><li>1.29123330949434</li><li>1.30836950179221</li><li>1.32550569409008</li><li>1.34264188638794</li><li>1.35977807868581</li><li>1.37691427098368</li><li>1.39405046328154</li><li>1.41118665557941</li><li>1.42832284787728</li><li>1.44545904017515</li><li>1.46259523247301</li><li>1.47973142477088</li><li>1.49686761706875</li><li>1.51400380936662</li><li>1.53114000166448</li><li>1.54827619396235</li><li>1.56541238626022</li><li>1.58254857855808</li><li>1.59968477085595</li><li>1.61682096315382</li><li>1.63395715545168</li><li>1.65109334774955</li><li>1.66822954004742</li><li>1.68536573234529</li><li>1.70250192464315</li><li>1.71963811694102</li><li>1.73677430923889</li><li>1.75391050153675</li><li>1.77104669383462</li><li>1.78818288613249</li><li>1.80531907843036</li><li>1.82245527072822</li><li>1.83959146302609</li><li>1.85672765532396</li><li>1.87386384762183</li><li>1.89100003991969</li><li>1.90813623221756</li><li>1.92527242451543</li><li>1.94240861681329</li><li>1.95954480911116</li><li>1.97668100140903</li><li>1.99381719370689</li><li>2.01095338600476</li><li>2.02808957830263</li><li>2.0452257706005</li><li>2.06236196289836</li><li>2.07949815519623</li><li>2.0966343474941</li><li>2.11377053979196</li><li>2.13090673208983</li><li>2.1480429243877</li><li>2.16517911668557</li><li>2.18231530898343</li><li>2.1994515012813</li><li>2.21658769357917</li><li>2.23372388587703</li><li>2.2508600781749</li><li>2.26799627047277</li><li>2.28513246277064</li><li>2.3022686550685</li><li>2.31940484736637</li><li>2.33654103966424</li><li>2.3536772319621</li><li>2.37081342425997</li><li>2.38794961655784</li><li>2.40508580885571</li><li>2.42222200115357</li><li>2.43935819345144</li><li>2.45649438574931</li><li>2.47363057804717</li><li>2.49076677034504</li><li>2.50790296264291</li><li>2.52503915494078</li><li>2.54217534723864</li><li>2.55931153953651</li><li>2.57644773183438</li><li>2.59358392413224</li><li>2.61072011643011</li><li>2.62785630872798</li><li>2.64499250102585</li><li>2.66212869332371</li><li>2.67926488562158</li><li>2.69640107791945</li><li>2.71353727021731</li><li>2.73067346251518</li><li>2.74780965481305</li><li>2.76494584711092</li><li>2.78208203940878</li><li>2.79921823170665</li><li>2.81635442400452</li><li>2.83349061630238</li><li>2.85062680860025</li><li>2.86776300089812</li><li>2.88489919319599</li><li>2.90203538549385</li><li>2.91917157779172</li><li>2.93630777008959</li><li>2.95344396238745</li><li>2.97058015468532</li><li>2.98771634698319</li><li>3.00485253928106</li><li>3.02198873157892</li><li>3.03912492387679</li><li>3.05626111617466</li><li>3.07339730847252</li><li>3.09053350077039</li><li>3.10766969306826</li><li>3.12480588536613</li><li>3.14194207766399</li><li>3.15907826996186</li><li>3.17621446225973</li><li>3.19335065455759</li><li>3.21048684685546</li><li>3.22762303915333</li><li>3.2447592314512</li><li>3.26189542374906</li><li>3.27903161604693</li><li>3.2961678083448</li><li>3.31330400064266</li><li>3.33044019294053</li><li>3.3475763852384</li><li>3.36471257753627</li><li>3.38184876983413</li><li>3.398984962132</li><li>3.41612115442987</li><li>3.43325734672773</li><li>3.4503935390256</li><li>3.46752973132347</li><li>3.48466592362134</li><li>3.5018021159192</li><li>3.51893830821707</li><li>3.53607450051494</li><li>3.5532106928128</li><li>3.57034688511067</li><li>3.58748307740854</li><li>3.60461926970641</li><li>3.62175546200427</li><li>3.63889165430214</li><li>3.65602784660001</li><li>3.67316403889787</li><li>3.69030023119574</li><li>3.70743642349361</li><li>3.72457261579148</li><li>3.74170880808934</li><li>3.75884500038721</li><li>3.77598119268508</li><li>3.79311738498294</li><li>3.81025357728081</li><li>3.82738976957868</li><li>3.84452596187655</li><li>3.86166215417441</li><li>3.87879834647228</li><li>3.89593453877015</li><li>3.91307073106801</li><li>3.93020692336588</li><li>3.94734311566375</li><li>3.96447930796162</li><li>3.98161550025948</li><li>3.99875169255735</li><li>4.01588788485522</li><li>4.03302407715308</li><li>4.05016026945095</li><li>4.06729646174882</li><li>4.08443265404669</li><li>4.10156884634455</li><li>4.11870503864242</li><li>4.13584123094029</li><li>4.15297742323815</li><li>4.17011361553602</li><li>4.18724980783389</li><li>4.20438600013176</li><li>4.22152219242962</li><li>4.23865838472749</li><li>4.25579457702536</li><li>4.27293076932322</li><li>4.29006696162109</li><li>4.30720315391896</li><li>4.32433934621683</li><li>4.34147553851469</li><li>4.35861173081256</li><li>4.37574792311043</li><li>4.39288411540829</li><li>4.41002030770616</li></ol>\n"
      ],
      "text/latex": [
       "\\begin{enumerate*}\n",
       "\\item -4.34657395650395\n",
       "\\item -4.32943776420608\n",
       "\\item -4.31230157190821\n",
       "\\item -4.29516537961034\n",
       "\\item -4.27802918731248\n",
       "\\item -4.26089299501461\n",
       "\\item -4.24375680271674\n",
       "\\item -4.22662061041888\n",
       "\\item -4.20948441812101\n",
       "\\item -4.19234822582314\n",
       "\\item -4.17521203352528\n",
       "\\item -4.15807584122741\n",
       "\\item -4.14093964892954\n",
       "\\item -4.12380345663167\n",
       "\\item -4.10666726433381\n",
       "\\item -4.08953107203594\n",
       "\\item -4.07239487973807\n",
       "\\item -4.05525868744021\n",
       "\\item -4.03812249514234\n",
       "\\item -4.02098630284447\n",
       "\\item -4.0038501105466\n",
       "\\item -3.98671391824874\n",
       "\\item -3.96957772595087\n",
       "\\item -3.952441533653\n",
       "\\item -3.93530534135514\n",
       "\\item -3.91816914905727\n",
       "\\item -3.9010329567594\n",
       "\\item -3.88389676446153\n",
       "\\item -3.86676057216367\n",
       "\\item -3.8496243798658\n",
       "\\item -3.83248818756793\n",
       "\\item -3.81535199527007\n",
       "\\item -3.7982158029722\n",
       "\\item -3.78107961067433\n",
       "\\item -3.76394341837646\n",
       "\\item -3.7468072260786\n",
       "\\item -3.72967103378073\n",
       "\\item -3.71253484148286\n",
       "\\item -3.695398649185\n",
       "\\item -3.67826245688713\n",
       "\\item -3.66112626458926\n",
       "\\item -3.64399007229139\n",
       "\\item -3.62685387999353\n",
       "\\item -3.60971768769566\n",
       "\\item -3.59258149539779\n",
       "\\item -3.57544530309993\n",
       "\\item -3.55830911080206\n",
       "\\item -3.54117291850419\n",
       "\\item -3.52403672620632\n",
       "\\item -3.50690053390846\n",
       "\\item -3.48976434161059\n",
       "\\item -3.47262814931272\n",
       "\\item -3.45549195701486\n",
       "\\item -3.43835576471699\n",
       "\\item -3.42121957241912\n",
       "\\item -3.40408338012125\n",
       "\\item -3.38694718782339\n",
       "\\item -3.36981099552552\n",
       "\\item -3.35267480322765\n",
       "\\item -3.33553861092979\n",
       "\\item -3.31840241863192\n",
       "\\item -3.30126622633405\n",
       "\\item -3.28413003403618\n",
       "\\item -3.26699384173832\n",
       "\\item -3.24985764944045\n",
       "\\item -3.23272145714258\n",
       "\\item -3.21558526484472\n",
       "\\item -3.19844907254685\n",
       "\\item -3.18131288024898\n",
       "\\item -3.16417668795111\n",
       "\\item -3.14704049565325\n",
       "\\item -3.12990430335538\n",
       "\\item -3.11276811105751\n",
       "\\item -3.09563191875965\n",
       "\\item -3.07849572646178\n",
       "\\item -3.06135953416391\n",
       "\\item -3.04422334186604\n",
       "\\item -3.02708714956818\n",
       "\\item -3.00995095727031\n",
       "\\item -2.99281476497244\n",
       "\\item -2.97567857267458\n",
       "\\item -2.95854238037671\n",
       "\\item -2.94140618807884\n",
       "\\item -2.92426999578097\n",
       "\\item -2.90713380348311\n",
       "\\item -2.88999761118524\n",
       "\\item -2.87286141888737\n",
       "\\item -2.85572522658951\n",
       "\\item -2.83858903429164\n",
       "\\item -2.82145284199377\n",
       "\\item -2.8043166496959\n",
       "\\item -2.78718045739804\n",
       "\\item -2.77004426510017\n",
       "\\item -2.7529080728023\n",
       "\\item -2.73577188050444\n",
       "\\item -2.71863568820657\n",
       "\\item -2.7014994959087\n",
       "\\item -2.68436330361083\n",
       "\\item -2.66722711131297\n",
       "\\item -2.6500909190151\n",
       "\\item -2.63295472671723\n",
       "\\item -2.61581853441937\n",
       "\\item -2.5986823421215\n",
       "\\item -2.58154614982363\n",
       "\\item -2.56440995752576\n",
       "\\item -2.5472737652279\n",
       "\\item -2.53013757293003\n",
       "\\item -2.51300138063216\n",
       "\\item -2.4958651883343\n",
       "\\item -2.47872899603643\n",
       "\\item -2.46159280373856\n",
       "\\item -2.44445661144069\n",
       "\\item -2.42732041914283\n",
       "\\item -2.41018422684496\n",
       "\\item -2.39304803454709\n",
       "\\item -2.37591184224923\n",
       "\\item -2.35877564995136\n",
       "\\item -2.34163945765349\n",
       "\\item -2.32450326535562\n",
       "\\item -2.30736707305776\n",
       "\\item -2.29023088075989\n",
       "\\item -2.27309468846202\n",
       "\\item -2.25595849616416\n",
       "\\item -2.23882230386629\n",
       "\\item -2.22168611156842\n",
       "\\item -2.20454991927055\n",
       "\\item -2.18741372697269\n",
       "\\item -2.17027753467482\n",
       "\\item -2.15314134237695\n",
       "\\item -2.13600515007909\n",
       "\\item -2.11886895778122\n",
       "\\item -2.10173276548335\n",
       "\\item -2.08459657318548\n",
       "\\item -2.06746038088762\n",
       "\\item -2.05032418858975\n",
       "\\item -2.03318799629188\n",
       "\\item -2.01605180399402\n",
       "\\item -1.99891561169615\n",
       "\\item -1.98177941939828\n",
       "\\item -1.96464322710041\n",
       "\\item -1.94750703480255\n",
       "\\item -1.93037084250468\n",
       "\\item -1.91323465020681\n",
       "\\item -1.89609845790895\n",
       "\\item -1.87896226561108\n",
       "\\item -1.86182607331321\n",
       "\\item -1.84468988101534\n",
       "\\item -1.82755368871748\n",
       "\\item -1.81041749641961\n",
       "\\item -1.79328130412174\n",
       "\\item -1.77614511182388\n",
       "\\item -1.75900891952601\n",
       "\\item -1.74187272722814\n",
       "\\item -1.72473653493027\n",
       "\\item -1.70760034263241\n",
       "\\item -1.69046415033454\n",
       "\\item -1.67332795803667\n",
       "\\item -1.65619176573881\n",
       "\\item -1.63905557344094\n",
       "\\item -1.62191938114307\n",
       "\\item -1.6047831888452\n",
       "\\item -1.58764699654734\n",
       "\\item -1.57051080424947\n",
       "\\item -1.5533746119516\n",
       "\\item -1.53623841965374\n",
       "\\item -1.51910222735587\n",
       "\\item -1.501966035058\n",
       "\\item -1.48482984276013\n",
       "\\item -1.46769365046227\n",
       "\\item -1.4505574581644\n",
       "\\item -1.43342126586653\n",
       "\\item -1.41628507356867\n",
       "\\item -1.3991488812708\n",
       "\\item -1.38201268897293\n",
       "\\item -1.36487649667506\n",
       "\\item -1.3477403043772\n",
       "\\item -1.33060411207933\n",
       "\\item -1.31346791978146\n",
       "\\item -1.2963317274836\n",
       "\\item -1.27919553518573\n",
       "\\item -1.26205934288786\n",
       "\\item -1.24492315058999\n",
       "\\item -1.22778695829213\n",
       "\\item -1.21065076599426\n",
       "\\item -1.19351457369639\n",
       "\\item -1.17637838139853\n",
       "\\item -1.15924218910066\n",
       "\\item -1.14210599680279\n",
       "\\item -1.12496980450492\n",
       "\\item -1.10783361220706\n",
       "\\item -1.09069741990919\n",
       "\\item -1.07356122761132\n",
       "\\item -1.05642503531346\n",
       "\\item -1.03928884301559\n",
       "\\item -1.02215265071772\n",
       "\\item -1.00501645841985\n",
       "\\item -0.987880266121987\n",
       "\\item -0.97074407382412\n",
       "\\item -0.953607881526253\n",
       "\\item -0.936471689228386\n",
       "\\item ⋯\n",
       "\\item 0.999918040430601\n",
       "\\item 1.01705423272847\n",
       "\\item 1.03419042502633\n",
       "\\item 1.0513266173242\n",
       "\\item 1.06846280962207\n",
       "\\item 1.08559900191994\n",
       "\\item 1.1027351942178\n",
       "\\item 1.11987138651567\n",
       "\\item 1.13700757881354\n",
       "\\item 1.15414377111141\n",
       "\\item 1.17127996340927\n",
       "\\item 1.18841615570714\n",
       "\\item 1.20555234800501\n",
       "\\item 1.22268854030287\n",
       "\\item 1.23982473260074\n",
       "\\item 1.25696092489861\n",
       "\\item 1.27409711719648\n",
       "\\item 1.29123330949434\n",
       "\\item 1.30836950179221\n",
       "\\item 1.32550569409008\n",
       "\\item 1.34264188638794\n",
       "\\item 1.35977807868581\n",
       "\\item 1.37691427098368\n",
       "\\item 1.39405046328154\n",
       "\\item 1.41118665557941\n",
       "\\item 1.42832284787728\n",
       "\\item 1.44545904017515\n",
       "\\item 1.46259523247301\n",
       "\\item 1.47973142477088\n",
       "\\item 1.49686761706875\n",
       "\\item 1.51400380936662\n",
       "\\item 1.53114000166448\n",
       "\\item 1.54827619396235\n",
       "\\item 1.56541238626022\n",
       "\\item 1.58254857855808\n",
       "\\item 1.59968477085595\n",
       "\\item 1.61682096315382\n",
       "\\item 1.63395715545168\n",
       "\\item 1.65109334774955\n",
       "\\item 1.66822954004742\n",
       "\\item 1.68536573234529\n",
       "\\item 1.70250192464315\n",
       "\\item 1.71963811694102\n",
       "\\item 1.73677430923889\n",
       "\\item 1.75391050153675\n",
       "\\item 1.77104669383462\n",
       "\\item 1.78818288613249\n",
       "\\item 1.80531907843036\n",
       "\\item 1.82245527072822\n",
       "\\item 1.83959146302609\n",
       "\\item 1.85672765532396\n",
       "\\item 1.87386384762183\n",
       "\\item 1.89100003991969\n",
       "\\item 1.90813623221756\n",
       "\\item 1.92527242451543\n",
       "\\item 1.94240861681329\n",
       "\\item 1.95954480911116\n",
       "\\item 1.97668100140903\n",
       "\\item 1.99381719370689\n",
       "\\item 2.01095338600476\n",
       "\\item 2.02808957830263\n",
       "\\item 2.0452257706005\n",
       "\\item 2.06236196289836\n",
       "\\item 2.07949815519623\n",
       "\\item 2.0966343474941\n",
       "\\item 2.11377053979196\n",
       "\\item 2.13090673208983\n",
       "\\item 2.1480429243877\n",
       "\\item 2.16517911668557\n",
       "\\item 2.18231530898343\n",
       "\\item 2.1994515012813\n",
       "\\item 2.21658769357917\n",
       "\\item 2.23372388587703\n",
       "\\item 2.2508600781749\n",
       "\\item 2.26799627047277\n",
       "\\item 2.28513246277064\n",
       "\\item 2.3022686550685\n",
       "\\item 2.31940484736637\n",
       "\\item 2.33654103966424\n",
       "\\item 2.3536772319621\n",
       "\\item 2.37081342425997\n",
       "\\item 2.38794961655784\n",
       "\\item 2.40508580885571\n",
       "\\item 2.42222200115357\n",
       "\\item 2.43935819345144\n",
       "\\item 2.45649438574931\n",
       "\\item 2.47363057804717\n",
       "\\item 2.49076677034504\n",
       "\\item 2.50790296264291\n",
       "\\item 2.52503915494078\n",
       "\\item 2.54217534723864\n",
       "\\item 2.55931153953651\n",
       "\\item 2.57644773183438\n",
       "\\item 2.59358392413224\n",
       "\\item 2.61072011643011\n",
       "\\item 2.62785630872798\n",
       "\\item 2.64499250102585\n",
       "\\item 2.66212869332371\n",
       "\\item 2.67926488562158\n",
       "\\item 2.69640107791945\n",
       "\\item 2.71353727021731\n",
       "\\item 2.73067346251518\n",
       "\\item 2.74780965481305\n",
       "\\item 2.76494584711092\n",
       "\\item 2.78208203940878\n",
       "\\item 2.79921823170665\n",
       "\\item 2.81635442400452\n",
       "\\item 2.83349061630238\n",
       "\\item 2.85062680860025\n",
       "\\item 2.86776300089812\n",
       "\\item 2.88489919319599\n",
       "\\item 2.90203538549385\n",
       "\\item 2.91917157779172\n",
       "\\item 2.93630777008959\n",
       "\\item 2.95344396238745\n",
       "\\item 2.97058015468532\n",
       "\\item 2.98771634698319\n",
       "\\item 3.00485253928106\n",
       "\\item 3.02198873157892\n",
       "\\item 3.03912492387679\n",
       "\\item 3.05626111617466\n",
       "\\item 3.07339730847252\n",
       "\\item 3.09053350077039\n",
       "\\item 3.10766969306826\n",
       "\\item 3.12480588536613\n",
       "\\item 3.14194207766399\n",
       "\\item 3.15907826996186\n",
       "\\item 3.17621446225973\n",
       "\\item 3.19335065455759\n",
       "\\item 3.21048684685546\n",
       "\\item 3.22762303915333\n",
       "\\item 3.2447592314512\n",
       "\\item 3.26189542374906\n",
       "\\item 3.27903161604693\n",
       "\\item 3.2961678083448\n",
       "\\item 3.31330400064266\n",
       "\\item 3.33044019294053\n",
       "\\item 3.3475763852384\n",
       "\\item 3.36471257753627\n",
       "\\item 3.38184876983413\n",
       "\\item 3.398984962132\n",
       "\\item 3.41612115442987\n",
       "\\item 3.43325734672773\n",
       "\\item 3.4503935390256\n",
       "\\item 3.46752973132347\n",
       "\\item 3.48466592362134\n",
       "\\item 3.5018021159192\n",
       "\\item 3.51893830821707\n",
       "\\item 3.53607450051494\n",
       "\\item 3.5532106928128\n",
       "\\item 3.57034688511067\n",
       "\\item 3.58748307740854\n",
       "\\item 3.60461926970641\n",
       "\\item 3.62175546200427\n",
       "\\item 3.63889165430214\n",
       "\\item 3.65602784660001\n",
       "\\item 3.67316403889787\n",
       "\\item 3.69030023119574\n",
       "\\item 3.70743642349361\n",
       "\\item 3.72457261579148\n",
       "\\item 3.74170880808934\n",
       "\\item 3.75884500038721\n",
       "\\item 3.77598119268508\n",
       "\\item 3.79311738498294\n",
       "\\item 3.81025357728081\n",
       "\\item 3.82738976957868\n",
       "\\item 3.84452596187655\n",
       "\\item 3.86166215417441\n",
       "\\item 3.87879834647228\n",
       "\\item 3.89593453877015\n",
       "\\item 3.91307073106801\n",
       "\\item 3.93020692336588\n",
       "\\item 3.94734311566375\n",
       "\\item 3.96447930796162\n",
       "\\item 3.98161550025948\n",
       "\\item 3.99875169255735\n",
       "\\item 4.01588788485522\n",
       "\\item 4.03302407715308\n",
       "\\item 4.05016026945095\n",
       "\\item 4.06729646174882\n",
       "\\item 4.08443265404669\n",
       "\\item 4.10156884634455\n",
       "\\item 4.11870503864242\n",
       "\\item 4.13584123094029\n",
       "\\item 4.15297742323815\n",
       "\\item 4.17011361553602\n",
       "\\item 4.18724980783389\n",
       "\\item 4.20438600013176\n",
       "\\item 4.22152219242962\n",
       "\\item 4.23865838472749\n",
       "\\item 4.25579457702536\n",
       "\\item 4.27293076932322\n",
       "\\item 4.29006696162109\n",
       "\\item 4.30720315391896\n",
       "\\item 4.32433934621683\n",
       "\\item 4.34147553851469\n",
       "\\item 4.35861173081256\n",
       "\\item 4.37574792311043\n",
       "\\item 4.39288411540829\n",
       "\\item 4.41002030770616\n",
       "\\end{enumerate*}\n"
      ],
      "text/markdown": [
       "1. -4.34657395650395\n",
       "2. -4.32943776420608\n",
       "3. -4.31230157190821\n",
       "4. -4.29516537961034\n",
       "5. -4.27802918731248\n",
       "6. -4.26089299501461\n",
       "7. -4.24375680271674\n",
       "8. -4.22662061041888\n",
       "9. -4.20948441812101\n",
       "10. -4.19234822582314\n",
       "11. -4.17521203352528\n",
       "12. -4.15807584122741\n",
       "13. -4.14093964892954\n",
       "14. -4.12380345663167\n",
       "15. -4.10666726433381\n",
       "16. -4.08953107203594\n",
       "17. -4.07239487973807\n",
       "18. -4.05525868744021\n",
       "19. -4.03812249514234\n",
       "20. -4.02098630284447\n",
       "21. -4.0038501105466\n",
       "22. -3.98671391824874\n",
       "23. -3.96957772595087\n",
       "24. -3.952441533653\n",
       "25. -3.93530534135514\n",
       "26. -3.91816914905727\n",
       "27. -3.9010329567594\n",
       "28. -3.88389676446153\n",
       "29. -3.86676057216367\n",
       "30. -3.8496243798658\n",
       "31. -3.83248818756793\n",
       "32. -3.81535199527007\n",
       "33. -3.7982158029722\n",
       "34. -3.78107961067433\n",
       "35. -3.76394341837646\n",
       "36. -3.7468072260786\n",
       "37. -3.72967103378073\n",
       "38. -3.71253484148286\n",
       "39. -3.695398649185\n",
       "40. -3.67826245688713\n",
       "41. -3.66112626458926\n",
       "42. -3.64399007229139\n",
       "43. -3.62685387999353\n",
       "44. -3.60971768769566\n",
       "45. -3.59258149539779\n",
       "46. -3.57544530309993\n",
       "47. -3.55830911080206\n",
       "48. -3.54117291850419\n",
       "49. -3.52403672620632\n",
       "50. -3.50690053390846\n",
       "51. -3.48976434161059\n",
       "52. -3.47262814931272\n",
       "53. -3.45549195701486\n",
       "54. -3.43835576471699\n",
       "55. -3.42121957241912\n",
       "56. -3.40408338012125\n",
       "57. -3.38694718782339\n",
       "58. -3.36981099552552\n",
       "59. -3.35267480322765\n",
       "60. -3.33553861092979\n",
       "61. -3.31840241863192\n",
       "62. -3.30126622633405\n",
       "63. -3.28413003403618\n",
       "64. -3.26699384173832\n",
       "65. -3.24985764944045\n",
       "66. -3.23272145714258\n",
       "67. -3.21558526484472\n",
       "68. -3.19844907254685\n",
       "69. -3.18131288024898\n",
       "70. -3.16417668795111\n",
       "71. -3.14704049565325\n",
       "72. -3.12990430335538\n",
       "73. -3.11276811105751\n",
       "74. -3.09563191875965\n",
       "75. -3.07849572646178\n",
       "76. -3.06135953416391\n",
       "77. -3.04422334186604\n",
       "78. -3.02708714956818\n",
       "79. -3.00995095727031\n",
       "80. -2.99281476497244\n",
       "81. -2.97567857267458\n",
       "82. -2.95854238037671\n",
       "83. -2.94140618807884\n",
       "84. -2.92426999578097\n",
       "85. -2.90713380348311\n",
       "86. -2.88999761118524\n",
       "87. -2.87286141888737\n",
       "88. -2.85572522658951\n",
       "89. -2.83858903429164\n",
       "90. -2.82145284199377\n",
       "91. -2.8043166496959\n",
       "92. -2.78718045739804\n",
       "93. -2.77004426510017\n",
       "94. -2.7529080728023\n",
       "95. -2.73577188050444\n",
       "96. -2.71863568820657\n",
       "97. -2.7014994959087\n",
       "98. -2.68436330361083\n",
       "99. -2.66722711131297\n",
       "100. -2.6500909190151\n",
       "101. -2.63295472671723\n",
       "102. -2.61581853441937\n",
       "103. -2.5986823421215\n",
       "104. -2.58154614982363\n",
       "105. -2.56440995752576\n",
       "106. -2.5472737652279\n",
       "107. -2.53013757293003\n",
       "108. -2.51300138063216\n",
       "109. -2.4958651883343\n",
       "110. -2.47872899603643\n",
       "111. -2.46159280373856\n",
       "112. -2.44445661144069\n",
       "113. -2.42732041914283\n",
       "114. -2.41018422684496\n",
       "115. -2.39304803454709\n",
       "116. -2.37591184224923\n",
       "117. -2.35877564995136\n",
       "118. -2.34163945765349\n",
       "119. -2.32450326535562\n",
       "120. -2.30736707305776\n",
       "121. -2.29023088075989\n",
       "122. -2.27309468846202\n",
       "123. -2.25595849616416\n",
       "124. -2.23882230386629\n",
       "125. -2.22168611156842\n",
       "126. -2.20454991927055\n",
       "127. -2.18741372697269\n",
       "128. -2.17027753467482\n",
       "129. -2.15314134237695\n",
       "130. -2.13600515007909\n",
       "131. -2.11886895778122\n",
       "132. -2.10173276548335\n",
       "133. -2.08459657318548\n",
       "134. -2.06746038088762\n",
       "135. -2.05032418858975\n",
       "136. -2.03318799629188\n",
       "137. -2.01605180399402\n",
       "138. -1.99891561169615\n",
       "139. -1.98177941939828\n",
       "140. -1.96464322710041\n",
       "141. -1.94750703480255\n",
       "142. -1.93037084250468\n",
       "143. -1.91323465020681\n",
       "144. -1.89609845790895\n",
       "145. -1.87896226561108\n",
       "146. -1.86182607331321\n",
       "147. -1.84468988101534\n",
       "148. -1.82755368871748\n",
       "149. -1.81041749641961\n",
       "150. -1.79328130412174\n",
       "151. -1.77614511182388\n",
       "152. -1.75900891952601\n",
       "153. -1.74187272722814\n",
       "154. -1.72473653493027\n",
       "155. -1.70760034263241\n",
       "156. -1.69046415033454\n",
       "157. -1.67332795803667\n",
       "158. -1.65619176573881\n",
       "159. -1.63905557344094\n",
       "160. -1.62191938114307\n",
       "161. -1.6047831888452\n",
       "162. -1.58764699654734\n",
       "163. -1.57051080424947\n",
       "164. -1.5533746119516\n",
       "165. -1.53623841965374\n",
       "166. -1.51910222735587\n",
       "167. -1.501966035058\n",
       "168. -1.48482984276013\n",
       "169. -1.46769365046227\n",
       "170. -1.4505574581644\n",
       "171. -1.43342126586653\n",
       "172. -1.41628507356867\n",
       "173. -1.3991488812708\n",
       "174. -1.38201268897293\n",
       "175. -1.36487649667506\n",
       "176. -1.3477403043772\n",
       "177. -1.33060411207933\n",
       "178. -1.31346791978146\n",
       "179. -1.2963317274836\n",
       "180. -1.27919553518573\n",
       "181. -1.26205934288786\n",
       "182. -1.24492315058999\n",
       "183. -1.22778695829213\n",
       "184. -1.21065076599426\n",
       "185. -1.19351457369639\n",
       "186. -1.17637838139853\n",
       "187. -1.15924218910066\n",
       "188. -1.14210599680279\n",
       "189. -1.12496980450492\n",
       "190. -1.10783361220706\n",
       "191. -1.09069741990919\n",
       "192. -1.07356122761132\n",
       "193. -1.05642503531346\n",
       "194. -1.03928884301559\n",
       "195. -1.02215265071772\n",
       "196. -1.00501645841985\n",
       "197. -0.987880266121987\n",
       "198. -0.97074407382412\n",
       "199. -0.953607881526253\n",
       "200. -0.936471689228386\n",
       "201. ⋯\n",
       "202. 0.999918040430601\n",
       "203. 1.01705423272847\n",
       "204. 1.03419042502633\n",
       "205. 1.0513266173242\n",
       "206. 1.06846280962207\n",
       "207. 1.08559900191994\n",
       "208. 1.1027351942178\n",
       "209. 1.11987138651567\n",
       "210. 1.13700757881354\n",
       "211. 1.15414377111141\n",
       "212. 1.17127996340927\n",
       "213. 1.18841615570714\n",
       "214. 1.20555234800501\n",
       "215. 1.22268854030287\n",
       "216. 1.23982473260074\n",
       "217. 1.25696092489861\n",
       "218. 1.27409711719648\n",
       "219. 1.29123330949434\n",
       "220. 1.30836950179221\n",
       "221. 1.32550569409008\n",
       "222. 1.34264188638794\n",
       "223. 1.35977807868581\n",
       "224. 1.37691427098368\n",
       "225. 1.39405046328154\n",
       "226. 1.41118665557941\n",
       "227. 1.42832284787728\n",
       "228. 1.44545904017515\n",
       "229. 1.46259523247301\n",
       "230. 1.47973142477088\n",
       "231. 1.49686761706875\n",
       "232. 1.51400380936662\n",
       "233. 1.53114000166448\n",
       "234. 1.54827619396235\n",
       "235. 1.56541238626022\n",
       "236. 1.58254857855808\n",
       "237. 1.59968477085595\n",
       "238. 1.61682096315382\n",
       "239. 1.63395715545168\n",
       "240. 1.65109334774955\n",
       "241. 1.66822954004742\n",
       "242. 1.68536573234529\n",
       "243. 1.70250192464315\n",
       "244. 1.71963811694102\n",
       "245. 1.73677430923889\n",
       "246. 1.75391050153675\n",
       "247. 1.77104669383462\n",
       "248. 1.78818288613249\n",
       "249. 1.80531907843036\n",
       "250. 1.82245527072822\n",
       "251. 1.83959146302609\n",
       "252. 1.85672765532396\n",
       "253. 1.87386384762183\n",
       "254. 1.89100003991969\n",
       "255. 1.90813623221756\n",
       "256. 1.92527242451543\n",
       "257. 1.94240861681329\n",
       "258. 1.95954480911116\n",
       "259. 1.97668100140903\n",
       "260. 1.99381719370689\n",
       "261. 2.01095338600476\n",
       "262. 2.02808957830263\n",
       "263. 2.0452257706005\n",
       "264. 2.06236196289836\n",
       "265. 2.07949815519623\n",
       "266. 2.0966343474941\n",
       "267. 2.11377053979196\n",
       "268. 2.13090673208983\n",
       "269. 2.1480429243877\n",
       "270. 2.16517911668557\n",
       "271. 2.18231530898343\n",
       "272. 2.1994515012813\n",
       "273. 2.21658769357917\n",
       "274. 2.23372388587703\n",
       "275. 2.2508600781749\n",
       "276. 2.26799627047277\n",
       "277. 2.28513246277064\n",
       "278. 2.3022686550685\n",
       "279. 2.31940484736637\n",
       "280. 2.33654103966424\n",
       "281. 2.3536772319621\n",
       "282. 2.37081342425997\n",
       "283. 2.38794961655784\n",
       "284. 2.40508580885571\n",
       "285. 2.42222200115357\n",
       "286. 2.43935819345144\n",
       "287. 2.45649438574931\n",
       "288. 2.47363057804717\n",
       "289. 2.49076677034504\n",
       "290. 2.50790296264291\n",
       "291. 2.52503915494078\n",
       "292. 2.54217534723864\n",
       "293. 2.55931153953651\n",
       "294. 2.57644773183438\n",
       "295. 2.59358392413224\n",
       "296. 2.61072011643011\n",
       "297. 2.62785630872798\n",
       "298. 2.64499250102585\n",
       "299. 2.66212869332371\n",
       "300. 2.67926488562158\n",
       "301. 2.69640107791945\n",
       "302. 2.71353727021731\n",
       "303. 2.73067346251518\n",
       "304. 2.74780965481305\n",
       "305. 2.76494584711092\n",
       "306. 2.78208203940878\n",
       "307. 2.79921823170665\n",
       "308. 2.81635442400452\n",
       "309. 2.83349061630238\n",
       "310. 2.85062680860025\n",
       "311. 2.86776300089812\n",
       "312. 2.88489919319599\n",
       "313. 2.90203538549385\n",
       "314. 2.91917157779172\n",
       "315. 2.93630777008959\n",
       "316. 2.95344396238745\n",
       "317. 2.97058015468532\n",
       "318. 2.98771634698319\n",
       "319. 3.00485253928106\n",
       "320. 3.02198873157892\n",
       "321. 3.03912492387679\n",
       "322. 3.05626111617466\n",
       "323. 3.07339730847252\n",
       "324. 3.09053350077039\n",
       "325. 3.10766969306826\n",
       "326. 3.12480588536613\n",
       "327. 3.14194207766399\n",
       "328. 3.15907826996186\n",
       "329. 3.17621446225973\n",
       "330. 3.19335065455759\n",
       "331. 3.21048684685546\n",
       "332. 3.22762303915333\n",
       "333. 3.2447592314512\n",
       "334. 3.26189542374906\n",
       "335. 3.27903161604693\n",
       "336. 3.2961678083448\n",
       "337. 3.31330400064266\n",
       "338. 3.33044019294053\n",
       "339. 3.3475763852384\n",
       "340. 3.36471257753627\n",
       "341. 3.38184876983413\n",
       "342. 3.398984962132\n",
       "343. 3.41612115442987\n",
       "344. 3.43325734672773\n",
       "345. 3.4503935390256\n",
       "346. 3.46752973132347\n",
       "347. 3.48466592362134\n",
       "348. 3.5018021159192\n",
       "349. 3.51893830821707\n",
       "350. 3.53607450051494\n",
       "351. 3.5532106928128\n",
       "352. 3.57034688511067\n",
       "353. 3.58748307740854\n",
       "354. 3.60461926970641\n",
       "355. 3.62175546200427\n",
       "356. 3.63889165430214\n",
       "357. 3.65602784660001\n",
       "358. 3.67316403889787\n",
       "359. 3.69030023119574\n",
       "360. 3.70743642349361\n",
       "361. 3.72457261579148\n",
       "362. 3.74170880808934\n",
       "363. 3.75884500038721\n",
       "364. 3.77598119268508\n",
       "365. 3.79311738498294\n",
       "366. 3.81025357728081\n",
       "367. 3.82738976957868\n",
       "368. 3.84452596187655\n",
       "369. 3.86166215417441\n",
       "370. 3.87879834647228\n",
       "371. 3.89593453877015\n",
       "372. 3.91307073106801\n",
       "373. 3.93020692336588\n",
       "374. 3.94734311566375\n",
       "375. 3.96447930796162\n",
       "376. 3.98161550025948\n",
       "377. 3.99875169255735\n",
       "378. 4.01588788485522\n",
       "379. 4.03302407715308\n",
       "380. 4.05016026945095\n",
       "381. 4.06729646174882\n",
       "382. 4.08443265404669\n",
       "383. 4.10156884634455\n",
       "384. 4.11870503864242\n",
       "385. 4.13584123094029\n",
       "386. 4.15297742323815\n",
       "387. 4.17011361553602\n",
       "388. 4.18724980783389\n",
       "389. 4.20438600013176\n",
       "390. 4.22152219242962\n",
       "391. 4.23865838472749\n",
       "392. 4.25579457702536\n",
       "393. 4.27293076932322\n",
       "394. 4.29006696162109\n",
       "395. 4.30720315391896\n",
       "396. 4.32433934621683\n",
       "397. 4.34147553851469\n",
       "398. 4.35861173081256\n",
       "399. 4.37574792311043\n",
       "400. 4.39288411540829\n",
       "401. 4.41002030770616\n",
       "\n",
       "\n"
      ],
      "text/plain": [
       "  [1] -4.346573957 -4.329437764 -4.312301572 -4.295165380 -4.278029187\n",
       "  [6] -4.260892995 -4.243756803 -4.226620610 -4.209484418 -4.192348226\n",
       " [11] -4.175212034 -4.158075841 -4.140939649 -4.123803457 -4.106667264\n",
       " [16] -4.089531072 -4.072394880 -4.055258687 -4.038122495 -4.020986303\n",
       " [21] -4.003850111 -3.986713918 -3.969577726 -3.952441534 -3.935305341\n",
       " [26] -3.918169149 -3.901032957 -3.883896764 -3.866760572 -3.849624380\n",
       " [31] -3.832488188 -3.815351995 -3.798215803 -3.781079611 -3.763943418\n",
       " [36] -3.746807226 -3.729671034 -3.712534841 -3.695398649 -3.678262457\n",
       " [41] -3.661126265 -3.643990072 -3.626853880 -3.609717688 -3.592581495\n",
       " [46] -3.575445303 -3.558309111 -3.541172919 -3.524036726 -3.506900534\n",
       " [51] -3.489764342 -3.472628149 -3.455491957 -3.438355765 -3.421219572\n",
       " [56] -3.404083380 -3.386947188 -3.369810996 -3.352674803 -3.335538611\n",
       " [61] -3.318402419 -3.301266226 -3.284130034 -3.266993842 -3.249857649\n",
       " [66] -3.232721457 -3.215585265 -3.198449073 -3.181312880 -3.164176688\n",
       " [71] -3.147040496 -3.129904303 -3.112768111 -3.095631919 -3.078495726\n",
       " [76] -3.061359534 -3.044223342 -3.027087150 -3.009950957 -2.992814765\n",
       " [81] -2.975678573 -2.958542380 -2.941406188 -2.924269996 -2.907133803\n",
       " [86] -2.889997611 -2.872861419 -2.855725227 -2.838589034 -2.821452842\n",
       " [91] -2.804316650 -2.787180457 -2.770044265 -2.752908073 -2.735771881\n",
       " [96] -2.718635688 -2.701499496 -2.684363304 -2.667227111 -2.650090919\n",
       "[101] -2.632954727 -2.615818534 -2.598682342 -2.581546150 -2.564409958\n",
       "[106] -2.547273765 -2.530137573 -2.513001381 -2.495865188 -2.478728996\n",
       "[111] -2.461592804 -2.444456611 -2.427320419 -2.410184227 -2.393048035\n",
       "[116] -2.375911842 -2.358775650 -2.341639458 -2.324503265 -2.307367073\n",
       "[121] -2.290230881 -2.273094688 -2.255958496 -2.238822304 -2.221686112\n",
       "[126] -2.204549919 -2.187413727 -2.170277535 -2.153141342 -2.136005150\n",
       "[131] -2.118868958 -2.101732765 -2.084596573 -2.067460381 -2.050324189\n",
       "[136] -2.033187996 -2.016051804 -1.998915612 -1.981779419 -1.964643227\n",
       "[141] -1.947507035 -1.930370843 -1.913234650 -1.896098458 -1.878962266\n",
       "[146] -1.861826073 -1.844689881 -1.827553689 -1.810417496 -1.793281304\n",
       "[151] -1.776145112 -1.759008920 -1.741872727 -1.724736535 -1.707600343\n",
       "[156] -1.690464150 -1.673327958 -1.656191766 -1.639055573 -1.621919381\n",
       "[161] -1.604783189 -1.587646997 -1.570510804 -1.553374612 -1.536238420\n",
       "[166] -1.519102227 -1.501966035 -1.484829843 -1.467693650 -1.450557458\n",
       "[171] -1.433421266 -1.416285074 -1.399148881 -1.382012689 -1.364876497\n",
       "[176] -1.347740304 -1.330604112 -1.313467920 -1.296331727 -1.279195535\n",
       "[181] -1.262059343 -1.244923151 -1.227786958 -1.210650766 -1.193514574\n",
       "[186] -1.176378381 -1.159242189 -1.142105997 -1.124969805 -1.107833612\n",
       "[191] -1.090697420 -1.073561228 -1.056425035 -1.039288843 -1.022152651\n",
       "[196] -1.005016458 -0.987880266 -0.970744074 -0.953607882 -0.936471689\n",
       "[201] -0.919335497 -0.902199305 -0.885063112 -0.867926920 -0.850790728\n",
       "[206] -0.833654535 -0.816518343 -0.799382151 -0.782245959 -0.765109766\n",
       "[211] -0.747973574 -0.730837382 -0.713701189 -0.696564997 -0.679428805\n",
       "[216] -0.662292612 -0.645156420 -0.628020228 -0.610884036 -0.593747843\n",
       "[221] -0.576611651 -0.559475459 -0.542339266 -0.525203074 -0.508066882\n",
       "[226] -0.490930689 -0.473794497 -0.456658305 -0.439522113 -0.422385920\n",
       "[231] -0.405249728 -0.388113536 -0.370977343 -0.353841151 -0.336704959\n",
       "[236] -0.319568767 -0.302432574 -0.285296382 -0.268160190 -0.251023997\n",
       "[241] -0.233887805 -0.216751613 -0.199615420 -0.182479228 -0.165343036\n",
       "[246] -0.148206844 -0.131070651 -0.113934459 -0.096798267 -0.079662074\n",
       "[251] -0.062525882 -0.045389690 -0.028253497 -0.011117305  0.006018887\n",
       "[256]  0.023155079  0.040291272  0.057427464  0.074563656  0.091699849\n",
       "[261]  0.108836041  0.125972233  0.143108426  0.160244618  0.177380810\n",
       "[266]  0.194517002  0.211653195  0.228789387  0.245925579  0.263061772\n",
       "[271]  0.280197964  0.297334156  0.314470349  0.331606541  0.348742733\n",
       "[276]  0.365878925  0.383015118  0.400151310  0.417287502  0.434423695\n",
       "[281]  0.451559887  0.468696079  0.485832271  0.502968464  0.520104656\n",
       "[286]  0.537240848  0.554377041  0.571513233  0.588649425  0.605785618\n",
       "[291]  0.622921810  0.640058002  0.657194194  0.674330387  0.691466579\n",
       "[296]  0.708602771  0.725738964  0.742875156  0.760011348  0.777147541\n",
       "[301]  0.794283733  0.811419925  0.828556117  0.845692310  0.862828502\n",
       "[306]  0.879964694  0.897100887  0.914237079  0.931373271  0.948509464\n",
       "[311]  0.965645656  0.982781848  0.999918040  1.017054233  1.034190425\n",
       "[316]  1.051326617  1.068462810  1.085599002  1.102735194  1.119871387\n",
       "[321]  1.137007579  1.154143771  1.171279963  1.188416156  1.205552348\n",
       "[326]  1.222688540  1.239824733  1.256960925  1.274097117  1.291233309\n",
       "[331]  1.308369502  1.325505694  1.342641886  1.359778079  1.376914271\n",
       "[336]  1.394050463  1.411186656  1.428322848  1.445459040  1.462595232\n",
       "[341]  1.479731425  1.496867617  1.514003809  1.531140002  1.548276194\n",
       "[346]  1.565412386  1.582548579  1.599684771  1.616820963  1.633957155\n",
       "[351]  1.651093348  1.668229540  1.685365732  1.702501925  1.719638117\n",
       "[356]  1.736774309  1.753910502  1.771046694  1.788182886  1.805319078\n",
       "[361]  1.822455271  1.839591463  1.856727655  1.873863848  1.891000040\n",
       "[366]  1.908136232  1.925272425  1.942408617  1.959544809  1.976681001\n",
       "[371]  1.993817194  2.010953386  2.028089578  2.045225771  2.062361963\n",
       "[376]  2.079498155  2.096634347  2.113770540  2.130906732  2.148042924\n",
       "[381]  2.165179117  2.182315309  2.199451501  2.216587694  2.233723886\n",
       "[386]  2.250860078  2.267996270  2.285132463  2.302268655  2.319404847\n",
       "[391]  2.336541040  2.353677232  2.370813424  2.387949617  2.405085809\n",
       "[396]  2.422222001  2.439358193  2.456494386  2.473630578  2.490766770\n",
       "[401]  2.507902963  2.525039155  2.542175347  2.559311540  2.576447732\n",
       "[406]  2.593583924  2.610720116  2.627856309  2.644992501  2.662128693\n",
       "[411]  2.679264886  2.696401078  2.713537270  2.730673463  2.747809655\n",
       "[416]  2.764945847  2.782082039  2.799218232  2.816354424  2.833490616\n",
       "[421]  2.850626809  2.867763001  2.884899193  2.902035385  2.919171578\n",
       "[426]  2.936307770  2.953443962  2.970580155  2.987716347  3.004852539\n",
       "[431]  3.021988732  3.039124924  3.056261116  3.073397308  3.090533501\n",
       "[436]  3.107669693  3.124805885  3.141942078  3.159078270  3.176214462\n",
       "[441]  3.193350655  3.210486847  3.227623039  3.244759231  3.261895424\n",
       "[446]  3.279031616  3.296167808  3.313304001  3.330440193  3.347576385\n",
       "[451]  3.364712578  3.381848770  3.398984962  3.416121154  3.433257347\n",
       "[456]  3.450393539  3.467529731  3.484665924  3.501802116  3.518938308\n",
       "[461]  3.536074501  3.553210693  3.570346885  3.587483077  3.604619270\n",
       "[466]  3.621755462  3.638891654  3.656027847  3.673164039  3.690300231\n",
       "[471]  3.707436423  3.724572616  3.741708808  3.758845000  3.775981193\n",
       "[476]  3.793117385  3.810253577  3.827389770  3.844525962  3.861662154\n",
       "[481]  3.878798346  3.895934539  3.913070731  3.930206923  3.947343116\n",
       "[486]  3.964479308  3.981615500  3.998751693  4.015887885  4.033024077\n",
       "[491]  4.050160269  4.067296462  4.084432654  4.101568846  4.118705039\n",
       "[496]  4.135841231  4.152977423  4.170113616  4.187249808  4.204386000\n",
       "[501]  4.221522192  4.238658385  4.255794577  4.272930769  4.290066962\n",
       "[506]  4.307203154  4.324339346  4.341475539  4.358611731  4.375747923\n",
       "[511]  4.392884115  4.410020308"
      ]
     },
     "metadata": {},
     "output_type": "display_data"
    }
   ],
   "source": [
    "d$x"
   ]
  },
  {
   "cell_type": "markdown",
   "id": "18154928-99eb-4b2c-a5df-fdcaf1f2a1fd",
   "metadata": {},
   "source": [
    "[^1] 로버스트(robust) 한 통계량은 이상치/에러값으로 부터 영향을 크게 받지 않는 (건장한) 통계량\n",
    "\n"
   ]
  }
 ],
 "metadata": {
  "kernelspec": {
   "display_name": "R",
   "language": "R",
   "name": "ir"
  },
  "language_info": {
   "codemirror_mode": "r",
   "file_extension": ".r",
   "mimetype": "text/x-r-source",
   "name": "R",
   "pygments_lexer": "r",
   "version": "4.1.2"
  }
 },
 "nbformat": 4,
 "nbformat_minor": 5
}
