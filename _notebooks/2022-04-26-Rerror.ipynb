{
 "cells": [
  {
   "cell_type": "markdown",
   "id": "1a18d1ef-1638-4810-b18f-bbe99a439f68",
   "metadata": {},
   "source": [
    "# R Errors\n",
    "- toc: true\n",
    "- branch: master\n",
    "- badges: true\n",
    "- comments: true\n",
    "- author: Kim Jeewoo\n",
    "- categories: [R]\n",
    "- image: images/R_logo.png"
   ]
  },
  {
   "cell_type": "markdown",
   "id": "f253ccda-c030-4d99-8a68-150ba9561a76",
   "metadata": {},
   "source": [
    "some 'x' not counted; maybe 'breaks' do not span range of 'x'"
   ]
  }
 ],
 "metadata": {
  "kernelspec": {
   "display_name": "R",
   "language": "R",
   "name": "ir"
  },
  "language_info": {
   "codemirror_mode": "r",
   "file_extension": ".r",
   "mimetype": "text/x-r-source",
   "name": "R",
   "pygments_lexer": "r",
   "version": "4.1.2"
  }
 },
 "nbformat": 4,
 "nbformat_minor": 5
}
