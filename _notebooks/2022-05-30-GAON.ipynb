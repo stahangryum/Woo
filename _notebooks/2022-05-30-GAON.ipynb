{
 "cells": [
  {
   "cell_type": "markdown",
   "id": "606ac7ba-f67f-4d04-a448-d510cee1d732",
   "metadata": {},
   "source": [
    "# Gaon Chart Crawling\n",
    "\n",
    "- toc: true\n",
    "- branch: master\n",
    "- badges: true\n",
    "- comments: true\n",
    "- author: Kim Jeewoo\n",
    "- categories: [Crawling, R]\n",
    "- image: images/gaon_logo.png"
   ]
  },
  {
   "cell_type": "markdown",
   "id": "c37eeaa0-21d4-4cff-87f5-4f24c2407556",
   "metadata": {},
   "source": [
    "# Intro"
   ]
  },
  {
   "cell_type": "markdown",
   "id": "97e18be9-deea-4284-9a21-3c155e6afb94",
   "metadata": {},
   "source": [
    "`-` 가온 차트(Gaon Chart)는 대한민국의 대중음악 공인차트이다. 가온이라는 단어는 가운데, 중심이라는 뜻의 순우리말로, 중심이 되는 차트라는 의미에서 명명되었다. 한국음악콘텐츠협회가 운영하고 문화체육관광부가 후원하는 사업으로, 2년여 준비기간을 걸쳐 2010년 2월 23일 출범했다."
   ]
  },
  {
   "cell_type": "markdown",
   "id": "745bd708-4f2a-4288-a7ce-106783ea2b13",
   "metadata": {},
   "source": [
    "# Crawling"
   ]
  },
  {
   "cell_type": "code",
   "execution_count": 1,
   "id": "9e0b9f59-3ef6-47be-86ce-f06004f78efc",
   "metadata": {},
   "outputs": [
    {
     "name": "stderr",
     "output_type": "stream",
     "text": [
      "필요한 패키지를 로딩중입니다: pacman\n",
      "\n",
      "Warning message:\n",
      "\"패키지 'pacman'는 R 버전 4.1.3에서 작성되었습니다\"\n",
      "Warning message:\n",
      "\"The `x` argument of `as_tibble.matrix()` must have unique column names if `.name_repair` is omitted as of tibble 2.0.0.\n",
      "Using compatibility `.name_repair`.\n",
      "\u001b[90mThis warning is displayed once every 8 hours.\u001b[39m\n",
      "\u001b[90mCall `lifecycle::last_lifecycle_warnings()` to see where this warning was generated.\u001b[39m\"\n"
     ]
    }
   ],
   "source": [
    "# Import packages\n",
    "if (!require(pacman)) install.packages('pacman'); library(pacman)\n",
    "pacman::p_load(\"rvest\", \"tidyverse\")\n",
    "\n",
    "getLinks <- function(termGbn){ # Input 'week' or 'month'\n",
    "    base_url <- 'http://gaonchart.co.kr/main/section/chart/online.gaon?nationGbn=T&serviceGbn=ALL'\n",
    "    sample_url <- paste0(base_url, '&termGbn=', termGbn)\n",
    "    dates <-     \n",
    "        read_html(sample_url) %>%\n",
    "        html_nodes('div[class=fr]') %>%\n",
    "        html_nodes('select') %>%\n",
    "        html_nodes('option') %>%\n",
    "        html_attr('value') %>%\n",
    "        str_subset(pattern = '^[0-9]{6}$')\n",
    "    \n",
    "    # 'dates'(YYYYMM) will be divided into hitYear(YYYY) and targetTime(MM).\n",
    "    # Ex) dates <- 202221.\n",
    "    hitYear <-\n",
    "        dates %>%\n",
    "        substr(1,4) # Ex) hitYear <- 2022.\n",
    "\n",
    "    targetTime <-\n",
    "        dates %>%\n",
    "        substr(5,6) # Ex) hitYear <- 21.\n",
    "    \n",
    "    complete_url <- paste0(base_url, '&targetTime=', targetTime, '&hitYear=', hitYear, '&termGbn=', termGbn)\n",
    "    return(complete_url) # Return all urls\n",
    "}\n",
    "\n",
    "getPage <- function(target_url){ # Input complete URL including targetTime, hitYear, and termGbn\n",
    "    \n",
    "    url_splited <- \n",
    "        target_url %>%\n",
    "        strsplit('=|&') %>%\n",
    "        unlist()\n",
    "    \n",
    "    year_temp <- \n",
    "        url_splited %>%\n",
    "        str_subset('^[0-9]{2,4}$') %>%\n",
    "        rev() %>%\n",
    "        paste0(collapse = '')\n",
    "    \n",
    "    termGbn <- \n",
    "        url_splited %>%\n",
    "        '['(length(url_splited))\n",
    "\n",
    "    html_chart <- read_html(target_url) %>%\n",
    "        html_nodes('div[class=chart]')\n",
    "\n",
    "    td <- html_chart %>% \n",
    "        html_nodes('td') %>%\n",
    "        html_text() %>%\n",
    "        str_split('\\\\n|\\\\||\\\\r|\\\\t') %>%\n",
    "        unlist() %>%\n",
    "        str_subset('^$', negate = TRUE)\n",
    "\n",
    "    change_grp <- html_chart %>%\n",
    "        html_nodes('td[class=change]') %>%\n",
    "        html_nodes('span') %>%\n",
    "        html_attr('class')\n",
    "    \n",
    "    # sort by 'PLAY'\n",
    "    ## Ex) \n",
    "    ## \"~~\", \"~~\", \"PLAY\", \"~~\", \"~~\", \"PLAY\", \"~~\", \"~~\", \"PLAY\"\n",
    "    ## to\n",
    "    ## |~~|~~|'PLAY'|\n",
    "    ## |~~|~~|'PLAY'|\n",
    "    ## |~~|~~|'PLAY'|\n",
    "    \n",
    "    # 'Gaon Score' was newly created in Jan 2018. \n",
    "    ## Before Jan 2018 : chart_piece has 11 columns.\n",
    "    ## After Jan 2018 : chart_piece has 12 columns. \n",
    "    index_PLAY <- str_which(td, 'PLAY')\n",
    "    PLAY_ZONE <- c(11, 12)\n",
    "    index_TRUE_PLAY <- index_PLAY[index_PLAY %in% PLAY_ZONE][1]\n",
    "\n",
    "    chart_piece <- td %>% \n",
    "        matrix(ncol = index_TRUE_PLAY, byrow = TRUE) %>%\n",
    "        as_tibble()\n",
    "\n",
    "    # Note : ifelse always returns an object of the same length as the condition. so we use if/else for this case.\n",
    "    chart <- tibble(year_temp = year_temp,\n",
    "                        ranking = chart_piece$V1,\n",
    "                        change_grp = change_grp,\n",
    "                        change_val = chart_piece$V2,\n",
    "                        title = chart_piece$V3,\n",
    "                        artist = chart_piece$V4,\n",
    "                        gaon_index = if (ncol(chart_piece) == 12) chart_piece$V6 else NA,  \n",
    "                        production = if(ncol(chart_piece) == 12) chart_piece$V7 else chart_piece$V6,\n",
    "                        distribution = if(ncol(chart_piece) == 12) chart_piece$V8 else chart_piece$V7)\n",
    "\n",
    "    chart$gaon_index <- chart$gaon_index %>% \n",
    "                            str_replace_all('[^0-9]', '') %>%\n",
    "                            as.numeric()\n",
    "                    \n",
    "    colnames(chart)[1] <- ifelse(termGbn == 'week', 'year_week', 'year_month')\n",
    "    return(chart) # Return chart of the 'target_url'.\n",
    "}\n",
    " \n",
    "\n",
    "# Weekly Rankings.\n",
    "# Time to run : 7~8min.\n",
    "weekLinks <- getLinks('week')\n",
    "all_week_pages <- vector('list', length(weekLinks))\n",
    "\n",
    "for (i in 1:length(all_week_pages)) all_week_pages[[i]] <- getPage(weekLinks[i])\n",
    "week_final <- do.call('rbind', all_week_pages)\n",
    "write.table(week_final, 'gaon_week.txt', row.names = FALSE)\n",
    "\n",
    "# Monthly Rankings.\n",
    "# Time to run : 1~2min.\n",
    "monthLinks <- getLinks('month')\n",
    "all_month_pages <- vector('list', length(monthLinks))\n",
    "for (i in 1:length(all_month_pages)) all_month_pages[[i]] <- getPage(monthLinks[i])\n",
    "month_final <- do.call('rbind', all_month_pages)\n",
    "write.table(month_final, 'gaon_month.txt', row.names = FALSE)"
   ]
  },
  {
   "cell_type": "code",
   "execution_count": 3,
   "id": "54d9eb47-15b7-4f00-96f6-132d129f9d82",
   "metadata": {},
   "outputs": [
    {
     "data": {
      "text/html": [
       "<table class=\"dataframe\">\n",
       "<caption>A tibble: 6 × 9</caption>\n",
       "<thead>\n",
       "\t<tr><th scope=col>year_week</th><th scope=col>ranking</th><th scope=col>change_grp</th><th scope=col>change_val</th><th scope=col>title</th><th scope=col>artist</th><th scope=col>gaon_index</th><th scope=col>production</th><th scope=col>distribution</th></tr>\n",
       "\t<tr><th scope=col>&lt;chr&gt;</th><th scope=col>&lt;chr&gt;</th><th scope=col>&lt;chr&gt;</th><th scope=col>&lt;chr&gt;</th><th scope=col>&lt;chr&gt;</th><th scope=col>&lt;chr&gt;</th><th scope=col>&lt;dbl&gt;</th><th scope=col>&lt;chr&gt;</th><th scope=col>&lt;chr&gt;</th></tr>\n",
       "</thead>\n",
       "<tbody>\n",
       "\t<tr><td>202221</td><td>1</td><td><span style=white-space:pre-wrap>NA  </span></td><td>-</td><td>That That (prod. &amp; feat. SUGA of BTS)</td><td><span style=white-space:pre-wrap>싸이 (Psy)         </span></td><td>31776501</td><td><span style=white-space:pre-wrap>피네이션          </span></td><td><span style=white-space:pre-wrap>Dreamus            </span></td></tr>\n",
       "\t<tr><td>202221</td><td>2</td><td>up  </td><td>2</td><td>LOVE DIVE                            </td><td>IVE (아이브)       </td><td>27807024</td><td>스타쉽엔터테인먼트</td><td>Kakao Entertainment</td></tr>\n",
       "\t<tr><td>202221</td><td>3</td><td>up  </td><td>2</td><td>TOMBOY                               </td><td>(여자)아이들       </td><td>27241781</td><td>큐브엔터테인먼트  </td><td>Kakao Entertainment</td></tr>\n",
       "\t<tr><td>202221</td><td>4</td><td>down</td><td>2</td><td>봄여름가을겨울 (Still Life)          </td><td>BIGBANG (빅뱅)     </td><td>25590419</td><td>YG Entertainment  </td><td>YG PLUS            </td></tr>\n",
       "\t<tr><td>202221</td><td>5</td><td>up  </td><td>1</td><td>사랑인가 봐                          </td><td>멜로망스(Melomance)</td><td>22846960</td><td>플렉스엠          </td><td>Kakao Entertainment</td></tr>\n",
       "\t<tr><td>202221</td><td>6</td><td>down</td><td>3</td><td>다시 만날 수 있을까                  </td><td>임영웅             </td><td>19074593</td><td>물고기뮤직        </td><td>Dreamus            </td></tr>\n",
       "</tbody>\n",
       "</table>\n"
      ],
      "text/latex": [
       "A tibble: 6 × 9\n",
       "\\begin{tabular}{lllllllll}\n",
       " year\\_week & ranking & change\\_grp & change\\_val & title & artist & gaon\\_index & production & distribution\\\\\n",
       " <chr> & <chr> & <chr> & <chr> & <chr> & <chr> & <dbl> & <chr> & <chr>\\\\\n",
       "\\hline\n",
       "\t 202221 & 1 & NA   & - & That That (prod. \\& feat. SUGA of BTS) & 싸이 (Psy)          & 31776501 & 피네이션           & Dreamus            \\\\\n",
       "\t 202221 & 2 & up   & 2 & LOVE DIVE                             & IVE (아이브)        & 27807024 & 스타쉽엔터테인먼트 & Kakao Entertainment\\\\\n",
       "\t 202221 & 3 & up   & 2 & TOMBOY                                & (여자)아이들        & 27241781 & 큐브엔터테인먼트   & Kakao Entertainment\\\\\n",
       "\t 202221 & 4 & down & 2 & 봄여름가을겨울 (Still Life)           & BIGBANG (빅뱅)      & 25590419 & YG Entertainment   & YG PLUS            \\\\\n",
       "\t 202221 & 5 & up   & 1 & 사랑인가 봐                           & 멜로망스(Melomance) & 22846960 & 플렉스엠           & Kakao Entertainment\\\\\n",
       "\t 202221 & 6 & down & 3 & 다시 만날 수 있을까                   & 임영웅              & 19074593 & 물고기뮤직         & Dreamus            \\\\\n",
       "\\end{tabular}\n"
      ],
      "text/markdown": [
       "\n",
       "A tibble: 6 × 9\n",
       "\n",
       "| year_week &lt;chr&gt; | ranking &lt;chr&gt; | change_grp &lt;chr&gt; | change_val &lt;chr&gt; | title &lt;chr&gt; | artist &lt;chr&gt; | gaon_index &lt;dbl&gt; | production &lt;chr&gt; | distribution &lt;chr&gt; |\n",
       "|---|---|---|---|---|---|---|---|---|\n",
       "| 202221 | 1 | NA   | - | That That (prod. &amp; feat. SUGA of BTS) | 싸이 (Psy)          | 31776501 | 피네이션           | Dreamus             |\n",
       "| 202221 | 2 | up   | 2 | LOVE DIVE                             | IVE (아이브)        | 27807024 | 스타쉽엔터테인먼트 | Kakao Entertainment |\n",
       "| 202221 | 3 | up   | 2 | TOMBOY                                | (여자)아이들        | 27241781 | 큐브엔터테인먼트   | Kakao Entertainment |\n",
       "| 202221 | 4 | down | 2 | 봄여름가을겨울 (Still Life)           | BIGBANG (빅뱅)      | 25590419 | YG Entertainment   | YG PLUS             |\n",
       "| 202221 | 5 | up   | 1 | 사랑인가 봐                           | 멜로망스(Melomance) | 22846960 | 플렉스엠           | Kakao Entertainment |\n",
       "| 202221 | 6 | down | 3 | 다시 만날 수 있을까                   | 임영웅              | 19074593 | 물고기뮤직         | Dreamus             |\n",
       "\n"
      ],
      "text/plain": [
       "  year_week ranking change_grp change_val title                                \n",
       "1 202221    1       NA         -          That That (prod. & feat. SUGA of BTS)\n",
       "2 202221    2       up         2          LOVE DIVE                            \n",
       "3 202221    3       up         2          TOMBOY                               \n",
       "4 202221    4       down       2          봄여름가을겨울 (Still Life)          \n",
       "5 202221    5       up         1          사랑인가 봐                          \n",
       "6 202221    6       down       3          다시 만날 수 있을까                  \n",
       "  artist              gaon_index production         distribution       \n",
       "1 싸이 (Psy)          31776501   피네이션           Dreamus            \n",
       "2 IVE (아이브)        27807024   스타쉽엔터테인먼트 Kakao Entertainment\n",
       "3 (여자)아이들        27241781   큐브엔터테인먼트   Kakao Entertainment\n",
       "4 BIGBANG (빅뱅)      25590419   YG Entertainment   YG PLUS            \n",
       "5 멜로망스(Melomance) 22846960   플렉스엠           Kakao Entertainment\n",
       "6 임영웅              19074593   물고기뮤직         Dreamus            "
      ]
     },
     "metadata": {},
     "output_type": "display_data"
    }
   ],
   "source": [
    "head(week_final)"
   ]
  },
  {
   "cell_type": "code",
   "execution_count": 4,
   "id": "7dfbe81d-bab5-4a41-8318-e16b732dc178",
   "metadata": {},
   "outputs": [
    {
     "data": {
      "text/html": [
       "<table class=\"dataframe\">\n",
       "<caption>A tibble: 6 × 9</caption>\n",
       "<thead>\n",
       "\t<tr><th scope=col>year_month</th><th scope=col>ranking</th><th scope=col>change_grp</th><th scope=col>change_val</th><th scope=col>title</th><th scope=col>artist</th><th scope=col>gaon_index</th><th scope=col>production</th><th scope=col>distribution</th></tr>\n",
       "\t<tr><th scope=col>&lt;chr&gt;</th><th scope=col>&lt;chr&gt;</th><th scope=col>&lt;chr&gt;</th><th scope=col>&lt;chr&gt;</th><th scope=col>&lt;chr&gt;</th><th scope=col>&lt;chr&gt;</th><th scope=col>&lt;dbl&gt;</th><th scope=col>&lt;chr&gt;</th><th scope=col>&lt;chr&gt;</th></tr>\n",
       "</thead>\n",
       "<tbody>\n",
       "\t<tr><td>202204</td><td>1</td><td>new </td><td>new</td><td>봄여름가을겨울 (Still Life)</td><td>BIGBANG (빅뱅)      </td><td>168901052</td><td>YG Entertainment  </td><td>YG PLUS            </td></tr>\n",
       "\t<tr><td>202204</td><td>2</td><td>up  </td><td>1  </td><td>TOMBOY                     </td><td>(여자)아이들        </td><td>133304108</td><td>큐브엔터테인먼트  </td><td>Kakao Entertainment</td></tr>\n",
       "\t<tr><td>202204</td><td>3</td><td>up  </td><td>23 </td><td>Feel My Rhythm             </td><td>레드벨벳(Red Velvet)</td><td>111957588</td><td>SM Entertainment  </td><td>Dreamus            </td></tr>\n",
       "\t<tr><td>202204</td><td>4</td><td>new </td><td>new</td><td>LOVE DIVE                  </td><td>IVE (아이브)        </td><td>105286003</td><td>스타쉽엔터테인먼트</td><td>Kakao Entertainment</td></tr>\n",
       "\t<tr><td>202204</td><td>5</td><td>up  </td><td>3  </td><td>사랑인가 봐                </td><td>멜로망스(Melomance) </td><td>100850288</td><td>플렉스엠          </td><td>Kakao Entertainment</td></tr>\n",
       "\t<tr><td>202204</td><td>6</td><td>down</td><td>4  </td><td>GANADARA (Feat. 아이유)    </td><td>박재범              </td><td> 96954973</td><td>MORE VISION       </td><td>Kakao Entertainment</td></tr>\n",
       "</tbody>\n",
       "</table>\n"
      ],
      "text/latex": [
       "A tibble: 6 × 9\n",
       "\\begin{tabular}{lllllllll}\n",
       " year\\_month & ranking & change\\_grp & change\\_val & title & artist & gaon\\_index & production & distribution\\\\\n",
       " <chr> & <chr> & <chr> & <chr> & <chr> & <chr> & <dbl> & <chr> & <chr>\\\\\n",
       "\\hline\n",
       "\t 202204 & 1 & new  & new & 봄여름가을겨울 (Still Life) & BIGBANG (빅뱅)       & 168901052 & YG Entertainment   & YG PLUS            \\\\\n",
       "\t 202204 & 2 & up   & 1   & TOMBOY                      & (여자)아이들         & 133304108 & 큐브엔터테인먼트   & Kakao Entertainment\\\\\n",
       "\t 202204 & 3 & up   & 23  & Feel My Rhythm              & 레드벨벳(Red Velvet) & 111957588 & SM Entertainment   & Dreamus            \\\\\n",
       "\t 202204 & 4 & new  & new & LOVE DIVE                   & IVE (아이브)         & 105286003 & 스타쉽엔터테인먼트 & Kakao Entertainment\\\\\n",
       "\t 202204 & 5 & up   & 3   & 사랑인가 봐                 & 멜로망스(Melomance)  & 100850288 & 플렉스엠           & Kakao Entertainment\\\\\n",
       "\t 202204 & 6 & down & 4   & GANADARA (Feat. 아이유)     & 박재범               &  96954973 & MORE VISION        & Kakao Entertainment\\\\\n",
       "\\end{tabular}\n"
      ],
      "text/markdown": [
       "\n",
       "A tibble: 6 × 9\n",
       "\n",
       "| year_month &lt;chr&gt; | ranking &lt;chr&gt; | change_grp &lt;chr&gt; | change_val &lt;chr&gt; | title &lt;chr&gt; | artist &lt;chr&gt; | gaon_index &lt;dbl&gt; | production &lt;chr&gt; | distribution &lt;chr&gt; |\n",
       "|---|---|---|---|---|---|---|---|---|\n",
       "| 202204 | 1 | new  | new | 봄여름가을겨울 (Still Life) | BIGBANG (빅뱅)       | 168901052 | YG Entertainment   | YG PLUS             |\n",
       "| 202204 | 2 | up   | 1   | TOMBOY                      | (여자)아이들         | 133304108 | 큐브엔터테인먼트   | Kakao Entertainment |\n",
       "| 202204 | 3 | up   | 23  | Feel My Rhythm              | 레드벨벳(Red Velvet) | 111957588 | SM Entertainment   | Dreamus             |\n",
       "| 202204 | 4 | new  | new | LOVE DIVE                   | IVE (아이브)         | 105286003 | 스타쉽엔터테인먼트 | Kakao Entertainment |\n",
       "| 202204 | 5 | up   | 3   | 사랑인가 봐                 | 멜로망스(Melomance)  | 100850288 | 플렉스엠           | Kakao Entertainment |\n",
       "| 202204 | 6 | down | 4   | GANADARA (Feat. 아이유)     | 박재범               |  96954973 | MORE VISION        | Kakao Entertainment |\n",
       "\n"
      ],
      "text/plain": [
       "  year_month ranking change_grp change_val title                      \n",
       "1 202204     1       new        new        봄여름가을겨울 (Still Life)\n",
       "2 202204     2       up         1          TOMBOY                     \n",
       "3 202204     3       up         23         Feel My Rhythm             \n",
       "4 202204     4       new        new        LOVE DIVE                  \n",
       "5 202204     5       up         3          사랑인가 봐                \n",
       "6 202204     6       down       4          GANADARA (Feat. 아이유)    \n",
       "  artist               gaon_index production         distribution       \n",
       "1 BIGBANG (빅뱅)       168901052  YG Entertainment   YG PLUS            \n",
       "2 (여자)아이들         133304108  큐브엔터테인먼트   Kakao Entertainment\n",
       "3 레드벨벳(Red Velvet) 111957588  SM Entertainment   Dreamus            \n",
       "4 IVE (아이브)         105286003  스타쉽엔터테인먼트 Kakao Entertainment\n",
       "5 멜로망스(Melomance)  100850288  플렉스엠           Kakao Entertainment\n",
       "6 박재범                96954973  MORE VISION        Kakao Entertainment"
      ]
     },
     "metadata": {},
     "output_type": "display_data"
    }
   ],
   "source": [
    "head(month_final)"
   ]
  },
  {
   "cell_type": "markdown",
   "id": "455b7f1d-7180-47cd-938b-9605be7f9e6b",
   "metadata": {},
   "source": [
    "# EDA "
   ]
  },
  {
   "cell_type": "markdown",
   "id": "8cdea8fe-4a03-4ba6-89b4-c92ce79e4f01",
   "metadata": {},
   "source": [
    "- 미완성"
   ]
  }
 ],
 "metadata": {
  "kernelspec": {
   "display_name": "R",
   "language": "R",
   "name": "ir"
  },
  "language_info": {
   "codemirror_mode": "r",
   "file_extension": ".r",
   "mimetype": "text/x-r-source",
   "name": "R",
   "pygments_lexer": "r",
   "version": "4.1.2"
  }
 },
 "nbformat": 4,
 "nbformat_minor": 5
}
