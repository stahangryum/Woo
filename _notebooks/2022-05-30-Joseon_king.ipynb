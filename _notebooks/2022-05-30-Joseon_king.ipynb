{
 "cells": [
  {
   "cell_type": "markdown",
   "id": "88528c60-eae6-49da-9041-7c6adaaeefae",
   "metadata": {},
   "source": [
    "# 조선 국왕 수명 데이터 분석\n",
    "\n",
    "- toc: true\n",
    "- branch: master\n",
    "- badges: true\n",
    "- comments: true\n",
    "- author: Kim Jeewoo\n",
    "- categories: [Crawling, R]"
   ]
  },
  {
   "cell_type": "markdown",
   "id": "a1bf5c3a-b0a5-42e1-b8ef-fbaee9e2ad2d",
   "metadata": {},
   "source": [
    "# Reference"
   ]
  },
  {
   "cell_type": "markdown",
   "id": "f3674b10-db61-47b9-8d6b-98af6b308747",
   "metadata": {},
   "source": [
    "`-` 조선 국왕 데이터\n",
    "\n",
    "https://ko.wikipedia.org/wiki/%EC%A1%B0%EC%84%A0_%EA%B5%AD%EC%99%95"
   ]
  },
  {
   "cell_type": "markdown",
   "id": "31ac5e0d-a7c6-4f4d-9b57-8daec907f19e",
   "metadata": {},
   "source": [
    "# Crawling"
   ]
  },
  {
   "cell_type": "markdown",
   "id": "71fb1265-66ba-4fec-8781-f158ed40237f",
   "metadata": {},
   "source": [
    "`-` 위키피디아에서 조선의 국와 정보를 크롤링합니다."
   ]
  },
  {
   "cell_type": "code",
   "execution_count": 2,
   "id": "b4f7cc58-8794-454c-a749-8238d77a0015",
   "metadata": {},
   "outputs": [
    {
     "name": "stderr",
     "output_type": "stream",
     "text": [
      "필요한 패키지를 로딩중입니다: rvest\n",
      "\n",
      "Warning message:\n",
      "\"패키지 'rvest'는 R 버전 4.1.3에서 작성되었습니다\"\n",
      "필요한 패키지를 로딩중입니다: tidyverse\n",
      "\n",
      "Warning message:\n",
      "\"패키지 'tidyverse'는 R 버전 4.1.3에서 작성되었습니다\"\n",
      "-- \u001b[1mAttaching packages\u001b[22m ------------------------------------------------------------------------------- tidyverse 1.3.1 --\n",
      "\n",
      "\u001b[32mv\u001b[39m \u001b[34mggplot2\u001b[39m 3.3.5     \u001b[32mv\u001b[39m \u001b[34mpurrr  \u001b[39m 0.3.4\n",
      "\u001b[32mv\u001b[39m \u001b[34mtibble \u001b[39m 3.1.6     \u001b[32mv\u001b[39m \u001b[34mdplyr  \u001b[39m 1.0.8\n",
      "\u001b[32mv\u001b[39m \u001b[34mtidyr  \u001b[39m 1.2.0     \u001b[32mv\u001b[39m \u001b[34mstringr\u001b[39m 1.4.0\n",
      "\u001b[32mv\u001b[39m \u001b[34mreadr  \u001b[39m 2.1.2     \u001b[32mv\u001b[39m \u001b[34mforcats\u001b[39m 0.5.1\n",
      "\n",
      "Warning message:\n",
      "\"패키지 'ggplot2'는 R 버전 4.1.3에서 작성되었습니다\"\n",
      "Warning message:\n",
      "\"패키지 'tibble'는 R 버전 4.1.3에서 작성되었습니다\"\n",
      "Warning message:\n",
      "\"패키지 'tidyr'는 R 버전 4.1.3에서 작성되었습니다\"\n",
      "Warning message:\n",
      "\"패키지 'readr'는 R 버전 4.1.3에서 작성되었습니다\"\n",
      "Warning message:\n",
      "\"패키지 'purrr'는 R 버전 4.1.3에서 작성되었습니다\"\n",
      "Warning message:\n",
      "\"패키지 'dplyr'는 R 버전 4.1.3에서 작성되었습니다\"\n",
      "Warning message:\n",
      "\"패키지 'stringr'는 R 버전 4.1.3에서 작성되었습니다\"\n",
      "Warning message:\n",
      "\"패키지 'forcats'는 R 버전 4.1.3에서 작성되었습니다\"\n",
      "-- \u001b[1mConflicts\u001b[22m ---------------------------------------------------------------------------------- tidyverse_conflicts() --\n",
      "\u001b[31mx\u001b[39m \u001b[34mdplyr\u001b[39m::\u001b[32mfilter()\u001b[39m         masks \u001b[34mstats\u001b[39m::filter()\n",
      "\u001b[31mx\u001b[39m \u001b[34mreadr\u001b[39m::\u001b[32mguess_encoding()\u001b[39m masks \u001b[34mrvest\u001b[39m::guess_encoding()\n",
      "\u001b[31mx\u001b[39m \u001b[34mdplyr\u001b[39m::\u001b[32mlag()\u001b[39m            masks \u001b[34mstats\u001b[39m::lag()\n",
      "\n"
     ]
    }
   ],
   "source": [
    "# 필요한 라이브러리를 호출합니다. 존재하지 않으면 설치합니다.\n",
    "if (!require(rvest)) install.packages('rvest')\n",
    "library(rvest)\n",
    "\n",
    "if (!require(tidyverse)) install.packages('tidyverse')\n",
    "library(tidyverse)\n",
    "\n",
    "get_required_info = function(rows, order){\n",
    "    clean_table = rows[order] %>% # 한글자씩 쪼갠다.\n",
    "        strsplit(split = '') %>%\n",
    "        unlist() %>%\n",
    "        str_replace('[^가-힣0-9]', 'N')  %>% # (한글, 숫자)가 아닌 문자는 불필요하므로 N으로 치환한다.\n",
    "        paste(collapse = '') %>% # 모든 문자를 합친 다음 N을 기준으로 다시 나눈다.\n",
    "        strsplit('N') %>%\n",
    "        unlist()\n",
    "\n",
    "    order_index = grep('^제.{1,}대$', clean_table)\n",
    "    order = clean_table[order_index]\n",
    "    \n",
    "    name_index = grep('^.{1,2}[조|종|군]$', clean_table)[1]\n",
    "    name = clean_table[name_index]\n",
    "\n",
    "    years_index = grep('^.{1,}년$', clean_table)\n",
    "    years <- # 순서대로 출생, 사망, 즉위, 퇴위\n",
    "        clean_table[years_index] %>%\n",
    "        substr(1, 4)\n",
    "\n",
    "    grave_index = grep('^.{1,3}[릉|묘]$', clean_table)\n",
    "    grave = clean_table[grave_index]\n",
    "    \n",
    "    return(c(order, name, years, grave))\n",
    "}\n",
    "\n",
    "target_url <- 'https://ko.wikipedia.org/wiki/%EC%A1%B0%EC%84%A0_%EA%B5%AD%EC%99%95'\n",
    "unclean_table <- \n",
    "    read_html(target_url, encoding = 'UTF-8') %>%\n",
    "    html_nodes('table[class=wikitable]') %>%\n",
    "    html_nodes('tbody') %>%\n",
    "    html_nodes('tr') %>%    \n",
    "    html_text() \n",
    "\n",
    "# 필요로 하는 데이터는 모두 '제'로 시작한다.\n",
    "# '제'로 시작하지 않는 데이터는 불필요하므로 제거한다.\n",
    "requiredRows_index <- str_detect(unclean_table, '^제')\n",
    "requiredRows <- unclean_table[requiredRows_index]\n",
    "\n",
    "last_order = 26\n",
    "kings_info <- vector('list', last_order)\n",
    "for (i in 1:last_order){\n",
    "    kings_info[[i]] = get_required_info(requiredRows, i)\n",
    "}\n",
    "\n",
    "kings_info = do.call('rbind', kings_info)\n",
    "colnames(kings_info) = c('order', 'name', 'birth', 'death', 'king_start', 'king_end', 'grave')\n",
    "write.table(kings_info, 'Joseon_king.txt', row.names=FALSE)"
   ]
  },
  {
   "cell_type": "code",
   "execution_count": 4,
   "id": "486ba78d-721e-4f07-9254-824fb78661da",
   "metadata": {},
   "outputs": [
    {
     "data": {
      "text/html": [
       "<table class=\"dataframe\">\n",
       "<caption>A data.frame: 26 × 9</caption>\n",
       "<thead>\n",
       "\t<tr><th scope=col>order</th><th scope=col>name</th><th scope=col>birth</th><th scope=col>death</th><th scope=col>king_start</th><th scope=col>king_end</th><th scope=col>grave</th><th scope=col>age</th><th scope=col>class</th></tr>\n",
       "\t<tr><th scope=col>&lt;chr&gt;</th><th scope=col>&lt;chr&gt;</th><th scope=col>&lt;dbl&gt;</th><th scope=col>&lt;dbl&gt;</th><th scope=col>&lt;chr&gt;</th><th scope=col>&lt;chr&gt;</th><th scope=col>&lt;chr&gt;</th><th scope=col>&lt;dbl&gt;</th><th scope=col>&lt;fct&gt;</th></tr>\n",
       "</thead>\n",
       "<tbody>\n",
       "\t<tr><td>제1대 </td><td>태조  </td><td>1335</td><td>1408</td><td>1392</td><td>1398</td><td>건원릉  </td><td>73</td><td>Before</td></tr>\n",
       "\t<tr><td>제2대 </td><td>정종  </td><td>1357</td><td>1419</td><td>1398</td><td>1400</td><td>후릉    </td><td>62</td><td>Before</td></tr>\n",
       "\t<tr><td>제3대 </td><td>태종  </td><td>1367</td><td>1422</td><td>1400</td><td>1418</td><td>헌릉    </td><td>55</td><td>Before</td></tr>\n",
       "\t<tr><td>제4대 </td><td>세종  </td><td>1397</td><td>1450</td><td>1418</td><td>1450</td><td>영릉    </td><td>53</td><td>Before</td></tr>\n",
       "\t<tr><td>제5대 </td><td>문종  </td><td>1414</td><td>1452</td><td>1450</td><td>1452</td><td>현릉    </td><td>38</td><td>Before</td></tr>\n",
       "\t<tr><td>제6대 </td><td>단종  </td><td>1441</td><td>1457</td><td>1452</td><td>1455</td><td>장릉    </td><td>16</td><td>Before</td></tr>\n",
       "\t<tr><td>제7대 </td><td>세조  </td><td>1417</td><td>1468</td><td>1455</td><td>1468</td><td>광릉    </td><td>51</td><td>Before</td></tr>\n",
       "\t<tr><td>제8대 </td><td>예종  </td><td>1450</td><td>1469</td><td>1468</td><td>1469</td><td>창릉    </td><td>19</td><td>Before</td></tr>\n",
       "\t<tr><td>제9대 </td><td>성종  </td><td>1457</td><td>1494</td><td>1469</td><td>1494</td><td>선릉    </td><td>37</td><td>Before</td></tr>\n",
       "\t<tr><td>제10대</td><td>연산군</td><td>1476</td><td>1506</td><td>1494</td><td>1506</td><td>연산군묘</td><td>30</td><td>Before</td></tr>\n",
       "\t<tr><td>제11대</td><td>중종  </td><td>1488</td><td>1544</td><td>1506</td><td>1544</td><td>정릉    </td><td>56</td><td>Before</td></tr>\n",
       "\t<tr><td>제12대</td><td>인종  </td><td>1515</td><td>1545</td><td>1544</td><td>1545</td><td>효릉    </td><td>30</td><td>Before</td></tr>\n",
       "\t<tr><td>제13대</td><td>명종  </td><td>1534</td><td>1567</td><td>1545</td><td>1567</td><td>강릉    </td><td>33</td><td>Before</td></tr>\n",
       "\t<tr><td>제14대</td><td>선조  </td><td>1552</td><td>1608</td><td>1567</td><td>1608</td><td>목릉    </td><td>56</td><td>Before</td></tr>\n",
       "\t<tr><td>제15대</td><td>광해군</td><td>1575</td><td>1641</td><td>1608</td><td>1623</td><td>광해군묘</td><td>66</td><td>Before</td></tr>\n",
       "\t<tr><td>제16대</td><td>인조  </td><td>1595</td><td>1649</td><td>1623</td><td>1649</td><td>장릉    </td><td>54</td><td>Before</td></tr>\n",
       "\t<tr><td>제17대</td><td>효종  </td><td>1619</td><td>1659</td><td>1649</td><td>1659</td><td>영릉    </td><td>40</td><td>After </td></tr>\n",
       "\t<tr><td>제18대</td><td>현종  </td><td>1641</td><td>1674</td><td>1659</td><td>1674</td><td>숭릉    </td><td>33</td><td>After </td></tr>\n",
       "\t<tr><td>제19대</td><td>숙종  </td><td>1661</td><td>1720</td><td>1674</td><td>1720</td><td>명릉    </td><td>59</td><td>After </td></tr>\n",
       "\t<tr><td>제20대</td><td>경종  </td><td>1688</td><td>1724</td><td>1720</td><td>1724</td><td>의릉    </td><td>36</td><td>After </td></tr>\n",
       "\t<tr><td>제21대</td><td>영조  </td><td>1694</td><td>1776</td><td>1724</td><td>1776</td><td>원릉    </td><td>82</td><td>After </td></tr>\n",
       "\t<tr><td>제22대</td><td>정조  </td><td>1752</td><td>1800</td><td>1776</td><td>1800</td><td>건릉    </td><td>48</td><td>After </td></tr>\n",
       "\t<tr><td>제23대</td><td>순조  </td><td>1790</td><td>1834</td><td>1800</td><td>1834</td><td>인릉    </td><td>44</td><td>After </td></tr>\n",
       "\t<tr><td>제24대</td><td>헌종  </td><td>1827</td><td>1849</td><td>1834</td><td>1849</td><td>경릉    </td><td>22</td><td>After </td></tr>\n",
       "\t<tr><td>제25대</td><td>철종  </td><td>1831</td><td>1863</td><td>1849</td><td>1863</td><td>예릉    </td><td>32</td><td>After </td></tr>\n",
       "\t<tr><td>제26대</td><td>고종  </td><td>1852</td><td>1919</td><td>1863</td><td>1897</td><td>홍릉    </td><td>67</td><td>After </td></tr>\n",
       "</tbody>\n",
       "</table>\n"
      ],
      "text/latex": [
       "A data.frame: 26 × 9\n",
       "\\begin{tabular}{lllllllll}\n",
       " order & name & birth & death & king\\_start & king\\_end & grave & age & class\\\\\n",
       " <chr> & <chr> & <dbl> & <dbl> & <chr> & <chr> & <chr> & <dbl> & <fct>\\\\\n",
       "\\hline\n",
       "\t 제1대  & 태조   & 1335 & 1408 & 1392 & 1398 & 건원릉   & 73 & Before\\\\\n",
       "\t 제2대  & 정종   & 1357 & 1419 & 1398 & 1400 & 후릉     & 62 & Before\\\\\n",
       "\t 제3대  & 태종   & 1367 & 1422 & 1400 & 1418 & 헌릉     & 55 & Before\\\\\n",
       "\t 제4대  & 세종   & 1397 & 1450 & 1418 & 1450 & 영릉     & 53 & Before\\\\\n",
       "\t 제5대  & 문종   & 1414 & 1452 & 1450 & 1452 & 현릉     & 38 & Before\\\\\n",
       "\t 제6대  & 단종   & 1441 & 1457 & 1452 & 1455 & 장릉     & 16 & Before\\\\\n",
       "\t 제7대  & 세조   & 1417 & 1468 & 1455 & 1468 & 광릉     & 51 & Before\\\\\n",
       "\t 제8대  & 예종   & 1450 & 1469 & 1468 & 1469 & 창릉     & 19 & Before\\\\\n",
       "\t 제9대  & 성종   & 1457 & 1494 & 1469 & 1494 & 선릉     & 37 & Before\\\\\n",
       "\t 제10대 & 연산군 & 1476 & 1506 & 1494 & 1506 & 연산군묘 & 30 & Before\\\\\n",
       "\t 제11대 & 중종   & 1488 & 1544 & 1506 & 1544 & 정릉     & 56 & Before\\\\\n",
       "\t 제12대 & 인종   & 1515 & 1545 & 1544 & 1545 & 효릉     & 30 & Before\\\\\n",
       "\t 제13대 & 명종   & 1534 & 1567 & 1545 & 1567 & 강릉     & 33 & Before\\\\\n",
       "\t 제14대 & 선조   & 1552 & 1608 & 1567 & 1608 & 목릉     & 56 & Before\\\\\n",
       "\t 제15대 & 광해군 & 1575 & 1641 & 1608 & 1623 & 광해군묘 & 66 & Before\\\\\n",
       "\t 제16대 & 인조   & 1595 & 1649 & 1623 & 1649 & 장릉     & 54 & Before\\\\\n",
       "\t 제17대 & 효종   & 1619 & 1659 & 1649 & 1659 & 영릉     & 40 & After \\\\\n",
       "\t 제18대 & 현종   & 1641 & 1674 & 1659 & 1674 & 숭릉     & 33 & After \\\\\n",
       "\t 제19대 & 숙종   & 1661 & 1720 & 1674 & 1720 & 명릉     & 59 & After \\\\\n",
       "\t 제20대 & 경종   & 1688 & 1724 & 1720 & 1724 & 의릉     & 36 & After \\\\\n",
       "\t 제21대 & 영조   & 1694 & 1776 & 1724 & 1776 & 원릉     & 82 & After \\\\\n",
       "\t 제22대 & 정조   & 1752 & 1800 & 1776 & 1800 & 건릉     & 48 & After \\\\\n",
       "\t 제23대 & 순조   & 1790 & 1834 & 1800 & 1834 & 인릉     & 44 & After \\\\\n",
       "\t 제24대 & 헌종   & 1827 & 1849 & 1834 & 1849 & 경릉     & 22 & After \\\\\n",
       "\t 제25대 & 철종   & 1831 & 1863 & 1849 & 1863 & 예릉     & 32 & After \\\\\n",
       "\t 제26대 & 고종   & 1852 & 1919 & 1863 & 1897 & 홍릉     & 67 & After \\\\\n",
       "\\end{tabular}\n"
      ],
      "text/markdown": [
       "\n",
       "A data.frame: 26 × 9\n",
       "\n",
       "| order &lt;chr&gt; | name &lt;chr&gt; | birth &lt;dbl&gt; | death &lt;dbl&gt; | king_start &lt;chr&gt; | king_end &lt;chr&gt; | grave &lt;chr&gt; | age &lt;dbl&gt; | class &lt;fct&gt; |\n",
       "|---|---|---|---|---|---|---|---|---|\n",
       "| 제1대  | 태조   | 1335 | 1408 | 1392 | 1398 | 건원릉   | 73 | Before |\n",
       "| 제2대  | 정종   | 1357 | 1419 | 1398 | 1400 | 후릉     | 62 | Before |\n",
       "| 제3대  | 태종   | 1367 | 1422 | 1400 | 1418 | 헌릉     | 55 | Before |\n",
       "| 제4대  | 세종   | 1397 | 1450 | 1418 | 1450 | 영릉     | 53 | Before |\n",
       "| 제5대  | 문종   | 1414 | 1452 | 1450 | 1452 | 현릉     | 38 | Before |\n",
       "| 제6대  | 단종   | 1441 | 1457 | 1452 | 1455 | 장릉     | 16 | Before |\n",
       "| 제7대  | 세조   | 1417 | 1468 | 1455 | 1468 | 광릉     | 51 | Before |\n",
       "| 제8대  | 예종   | 1450 | 1469 | 1468 | 1469 | 창릉     | 19 | Before |\n",
       "| 제9대  | 성종   | 1457 | 1494 | 1469 | 1494 | 선릉     | 37 | Before |\n",
       "| 제10대 | 연산군 | 1476 | 1506 | 1494 | 1506 | 연산군묘 | 30 | Before |\n",
       "| 제11대 | 중종   | 1488 | 1544 | 1506 | 1544 | 정릉     | 56 | Before |\n",
       "| 제12대 | 인종   | 1515 | 1545 | 1544 | 1545 | 효릉     | 30 | Before |\n",
       "| 제13대 | 명종   | 1534 | 1567 | 1545 | 1567 | 강릉     | 33 | Before |\n",
       "| 제14대 | 선조   | 1552 | 1608 | 1567 | 1608 | 목릉     | 56 | Before |\n",
       "| 제15대 | 광해군 | 1575 | 1641 | 1608 | 1623 | 광해군묘 | 66 | Before |\n",
       "| 제16대 | 인조   | 1595 | 1649 | 1623 | 1649 | 장릉     | 54 | Before |\n",
       "| 제17대 | 효종   | 1619 | 1659 | 1649 | 1659 | 영릉     | 40 | After  |\n",
       "| 제18대 | 현종   | 1641 | 1674 | 1659 | 1674 | 숭릉     | 33 | After  |\n",
       "| 제19대 | 숙종   | 1661 | 1720 | 1674 | 1720 | 명릉     | 59 | After  |\n",
       "| 제20대 | 경종   | 1688 | 1724 | 1720 | 1724 | 의릉     | 36 | After  |\n",
       "| 제21대 | 영조   | 1694 | 1776 | 1724 | 1776 | 원릉     | 82 | After  |\n",
       "| 제22대 | 정조   | 1752 | 1800 | 1776 | 1800 | 건릉     | 48 | After  |\n",
       "| 제23대 | 순조   | 1790 | 1834 | 1800 | 1834 | 인릉     | 44 | After  |\n",
       "| 제24대 | 헌종   | 1827 | 1849 | 1834 | 1849 | 경릉     | 22 | After  |\n",
       "| 제25대 | 철종   | 1831 | 1863 | 1849 | 1863 | 예릉     | 32 | After  |\n",
       "| 제26대 | 고종   | 1852 | 1919 | 1863 | 1897 | 홍릉     | 67 | After  |\n",
       "\n"
      ],
      "text/plain": [
       "   order  name   birth death king_start king_end grave    age class \n",
       "1  제1대  태조   1335  1408  1392       1398     건원릉   73  Before\n",
       "2  제2대  정종   1357  1419  1398       1400     후릉     62  Before\n",
       "3  제3대  태종   1367  1422  1400       1418     헌릉     55  Before\n",
       "4  제4대  세종   1397  1450  1418       1450     영릉     53  Before\n",
       "5  제5대  문종   1414  1452  1450       1452     현릉     38  Before\n",
       "6  제6대  단종   1441  1457  1452       1455     장릉     16  Before\n",
       "7  제7대  세조   1417  1468  1455       1468     광릉     51  Before\n",
       "8  제8대  예종   1450  1469  1468       1469     창릉     19  Before\n",
       "9  제9대  성종   1457  1494  1469       1494     선릉     37  Before\n",
       "10 제10대 연산군 1476  1506  1494       1506     연산군묘 30  Before\n",
       "11 제11대 중종   1488  1544  1506       1544     정릉     56  Before\n",
       "12 제12대 인종   1515  1545  1544       1545     효릉     30  Before\n",
       "13 제13대 명종   1534  1567  1545       1567     강릉     33  Before\n",
       "14 제14대 선조   1552  1608  1567       1608     목릉     56  Before\n",
       "15 제15대 광해군 1575  1641  1608       1623     광해군묘 66  Before\n",
       "16 제16대 인조   1595  1649  1623       1649     장릉     54  Before\n",
       "17 제17대 효종   1619  1659  1649       1659     영릉     40  After \n",
       "18 제18대 현종   1641  1674  1659       1674     숭릉     33  After \n",
       "19 제19대 숙종   1661  1720  1674       1720     명릉     59  After \n",
       "20 제20대 경종   1688  1724  1720       1724     의릉     36  After \n",
       "21 제21대 영조   1694  1776  1724       1776     원릉     82  After \n",
       "22 제22대 정조   1752  1800  1776       1800     건릉     48  After \n",
       "23 제23대 순조   1790  1834  1800       1834     인릉     44  After \n",
       "24 제24대 헌종   1827  1849  1834       1849     경릉     22  After \n",
       "25 제25대 철종   1831  1863  1849       1863     예릉     32  After \n",
       "26 제26대 고종   1852  1919  1863       1897     홍릉     67  After "
      ]
     },
     "metadata": {},
     "output_type": "display_data"
    }
   ],
   "source": [
    "kings_info"
   ]
  },
  {
   "cell_type": "markdown",
   "id": "2ed4b7bf-9a50-4620-9a05-a952c8aee9a4",
   "metadata": {},
   "source": [
    "# Analysis"
   ]
  },
  {
   "cell_type": "markdown",
   "id": "1a190fcc-d304-4022-8e19-934f679a0306",
   "metadata": {},
   "source": [
    "`-` 왕의 수명을 출생년도 기준으로 동의보감 편찬 이전과 이후로 나누었을 때, 유의미한 차이가 있는가?"
   ]
  },
  {
   "cell_type": "code",
   "execution_count": 3,
   "id": "98b1e2d9-d031-44af-adce-6d6915bdc03c",
   "metadata": {},
   "outputs": [
    {
     "data": {
      "image/png": "[encoded data removed]",
      "text/plain": [
       "Plot with title \"동의보감 1610년\""
      ]
     },
     "metadata": {
      "image/png": {
       "height": 420,
       "width": 420
      }
     },
     "output_type": "display_data"
    },
    {
     "data": {
      "image/png": "[encoded data removed]",
      "text/plain": [
       "Plot with title \"동의보감 이전과 이후\""
      ]
     },
     "metadata": {
      "image/png": {
       "height": 420,
       "width": 420
      }
     },
     "output_type": "display_data"
    }
   ],
   "source": [
    "kings_info <- data.frame(kings_info)\n",
    "kings_info[, c('birth', 'death')] =\n",
    "    kings_info[, c('birth', 'death')] %>% \n",
    "    unlist() %>% \n",
    "    as.numeric()\n",
    "\n",
    "kings_info = \n",
    "    kings_info %>%\n",
    "    mutate(age = death - birth)\n",
    "\n",
    "\n",
    "plot(kings_info$birth, kings_info$age,\n",
    "     xlab = 'birth_year',\n",
    "     ylab = 'age',\n",
    "     main = '동의보감 1610년')\n",
    "\n",
    "Donguibogam = 1610\n",
    "abline(v = Donguibogam, col = 'red')\n",
    "abline(lm(kings_info$age ~ kings_info$birth)) # 회귀선\n",
    "\n",
    "# 상자그림\n",
    "kings_info['class'] = \n",
    "    ifelse(kings_info['birth'] <= 1610, 'Before', 'After') %>%\n",
    "    factor(levels = c('Before', 'After'))\n",
    "            \n",
    "boxplot(kings_info$age ~ kings_info$class,\n",
    "        xlab = 'group',\n",
    "        ylab = 'age',\n",
    "        main = '동의보감 이전과 이후')"
   ]
  },
  {
   "cell_type": "code",
   "execution_count": null,
   "id": "b39f1181-ad2d-45ba-8de2-f9d80c62c378",
   "metadata": {},
   "outputs": [],
   "source": []
  }
 ],
 "metadata": {
  "kernelspec": {
   "display_name": "R",
   "language": "R",
   "name": "ir"
  },
  "language_info": {
   "codemirror_mode": "r",
   "file_extension": ".r",
   "mimetype": "text/x-r-source",
   "name": "R",
   "pygments_lexer": "r",
   "version": "4.1.2"
  }
 },
 "nbformat": 4,
 "nbformat_minor": 5
}
