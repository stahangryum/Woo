{
 "cells": [
  {
   "cell_type": "markdown",
   "id": "9ff72b40-4fc4-4ca9-9c39-cfbfbf721bba",
   "metadata": {},
   "source": [
    "# Chudnovsky Algorithm\n",
    "\n",
    "- toc: true\n",
    "- branch: master\n",
    "- badges: true\n",
    "- comments: true\n",
    "- author: Kim Jeewoo\n",
    "- categories: [Mathematics, Python]\n",
    "- image: images/pi_logo.jpg"
   ]
  },
  {
   "cell_type": "markdown",
   "id": "162ef518-b101-4213-adc6-b23557c27016",
   "metadata": {},
   "source": [
    "# Chudnovsky Algorithm"
   ]
  },
  {
   "cell_type": "markdown",
   "id": "972643f3-b219-49db-9393-a866662313ef",
   "metadata": {},
   "source": [
    "The Chudnovsky algorithm is a fast method for calculating the digits of π."
   ]
  },
  {
   "cell_type": "markdown",
   "id": "2984ee8f-3044-4c0a-8633-d103f478d506",
   "metadata": {},
   "source": [
    "# Reference"
   ]
  },
  {
   "cell_type": "markdown",
   "id": "df611866-ad58-4181-b771-d8cc8d3d69f2",
   "metadata": {},
   "source": [
    "https://en.wikipedia.org/wiki/Chudnovsky_algorithm"
   ]
  },
  {
   "cell_type": "markdown",
   "id": "67221435-62ff-4ae9-85f2-39ebf6ce92d1",
   "metadata": {},
   "source": [
    "# Code"
   ]
  },
  {
   "cell_type": "code",
   "execution_count": 1,
   "id": "cfe03bfc-f213-40aa-97f5-e31096a91107",
   "metadata": {},
   "outputs": [
    {
     "name": "stdout",
     "output_type": "stream",
     "text": [
      "chudnovsky_gmpy_mpz_bs: digits 10 time 0.002651214599609375\n",
      "chudnovsky_gmpy_mpz_bs: digits 100 time 0.0008170604705810547\n",
      "Last 5 digits 70679 OK\n",
      "chudnovsky_gmpy_mpz_bs: digits 1000 time 0.0013988018035888672\n",
      "Last 5 digits 01989 OK\n",
      "chudnovsky_gmpy_mpz_bs: digits 10000 time 0.0020301342010498047\n",
      "Last 5 digits 75678 OK\n",
      "chudnovsky_gmpy_mpz_bs: digits 100000 time 0.03248786926269531\n",
      "Last 5 digits 24646 OK\n",
      "chudnovsky_gmpy_mpz_bs: digits 1000000 time 0.5917906761169434\n",
      "Last 5 digits 58151 OK\n",
      "chudnovsky_gmpy_mpz_bs: digits 10000000 time 11.120594263076782\n",
      "Last 5 digits 55897 OK\n"
     ]
    }
   ],
   "source": [
    "import math\n",
    "from gmpy2 import mpz\n",
    "from time import time\n",
    "import gmpy2\n",
    "\n",
    "def pi_chudnovsky_bs(digits):\n",
    "    \"\"\"\n",
    "    Compute int(pi * 10**digits)\n",
    "\n",
    "    This is done using Chudnovsky's series with binary splitting\n",
    "    \"\"\"\n",
    "    C = 640320\n",
    "    C3_OVER_24 = C**3 // 24\n",
    "    def bs(a, b):\n",
    "        \"\"\"\n",
    "        Computes the terms for binary splitting the Chudnovsky infinite series\n",
    "\n",
    "        a(a) = +/- (13591409 + 545140134*a)\n",
    "        p(a) = (6*a-5)*(2*a-1)*(6*a-1)\n",
    "        b(a) = 1\n",
    "        q(a) = a*a*a*C3_OVER_24\n",
    "\n",
    "        returns P(a,b), Q(a,b) and T(a,b)\n",
    "        \"\"\"\n",
    "        if b - a == 1:\n",
    "            # Directly compute P(a,a+1), Q(a,a+1) and T(a,a+1)\n",
    "            if a == 0:\n",
    "                Pab = Qab = mpz(1)\n",
    "            else:\n",
    "                Pab = mpz((6*a-5)*(2*a-1)*(6*a-1))\n",
    "                Qab = mpz(a*a*a*C3_OVER_24)\n",
    "            Tab = Pab * (13591409 + 545140134*a) # a(a) * p(a)\n",
    "            if a & 1:\n",
    "                Tab = -Tab\n",
    "        else:\n",
    "            # Recursively compute P(a,b), Q(a,b) and T(a,b)\n",
    "            # m is the midpoint of a and b\n",
    "            m = (a + b) // 2\n",
    "            # Recursively calculate P(a,m), Q(a,m) and T(a,m)\n",
    "            Pam, Qam, Tam = bs(a, m)\n",
    "            # Recursively calculate P(m,b), Q(m,b) and T(m,b)\n",
    "            Pmb, Qmb, Tmb = bs(m, b)\n",
    "            # Now combine\n",
    "            Pab = Pam * Pmb\n",
    "            Qab = Qam * Qmb\n",
    "            Tab = Qmb * Tam + Pam * Tmb\n",
    "        return Pab, Qab, Tab\n",
    "    # how many terms to compute\n",
    "    DIGITS_PER_TERM = math.log10(C3_OVER_24/6/2/6)\n",
    "    N = int(digits/DIGITS_PER_TERM + 1)\n",
    "    # Calclate P(0,N) and Q(0,N)\n",
    "    P, Q, T = bs(0, N)\n",
    "    one_squared = mpz(10)**(2*digits)\n",
    "    sqrtC = gmpy2.isqrt(10005*one_squared)\n",
    "    return (Q*426880*sqrtC) // T\n",
    "\n",
    "# The last 5 digits or pi for various numbers of digits\n",
    "check_digits = {\n",
    "        100 : 70679,\n",
    "       1000 :  1989,\n",
    "      10000 : 75678,\n",
    "     100000 : 24646,\n",
    "    1000000 : 58151,\n",
    "   10000000 : 55897,\n",
    "}\n",
    "\n",
    "if __name__ == \"__main__\":\n",
    "    #raise SystemExit\n",
    "    for log10_digits in range(1,8): # 10자리 ~ 1000만자리\n",
    "        digits = 10**log10_digits\n",
    "        start =time()\n",
    "        pi = pi_chudnovsky_bs(digits)\n",
    "        f = open('d_' + str(digits), 'w')\n",
    "        f.write(str(pi))\n",
    "        f.close()\n",
    "        print(\"chudnovsky_gmpy_mpz_bs: digits\",digits,\"time\",time()-start)\n",
    "        if digits in check_digits:\n",
    "            last_five_digits = pi % 100000\n",
    "            if check_digits[digits] == last_five_digits:\n",
    "                print(\"Last 5 digits %05d OK\" % last_five_digits)\n",
    "            else:\n",
    "                print(\"Last 5 digits %05d wrong should be %05d\" % (last_five_digits, check_digits[digits]))"
   ]
  }
 ],
 "metadata": {
  "kernelspec": {
   "display_name": "Python 3 (ipykernel)",
   "language": "python",
   "name": "python3"
  },
  "language_info": {
   "codemirror_mode": {
    "name": "ipython",
    "version": 3
   },
   "file_extension": ".py",
   "mimetype": "text/x-python",
   "name": "python",
   "nbconvert_exporter": "python",
   "pygments_lexer": "ipython3",
   "version": "3.9.7"
  }
 },
 "nbformat": 4,
 "nbformat_minor": 5
}
