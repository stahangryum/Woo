{
 "cells": [
  {
   "cell_type": "markdown",
   "id": "cb3a7668-49e2-47fc-a4f8-b5cfe4dac850",
   "metadata": {},
   "source": [
    "# 명나라, 청나라 황제 수명 데이터 분석\n",
    "\n",
    "- toc: true\n",
    "- branch: master\n",
    "- badges: true\n",
    "- comments: true\n",
    "- author: Kim Jeewoo\n",
    "- categories: [Crawling, R]"
   ]
  },
  {
   "cell_type": "markdown",
   "id": "d6f7e91f-371f-42ab-a036-e71fc591eb1f",
   "metadata": {},
   "source": [
    "# Reference"
   ]
  },
  {
   "cell_type": "markdown",
   "id": "8c2e8ee7-ac4a-413f-acbf-ed7e1b21fde7",
   "metadata": {},
   "source": [
    "`-` 명나라 황제 데이터\n",
    "\n",
    "https://en.wikipedia.org/wiki/List_of_emperors_of_the_Ming_dynasty\n",
    "\n",
    "`-` 청나라 황제 데이터\n",
    "\n",
    "https://en.wikipedia.org/wiki/List_of_emperors_of_the_Qing_dynasty"
   ]
  },
  {
   "cell_type": "markdown",
   "id": "3c625ef6-ad95-44fd-a2c1-421f1b9100dc",
   "metadata": {},
   "source": [
    "# Crawling"
   ]
  },
  {
   "cell_type": "code",
   "execution_count": 2,
   "id": "7c32b68a-64fe-4e6a-8671-35741bbbbb9b",
   "metadata": {},
   "outputs": [
    {
     "name": "stderr",
     "output_type": "stream",
     "text": [
      "필요한 패키지를 로딩중입니다: rvest\n",
      "\n",
      "Warning message:\n",
      "\"패키지 'rvest'는 R 버전 4.1.3에서 작성되었습니다\"\n",
      "필요한 패키지를 로딩중입니다: tidyverse\n",
      "\n",
      "Warning message:\n",
      "\"패키지 'tidyverse'는 R 버전 4.1.3에서 작성되었습니다\"\n",
      "-- \u001b[1mAttaching packages\u001b[22m ------------------------------------------------------------------------------- tidyverse 1.3.1 --\n",
      "\n",
      "\u001b[32mv\u001b[39m \u001b[34mggplot2\u001b[39m 3.3.5     \u001b[32mv\u001b[39m \u001b[34mpurrr  \u001b[39m 0.3.4\n",
      "\u001b[32mv\u001b[39m \u001b[34mtibble \u001b[39m 3.1.6     \u001b[32mv\u001b[39m \u001b[34mdplyr  \u001b[39m 1.0.8\n",
      "\u001b[32mv\u001b[39m \u001b[34mtidyr  \u001b[39m 1.2.0     \u001b[32mv\u001b[39m \u001b[34mstringr\u001b[39m 1.4.0\n",
      "\u001b[32mv\u001b[39m \u001b[34mreadr  \u001b[39m 2.1.2     \u001b[32mv\u001b[39m \u001b[34mforcats\u001b[39m 0.5.1\n",
      "\n",
      "Warning message:\n",
      "\"패키지 'ggplot2'는 R 버전 4.1.3에서 작성되었습니다\"\n",
      "Warning message:\n",
      "\"패키지 'tibble'는 R 버전 4.1.3에서 작성되었습니다\"\n",
      "Warning message:\n",
      "\"패키지 'tidyr'는 R 버전 4.1.3에서 작성되었습니다\"\n",
      "Warning message:\n",
      "\"패키지 'readr'는 R 버전 4.1.3에서 작성되었습니다\"\n",
      "Warning message:\n",
      "\"패키지 'purrr'는 R 버전 4.1.3에서 작성되었습니다\"\n",
      "Warning message:\n",
      "\"패키지 'dplyr'는 R 버전 4.1.3에서 작성되었습니다\"\n",
      "Warning message:\n",
      "\"패키지 'stringr'는 R 버전 4.1.3에서 작성되었습니다\"\n",
      "Warning message:\n",
      "\"패키지 'forcats'는 R 버전 4.1.3에서 작성되었습니다\"\n",
      "-- \u001b[1mConflicts\u001b[22m ---------------------------------------------------------------------------------- tidyverse_conflicts() --\n",
      "\u001b[31mx\u001b[39m \u001b[34mdplyr\u001b[39m::\u001b[32mfilter()\u001b[39m         masks \u001b[34mstats\u001b[39m::filter()\n",
      "\u001b[31mx\u001b[39m \u001b[34mreadr\u001b[39m::\u001b[32mguess_encoding()\u001b[39m masks \u001b[34mrvest\u001b[39m::guess_encoding()\n",
      "\u001b[31mx\u001b[39m \u001b[34mdplyr\u001b[39m::\u001b[32mlag()\u001b[39m            masks \u001b[34mstats\u001b[39m::lag()\n",
      "\n"
     ]
    }
   ],
   "source": [
    "# 필요한 라이브러리를 호출합니다. 존재하지 않으면 설치합니다.\n",
    "if (!require(rvest)) install.packages('rvest')\n",
    "library(rvest)\n",
    "\n",
    "if (!require(tidyverse)) install.packages('tidyverse')\n",
    "library(tidyverse)\n",
    "\n",
    "get_kings_info = function(order, nation){ # ex) order = 1, nation = 'Ming' or 'King'\n",
    "    ming_url = 'https://en.wikipedia.org/wiki/List_of_emperors_of_the_Ming_dynasty'\n",
    "    qing_url = 'https://en.wikipedia.org/wiki/List_of_emperors_of_the_Qing_dynasty'\n",
    "    \n",
    "    target_url = ifelse(nation == 'Ming', ming_url, qing_url)\n",
    "    dynasty = ifelse(nation == 'Ming', 'Ming', 'Qing')\n",
    "    \n",
    "    unclean_table = \n",
    "    (target_url %>%\n",
    "        read_html %>%\n",
    "        html_nodes('table[class=wikitable]'))[1] %>%\n",
    "        html_nodes('tbody') %>%\n",
    "        html_nodes('tr') %>% \n",
    "        html_text()\n",
    "\n",
    "    # 정규표현식을 이용해 양식을 맞춘다\n",
    "    \n",
    "    requiredRows_index = str_detect(unclean_table, '[A-Za-z]{5,}\\\\([0-9]{1,2}\\\\s[A-Z]{1}')\n",
    "    requiredRows = unclean_table[requiredRows_index]\n",
    "\n",
    "    clean_table = gsub('\\n', '', requiredRows[order]) %>% \n",
    "        strsplit('') %>%\n",
    "        unlist()\n",
    "\n",
    "    name_start_index = 1\n",
    "    name_end_index = grep('\\\\(', clean_table)[1]-1 # 괄호보다 한 칸 이전에 있으므로 -1\n",
    "    name = \n",
    "        clean_table[name_start_index:name_end_index] %>%\n",
    "        paste(collapse = '')\n",
    "\n",
    "    only_numbers = \n",
    "        requiredRows[order] %>% # 숫자 존재하는 벡터\n",
    "        strsplit(split = '[^0-9]') %>%  \n",
    "        unlist()\n",
    "\n",
    "    year_index = grep('.{4}', only_numbers)[1:2] # 월, 일은 2글자를 초과하지 못하므로 자연스럽게 네글자만 연도이다.\n",
    "    year = only_numbers[year_index]\n",
    "    \n",
    "    return(c(dynasty, name, year))\n",
    "}\n",
    "\n",
    "ming_last_order = 16\n",
    "qing_last_order = 12\n",
    "\n",
    "ming_kings_info <- vector('list', ming_last_order)\n",
    "qing_kings_info <- vector('list', qing_last_order)\n",
    "for (i in 1:ming_last_order) ming_kings_info[[i]] = get_kings_info(i, 'Ming')\n",
    "for (i in 1:qing_last_order) qing_kings_info[[i]] = get_kings_info(i, 'Qing')\n",
    "\n",
    "kings_info = do.call('rbind', c(ming_kings_info, qing_kings_info))\n",
    "colnames(kings_info) <- c('dynasty', 'name', 'birth', 'death')\n",
    "write.table(kings_info, 'China_king.txt', row.names = FALSE)"
   ]
  },
  {
   "cell_type": "code",
   "execution_count": 4,
   "id": "84652860-0945-49c1-8f83-4e98ce146d9d",
   "metadata": {},
   "outputs": [
    {
     "data": {
      "text/html": [
       "<table class=\"dataframe\">\n",
       "<caption>A data.frame: 28 × 5</caption>\n",
       "<thead>\n",
       "\t<tr><th scope=col>dynasty</th><th scope=col>name</th><th scope=col>birth</th><th scope=col>death</th><th scope=col>age</th></tr>\n",
       "\t<tr><th scope=col>&lt;chr&gt;</th><th scope=col>&lt;chr&gt;</th><th scope=col>&lt;dbl&gt;</th><th scope=col>&lt;dbl&gt;</th><th scope=col>&lt;dbl&gt;</th></tr>\n",
       "</thead>\n",
       "<tbody>\n",
       "\t<tr><td>Ming</td><td>Hongwu Emperor   </td><td>1328</td><td>1398</td><td>70</td></tr>\n",
       "\t<tr><td>Ming</td><td>Jianwen Emperor  </td><td>1377</td><td>1402</td><td>25</td></tr>\n",
       "\t<tr><td>Ming</td><td>Yongle Emperor   </td><td>1360</td><td>1424</td><td>64</td></tr>\n",
       "\t<tr><td>Ming</td><td>Hongxi Emperor   </td><td>1378</td><td>1425</td><td>47</td></tr>\n",
       "\t<tr><td>Ming</td><td>Xuande Emperor   </td><td>1399</td><td>1435</td><td>36</td></tr>\n",
       "\t<tr><td>Ming</td><td>Emperor Yingzong </td><td>1427</td><td>1464</td><td>37</td></tr>\n",
       "\t<tr><td>Ming</td><td>Jingtai Emperor  </td><td>1428</td><td>1457</td><td>29</td></tr>\n",
       "\t<tr><td>Ming</td><td>Chenghua Emperor </td><td>1447</td><td>1487</td><td>40</td></tr>\n",
       "\t<tr><td>Ming</td><td>Hongzhi Emperor  </td><td>1470</td><td>1505</td><td>35</td></tr>\n",
       "\t<tr><td>Ming</td><td>Zhengde Emperor  </td><td>1491</td><td>1521</td><td>30</td></tr>\n",
       "\t<tr><td>Ming</td><td>Jiajing Emperor  </td><td>1507</td><td>1567</td><td>60</td></tr>\n",
       "\t<tr><td>Ming</td><td>Longqing Emperor </td><td>1537</td><td>1572</td><td>35</td></tr>\n",
       "\t<tr><td>Ming</td><td>Wanli Emperor    </td><td>1563</td><td>1620</td><td>57</td></tr>\n",
       "\t<tr><td>Ming</td><td>Taichang Emperor </td><td>1582</td><td>1620</td><td>38</td></tr>\n",
       "\t<tr><td>Ming</td><td>Tianqi Emperor   </td><td>1605</td><td>1627</td><td>22</td></tr>\n",
       "\t<tr><td>Ming</td><td>Chongzhen Emperor</td><td>1611</td><td>1644</td><td>33</td></tr>\n",
       "\t<tr><td>Qing</td><td>Nurhaci          </td><td>1559</td><td>1626</td><td>67</td></tr>\n",
       "\t<tr><td>Qing</td><td>Hong Taiji       </td><td>1592</td><td>1643</td><td>51</td></tr>\n",
       "\t<tr><td>Qing</td><td>Shunzhi Emperor  </td><td>1638</td><td>1661</td><td>23</td></tr>\n",
       "\t<tr><td>Qing</td><td>Kangxi Emperor   </td><td>1654</td><td>1722</td><td>68</td></tr>\n",
       "\t<tr><td>Qing</td><td>Yongzheng Emperor</td><td>1678</td><td>1735</td><td>57</td></tr>\n",
       "\t<tr><td>Qing</td><td>Qianlong Emperor </td><td>1711</td><td>1799</td><td>88</td></tr>\n",
       "\t<tr><td>Qing</td><td>Jiaqing Emperor  </td><td>1760</td><td>1820</td><td>60</td></tr>\n",
       "\t<tr><td>Qing</td><td>Daoguang Emperor </td><td>1782</td><td>1850</td><td>68</td></tr>\n",
       "\t<tr><td>Qing</td><td>Xianfeng Emperor </td><td>1831</td><td>1861</td><td>30</td></tr>\n",
       "\t<tr><td>Qing</td><td>Tongzhi Emperor  </td><td>1856</td><td>1875</td><td>19</td></tr>\n",
       "\t<tr><td>Qing</td><td>Guangxu Emperor  </td><td>1871</td><td>1908</td><td>37</td></tr>\n",
       "\t<tr><td>Qing</td><td>Xuantong Emperor </td><td>1906</td><td>1967</td><td>61</td></tr>\n",
       "</tbody>\n",
       "</table>\n"
      ],
      "text/latex": [
       "A data.frame: 28 × 5\n",
       "\\begin{tabular}{lllll}\n",
       " dynasty & name & birth & death & age\\\\\n",
       " <chr> & <chr> & <dbl> & <dbl> & <dbl>\\\\\n",
       "\\hline\n",
       "\t Ming & Hongwu Emperor    & 1328 & 1398 & 70\\\\\n",
       "\t Ming & Jianwen Emperor   & 1377 & 1402 & 25\\\\\n",
       "\t Ming & Yongle Emperor    & 1360 & 1424 & 64\\\\\n",
       "\t Ming & Hongxi Emperor    & 1378 & 1425 & 47\\\\\n",
       "\t Ming & Xuande Emperor    & 1399 & 1435 & 36\\\\\n",
       "\t Ming & Emperor Yingzong  & 1427 & 1464 & 37\\\\\n",
       "\t Ming & Jingtai Emperor   & 1428 & 1457 & 29\\\\\n",
       "\t Ming & Chenghua Emperor  & 1447 & 1487 & 40\\\\\n",
       "\t Ming & Hongzhi Emperor   & 1470 & 1505 & 35\\\\\n",
       "\t Ming & Zhengde Emperor   & 1491 & 1521 & 30\\\\\n",
       "\t Ming & Jiajing Emperor   & 1507 & 1567 & 60\\\\\n",
       "\t Ming & Longqing Emperor  & 1537 & 1572 & 35\\\\\n",
       "\t Ming & Wanli Emperor     & 1563 & 1620 & 57\\\\\n",
       "\t Ming & Taichang Emperor  & 1582 & 1620 & 38\\\\\n",
       "\t Ming & Tianqi Emperor    & 1605 & 1627 & 22\\\\\n",
       "\t Ming & Chongzhen Emperor & 1611 & 1644 & 33\\\\\n",
       "\t Qing & Nurhaci           & 1559 & 1626 & 67\\\\\n",
       "\t Qing & Hong Taiji        & 1592 & 1643 & 51\\\\\n",
       "\t Qing & Shunzhi Emperor   & 1638 & 1661 & 23\\\\\n",
       "\t Qing & Kangxi Emperor    & 1654 & 1722 & 68\\\\\n",
       "\t Qing & Yongzheng Emperor & 1678 & 1735 & 57\\\\\n",
       "\t Qing & Qianlong Emperor  & 1711 & 1799 & 88\\\\\n",
       "\t Qing & Jiaqing Emperor   & 1760 & 1820 & 60\\\\\n",
       "\t Qing & Daoguang Emperor  & 1782 & 1850 & 68\\\\\n",
       "\t Qing & Xianfeng Emperor  & 1831 & 1861 & 30\\\\\n",
       "\t Qing & Tongzhi Emperor   & 1856 & 1875 & 19\\\\\n",
       "\t Qing & Guangxu Emperor   & 1871 & 1908 & 37\\\\\n",
       "\t Qing & Xuantong Emperor  & 1906 & 1967 & 61\\\\\n",
       "\\end{tabular}\n"
      ],
      "text/markdown": [
       "\n",
       "A data.frame: 28 × 5\n",
       "\n",
       "| dynasty &lt;chr&gt; | name &lt;chr&gt; | birth &lt;dbl&gt; | death &lt;dbl&gt; | age &lt;dbl&gt; |\n",
       "|---|---|---|---|---|\n",
       "| Ming | Hongwu Emperor    | 1328 | 1398 | 70 |\n",
       "| Ming | Jianwen Emperor   | 1377 | 1402 | 25 |\n",
       "| Ming | Yongle Emperor    | 1360 | 1424 | 64 |\n",
       "| Ming | Hongxi Emperor    | 1378 | 1425 | 47 |\n",
       "| Ming | Xuande Emperor    | 1399 | 1435 | 36 |\n",
       "| Ming | Emperor Yingzong  | 1427 | 1464 | 37 |\n",
       "| Ming | Jingtai Emperor   | 1428 | 1457 | 29 |\n",
       "| Ming | Chenghua Emperor  | 1447 | 1487 | 40 |\n",
       "| Ming | Hongzhi Emperor   | 1470 | 1505 | 35 |\n",
       "| Ming | Zhengde Emperor   | 1491 | 1521 | 30 |\n",
       "| Ming | Jiajing Emperor   | 1507 | 1567 | 60 |\n",
       "| Ming | Longqing Emperor  | 1537 | 1572 | 35 |\n",
       "| Ming | Wanli Emperor     | 1563 | 1620 | 57 |\n",
       "| Ming | Taichang Emperor  | 1582 | 1620 | 38 |\n",
       "| Ming | Tianqi Emperor    | 1605 | 1627 | 22 |\n",
       "| Ming | Chongzhen Emperor | 1611 | 1644 | 33 |\n",
       "| Qing | Nurhaci           | 1559 | 1626 | 67 |\n",
       "| Qing | Hong Taiji        | 1592 | 1643 | 51 |\n",
       "| Qing | Shunzhi Emperor   | 1638 | 1661 | 23 |\n",
       "| Qing | Kangxi Emperor    | 1654 | 1722 | 68 |\n",
       "| Qing | Yongzheng Emperor | 1678 | 1735 | 57 |\n",
       "| Qing | Qianlong Emperor  | 1711 | 1799 | 88 |\n",
       "| Qing | Jiaqing Emperor   | 1760 | 1820 | 60 |\n",
       "| Qing | Daoguang Emperor  | 1782 | 1850 | 68 |\n",
       "| Qing | Xianfeng Emperor  | 1831 | 1861 | 30 |\n",
       "| Qing | Tongzhi Emperor   | 1856 | 1875 | 19 |\n",
       "| Qing | Guangxu Emperor   | 1871 | 1908 | 37 |\n",
       "| Qing | Xuantong Emperor  | 1906 | 1967 | 61 |\n",
       "\n"
      ],
      "text/plain": [
       "   dynasty name              birth death age\n",
       "1  Ming    Hongwu Emperor    1328  1398  70 \n",
       "2  Ming    Jianwen Emperor   1377  1402  25 \n",
       "3  Ming    Yongle Emperor    1360  1424  64 \n",
       "4  Ming    Hongxi Emperor    1378  1425  47 \n",
       "5  Ming    Xuande Emperor    1399  1435  36 \n",
       "6  Ming    Emperor Yingzong  1427  1464  37 \n",
       "7  Ming    Jingtai Emperor   1428  1457  29 \n",
       "8  Ming    Chenghua Emperor  1447  1487  40 \n",
       "9  Ming    Hongzhi Emperor   1470  1505  35 \n",
       "10 Ming    Zhengde Emperor   1491  1521  30 \n",
       "11 Ming    Jiajing Emperor   1507  1567  60 \n",
       "12 Ming    Longqing Emperor  1537  1572  35 \n",
       "13 Ming    Wanli Emperor     1563  1620  57 \n",
       "14 Ming    Taichang Emperor  1582  1620  38 \n",
       "15 Ming    Tianqi Emperor    1605  1627  22 \n",
       "16 Ming    Chongzhen Emperor 1611  1644  33 \n",
       "17 Qing    Nurhaci           1559  1626  67 \n",
       "18 Qing    Hong Taiji        1592  1643  51 \n",
       "19 Qing    Shunzhi Emperor   1638  1661  23 \n",
       "20 Qing    Kangxi Emperor    1654  1722  68 \n",
       "21 Qing    Yongzheng Emperor 1678  1735  57 \n",
       "22 Qing    Qianlong Emperor  1711  1799  88 \n",
       "23 Qing    Jiaqing Emperor   1760  1820  60 \n",
       "24 Qing    Daoguang Emperor  1782  1850  68 \n",
       "25 Qing    Xianfeng Emperor  1831  1861  30 \n",
       "26 Qing    Tongzhi Emperor   1856  1875  19 \n",
       "27 Qing    Guangxu Emperor   1871  1908  37 \n",
       "28 Qing    Xuantong Emperor  1906  1967  61 "
      ]
     },
     "metadata": {},
     "output_type": "display_data"
    }
   ],
   "source": [
    "kings_info"
   ]
  },
  {
   "cell_type": "markdown",
   "id": "769b2afa-8f9d-44dc-a869-f995836ffe7a",
   "metadata": {},
   "source": [
    "# Analysis"
   ]
  },
  {
   "cell_type": "code",
   "execution_count": 3,
   "id": "566df7a6-bf4f-44ec-a54f-e872dbc83768",
   "metadata": {},
   "outputs": [
    {
     "data": {
      "image/png": "[encoded data removed]",
      "text/plain": [
       "plot without title"
      ]
     },
     "metadata": {
      "image/png": {
       "height": 420,
       "width": 420
      }
     },
     "output_type": "display_data"
    },
    {
     "data": {
      "image/png": "[encoded data removed]",
      "text/plain": [
       "plot without title"
      ]
     },
     "metadata": {
      "image/png": {
       "height": 420,
       "width": 420
      }
     },
     "output_type": "display_data"
    }
   ],
   "source": [
    "kings_info <- data.frame(kings_info)\n",
    "kings_info[, c('birth', 'death')] = \n",
    "    kings_info[, c('birth', 'death')] %>%\n",
    "    unlist() %>%\n",
    "    as.numeric()\n",
    "\n",
    "kings_info =\n",
    "    kings_info %>%\n",
    "    mutate(age = death - birth)\n",
    "\n",
    "plot(kings_info$birth, kings_info$age,\n",
    "     xlab = 'birth',\n",
    "     ylab = 'age')\n",
    "abline(lm(kings_info$age ~ kings_info$birth))\n",
    "\n",
    "boxplot(kings_info$age ~ factor(kings_info$dynasty),\n",
    "        xlab = 'dynasty',\n",
    "        ylab = 'age')"
   ]
  }
 ],
 "metadata": {
  "kernelspec": {
   "display_name": "R",
   "language": "R",
   "name": "ir"
  },
  "language_info": {
   "codemirror_mode": "r",
   "file_extension": ".r",
   "mimetype": "text/x-r-source",
   "name": "R",
   "pygments_lexer": "r",
   "version": "4.1.2"
  }
 },
 "nbformat": 4,
 "nbformat_minor": 5
}
