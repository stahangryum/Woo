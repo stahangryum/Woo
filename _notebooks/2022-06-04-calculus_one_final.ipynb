{
 "cells": [
  {
   "cell_type": "markdown",
   "id": "05d95a04-7c1f-4308-a30b-379280de64a7",
   "metadata": {},
   "source": [
    "# \"2021-1학기 수학 1 중간고사\"\n",
    "\n",
    "- toc: true\n",
    "- branch: master\n",
    "- badges: true\n",
    "- comments: true\n",
    "- author: Kim Jeewoo\n",
    "- categories: [Mathematics]"
   ]
  },
  {
   "cell_type": "markdown",
   "id": "e52fbf87-8fc1-4fc2-a7ce-1c291f3190dd",
   "metadata": {
    "tags": []
   },
   "source": [
    "# Problem 1"
   ]
  },
  {
   "cell_type": "markdown",
   "id": "8b375d99-ae1e-4075-bae3-41a4f1c00812",
   "metadata": {},
   "source": [
    "$\\displaystyle \\int \\dfrac{1}{9x^2 + 6x + 5} dx$ 를 역치환을 활용하여 부정적분을 계산한다면 어떠한 삼각함수를 역치환에 활용할지 치환방법만 구체적으로 적고, 풀이과정은 적지 않는다."
   ]
  },
  {
   "cell_type": "markdown",
   "id": "feb96d78-936e-4e4d-96b5-3c2e7f420cfc",
   "metadata": {},
   "source": [
    "# Problem 2"
   ]
  },
  {
   "cell_type": "markdown",
   "id": "97e4b6dc-071e-40fa-b914-982ef7a2e4a9",
   "metadata": {},
   "source": [
    "주어진 적분을 하여라. 단, 답은 반드시 x에 관해 정리해서 마무리하고, 풀이과정은 자세히 적는다."
   ]
  },
  {
   "cell_type": "markdown",
   "id": "76c60231-a106-4144-9e23-00b48ef2fa4f",
   "metadata": {},
   "source": [
    "$\\displaystyle \\int \\dfrac{2x^4 + 6x^3 + 15x^2 + x - 21}{x^2(x^2+2x+7)}dx$"
   ]
  },
  {
   "cell_type": "markdown",
   "id": "0d2cf515-9603-404b-b4e6-0058324d72b1",
   "metadata": {},
   "source": [
    "# Problem 3"
   ]
  },
  {
   "cell_type": "markdown",
   "id": "16ce34e9-03ca-412b-8240-da4b9f621a5f",
   "metadata": {},
   "source": [
    "주어진 적분을 하여라. 단, 답은 반드시 x에 관해 정리해서 마무리하고, 풀이과정은 자세히 적는다."
   ]
  },
  {
   "cell_type": "markdown",
   "id": "0fe8406b-9135-4db0-a117-e8a8da46b732",
   "metadata": {},
   "source": [
    "$\\displaystyle \\int xsin^{-1}x^2dx$"
   ]
  },
  {
   "cell_type": "markdown",
   "id": "ea5454d3-0b33-4d9c-8353-497118cc4a4c",
   "metadata": {},
   "source": [
    "# Problem 5"
   ]
  },
  {
   "cell_type": "markdown",
   "id": "9a8c0836-db26-4e48-b5c7-1cc1a6e5d12b",
   "metadata": {},
   "source": [
    "주어진 부정적분 $\\displaystyle \\int \\dfrac{x^2}{\\sqrt{4-2x-x^2}}dx$의 풀이과정을 자세히 적고 답을 x에 관하여 정리하라."
   ]
  },
  {
   "cell_type": "markdown",
   "id": "da9fa271-0d58-4598-93d3-ae29be267223",
   "metadata": {},
   "source": [
    "# Problem 6"
   ]
  },
  {
   "cell_type": "markdown",
   "id": "650807c8-3b38-40e6-9e8e-9193893f6cd0",
   "metadata": {},
   "source": [
    "$\\displaystyle \\int \\dfrac{x^2-5+6}{(2x+1)(x-4)^2}dx$를 찾아라."
   ]
  },
  {
   "cell_type": "markdown",
   "id": "0e5d0fa3-9765-4c45-8fd3-49c9a93ae176",
   "metadata": {},
   "source": [
    "# Problem 7"
   ]
  },
  {
   "cell_type": "markdown",
   "id": "3bd1be68-78e8-4a3d-a83a-ec0e733e645f",
   "metadata": {},
   "source": [
    "$\\displaystyle \\int _\\frac{1}{x^2+5} ^{\\frac{\\pi}{2}} \\sqrt{\\sin{x} + 3}$를 미분하여라."
   ]
  },
  {
   "cell_type": "code",
   "execution_count": null,
   "id": "798d80f7-c575-4ad7-8e02-89e4251a301b",
   "metadata": {},
   "outputs": [],
   "source": []
  }
 ],
 "metadata": {
  "kernelspec": {
   "display_name": "R",
   "language": "R",
   "name": "ir"
  },
  "language_info": {
   "codemirror_mode": "r",
   "file_extension": ".r",
   "mimetype": "text/x-r-source",
   "name": "R",
   "pygments_lexer": "r",
   "version": "4.1.2"
  }
 },
 "nbformat": 4,
 "nbformat_minor": 5
}
