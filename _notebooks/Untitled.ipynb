{
 "cells": [
  {
   "cell_type": "code",
   "execution_count": 1,
   "id": "1681fe01-090e-4607-8ab5-fce68bf6da4a",
   "metadata": {},
   "outputs": [],
   "source": [
    "data<-\n",
    "c(\n",
    "12,\n",
    "21,\n",
    "19,\n",
    "22,\n",
    "18,\n",
    "12,\n",
    "20,\n",
    "13,\n",
    "15,\n",
    "13,\n",
    "21,\n",
    "15,\n",
    "11,\n",
    "24,\n",
    "33,\n",
    "23,\n",
    "21,\n",
    "16,\n",
    "18,\n",
    "15,\n",
    "23,\n",
    "17,\n",
    "17,\n",
    "21,\n",
    "16,\n",
    "15,\n",
    "37,\n",
    "16,\n",
    "14,\n",
    "18,\n",
    "19,\n",
    "27\n",
    ")"
   ]
  },
  {
   "cell_type": "code",
   "execution_count": 3,
   "id": "b492b352-adfb-405a-958e-a2d4fdf2e6e9",
   "metadata": {},
   "outputs": [
    {
     "data": {
      "text/html": [
       "32"
      ],
      "text/latex": [
       "32"
      ],
      "text/markdown": [
       "32"
      ],
      "text/plain": [
       "[1] 32"
      ]
     },
     "metadata": {},
     "output_type": "display_data"
    }
   ],
   "source": [
    "length(data)"
   ]
  },
  {
   "cell_type": "code",
   "execution_count": 5,
   "id": "8adb449e-9344-46dd-9f76-15c1c88daaaf",
   "metadata": {},
   "outputs": [
    {
     "data": {
      "text/html": [
       "<style>\n",
       ".list-inline {list-style: none; margin:0; padding: 0}\n",
       ".list-inline>li {display: inline-block}\n",
       ".list-inline>li:not(:last-child)::after {content: \"\\00b7\"; padding: 0 .5ex}\n",
       "</style>\n",
       "<ol class=list-inline><li>11</li><li>12</li><li>12</li><li>13</li><li>13</li><li>14</li><li>15</li><li>15</li><li>15</li><li>15</li><li>16</li><li>16</li><li>16</li><li>17</li><li>17</li><li>18</li><li>18</li><li>18</li><li>19</li><li>19</li><li>20</li><li>21</li><li>21</li><li>21</li><li>21</li><li>22</li><li>23</li><li>23</li><li>24</li><li>27</li><li>33</li><li>37</li></ol>\n"
      ],
      "text/latex": [
       "\\begin{enumerate*}\n",
       "\\item 11\n",
       "\\item 12\n",
       "\\item 12\n",
       "\\item 13\n",
       "\\item 13\n",
       "\\item 14\n",
       "\\item 15\n",
       "\\item 15\n",
       "\\item 15\n",
       "\\item 15\n",
       "\\item 16\n",
       "\\item 16\n",
       "\\item 16\n",
       "\\item 17\n",
       "\\item 17\n",
       "\\item 18\n",
       "\\item 18\n",
       "\\item 18\n",
       "\\item 19\n",
       "\\item 19\n",
       "\\item 20\n",
       "\\item 21\n",
       "\\item 21\n",
       "\\item 21\n",
       "\\item 21\n",
       "\\item 22\n",
       "\\item 23\n",
       "\\item 23\n",
       "\\item 24\n",
       "\\item 27\n",
       "\\item 33\n",
       "\\item 37\n",
       "\\end{enumerate*}\n"
      ],
      "text/markdown": [
       "1. 11\n",
       "2. 12\n",
       "3. 12\n",
       "4. 13\n",
       "5. 13\n",
       "6. 14\n",
       "7. 15\n",
       "8. 15\n",
       "9. 15\n",
       "10. 15\n",
       "11. 16\n",
       "12. 16\n",
       "13. 16\n",
       "14. 17\n",
       "15. 17\n",
       "16. 18\n",
       "17. 18\n",
       "18. 18\n",
       "19. 19\n",
       "20. 19\n",
       "21. 20\n",
       "22. 21\n",
       "23. 21\n",
       "24. 21\n",
       "25. 21\n",
       "26. 22\n",
       "27. 23\n",
       "28. 23\n",
       "29. 24\n",
       "30. 27\n",
       "31. 33\n",
       "32. 37\n",
       "\n",
       "\n"
      ],
      "text/plain": [
       " [1] 11 12 12 13 13 14 15 15 15 15 16 16 16 17 17 18 18 18 19 19 20 21 21 21 21\n",
       "[26] 22 23 23 24 27 33 37"
      ]
     },
     "metadata": {},
     "output_type": "display_data"
    }
   ],
   "source": [
    "sort(data)["
   ]
  },
  {
   "cell_type": "code",
   "execution_count": 6,
   "id": "0c795751-5b6d-4f42-8f3e-a8d4d6e73305",
   "metadata": {},
   "outputs": [
    {
     "data": {
      "text/html": [
       "9.6"
      ],
      "text/latex": [
       "9.6"
      ],
      "text/markdown": [
       "9.6"
      ],
      "text/plain": [
       "[1] 9.6"
      ]
     },
     "metadata": {},
     "output_type": "display_data"
    }
   ],
   "source": [
    "32*0.3"
   ]
  },
  {
   "cell_type": "code",
   "execution_count": 7,
   "id": "1a859e6d-78f4-4b9c-8849-666c72116586",
   "metadata": {},
   "outputs": [
    {
     "data": {
      "text/html": [
       "<style>\n",
       ".list-inline {list-style: none; margin:0; padding: 0}\n",
       ".list-inline>li {display: inline-block}\n",
       ".list-inline>li:not(:last-child)::after {content: \"\\00b7\"; padding: 0 .5ex}\n",
       "</style>\n",
       "<ol class=list-inline><li>22</li><li>24</li><li>24</li><li>26</li><li>26</li><li>28</li><li>30</li><li>30</li><li>30</li><li>30</li><li>32</li><li>32</li><li>32</li><li>34</li><li>34</li><li>36</li><li>36</li><li>36</li><li>38</li><li>38</li><li>40</li><li>42</li><li>42</li><li>42</li><li>42</li><li>44</li><li>46</li><li>46</li><li>48</li><li>54</li><li>66</li><li>74</li></ol>\n"
      ],
      "text/latex": [
       "\\begin{enumerate*}\n",
       "\\item 22\n",
       "\\item 24\n",
       "\\item 24\n",
       "\\item 26\n",
       "\\item 26\n",
       "\\item 28\n",
       "\\item 30\n",
       "\\item 30\n",
       "\\item 30\n",
       "\\item 30\n",
       "\\item 32\n",
       "\\item 32\n",
       "\\item 32\n",
       "\\item 34\n",
       "\\item 34\n",
       "\\item 36\n",
       "\\item 36\n",
       "\\item 36\n",
       "\\item 38\n",
       "\\item 38\n",
       "\\item 40\n",
       "\\item 42\n",
       "\\item 42\n",
       "\\item 42\n",
       "\\item 42\n",
       "\\item 44\n",
       "\\item 46\n",
       "\\item 46\n",
       "\\item 48\n",
       "\\item 54\n",
       "\\item 66\n",
       "\\item 74\n",
       "\\end{enumerate*}\n"
      ],
      "text/markdown": [
       "1. 22\n",
       "2. 24\n",
       "3. 24\n",
       "4. 26\n",
       "5. 26\n",
       "6. 28\n",
       "7. 30\n",
       "8. 30\n",
       "9. 30\n",
       "10. 30\n",
       "11. 32\n",
       "12. 32\n",
       "13. 32\n",
       "14. 34\n",
       "15. 34\n",
       "16. 36\n",
       "17. 36\n",
       "18. 36\n",
       "19. 38\n",
       "20. 38\n",
       "21. 40\n",
       "22. 42\n",
       "23. 42\n",
       "24. 42\n",
       "25. 42\n",
       "26. 44\n",
       "27. 46\n",
       "28. 46\n",
       "29. 48\n",
       "30. 54\n",
       "31. 66\n",
       "32. 74\n",
       "\n",
       "\n"
      ],
      "text/plain": [
       " [1] 22 24 24 26 26 28 30 30 30 30 32 32 32 34 34 36 36 36 38 38 40 42 42 42 42\n",
       "[26] 44 46 46 48 54 66 74"
      ]
     },
     "metadata": {},
     "output_type": "display_data"
    }
   ],
   "source": [
    "sort(data)*2"
   ]
  },
  {
   "cell_type": "code",
   "execution_count": null,
   "id": "e0f1ab14-4368-4edc-b49a-32c1720430dc",
   "metadata": {},
   "outputs": [],
   "source": []
  }
 ],
 "metadata": {
  "kernelspec": {
   "display_name": "R",
   "language": "R",
   "name": "ir"
  },
  "language_info": {
   "codemirror_mode": "r",
   "file_extension": ".r",
   "mimetype": "text/x-r-source",
   "name": "R",
   "pygments_lexer": "r",
   "version": "4.1.2"
  }
 },
 "nbformat": 4,
 "nbformat_minor": 5
}
